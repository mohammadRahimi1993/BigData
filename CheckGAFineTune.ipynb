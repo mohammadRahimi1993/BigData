{
  "cells": [
    {
      "cell_type": "markdown",
      "metadata": {
        "id": "view-in-github",
        "colab_type": "text"
      },
      "source": [
        "<a href=\"https://colab.research.google.com/github/mohammadRahimi1993/BigData/blob/main/CheckGAFineTune.ipynb\" target=\"_parent\"><img src=\"https://colab.research.google.com/assets/colab-badge.svg\" alt=\"Open In Colab\"/></a>"
      ]
    },
    {
      "cell_type": "code",
      "execution_count": null,
      "metadata": {
        "colab": {
          "base_uri": "https://localhost:8080/",
          "height": 1000
        },
        "id": "CxUy4Y0XMT2k",
        "outputId": "58f6e42b-c229-4e64-bee5-e90deca6081b"
      },
      "outputs": [
        {
          "name": "stdout",
          "output_type": "stream",
          "text": [
            "Looking in indexes: https://pypi.org/simple, https://us-python.pkg.dev/colab-wheels/public/simple/\n",
            "Collecting ampligraph\n",
            "  Downloading ampligraph-1.4.0-py3-none-any.whl (168 kB)\n",
            "\u001b[K     |████████████████████████████████| 168 kB 5.3 MB/s \n",
            "\u001b[?25hRequirement already satisfied: pandas>=0.23.1 in /usr/local/lib/python3.7/dist-packages (from ampligraph) (1.3.5)\n",
            "Requirement already satisfied: setuptools>=36 in /usr/local/lib/python3.7/dist-packages (from ampligraph) (57.4.0)\n",
            "Collecting recommonmark==0.4.0\n",
            "  Downloading recommonmark-0.4.0-py2.py3-none-any.whl (9.4 kB)\n",
            "Collecting sphinx-rtd-theme==0.4.3\n",
            "  Downloading sphinx_rtd_theme-0.4.3-py2.py3-none-any.whl (6.4 MB)\n",
            "\u001b[K     |████████████████████████████████| 6.4 MB 14.7 MB/s \n",
            "\u001b[?25hRequirement already satisfied: pytest>=3.5.1 in /usr/local/lib/python3.7/dist-packages (from ampligraph) (3.6.4)\n",
            "Requirement already satisfied: networkx>=2.3 in /usr/local/lib/python3.7/dist-packages (from ampligraph) (2.6.3)\n",
            "Collecting beautifultable>=0.7.0\n",
            "  Downloading beautifultable-1.1.0-py2.py3-none-any.whl (28 kB)\n",
            "Requirement already satisfied: tqdm>=4.23.4 in /usr/local/lib/python3.7/dist-packages (from ampligraph) (4.64.0)\n",
            "Requirement already satisfied: scikit-learn>=0.19.1 in /usr/local/lib/python3.7/dist-packages (from ampligraph) (1.0.2)\n",
            "Collecting sphinxcontrib-bibtex==0.4.2\n",
            "  Downloading sphinxcontrib_bibtex-0.4.2-py2.py3-none-any.whl (15 kB)\n",
            "Requirement already satisfied: pyyaml>=3.13 in /usr/local/lib/python3.7/dist-packages (from ampligraph) (3.13)\n",
            "Collecting rdflib>=4.2.2\n",
            "  Downloading rdflib-6.1.1-py3-none-any.whl (482 kB)\n",
            "\u001b[K     |████████████████████████████████| 482 kB 46.7 MB/s \n",
            "\u001b[?25hCollecting flake8>=3.7.7\n",
            "  Downloading flake8-4.0.1-py2.py3-none-any.whl (64 kB)\n",
            "\u001b[K     |████████████████████████████████| 64 kB 2.5 MB/s \n",
            "\u001b[?25hCollecting sphinx<3,>=2.2\n",
            "  Downloading Sphinx-2.4.5-py3-none-any.whl (2.7 MB)\n",
            "\u001b[K     |████████████████████████████████| 2.7 MB 51.2 MB/s \n",
            "\u001b[?25hRequirement already satisfied: numpy>=1.14.3 in /usr/local/lib/python3.7/dist-packages (from ampligraph) (1.21.6)\n",
            "Requirement already satisfied: scipy>=1.3.0 in /usr/local/lib/python3.7/dist-packages (from ampligraph) (1.4.1)\n",
            "Requirement already satisfied: docutils>=0.11 in /usr/local/lib/python3.7/dist-packages (from recommonmark==0.4.0->ampligraph) (0.17.1)\n",
            "Collecting commonmark<=0.5.4\n",
            "  Downloading CommonMark-0.5.4.tar.gz (120 kB)\n",
            "\u001b[K     |████████████████████████████████| 120 kB 21.0 MB/s \n",
            "\u001b[?25hCollecting oset>=0.1.3\n",
            "  Downloading oset-0.1.3.tar.gz (7.3 kB)\n",
            "Requirement already satisfied: six>=1.4.1 in /usr/local/lib/python3.7/dist-packages (from sphinxcontrib-bibtex==0.4.2->ampligraph) (1.15.0)\n",
            "Collecting pybtex>=0.20\n",
            "  Downloading pybtex-0.24.0-py2.py3-none-any.whl (561 kB)\n",
            "\u001b[K     |████████████████████████████████| 561 kB 53.2 MB/s \n",
            "\u001b[?25hCollecting pybtex-docutils>=0.2.0\n",
            "  Downloading pybtex_docutils-1.0.2-py3-none-any.whl (6.3 kB)\n",
            "Requirement already satisfied: wcwidth in /usr/local/lib/python3.7/dist-packages (from beautifultable>=0.7.0->ampligraph) (0.2.5)\n",
            "Collecting mccabe<0.7.0,>=0.6.0\n",
            "  Downloading mccabe-0.6.1-py2.py3-none-any.whl (8.6 kB)\n",
            "Collecting pycodestyle<2.9.0,>=2.8.0\n",
            "  Downloading pycodestyle-2.8.0-py2.py3-none-any.whl (42 kB)\n",
            "\u001b[K     |████████████████████████████████| 42 kB 808 kB/s \n",
            "\u001b[?25hCollecting pyflakes<2.5.0,>=2.4.0\n",
            "  Downloading pyflakes-2.4.0-py2.py3-none-any.whl (69 kB)\n",
            "\u001b[K     |████████████████████████████████| 69 kB 8.1 MB/s \n",
            "\u001b[?25hCollecting importlib-metadata<4.3\n",
            "  Downloading importlib_metadata-4.2.0-py3-none-any.whl (16 kB)\n",
            "Requirement already satisfied: zipp>=0.5 in /usr/local/lib/python3.7/dist-packages (from importlib-metadata<4.3->flake8>=3.7.7->ampligraph) (3.8.0)\n",
            "Requirement already satisfied: typing-extensions>=3.6.4 in /usr/local/lib/python3.7/dist-packages (from importlib-metadata<4.3->flake8>=3.7.7->ampligraph) (4.1.1)\n",
            "Requirement already satisfied: python-dateutil>=2.7.3 in /usr/local/lib/python3.7/dist-packages (from pandas>=0.23.1->ampligraph) (2.8.2)\n",
            "Requirement already satisfied: pytz>=2017.3 in /usr/local/lib/python3.7/dist-packages (from pandas>=0.23.1->ampligraph) (2022.1)\n",
            "Collecting latexcodec>=1.0.4\n",
            "  Downloading latexcodec-2.0.1-py2.py3-none-any.whl (18 kB)\n",
            "Requirement already satisfied: more-itertools>=4.0.0 in /usr/local/lib/python3.7/dist-packages (from pytest>=3.5.1->ampligraph) (8.13.0)\n",
            "Requirement already satisfied: attrs>=17.4.0 in /usr/local/lib/python3.7/dist-packages (from pytest>=3.5.1->ampligraph) (21.4.0)\n",
            "Requirement already satisfied: atomicwrites>=1.0 in /usr/local/lib/python3.7/dist-packages (from pytest>=3.5.1->ampligraph) (1.4.0)\n",
            "Requirement already satisfied: pluggy<0.8,>=0.5 in /usr/local/lib/python3.7/dist-packages (from pytest>=3.5.1->ampligraph) (0.7.1)\n",
            "Requirement already satisfied: py>=1.5.0 in /usr/local/lib/python3.7/dist-packages (from pytest>=3.5.1->ampligraph) (1.11.0)\n",
            "Collecting isodate\n",
            "  Downloading isodate-0.6.1-py2.py3-none-any.whl (41 kB)\n",
            "\u001b[K     |████████████████████████████████| 41 kB 600 kB/s \n",
            "\u001b[?25hRequirement already satisfied: pyparsing in /usr/local/lib/python3.7/dist-packages (from rdflib>=4.2.2->ampligraph) (3.0.9)\n",
            "Requirement already satisfied: joblib>=0.11 in /usr/local/lib/python3.7/dist-packages (from scikit-learn>=0.19.1->ampligraph) (1.1.0)\n",
            "Requirement already satisfied: threadpoolctl>=2.0.0 in /usr/local/lib/python3.7/dist-packages (from scikit-learn>=0.19.1->ampligraph) (3.1.0)\n",
            "Collecting sphinxcontrib-qthelp\n",
            "  Downloading sphinxcontrib_qthelp-1.0.3-py2.py3-none-any.whl (90 kB)\n",
            "\u001b[K     |████████████████████████████████| 90 kB 9.3 MB/s \n",
            "\u001b[?25hRequirement already satisfied: Jinja2>=2.3 in /usr/local/lib/python3.7/dist-packages (from sphinx<3,>=2.2->ampligraph) (2.11.3)\n",
            "Requirement already satisfied: alabaster<0.8,>=0.7 in /usr/local/lib/python3.7/dist-packages (from sphinx<3,>=2.2->ampligraph) (0.7.12)\n",
            "Requirement already satisfied: snowballstemmer>=1.1 in /usr/local/lib/python3.7/dist-packages (from sphinx<3,>=2.2->ampligraph) (2.2.0)\n",
            "Requirement already satisfied: Pygments>=2.0 in /usr/local/lib/python3.7/dist-packages (from sphinx<3,>=2.2->ampligraph) (2.6.1)\n",
            "Collecting sphinxcontrib-devhelp\n",
            "  Downloading sphinxcontrib_devhelp-1.0.2-py2.py3-none-any.whl (84 kB)\n",
            "\u001b[K     |████████████████████████████████| 84 kB 3.4 MB/s \n",
            "\u001b[?25hRequirement already satisfied: babel!=2.0,>=1.3 in /usr/local/lib/python3.7/dist-packages (from sphinx<3,>=2.2->ampligraph) (2.10.2)\n",
            "Collecting sphinxcontrib-jsmath\n",
            "  Downloading sphinxcontrib_jsmath-1.0.1-py2.py3-none-any.whl (5.1 kB)\n",
            "Requirement already satisfied: packaging in /usr/local/lib/python3.7/dist-packages (from sphinx<3,>=2.2->ampligraph) (21.3)\n",
            "Collecting sphinxcontrib-applehelp\n",
            "  Downloading sphinxcontrib_applehelp-1.0.2-py2.py3-none-any.whl (121 kB)\n",
            "\u001b[K     |████████████████████████████████| 121 kB 16.8 MB/s \n",
            "\u001b[?25hRequirement already satisfied: imagesize in /usr/local/lib/python3.7/dist-packages (from sphinx<3,>=2.2->ampligraph) (1.3.0)\n",
            "Collecting sphinxcontrib-htmlhelp\n",
            "  Downloading sphinxcontrib_htmlhelp-2.0.0-py2.py3-none-any.whl (100 kB)\n",
            "\u001b[K     |████████████████████████████████| 100 kB 7.4 MB/s \n",
            "\u001b[?25hRequirement already satisfied: requests>=2.5.0 in /usr/local/lib/python3.7/dist-packages (from sphinx<3,>=2.2->ampligraph) (2.23.0)\n",
            "Requirement already satisfied: sphinxcontrib-serializinghtml in /usr/local/lib/python3.7/dist-packages (from sphinx<3,>=2.2->ampligraph) (1.1.5)\n",
            "Requirement already satisfied: MarkupSafe>=0.23 in /usr/local/lib/python3.7/dist-packages (from Jinja2>=2.3->sphinx<3,>=2.2->ampligraph) (2.0.1)\n",
            "Requirement already satisfied: chardet<4,>=3.0.2 in /usr/local/lib/python3.7/dist-packages (from requests>=2.5.0->sphinx<3,>=2.2->ampligraph) (3.0.4)\n",
            "Requirement already satisfied: certifi>=2017.4.17 in /usr/local/lib/python3.7/dist-packages (from requests>=2.5.0->sphinx<3,>=2.2->ampligraph) (2022.6.15)\n",
            "Requirement already satisfied: urllib3!=1.25.0,!=1.25.1,<1.26,>=1.21.1 in /usr/local/lib/python3.7/dist-packages (from requests>=2.5.0->sphinx<3,>=2.2->ampligraph) (1.24.3)\n",
            "Requirement already satisfied: idna<3,>=2.5 in /usr/local/lib/python3.7/dist-packages (from requests>=2.5.0->sphinx<3,>=2.2->ampligraph) (2.10)\n",
            "Building wheels for collected packages: commonmark, oset\n",
            "  Building wheel for commonmark (setup.py) ... \u001b[?25l\u001b[?25hdone\n",
            "  Created wheel for commonmark: filename=CommonMark-0.5.4-py3-none-any.whl size=30768 sha256=010d61113c4d9202ca4fb748b4b6d6b829da1d10040fa55b3c1585a940768323\n",
            "  Stored in directory: /root/.cache/pip/wheels/d5/28/c7/ce1ffdf847bcfcfa332299c572b26819dc38383180bb5b9072\n",
            "  Building wheel for oset (setup.py) ... \u001b[?25l\u001b[?25hdone\n",
            "  Created wheel for oset: filename=oset-0.1.3-py3-none-any.whl size=9682 sha256=245ac49dc34e04cf2954ca02880a3aa60e1306a754bb3e20bbebe0c4d214d53a\n",
            "  Stored in directory: /root/.cache/pip/wheels/d3/97/cf/cfafe0bedac445a9492baca15b27f8afb4693182b00a975ac7\n",
            "Successfully built commonmark oset\n",
            "Installing collected packages: latexcodec, sphinxcontrib-qthelp, sphinxcontrib-jsmath, sphinxcontrib-htmlhelp, sphinxcontrib-devhelp, sphinxcontrib-applehelp, pybtex, sphinx, pyflakes, pycodestyle, pybtex-docutils, oset, mccabe, isodate, importlib-metadata, commonmark, sphinxcontrib-bibtex, sphinx-rtd-theme, recommonmark, rdflib, flake8, beautifultable, ampligraph\n",
            "  Attempting uninstall: sphinx\n",
            "    Found existing installation: Sphinx 1.8.6\n",
            "    Uninstalling Sphinx-1.8.6:\n",
            "      Successfully uninstalled Sphinx-1.8.6\n",
            "  Attempting uninstall: importlib-metadata\n",
            "    Found existing installation: importlib-metadata 4.11.4\n",
            "    Uninstalling importlib-metadata-4.11.4:\n",
            "      Successfully uninstalled importlib-metadata-4.11.4\n",
            "\u001b[31mERROR: pip's dependency resolver does not currently take into account all the packages that are installed. This behaviour is the source of the following dependency conflicts.\n",
            "markdown 3.3.7 requires importlib-metadata>=4.4; python_version < \"3.10\", but you have importlib-metadata 4.2.0 which is incompatible.\n",
            "datascience 0.10.6 requires folium==0.2.1, but you have folium 0.8.3 which is incompatible.\u001b[0m\n",
            "Successfully installed ampligraph-1.4.0 beautifultable-1.1.0 commonmark-0.5.4 flake8-4.0.1 importlib-metadata-4.2.0 isodate-0.6.1 latexcodec-2.0.1 mccabe-0.6.1 oset-0.1.3 pybtex-0.24.0 pybtex-docutils-1.0.2 pycodestyle-2.8.0 pyflakes-2.4.0 rdflib-6.1.1 recommonmark-0.4.0 sphinx-2.4.5 sphinx-rtd-theme-0.4.3 sphinxcontrib-applehelp-1.0.2 sphinxcontrib-bibtex-0.4.2 sphinxcontrib-devhelp-1.0.2 sphinxcontrib-htmlhelp-2.0.0 sphinxcontrib-jsmath-1.0.1 sphinxcontrib-qthelp-1.0.3\n"
          ]
        },
        {
          "data": {
            "application/vnd.colab-display-data+json": {
              "pip_warning": {
                "packages": [
                  "sphinxcontrib"
                ]
              }
            }
          },
          "metadata": {},
          "output_type": "display_data"
        },
        {
          "name": "stdout",
          "output_type": "stream",
          "text": [
            "Looking in indexes: https://pypi.org/simple, https://us-python.pkg.dev/colab-wheels/public/simple/\n",
            "Collecting tensorflow==1.15.2\n",
            "  Downloading tensorflow-1.15.2-cp37-cp37m-manylinux2010_x86_64.whl (110.5 MB)\n",
            "\u001b[K     |████████████████████████████████| 110.5 MB 35 kB/s \n",
            "\u001b[?25hRequirement already satisfied: grpcio>=1.8.6 in /usr/local/lib/python3.7/dist-packages (from tensorflow==1.15.2) (1.46.3)\n",
            "Collecting tensorflow-estimator==1.15.1\n",
            "  Downloading tensorflow_estimator-1.15.1-py2.py3-none-any.whl (503 kB)\n",
            "\u001b[K     |████████████████████████████████| 503 kB 57.4 MB/s \n",
            "\u001b[?25hRequirement already satisfied: wrapt>=1.11.1 in /usr/local/lib/python3.7/dist-packages (from tensorflow==1.15.2) (1.14.1)\n",
            "Collecting tensorboard<1.16.0,>=1.15.0\n",
            "  Downloading tensorboard-1.15.0-py3-none-any.whl (3.8 MB)\n",
            "\u001b[K     |████████████████████████████████| 3.8 MB 40.9 MB/s \n",
            "\u001b[?25hRequirement already satisfied: google-pasta>=0.1.6 in /usr/local/lib/python3.7/dist-packages (from tensorflow==1.15.2) (0.2.0)\n",
            "Collecting gast==0.2.2\n",
            "  Downloading gast-0.2.2.tar.gz (10 kB)\n",
            "Requirement already satisfied: numpy<2.0,>=1.16.0 in /usr/local/lib/python3.7/dist-packages (from tensorflow==1.15.2) (1.21.6)\n",
            "Requirement already satisfied: protobuf>=3.6.1 in /usr/local/lib/python3.7/dist-packages (from tensorflow==1.15.2) (3.17.3)\n",
            "Requirement already satisfied: termcolor>=1.1.0 in /usr/local/lib/python3.7/dist-packages (from tensorflow==1.15.2) (1.1.0)\n",
            "Requirement already satisfied: keras-preprocessing>=1.0.5 in /usr/local/lib/python3.7/dist-packages (from tensorflow==1.15.2) (1.1.2)\n",
            "Requirement already satisfied: astor>=0.6.0 in /usr/local/lib/python3.7/dist-packages (from tensorflow==1.15.2) (0.8.1)\n",
            "Requirement already satisfied: absl-py>=0.7.0 in /usr/local/lib/python3.7/dist-packages (from tensorflow==1.15.2) (1.1.0)\n",
            "Collecting keras-applications>=1.0.8\n",
            "  Downloading Keras_Applications-1.0.8-py3-none-any.whl (50 kB)\n",
            "\u001b[K     |████████████████████████████████| 50 kB 5.9 MB/s \n",
            "\u001b[?25hRequirement already satisfied: opt-einsum>=2.3.2 in /usr/local/lib/python3.7/dist-packages (from tensorflow==1.15.2) (3.3.0)\n",
            "Requirement already satisfied: six>=1.10.0 in /usr/local/lib/python3.7/dist-packages (from tensorflow==1.15.2) (1.15.0)\n",
            "Requirement already satisfied: wheel>=0.26 in /usr/local/lib/python3.7/dist-packages (from tensorflow==1.15.2) (0.37.1)\n",
            "Requirement already satisfied: h5py in /usr/local/lib/python3.7/dist-packages (from keras-applications>=1.0.8->tensorflow==1.15.2) (3.1.0)\n",
            "Requirement already satisfied: setuptools>=41.0.0 in /usr/local/lib/python3.7/dist-packages (from tensorboard<1.16.0,>=1.15.0->tensorflow==1.15.2) (57.4.0)\n",
            "Requirement already satisfied: markdown>=2.6.8 in /usr/local/lib/python3.7/dist-packages (from tensorboard<1.16.0,>=1.15.0->tensorflow==1.15.2) (3.3.7)\n",
            "Requirement already satisfied: werkzeug>=0.11.15 in /usr/local/lib/python3.7/dist-packages (from tensorboard<1.16.0,>=1.15.0->tensorflow==1.15.2) (1.0.1)\n",
            "Collecting importlib-metadata>=4.4\n",
            "  Downloading importlib_metadata-4.11.4-py3-none-any.whl (18 kB)\n",
            "Requirement already satisfied: zipp>=0.5 in /usr/local/lib/python3.7/dist-packages (from importlib-metadata>=4.4->markdown>=2.6.8->tensorboard<1.16.0,>=1.15.0->tensorflow==1.15.2) (3.8.0)\n",
            "Requirement already satisfied: typing-extensions>=3.6.4 in /usr/local/lib/python3.7/dist-packages (from importlib-metadata>=4.4->markdown>=2.6.8->tensorboard<1.16.0,>=1.15.0->tensorflow==1.15.2) (4.1.1)\n",
            "Requirement already satisfied: cached-property in /usr/local/lib/python3.7/dist-packages (from h5py->keras-applications>=1.0.8->tensorflow==1.15.2) (1.5.2)\n",
            "Building wheels for collected packages: gast\n",
            "  Building wheel for gast (setup.py) ... \u001b[?25l\u001b[?25hdone\n",
            "  Created wheel for gast: filename=gast-0.2.2-py3-none-any.whl size=7554 sha256=df1f74a1a0c702f65e59e8c86a9165a8ec89030129eabd5570594131b7c0cc50\n",
            "  Stored in directory: /root/.cache/pip/wheels/21/7f/02/420f32a803f7d0967b48dd823da3f558c5166991bfd204eef3\n",
            "Successfully built gast\n",
            "Installing collected packages: importlib-metadata, tensorflow-estimator, tensorboard, keras-applications, gast, tensorflow\n",
            "  Attempting uninstall: importlib-metadata\n",
            "    Found existing installation: importlib-metadata 4.2.0\n",
            "    Uninstalling importlib-metadata-4.2.0:\n",
            "      Successfully uninstalled importlib-metadata-4.2.0\n",
            "  Attempting uninstall: tensorflow-estimator\n",
            "    Found existing installation: tensorflow-estimator 2.8.0\n",
            "    Uninstalling tensorflow-estimator-2.8.0:\n",
            "      Successfully uninstalled tensorflow-estimator-2.8.0\n",
            "  Attempting uninstall: tensorboard\n",
            "    Found existing installation: tensorboard 2.8.0\n",
            "    Uninstalling tensorboard-2.8.0:\n",
            "      Successfully uninstalled tensorboard-2.8.0\n",
            "  Attempting uninstall: gast\n",
            "    Found existing installation: gast 0.5.3\n",
            "    Uninstalling gast-0.5.3:\n",
            "      Successfully uninstalled gast-0.5.3\n",
            "  Attempting uninstall: tensorflow\n",
            "    Found existing installation: tensorflow 2.8.2+zzzcolab20220527125636\n",
            "    Uninstalling tensorflow-2.8.2+zzzcolab20220527125636:\n",
            "      Successfully uninstalled tensorflow-2.8.2+zzzcolab20220527125636\n",
            "\u001b[31mERROR: pip's dependency resolver does not currently take into account all the packages that are installed. This behaviour is the source of the following dependency conflicts.\n",
            "tensorflow-probability 0.16.0 requires gast>=0.3.2, but you have gast 0.2.2 which is incompatible.\n",
            "kapre 0.3.7 requires tensorflow>=2.0.0, but you have tensorflow 1.15.2 which is incompatible.\n",
            "flake8 4.0.1 requires importlib-metadata<4.3; python_version < \"3.8\", but you have importlib-metadata 4.11.4 which is incompatible.\u001b[0m\n",
            "Successfully installed gast-0.2.2 importlib-metadata-4.11.4 keras-applications-1.0.8 tensorboard-1.15.0 tensorflow-1.15.2 tensorflow-estimator-1.15.1\n",
            "Looking in indexes: https://pypi.org/simple, https://us-python.pkg.dev/colab-wheels/public/simple/\n",
            "Collecting ypstruct\n",
            "  Downloading ypstruct-0.0.2.tar.gz (3.0 kB)\n",
            "Building wheels for collected packages: ypstruct\n",
            "  Building wheel for ypstruct (setup.py) ... \u001b[?25l\u001b[?25hdone\n",
            "  Created wheel for ypstruct: filename=ypstruct-0.0.2-py3-none-any.whl size=2971 sha256=8ea716b376e82e9ad48adff68de66493c35ab15ea8f60928a3682811b70bca2d\n",
            "  Stored in directory: /root/.cache/pip/wheels/62/c0/62/97e51a118545a181245d8111048d46ad4fbd0c0078c6804218\n",
            "Successfully built ypstruct\n",
            "Installing collected packages: ypstruct\n",
            "Successfully installed ypstruct-0.0.2\n"
          ]
        }
      ],
      "source": [
        "#%tensorflow_version 1.x\n",
        "!pip install ampligraph;\n",
        "!pip install tensorflow==1.15.2;  \n",
        "!pip install ypstruct;\n",
        "import numpy as np;\n",
        "import pandas as pd;\n",
        "import ampligraph;\n",
        "import numpy as np\n",
        "import matplotlib.pyplot as plt\n",
        "from ypstruct import structure\n",
        "import numpy as np;\n",
        "import pandas as pd;\n",
        "import ampligraph;"
      ]
    },
    {
      "cell_type": "code",
      "execution_count": null,
      "metadata": {
        "id": "oMJjK7PWM7S8"
      },
      "outputs": [],
      "source": [
        "def dataPreparing():\n",
        "#def costFunction():\n",
        "    from ampligraph.evaluation import train_test_split_no_unseen  \n",
        "    import requests\n",
        "    url = 'https://ampligraph.s3-eu-west-1.amazonaws.com/datasets/football_graph.csv'\n",
        "    open('football_results.csv', 'wb').write(requests.get(url).content)\n",
        "    df = pd.read_csv(\"football_results.csv\").sort_values(\"date\")\n",
        "    print(df.isna().sum())\n",
        "    df = df.dropna()\n",
        "    df[\"train\"] = df.date < \"2014-01-01\"\n",
        "    print(df.train.value_counts())\n",
        "        # Entities naming\n",
        "    df[\"match_id\"] = df.index.values.astype(str)\n",
        "    df[\"match_id\"] =  \"Match\" + df.match_id\n",
        "    df[\"city_id\"] = \"City\" + df.city.str.title().str.replace(\" \", \"\")\n",
        "    df[\"country_id\"] = \"Country\" + df.country.str.title().str.replace(\" \", \"\")\n",
        "    df[\"home_team_id\"] = \"Team\" + df.home_team.str.title().str.replace(\" \", \"\")\n",
        "    df[\"away_team_id\"] = \"Team\" + df.away_team.str.title().str.replace(\" \", \"\")\n",
        "    df[\"tournament_id\"] = \"Tournament\" + df.tournament.str.title().str.replace(\" \", \"\")\n",
        "    df[\"neutral\"] = df.neutral.astype(str)\n",
        "    \n",
        "    triples = []\n",
        "    for _, row in df[df[\"train\"]].iterrows():\n",
        "        # Home and away information\n",
        "        home_team = (row[\"home_team_id\"], \"isHomeTeamIn\", row[\"match_id\"])\n",
        "        away_team = (row[\"away_team_id\"], \"isAwayTeamIn\", row[\"match_id\"])\n",
        "    \n",
        "        # Match results\n",
        "        if row[\"home_score\"] > row[\"away_score\"]:\n",
        "            score_home = (row[\"home_team_id\"], \"winnerOf\", row[\"match_id\"])\n",
        "            score_away = (row[\"away_team_id\"], \"loserOf\", row[\"match_id\"])\n",
        "        elif row[\"home_score\"] < row[\"away_score\"]:\n",
        "            score_away = (row[\"away_team_id\"], \"winnerOf\", row[\"match_id\"])\n",
        "            score_home = (row[\"home_team_id\"], \"loserOf\", row[\"match_id\"])\n",
        "        else:\n",
        "            score_home = (row[\"home_team_id\"], \"draws\", row[\"match_id\"])\n",
        "            score_away = (row[\"away_team_id\"], \"draws\", row[\"match_id\"])\n",
        "        home_score = (row[\"match_id\"], \"homeScores\", np.clip(int(row[\"home_score\"]), 0, 5))\n",
        "        away_score = (row[\"match_id\"], \"awayScores\", np.clip(int(row[\"away_score\"]), 0, 5))\n",
        "    \n",
        "        # Match characteristics\n",
        "        tournament = (row[\"match_id\"], \"inTournament\", row[\"tournament_id\"])\n",
        "        city = (row[\"match_id\"], \"inCity\", row[\"city_id\"])\n",
        "        country = (row[\"match_id\"], \"inCountry\", row[\"country_id\"])\n",
        "        neutral = (row[\"match_id\"], \"isNeutral\", row[\"neutral\"])\n",
        "        year = (row[\"match_id\"], \"atYear\", row[\"date\"][:4])\n",
        "    \n",
        "        triples.extend((home_team, away_team, score_home, score_away, \n",
        "                        tournament, city, country, neutral, year, home_score, away_score))\n",
        "    triples_df = pd.DataFrame(triples, columns=[\"subject\", \"predicate\", \"object\"])\n",
        "    triples_df[(triples_df.subject==\"Match3129\") | (triples_df.object==\"Match3129\")]\n",
        "    \n",
        "    X_train, X_valid = train_test_split_no_unseen(np.array(triples), test_size=10000)\n",
        "    print('Train set size: ', X_train.shape)\n",
        "    print('Test set size: ', X_valid.shape)\n",
        "    return X_train, X_valid"
      ]
    },
    {
      "cell_type": "code",
      "execution_count": null,
      "metadata": {
        "colab": {
          "base_uri": "https://localhost:8080/"
        },
        "id": "A-8hlgiwqs-g",
        "outputId": "a6aa5df6-b63d-4c3a-fbb0-491d47bbc4fe"
      },
      "outputs": [
        {
          "name": "stdout",
          "output_type": "stream",
          "text": [
            "date          0\n",
            "home_team     0\n",
            "away_team     0\n",
            "home_score    2\n",
            "away_score    2\n",
            "tournament    0\n",
            "city          0\n",
            "country       0\n",
            "neutral       0\n",
            "dtype: int64\n",
            "True     35714\n",
            "False     5057\n",
            "Name: train, dtype: int64\n",
            "Train set size:  (382854, 3)\n",
            "Test set size:  (10000, 3)\n"
          ]
        }
      ],
      "source": [
        "X_train, X_valid=dataPreparing()"
      ]
    },
    {
      "cell_type": "code",
      "execution_count": null,
      "metadata": {
        "id": "-TJD6Ci2sLpG"
      },
      "outputs": [],
      "source": [
        "def costFunction(X, X_train, X_valid):\n",
        "    from ampligraph.latent_features import ComplEx\n",
        "    model = ComplEx(batches_count=int(X[0]),\n",
        "                    epochs=10,\n",
        "                    k=int(X[2]),\n",
        "                    eta=int(X[1]),\n",
        "                    optimizer='adam', \n",
        "                    optimizer_params={'lr':1e-4},\n",
        "                    loss='multiclass_nll',\n",
        "                    regularizer='LP', \n",
        "                    regularizer_params={'p':3, 'lambda':1e-5}, \n",
        "                    seed=0, \n",
        "                    verbose=True)\n",
        "    import tensorflow as tf\n",
        "    tf.logging.set_verbosity(tf.logging.ERROR)\n",
        "    # model.fit(X_train)\n",
        "    model.fit(X_train[:10000,:10000])\n",
        "    filter_triples = np.concatenate((X_train, X_valid))\n",
        "    from ampligraph.evaluation import evaluate_performance\n",
        "    ranks = evaluate_performance(X_valid[:100,:200],\n",
        "                                 model=model, \n",
        "                                 filter_triples=filter_triples,\n",
        "                                 use_default_protocol=True,\n",
        "                                 verbose=True)\n",
        "    #ranks = evaluate_performance(X_valid,\n",
        "    #                             model=model, \n",
        "    #                             filter_triples=filter_triples,\n",
        "    #                             use_default_protocol=True,\n",
        "    #                             verbose=True)\n",
        "    \n",
        "    from ampligraph.evaluation import mr_score, mrr_score, hits_at_n_score\n",
        "\n",
        "    mr = mr_score(ranks)\n",
        "    mrr = mrr_score(ranks)\n",
        "\n",
        "    print(\"MRR: %.2f\" % (mrr))\n",
        "    print(\"MR: %.2f\" % (mr))\n",
        "\n",
        "    hits_10 = hits_at_n_score(ranks, n=10)\n",
        "    print(\"Hits@10: %.2f\" % (hits_10))\n",
        "    hits_3 = hits_at_n_score(ranks, n=3)\n",
        "    print(\"Hits@3: %.2f\" % (hits_3))\n",
        "    hits_1 = hits_at_n_score(ranks, n=1)\n",
        "    print(\"Hits@1: %.2f\" % (hits_1))\n",
        "    return float(mrr)\n"
      ]
    },
    {
      "cell_type": "code",
      "execution_count": null,
      "metadata": {
        "id": "J8ZX3Opu0-u2"
      },
      "outputs": [],
      "source": [
        "def crossover(p1, p2, gamma=0.1):\n",
        "    c1 = p1.deepcopy()\n",
        "    c2 = p1.deepcopy()\n",
        "    alpha = np.random.uniform(-gamma, 1+gamma, *c1.position.shape)\n",
        "    print('alpha:', alpha)\n",
        "    c1.position = alpha*p1.position + (1-alpha)*p2.position\n",
        "    print('alpha*p1.position:', alpha*p1.position)\n",
        "    print('(1-alpha)*p2.position',(1-alpha)*p2.position)\n",
        "    c2.position = alpha*p2.position + (1-alpha)*p1.position\n",
        "    print('alpha*p1.position:', alpha*p2.position)\n",
        "    print('(1-alpha)*p2.position',(1-alpha)*p1.position)\n",
        "    return c1, c2\n",
        "\n",
        "def mutate(x, mu, sigma):\n",
        "    y = x.deepcopy()\n",
        "    flag = np.random.rand(*x.position.shape) <= mu\n",
        "    ind = np.argwhere(flag)\n",
        "    y.position[ind] += sigma*np.random.randn(*ind.shape)\n",
        "    return y\n",
        "\n",
        "def apply_bound(x, varmin, varmax):\n",
        "    x.position = np.maximum(x.position, varmin)\n",
        "    x.position = np.minimum(x.position, varmax)\n",
        "\n",
        "def roulette_wheel_selection(p):\n",
        "    c = np.cumsum(p)\n",
        "    r = sum(p)*np.random.rand()\n",
        "    ind = np.argwhere(r <= c)\n",
        "    return ind[0][0]\n"
      ]
    },
    {
      "cell_type": "code",
      "execution_count": null,
      "metadata": {
        "id": "DMxKGYdDNHWm"
      },
      "outputs": [],
      "source": [
        "# Problem Definition\n",
        "problem = structure()\n",
        "problem.costFunc = costFunction\n",
        "problem.nvar = 3\n",
        "#X[0]:Batch ,X[1]:Iteration ,X[2]:Dimention Of Embbeding\n",
        "problem.varmin = [100,20, 30]\n",
        "problem.varmax = [ 300,200, 400]\n",
        "\n",
        "# GA Parameters\n",
        "params = structure()\n",
        "params.maxit = 10\n",
        "params.npop = 3\n",
        "params.beta = 1\n",
        "params.pc = 1\n",
        "params.gamma = 0.1\n",
        "params.mu = 0.9\n",
        "params.sigma = 20"
      ]
    },
    {
      "cell_type": "code",
      "execution_count": null,
      "metadata": {
        "colab": {
          "background_save": true,
          "base_uri": "https://localhost:8080/"
        },
        "id": "tuOZUyyVGUHw",
        "outputId": "4bff47dd-c5a6-471a-f672-ee8780e8cabb"
      },
      "outputs": [
        {
          "name": "stdout",
          "output_type": "stream",
          "text": [
            "[146.70868371 185.87978601 176.79842938]\n",
            "[216.20987624 150.48667963 152.00108472]\n",
            "[161.36298538 139.89529975 260.54421003]\n",
            "[146.70868371 185.87978601 176.79842938]\n"
          ]
        },
        {
          "name": "stderr",
          "output_type": "stream",
          "text": [
            "Average ComplEx Loss:   5.126086: 100%|██████████| 10/10 [05:12<00:00, 31.28s/epoch]"
          ]
        },
        {
          "name": "stdout",
          "output_type": "stream",
          "text": [
            "WARNING - DeprecationWarning: use_default_protocol will be removed in future. Please use corrupt_side argument instead.\n"
          ]
        },
        {
          "name": "stderr",
          "output_type": "stream",
          "text": [
            "\n",
            "100%|██████████| 30/30 [00:02<00:00, 11.69it/s]\n"
          ]
        },
        {
          "name": "stdout",
          "output_type": "stream",
          "text": [
            "MRR: 0.02\n",
            "MR: 4430.33\n",
            "Hits@10: 0.03\n",
            "Hits@3: 0.03\n",
            "Hits@1: 0.02\n",
            "0.02451206242073298\n",
            "[216.20987624 150.48667963 152.00108472]\n"
          ]
        },
        {
          "name": "stderr",
          "output_type": "stream",
          "text": [
            "Average ComplEx Loss:   4.838730: 100%|██████████| 10/10 [04:20<00:00, 26.09s/epoch]"
          ]
        },
        {
          "name": "stdout",
          "output_type": "stream",
          "text": [
            "WARNING - DeprecationWarning: use_default_protocol will be removed in future. Please use corrupt_side argument instead.\n"
          ]
        },
        {
          "name": "stderr",
          "output_type": "stream",
          "text": [
            "\n",
            "100%|██████████| 30/30 [00:02<00:00, 13.02it/s]\n"
          ]
        },
        {
          "name": "stdout",
          "output_type": "stream",
          "text": [
            "MRR: 0.02\n",
            "MR: 4947.10\n",
            "Hits@10: 0.02\n",
            "Hits@3: 0.02\n",
            "Hits@1: 0.02\n",
            "0.019360949866269173\n",
            "[161.36298538 139.89529975 260.54421003]\n"
          ]
        },
        {
          "name": "stderr",
          "output_type": "stream",
          "text": [
            "Average ComplEx Loss:   4.768495: 100%|██████████| 10/10 [06:26<00:00, 38.61s/epoch]"
          ]
        },
        {
          "name": "stdout",
          "output_type": "stream",
          "text": [
            "WARNING - DeprecationWarning: use_default_protocol will be removed in future. Please use corrupt_side argument instead.\n"
          ]
        },
        {
          "name": "stderr",
          "output_type": "stream",
          "text": [
            "\n",
            "100%|██████████| 30/30 [00:03<00:00,  7.80it/s]\n"
          ]
        },
        {
          "name": "stdout",
          "output_type": "stream",
          "text": [
            "MRR: 0.02\n",
            "MR: 3723.73\n",
            "Hits@10: 0.07\n",
            "Hits@3: 0.03\n",
            "Hits@1: 0.00\n",
            "0.023259429378882857\n",
            "P1: struct({'position': array([146.70868371, 185.87978601, 176.79842938]), 'cost': 0.02451206242073298})\n",
            "P2: struct({'position': array([146.70868371, 185.87978601, 176.79842938]), 'cost': 0.02451206242073298})\n",
            "[146.70868371 185.87978601 176.79842938]\n"
          ]
        },
        {
          "name": "stderr",
          "output_type": "stream",
          "text": [
            "Average ComplEx Loss:   5.126086: 100%|██████████| 10/10 [04:53<00:00, 29.35s/epoch]"
          ]
        },
        {
          "name": "stdout",
          "output_type": "stream",
          "text": [
            "WARNING - DeprecationWarning: use_default_protocol will be removed in future. Please use corrupt_side argument instead.\n"
          ]
        },
        {
          "name": "stderr",
          "output_type": "stream",
          "text": [
            "\n",
            "100%|██████████| 30/30 [00:02<00:00, 10.09it/s]\n"
          ]
        },
        {
          "name": "stdout",
          "output_type": "stream",
          "text": [
            "MRR: 0.02\n",
            "MR: 4430.33\n",
            "Hits@10: 0.03\n",
            "Hits@3: 0.03\n",
            "Hits@1: 0.02\n",
            "[146.70868371 185.87978601 176.79842938]\n"
          ]
        },
        {
          "name": "stderr",
          "output_type": "stream",
          "text": [
            "Average ComplEx Loss:   5.126086: 100%|██████████| 10/10 [04:56<00:00, 29.60s/epoch]"
          ]
        },
        {
          "name": "stdout",
          "output_type": "stream",
          "text": [
            "WARNING - DeprecationWarning: use_default_protocol will be removed in future. Please use corrupt_side argument instead.\n"
          ]
        },
        {
          "name": "stderr",
          "output_type": "stream",
          "text": [
            "\n",
            "100%|██████████| 30/30 [00:02<00:00, 10.29it/s]\n"
          ]
        },
        {
          "name": "stdout",
          "output_type": "stream",
          "text": [
            "MRR: 0.02\n",
            "MR: 4430.33\n",
            "Hits@10: 0.03\n",
            "Hits@3: 0.03\n",
            "Hits@1: 0.02\n",
            "crossover c1: struct({'position': array([146.70868371, 185.87978601, 176.79842938]), 'cost': 0.02451206242073298})\n",
            "crossover c2: struct({'position': array([146.70868371, 185.87978601, 176.79842938]), 'cost': 0.02451206242073298})\n",
            "[146.70868371 186.69439239 196.03838633]\n"
          ]
        },
        {
          "name": "stderr",
          "output_type": "stream",
          "text": [
            "Average ComplEx Loss:   5.125418: 100%|██████████| 10/10 [05:33<00:00, 33.30s/epoch]"
          ]
        },
        {
          "name": "stdout",
          "output_type": "stream",
          "text": [
            "WARNING - DeprecationWarning: use_default_protocol will be removed in future. Please use corrupt_side argument instead.\n"
          ]
        },
        {
          "name": "stderr",
          "output_type": "stream",
          "text": [
            "\n",
            "100%|██████████| 30/30 [00:02<00:00, 10.88it/s]\n"
          ]
        },
        {
          "name": "stdout",
          "output_type": "stream",
          "text": [
            "MRR: 0.02\n",
            "MR: 3890.03\n",
            "Hits@10: 0.03\n",
            "Hits@3: 0.02\n",
            "Hits@1: 0.02\n",
            "[133.95940611 160.26505235 141.36505153]\n"
          ]
        },
        {
          "name": "stderr",
          "output_type": "stream",
          "text": [
            "Average ComplEx Loss:   4.986042: 100%|██████████| 10/10 [03:16<00:00, 19.68s/epoch]"
          ]
        },
        {
          "name": "stdout",
          "output_type": "stream",
          "text": [
            "WARNING - DeprecationWarning: use_default_protocol will be removed in future. Please use corrupt_side argument instead.\n"
          ]
        },
        {
          "name": "stderr",
          "output_type": "stream",
          "text": [
            "\n",
            "100%|██████████| 30/30 [00:02<00:00, 14.33it/s]\n"
          ]
        },
        {
          "name": "stdout",
          "output_type": "stream",
          "text": [
            "MRR: 0.00\n",
            "MR: 4246.03\n",
            "Hits@10: 0.02\n",
            "Hits@3: 0.00\n",
            "Hits@1: 0.00\n",
            "mutate c3: struct({'position': array([146.70868371, 186.69439239, 196.03838633]), 'cost': 0.021186237985482147})\n",
            "mutate c4: struct({'position': array([133.95940611, 160.26505235, 141.36505153]), 'cost': 0.0048075543649841864})\n",
            "P1: struct({'position': array([216.20987624, 150.48667963, 152.00108472]), 'cost': 0.019360949866269173})\n",
            "P2: struct({'position': array([146.70868371, 185.87978601, 176.79842938]), 'cost': 0.02451206242073298})\n",
            "[174.71288446 181.79577713 173.70415481]\n"
          ]
        },
        {
          "name": "stderr",
          "output_type": "stream",
          "text": [
            "Average ComplEx Loss:   5.074303: 100%|██████████| 10/10 [04:55<00:00, 29.56s/epoch]"
          ]
        },
        {
          "name": "stdout",
          "output_type": "stream",
          "text": [
            "WARNING - DeprecationWarning: use_default_protocol will be removed in future. Please use corrupt_side argument instead.\n"
          ]
        },
        {
          "name": "stderr",
          "output_type": "stream",
          "text": [
            "\n",
            "100%|██████████| 30/30 [00:02<00:00, 10.30it/s]\n"
          ]
        },
        {
          "name": "stdout",
          "output_type": "stream",
          "text": [
            "MRR: 0.03\n",
            "MR: 4466.73\n",
            "Hits@10: 0.07\n",
            "Hits@3: 0.03\n",
            "Hits@1: 0.00\n",
            "[188.20567549 154.57068851 155.09535928]\n"
          ]
        },
        {
          "name": "stderr",
          "output_type": "stream",
          "text": [
            "Average ComplEx Loss:   4.884558: 100%|██████████| 10/10 [03:40<00:00, 22.07s/epoch]"
          ]
        },
        {
          "name": "stdout",
          "output_type": "stream",
          "text": [
            "WARNING - DeprecationWarning: use_default_protocol will be removed in future. Please use corrupt_side argument instead.\n"
          ]
        },
        {
          "name": "stderr",
          "output_type": "stream",
          "text": [
            "\n",
            "100%|██████████| 30/30 [00:02<00:00, 12.26it/s]\n"
          ]
        },
        {
          "name": "stdout",
          "output_type": "stream",
          "text": [
            "MRR: 0.03\n",
            "MR: 4065.38\n",
            "Hits@10: 0.07\n",
            "Hits@3: 0.03\n",
            "Hits@1: 0.02\n",
            "crossover c1: struct({'position': array([174.71288446, 181.79577713, 173.70415481]), 'cost': 0.025645994383282338})\n",
            "crossover c2: struct({'position': array([188.20567549, 154.57068851, 155.09535928]), 'cost': 0.03179733301217093})\n",
            "[159.25065725 165.14154173 173.70415481]\n"
          ]
        },
        {
          "name": "stderr",
          "output_type": "stream",
          "text": [
            "Average ComplEx Loss:   5.033092: 100%|██████████| 10/10 [04:29<00:00, 26.97s/epoch]"
          ]
        },
        {
          "name": "stdout",
          "output_type": "stream",
          "text": [
            "WARNING - DeprecationWarning: use_default_protocol will be removed in future. Please use corrupt_side argument instead.\n"
          ]
        },
        {
          "name": "stderr",
          "output_type": "stream",
          "text": [
            "\n",
            "100%|██████████| 30/30 [00:02<00:00, 12.76it/s]\n"
          ]
        },
        {
          "name": "stdout",
          "output_type": "stream",
          "text": [
            "MRR: 0.05\n",
            "MR: 4599.23\n",
            "Hits@10: 0.07\n",
            "Hits@3: 0.05\n",
            "Hits@1: 0.03\n",
            "[188.20567549 166.16102214 148.13914328]\n"
          ]
        },
        {
          "name": "stderr",
          "output_type": "stream",
          "text": [
            "Average ComplEx Loss:   4.960224: 100%|██████████| 10/10 [03:37<00:00, 21.79s/epoch]"
          ]
        },
        {
          "name": "stdout",
          "output_type": "stream",
          "text": [
            "WARNING - DeprecationWarning: use_default_protocol will be removed in future. Please use corrupt_side argument instead.\n"
          ]
        },
        {
          "name": "stderr",
          "output_type": "stream",
          "text": [
            "\n",
            "100%|██████████| 30/30 [00:02<00:00, 13.76it/s]\n"
          ]
        },
        {
          "name": "stdout",
          "output_type": "stream",
          "text": [
            "MRR: 0.04\n",
            "MR: 4880.42\n",
            "Hits@10: 0.05\n",
            "Hits@3: 0.05\n",
            "Hits@1: 0.03\n",
            "mutate c3: struct({'position': array([159.25065725, 165.14154173, 173.70415481]), 'cost': 0.04671530734115051})\n",
            "mutate c4: struct({'position': array([188.20567549, 166.16102214, 148.13914328]), 'cost': 0.039656313331342216})\n",
            "pop: [struct({'position': array([159.25065725, 165.14154173, 173.70415481]), 'cost': 0.04671530734115051}), struct({'position': array([188.20567549, 166.16102214, 148.13914328]), 'cost': 0.039656313331342216}), struct({'position': array([188.20567549, 154.57068851, 155.09535928]), 'cost': 0.03179733301217093})]\n",
            "Iteration 0: Best Cost = 0.04671530734115051\n",
            "P1: struct({'position': array([188.20567549, 166.16102214, 148.13914328]), 'cost': 0.039656313331342216})\n",
            "P2: struct({'position': array([188.20567549, 154.57068851, 155.09535928]), 'cost': 0.03179733301217093})\n",
            "[188.20567549 164.24412069 152.47802922]\n"
          ]
        },
        {
          "name": "stderr",
          "output_type": "stream",
          "text": [
            "Average ComplEx Loss:   4.947647: 100%|██████████| 10/10 [03:48<00:00, 22.85s/epoch]"
          ]
        },
        {
          "name": "stdout",
          "output_type": "stream",
          "text": [
            "WARNING - DeprecationWarning: use_default_protocol will be removed in future. Please use corrupt_side argument instead.\n"
          ]
        },
        {
          "name": "stderr",
          "output_type": "stream",
          "text": [
            "\n",
            "100%|██████████| 30/30 [00:02<00:00, 13.52it/s]\n"
          ]
        },
        {
          "name": "stdout",
          "output_type": "stream",
          "text": [
            "MRR: 0.02\n",
            "MR: 5008.08\n",
            "Hits@10: 0.02\n",
            "Hits@3: 0.02\n",
            "Hits@1: 0.02\n",
            "[188.20567549 156.48758996 150.75647335]\n"
          ]
        },
        {
          "name": "stderr",
          "output_type": "stream",
          "text": [
            "Average ComplEx Loss:   4.898886: 100%|██████████| 10/10 [03:38<00:00, 21.89s/epoch]"
          ]
        },
        {
          "name": "stdout",
          "output_type": "stream",
          "text": [
            "WARNING - DeprecationWarning: use_default_protocol will be removed in future. Please use corrupt_side argument instead.\n"
          ]
        },
        {
          "name": "stderr",
          "output_type": "stream",
          "text": [
            "\n",
            "100%|██████████| 30/30 [00:02<00:00, 12.64it/s]\n"
          ]
        },
        {
          "name": "stdout",
          "output_type": "stream",
          "text": [
            "MRR: 0.02\n",
            "MR: 5025.45\n",
            "Hits@10: 0.02\n",
            "Hits@3: 0.02\n",
            "Hits@1: 0.02\n",
            "crossover c1: struct({'position': array([188.20567549, 164.24412069, 152.47802922]), 'cost': 0.018956180964215263})\n",
            "crossover c2: struct({'position': array([188.20567549, 156.48758996, 150.75647335]), 'cost': 0.018937396710281256})\n",
            "[208.5556183  186.27959003 159.21271503]\n"
          ]
        },
        {
          "name": "stderr",
          "output_type": "stream",
          "text": [
            "Average ComplEx Loss:   5.029951: 100%|██████████| 10/10 [04:31<00:00, 27.15s/epoch]"
          ]
        },
        {
          "name": "stdout",
          "output_type": "stream",
          "text": [
            "WARNING - DeprecationWarning: use_default_protocol will be removed in future. Please use corrupt_side argument instead.\n"
          ]
        },
        {
          "name": "stderr",
          "output_type": "stream",
          "text": [
            "\n",
            "100%|██████████| 30/30 [00:02<00:00, 11.65it/s]\n"
          ]
        },
        {
          "name": "stdout",
          "output_type": "stream",
          "text": [
            "MRR: 0.01\n",
            "MR: 4820.65\n",
            "Hits@10: 0.05\n",
            "Hits@3: 0.00\n",
            "Hits@1: 0.00\n",
            "[176.65678992 152.46380068 160.71832983]\n"
          ]
        },
        {
          "name": "stderr",
          "output_type": "stream",
          "text": [
            "Average ComplEx Loss:   4.935933: 100%|██████████| 10/10 [03:35<00:00, 21.54s/epoch]\n"
          ]
        },
        {
          "name": "stdout",
          "output_type": "stream",
          "text": [
            "WARNING - DeprecationWarning: use_default_protocol will be removed in future. Please use corrupt_side argument instead.\n"
          ]
        },
        {
          "name": "stderr",
          "output_type": "stream",
          "text": [
            "100%|██████████| 30/30 [00:02<00:00, 12.62it/s]\n"
          ]
        },
        {
          "name": "stdout",
          "output_type": "stream",
          "text": [
            "MRR: 0.02\n",
            "MR: 4221.78\n",
            "Hits@10: 0.02\n",
            "Hits@3: 0.02\n",
            "Hits@1: 0.02\n",
            "mutate c3: struct({'position': array([208.5556183 , 186.27959003, 159.21271503]), 'cost': 0.010745615092033515})\n",
            "mutate c4: struct({'position': array([176.65678992, 152.46380068, 160.71832983]), 'cost': 0.020765684103685737})\n",
            "P1: struct({'position': array([188.20567549, 154.57068851, 155.09535928]), 'cost': 0.03179733301217093})\n",
            "P2: struct({'position': array([188.20567549, 154.57068851, 155.09535928]), 'cost': 0.03179733301217093})\n",
            "Dynamic Programming\n",
            "Dynamic Programming\n",
            "crossover c1: struct({'position': array([188.20567549, 154.57068851, 155.09535928]), 'cost': 0.03179733301217093})\n",
            "crossover c2: struct({'position': array([188.20567549, 154.57068851, 155.09535928]), 'cost': 0.03179733301217093})\n",
            "[156.82715037 162.14965727 162.72366152]\n"
          ]
        },
        {
          "name": "stderr",
          "output_type": "stream",
          "text": [
            "Average ComplEx Loss:   4.960729: 100%|██████████| 10/10 [03:56<00:00, 23.69s/epoch]"
          ]
        },
        {
          "name": "stdout",
          "output_type": "stream",
          "text": [
            "WARNING - DeprecationWarning: use_default_protocol will be removed in future. Please use corrupt_side argument instead.\n"
          ]
        },
        {
          "name": "stderr",
          "output_type": "stream",
          "text": [
            "\n",
            "100%|██████████| 30/30 [00:02<00:00, 13.11it/s]\n"
          ]
        },
        {
          "name": "stdout",
          "output_type": "stream",
          "text": [
            "MRR: 0.02\n",
            "MR: 6021.15\n",
            "Hits@10: 0.03\n",
            "Hits@3: 0.02\n",
            "Hits@1: 0.02\n",
            "[200.15632963 187.51932022 145.31813178]\n"
          ]
        },
        {
          "name": "stderr",
          "output_type": "stream",
          "text": [
            "Average ComplEx Loss:   5.146011: 100%|██████████| 10/10 [04:05<00:00, 24.51s/epoch]"
          ]
        },
        {
          "name": "stdout",
          "output_type": "stream",
          "text": [
            "WARNING - DeprecationWarning: use_default_protocol will be removed in future. Please use corrupt_side argument instead.\n"
          ]
        },
        {
          "name": "stderr",
          "output_type": "stream",
          "text": [
            "\n",
            "100%|██████████| 30/30 [00:02<00:00, 14.45it/s]\n"
          ]
        },
        {
          "name": "stdout",
          "output_type": "stream",
          "text": [
            "MRR: 0.03\n",
            "MR: 5293.28\n",
            "Hits@10: 0.03\n",
            "Hits@3: 0.03\n",
            "Hits@1: 0.02\n",
            "mutate c3: struct({'position': array([156.82715037, 162.14965727, 162.72366152]), 'cost': 0.02223968487921524})\n",
            "mutate c4: struct({'position': array([200.15632963, 187.51932022, 145.31813178]), 'cost': 0.02545365768200835})\n",
            "pop: [struct({'position': array([159.25065725, 165.14154173, 173.70415481]), 'cost': 0.04671530734115051}), struct({'position': array([188.20567549, 166.16102214, 148.13914328]), 'cost': 0.039656313331342216}), struct({'position': array([188.20567549, 154.57068851, 155.09535928]), 'cost': 0.03179733301217093})]\n",
            "Iteration 1: Best Cost = 0.04671530734115051\n",
            "P1: struct({'position': array([159.25065725, 165.14154173, 173.70415481]), 'cost': 0.04671530734115051})\n",
            "P2: struct({'position': array([188.20567549, 166.16102214, 148.13914328]), 'cost': 0.039656313331342216})\n",
            "[168.18231453 165.61659962 147.89983196]\n"
          ]
        },
        {
          "name": "stderr",
          "output_type": "stream",
          "text": [
            "Average ComplEx Loss:   5.004850: 100%|██████████| 10/10 [03:38<00:00, 21.81s/epoch]"
          ]
        },
        {
          "name": "stdout",
          "output_type": "stream",
          "text": [
            "WARNING - DeprecationWarning: use_default_protocol will be removed in future. Please use corrupt_side argument instead.\n"
          ]
        },
        {
          "name": "stderr",
          "output_type": "stream",
          "text": [
            "\n",
            "100%|██████████| 30/30 [00:02<00:00, 14.27it/s]\n"
          ]
        },
        {
          "name": "stdout",
          "output_type": "stream",
          "text": [
            "MRR: 0.00\n",
            "MR: 4838.63\n",
            "Hits@10: 0.00\n",
            "Hits@3: 0.00\n",
            "Hits@1: 0.00\n",
            "[179.27401822 165.68596425 173.94346613]\n"
          ]
        },
        {
          "name": "stderr",
          "output_type": "stream",
          "text": [
            "Average ComplEx Loss:   5.012564: 100%|██████████| 10/10 [04:22<00:00, 26.26s/epoch]"
          ]
        },
        {
          "name": "stdout",
          "output_type": "stream",
          "text": [
            "WARNING - DeprecationWarning: use_default_protocol will be removed in future. Please use corrupt_side argument instead.\n"
          ]
        },
        {
          "name": "stderr",
          "output_type": "stream",
          "text": [
            "\n",
            "100%|██████████| 30/30 [00:02<00:00, 12.25it/s]\n"
          ]
        },
        {
          "name": "stdout",
          "output_type": "stream",
          "text": [
            "MRR: 0.05\n",
            "MR: 4690.25\n",
            "Hits@10: 0.07\n",
            "Hits@3: 0.05\n",
            "Hits@1: 0.03\n",
            "crossover c1: struct({'position': array([168.18231453, 165.61659962, 147.89983196]), 'cost': 0.0026791057834299288})\n",
            "crossover c2: struct({'position': array([179.27401822, 165.68596425, 173.94346613]), 'cost': 0.04872378430771676})\n",
            "[171.1865326  143.7115714  178.70228367]\n"
          ]
        },
        {
          "name": "stderr",
          "output_type": "stream",
          "text": [
            "Average ComplEx Loss:   4.844787: 100%|██████████| 10/10 [04:04<00:00, 24.50s/epoch]"
          ]
        },
        {
          "name": "stdout",
          "output_type": "stream",
          "text": [
            "WARNING - DeprecationWarning: use_default_protocol will be removed in future. Please use corrupt_side argument instead.\n"
          ]
        },
        {
          "name": "stderr",
          "output_type": "stream",
          "text": [
            "\n",
            "100%|██████████| 30/30 [00:02<00:00, 12.18it/s]\n"
          ]
        },
        {
          "name": "stdout",
          "output_type": "stream",
          "text": [
            "MRR: 0.01\n",
            "MR: 5024.30\n",
            "Hits@10: 0.05\n",
            "Hits@3: 0.00\n",
            "Hits@1: 0.00\n",
            "[157.8350379  184.02063801 187.32607892]\n"
          ]
        },
        {
          "name": "stderr",
          "output_type": "stream",
          "text": [
            "Average ComplEx Loss:   5.121271: 100%|██████████| 10/10 [05:21<00:00, 32.18s/epoch]"
          ]
        },
        {
          "name": "stdout",
          "output_type": "stream",
          "text": [
            "WARNING - DeprecationWarning: use_default_protocol will be removed in future. Please use corrupt_side argument instead.\n"
          ]
        },
        {
          "name": "stderr",
          "output_type": "stream",
          "text": [
            "\n",
            "100%|██████████| 30/30 [00:02<00:00, 11.18it/s]\n"
          ]
        },
        {
          "name": "stdout",
          "output_type": "stream",
          "text": [
            "MRR: 0.01\n",
            "MR: 5185.62\n",
            "Hits@10: 0.02\n",
            "Hits@3: 0.02\n",
            "Hits@1: 0.00\n",
            "mutate c3: struct({'position': array([171.1865326 , 143.7115714 , 178.70228367]), 'cost': 0.007321260540792624})\n",
            "mutate c4: struct({'position': array([157.8350379 , 184.02063801, 187.32607892]), 'cost': 0.009025734511539743})\n",
            "P1: struct({'position': array([188.20567549, 154.57068851, 155.09535928]), 'cost': 0.03179733301217093})\n",
            "P2: struct({'position': array([188.20567549, 154.57068851, 155.09535928]), 'cost': 0.03179733301217093})\n",
            "[188.20567549 154.57068851 155.09535928]\n"
          ]
        },
        {
          "name": "stderr",
          "output_type": "stream",
          "text": [
            "Average ComplEx Loss:   4.884558: 100%|██████████| 10/10 [03:43<00:00, 22.31s/epoch]"
          ]
        },
        {
          "name": "stdout",
          "output_type": "stream",
          "text": [
            "WARNING - DeprecationWarning: use_default_protocol will be removed in future. Please use corrupt_side argument instead.\n"
          ]
        },
        {
          "name": "stderr",
          "output_type": "stream",
          "text": [
            "\n",
            "100%|██████████| 30/30 [00:02<00:00, 13.48it/s]\n"
          ]
        },
        {
          "name": "stdout",
          "output_type": "stream",
          "text": [
            "MRR: 0.03\n",
            "MR: 4065.38\n",
            "Hits@10: 0.07\n",
            "Hits@3: 0.03\n",
            "Hits@1: 0.02\n",
            "[188.20567549 154.57068851 155.09535928]\n"
          ]
        },
        {
          "name": "stderr",
          "output_type": "stream",
          "text": [
            "Average ComplEx Loss:   4.884558: 100%|██████████| 10/10 [03:43<00:00, 22.34s/epoch]"
          ]
        },
        {
          "name": "stdout",
          "output_type": "stream",
          "text": [
            "WARNING - DeprecationWarning: use_default_protocol will be removed in future. Please use corrupt_side argument instead.\n"
          ]
        },
        {
          "name": "stderr",
          "output_type": "stream",
          "text": [
            "\n",
            "100%|██████████| 30/30 [00:02<00:00, 13.18it/s]\n"
          ]
        },
        {
          "name": "stdout",
          "output_type": "stream",
          "text": [
            "MRR: 0.03\n",
            "MR: 4065.38\n",
            "Hits@10: 0.07\n",
            "Hits@3: 0.03\n",
            "Hits@1: 0.02\n",
            "crossover c1: struct({'position': array([188.20567549, 154.57068851, 155.09535928]), 'cost': 0.03179733301217093})\n",
            "crossover c2: struct({'position': array([188.20567549, 154.57068851, 155.09535928]), 'cost': 0.03179733301217093})\n",
            "[133.14071416 200.         154.90025354]\n"
          ]
        },
        {
          "name": "stderr",
          "output_type": "stream",
          "text": [
            "Average ComplEx Loss:   5.201179: 100%|██████████| 10/10 [04:24<00:00, 26.41s/epoch]"
          ]
        },
        {
          "name": "stdout",
          "output_type": "stream",
          "text": [
            "WARNING - DeprecationWarning: use_default_protocol will be removed in future. Please use corrupt_side argument instead.\n"
          ]
        },
        {
          "name": "stderr",
          "output_type": "stream",
          "text": [
            "\n",
            "100%|██████████| 30/30 [00:02<00:00, 13.05it/s]\n"
          ]
        },
        {
          "name": "stdout",
          "output_type": "stream",
          "text": [
            "MRR: 0.04\n",
            "MR: 3715.70\n",
            "Hits@10: 0.08\n",
            "Hits@3: 0.03\n",
            "Hits@1: 0.02\n",
            "[178.14825078 156.8637657  144.09136652]\n"
          ]
        },
        {
          "name": "stderr",
          "output_type": "stream",
          "text": [
            "Average ComplEx Loss:   4.912904: 100%|██████████| 10/10 [03:26<00:00, 20.63s/epoch]"
          ]
        },
        {
          "name": "stdout",
          "output_type": "stream",
          "text": [
            "WARNING - DeprecationWarning: use_default_protocol will be removed in future. Please use corrupt_side argument instead.\n"
          ]
        },
        {
          "name": "stderr",
          "output_type": "stream",
          "text": [
            "\n",
            "100%|██████████| 30/30 [00:02<00:00, 13.44it/s]\n"
          ]
        },
        {
          "name": "stdout",
          "output_type": "stream",
          "text": [
            "MRR: 0.00\n",
            "MR: 4988.35\n",
            "Hits@10: 0.02\n",
            "Hits@3: 0.00\n",
            "Hits@1: 0.00\n",
            "mutate c3: struct({'position': array([133.14071416, 200.        , 154.90025354]), 'cost': 0.03508685589693946})\n",
            "mutate c4: struct({'position': array([178.14825078, 156.8637657 , 144.09136652]), 'cost': 0.003766300120920985})\n",
            "pop: [struct({'position': array([179.27401822, 165.68596425, 173.94346613]), 'cost': 0.04872378430771676}), struct({'position': array([159.25065725, 165.14154173, 173.70415481]), 'cost': 0.04671530734115051}), struct({'position': array([188.20567549, 166.16102214, 148.13914328]), 'cost': 0.039656313331342216})]\n",
            "Iteration 2: Best Cost = 0.04872378430771676\n",
            "P1: struct({'position': array([159.25065725, 165.14154173, 173.70415481]), 'cost': 0.04671530734115051})\n",
            "P2: struct({'position': array([159.25065725, 165.14154173, 173.70415481]), 'cost': 0.04671530734115051})\n",
            "Dynamic Programming\n",
            "Dynamic Programming\n",
            "crossover c1: struct({'position': array([159.25065725, 165.14154173, 173.70415481]), 'cost': 0.04671530734115051})\n",
            "crossover c2: struct({'position': array([159.25065725, 165.14154173, 173.70415481]), 'cost': 0.04671530734115051})\n",
            "[143.03737042 165.14154173 160.96321189]\n"
          ]
        },
        {
          "name": "stderr",
          "output_type": "stream",
          "text": [
            "Average ComplEx Loss:   5.052750: 100%|██████████| 10/10 [03:52<00:00, 23.27s/epoch]\n"
          ]
        },
        {
          "name": "stdout",
          "output_type": "stream",
          "text": [
            "WARNING - DeprecationWarning: use_default_protocol will be removed in future. Please use corrupt_side argument instead.\n"
          ]
        },
        {
          "name": "stderr",
          "output_type": "stream",
          "text": [
            "100%|██████████| 30/30 [00:02<00:00, 12.97it/s]\n"
          ]
        },
        {
          "name": "stdout",
          "output_type": "stream",
          "text": [
            "MRR: 0.03\n",
            "MR: 4323.32\n",
            "Hits@10: 0.03\n",
            "Hits@3: 0.03\n",
            "Hits@1: 0.02\n",
            "[136.86689829 165.14154173 190.3556698 ]\n"
          ]
        },
        {
          "name": "stderr",
          "output_type": "stream",
          "text": [
            "Average ComplEx Loss:   5.022062: 100%|██████████| 10/10 [04:46<00:00, 28.62s/epoch]"
          ]
        },
        {
          "name": "stdout",
          "output_type": "stream",
          "text": [
            "WARNING - DeprecationWarning: use_default_protocol will be removed in future. Please use corrupt_side argument instead.\n"
          ]
        },
        {
          "name": "stderr",
          "output_type": "stream",
          "text": [
            "\n",
            "100%|██████████| 30/30 [00:02<00:00, 11.14it/s]\n"
          ]
        },
        {
          "name": "stdout",
          "output_type": "stream",
          "text": [
            "MRR: 0.04\n",
            "MR: 4253.95\n",
            "Hits@10: 0.03\n",
            "Hits@3: 0.03\n",
            "Hits@1: 0.03\n",
            "mutate c3: struct({'position': array([143.03737042, 165.14154173, 160.96321189]), 'cost': 0.027228670182712782})\n",
            "mutate c4: struct({'position': array([136.86689829, 165.14154173, 190.3556698 ]), 'cost': 0.03791500805690262})\n",
            "P1: struct({'position': array([179.27401822, 165.68596425, 173.94346613]), 'cost': 0.04872378430771676})\n",
            "P2: struct({'position': array([159.25065725, 165.14154173, 173.70415481]), 'cost': 0.04671530734115051})\n",
            "[166.34495496 165.44194648 173.71480355]\n"
          ]
        },
        {
          "name": "stderr",
          "output_type": "stream",
          "text": [
            "Average ComplEx Loss:   4.973751: 100%|██████████| 10/10 [04:36<00:00, 27.65s/epoch]"
          ]
        },
        {
          "name": "stdout",
          "output_type": "stream",
          "text": [
            "WARNING - DeprecationWarning: use_default_protocol will be removed in future. Please use corrupt_side argument instead.\n"
          ]
        },
        {
          "name": "stderr",
          "output_type": "stream",
          "text": [
            "\n",
            "100%|██████████| 30/30 [00:02<00:00, 12.44it/s]\n"
          ]
        },
        {
          "name": "stdout",
          "output_type": "stream",
          "text": [
            "MRR: 0.02\n",
            "MR: 4532.80\n",
            "Hits@10: 0.07\n",
            "Hits@3: 0.03\n",
            "Hits@1: 0.00\n",
            "[172.1797205  165.38555949 173.93281739]\n"
          ]
        },
        {
          "name": "stderr",
          "output_type": "stream",
          "text": [
            "Average ComplEx Loss:   4.957843: 100%|██████████| 10/10 [04:27<00:00, 26.75s/epoch]"
          ]
        },
        {
          "name": "stdout",
          "output_type": "stream",
          "text": [
            "WARNING - DeprecationWarning: use_default_protocol will be removed in future. Please use corrupt_side argument instead.\n"
          ]
        },
        {
          "name": "stderr",
          "output_type": "stream",
          "text": [
            "\n",
            "100%|██████████| 30/30 [00:02<00:00, 12.78it/s]\n"
          ]
        },
        {
          "name": "stdout",
          "output_type": "stream",
          "text": [
            "MRR: 0.04\n",
            "MR: 4643.92\n",
            "Hits@10: 0.07\n",
            "Hits@3: 0.05\n",
            "Hits@1: 0.02\n",
            "crossover c1: struct({'position': array([166.34495496, 165.44194648, 173.71480355]), 'cost': 0.023495583564107986})\n",
            "crossover c2: struct({'position': array([172.1797205 , 165.38555949, 173.93281739]), 'cost': 0.03672063435905271})\n",
            "[164.71339147 154.00098141 157.15723978]\n"
          ]
        },
        {
          "name": "stderr",
          "output_type": "stream",
          "text": [
            "Average ComplEx Loss:   4.973777: 100%|██████████| 10/10 [03:38<00:00, 21.82s/epoch]"
          ]
        },
        {
          "name": "stdout",
          "output_type": "stream",
          "text": [
            "WARNING - DeprecationWarning: use_default_protocol will be removed in future. Please use corrupt_side argument instead.\n"
          ]
        },
        {
          "name": "stderr",
          "output_type": "stream",
          "text": [
            "\n",
            "100%|██████████| 30/30 [00:02<00:00, 11.64it/s]\n"
          ]
        },
        {
          "name": "stdout",
          "output_type": "stream",
          "text": [
            "MRR: 0.00\n",
            "MR: 4863.62\n",
            "Hits@10: 0.02\n",
            "Hits@3: 0.00\n",
            "Hits@1: 0.00\n",
            "[172.1797205  173.58928163 173.93281739]\n"
          ]
        },
        {
          "name": "stderr",
          "output_type": "stream",
          "text": [
            "Average ComplEx Loss:   5.004087: 100%|██████████| 10/10 [04:47<00:00, 28.77s/epoch]"
          ]
        },
        {
          "name": "stdout",
          "output_type": "stream",
          "text": [
            "WARNING - DeprecationWarning: use_default_protocol will be removed in future. Please use corrupt_side argument instead.\n"
          ]
        },
        {
          "name": "stderr",
          "output_type": "stream",
          "text": [
            "\n",
            "100%|██████████| 30/30 [00:02<00:00, 12.32it/s]\n"
          ]
        },
        {
          "name": "stdout",
          "output_type": "stream",
          "text": [
            "MRR: 0.05\n",
            "MR: 4551.77\n",
            "Hits@10: 0.07\n",
            "Hits@3: 0.07\n",
            "Hits@1: 0.03\n",
            "mutate c3: struct({'position': array([164.71339147, 154.00098141, 157.15723978]), 'cost': 0.004013238588769252})\n",
            "mutate c4: struct({'position': array([172.1797205 , 173.58928163, 173.93281739]), 'cost': 0.04923808253809168})\n",
            "pop: [struct({'position': array([172.1797205 , 173.58928163, 173.93281739]), 'cost': 0.04923808253809168}), struct({'position': array([179.27401822, 165.68596425, 173.94346613]), 'cost': 0.04872378430771676}), struct({'position': array([159.25065725, 165.14154173, 173.70415481]), 'cost': 0.04671530734115051})]\n",
            "Iteration 3: Best Cost = 0.04923808253809168\n",
            "P1: struct({'position': array([159.25065725, 165.14154173, 173.70415481]), 'cost': 0.04671530734115051})\n",
            "P2: struct({'position': array([179.27401822, 165.68596425, 173.94346613]), 'cost': 0.04872378430771676})\n",
            "[162.52719421 165.28874282 173.82909174]\n"
          ]
        },
        {
          "name": "stderr",
          "output_type": "stream",
          "text": [
            "Average ComplEx Loss:   5.017073: 100%|██████████| 10/10 [04:23<00:00, 26.39s/epoch]"
          ]
        },
        {
          "name": "stdout",
          "output_type": "stream",
          "text": [
            "WARNING - DeprecationWarning: use_default_protocol will be removed in future. Please use corrupt_side argument instead.\n"
          ]
        },
        {
          "name": "stderr",
          "output_type": "stream",
          "text": [
            "\n",
            "100%|██████████| 30/30 [00:02<00:00, 12.57it/s]\n"
          ]
        },
        {
          "name": "stdout",
          "output_type": "stream",
          "text": [
            "MRR: 0.03\n",
            "MR: 4768.00\n",
            "Hits@10: 0.07\n",
            "Hits@3: 0.02\n",
            "Hits@1: 0.02\n",
            "[175.99748126 165.53876316 173.8185292 ]\n"
          ]
        },
        {
          "name": "stderr",
          "output_type": "stream",
          "text": [
            "Average ComplEx Loss:   4.954187: 100%|██████████| 10/10 [04:10<00:00, 25.04s/epoch]"
          ]
        },
        {
          "name": "stdout",
          "output_type": "stream",
          "text": [
            "WARNING - DeprecationWarning: use_default_protocol will be removed in future. Please use corrupt_side argument instead.\n"
          ]
        },
        {
          "name": "stderr",
          "output_type": "stream",
          "text": [
            "\n",
            "100%|██████████| 30/30 [00:02<00:00, 11.80it/s]\n"
          ]
        },
        {
          "name": "stdout",
          "output_type": "stream",
          "text": [
            "MRR: 0.06\n",
            "MR: 4708.45\n",
            "Hits@10: 0.07\n",
            "Hits@3: 0.05\n",
            "Hits@1: 0.05\n",
            "crossover c1: struct({'position': array([162.52719421, 165.28874282, 173.82909174]), 'cost': 0.02954513804268814})\n",
            "crossover c2: struct({'position': array([175.99748126, 165.53876316, 173.8185292 ]), 'cost': 0.056137387860861525})\n",
            "[174.36487537 152.11860013 177.54639069]\n"
          ]
        },
        {
          "name": "stderr",
          "output_type": "stream",
          "text": [
            "Average ComplEx Loss:   4.900817: 100%|██████████| 10/10 [04:06<00:00, 24.65s/epoch]"
          ]
        },
        {
          "name": "stdout",
          "output_type": "stream",
          "text": [
            "WARNING - DeprecationWarning: use_default_protocol will be removed in future. Please use corrupt_side argument instead.\n"
          ]
        },
        {
          "name": "stderr",
          "output_type": "stream",
          "text": [
            "\n",
            "100%|██████████| 30/30 [00:02<00:00, 10.30it/s]\n"
          ]
        },
        {
          "name": "stdout",
          "output_type": "stream",
          "text": [
            "MRR: 0.02\n",
            "MR: 4103.53\n",
            "Hits@10: 0.02\n",
            "Hits@3: 0.02\n",
            "Hits@1: 0.02\n",
            "[169.29852465 177.03680061 151.47078637]\n"
          ]
        },
        {
          "name": "stderr",
          "output_type": "stream",
          "text": [
            "Average ComplEx Loss:   5.041732: 100%|██████████| 10/10 [03:55<00:00, 23.54s/epoch]"
          ]
        },
        {
          "name": "stdout",
          "output_type": "stream",
          "text": [
            "WARNING - DeprecationWarning: use_default_protocol will be removed in future. Please use corrupt_side argument instead.\n"
          ]
        },
        {
          "name": "stderr",
          "output_type": "stream",
          "text": [
            "\n",
            "100%|██████████| 30/30 [00:02<00:00, 13.77it/s]\n"
          ]
        },
        {
          "name": "stdout",
          "output_type": "stream",
          "text": [
            "MRR: 0.02\n",
            "MR: 4057.88\n",
            "Hits@10: 0.02\n",
            "Hits@3: 0.02\n",
            "Hits@1: 0.02\n",
            "mutate c3: struct({'position': array([174.36487537, 152.11860013, 177.54639069]), 'cost': 0.018585887082039333})\n",
            "mutate c4: struct({'position': array([169.29852465, 177.03680061, 151.47078637]), 'cost': 0.019483463770747108})\n",
            "P1: struct({'position': array([172.1797205 , 173.58928163, 173.93281739]), 'cost': 0.04923808253809168})\n",
            "P2: struct({'position': array([159.25065725, 165.14154173, 173.70415481]), 'cost': 0.04671530734115051})\n",
            "[169.9889483  166.00383785 173.74839778]\n"
          ]
        },
        {
          "name": "stderr",
          "output_type": "stream",
          "text": [
            "Average ComplEx Loss:   4.969925: 100%|██████████| 10/10 [04:26<00:00, 26.64s/epoch]"
          ]
        },
        {
          "name": "stdout",
          "output_type": "stream",
          "text": [
            "WARNING - DeprecationWarning: use_default_protocol will be removed in future. Please use corrupt_side argument instead.\n"
          ]
        },
        {
          "name": "stderr",
          "output_type": "stream",
          "text": [
            "\n",
            "100%|██████████| 30/30 [00:02<00:00, 12.69it/s]\n"
          ]
        },
        {
          "name": "stdout",
          "output_type": "stream",
          "text": [
            "MRR: 0.05\n",
            "MR: 4447.53\n",
            "Hits@10: 0.07\n",
            "Hits@3: 0.07\n",
            "Hits@1: 0.03\n",
            "[161.44142945 172.7269855  173.88857442]\n"
          ]
        },
        {
          "name": "stderr",
          "output_type": "stream",
          "text": [
            "Average ComplEx Loss:   5.010140: 100%|██████████| 10/10 [04:13<00:00, 25.40s/epoch]\n"
          ]
        },
        {
          "name": "stdout",
          "output_type": "stream",
          "text": [
            "WARNING - DeprecationWarning: use_default_protocol will be removed in future. Please use corrupt_side argument instead.\n"
          ]
        },
        {
          "name": "stderr",
          "output_type": "stream",
          "text": [
            "100%|██████████| 30/30 [00:02<00:00, 11.94it/s]\n"
          ]
        },
        {
          "name": "stdout",
          "output_type": "stream",
          "text": [
            "MRR: 0.02\n",
            "MR: 4617.83\n",
            "Hits@10: 0.05\n",
            "Hits@3: 0.02\n",
            "Hits@1: 0.00\n",
            "crossover c1: struct({'position': array([169.9889483 , 166.00383785, 173.74839778]), 'cost': 0.04993170622659381})\n",
            "crossover c2: struct({'position': array([161.44142945, 172.7269855 , 173.88857442]), 'cost': 0.016575089478456727})\n",
            "[191.54127877 152.18230446 173.74839778]\n"
          ]
        },
        {
          "name": "stderr",
          "output_type": "stream",
          "text": [
            "Average ComplEx Loss:   4.873499: 100%|██████████| 10/10 [04:11<00:00, 25.11s/epoch]"
          ]
        },
        {
          "name": "stdout",
          "output_type": "stream",
          "text": [
            "WARNING - DeprecationWarning: use_default_protocol will be removed in future. Please use corrupt_side argument instead.\n"
          ]
        },
        {
          "name": "stderr",
          "output_type": "stream",
          "text": [
            "\n",
            "100%|██████████| 30/30 [00:02<00:00, 12.46it/s]\n"
          ]
        },
        {
          "name": "stdout",
          "output_type": "stream",
          "text": [
            "MRR: 0.05\n",
            "MR: 4685.20\n",
            "Hits@10: 0.07\n",
            "Hits@3: 0.07\n",
            "Hits@1: 0.03\n",
            "[160.17054957 200.         171.0448383 ]\n"
          ]
        },
        {
          "name": "stderr",
          "output_type": "stream",
          "text": [
            "Average ComplEx Loss:   5.190471: 100%|██████████| 10/10 [05:04<00:00, 30.41s/epoch]"
          ]
        },
        {
          "name": "stdout",
          "output_type": "stream",
          "text": [
            "WARNING - DeprecationWarning: use_default_protocol will be removed in future. Please use corrupt_side argument instead.\n"
          ]
        },
        {
          "name": "stderr",
          "output_type": "stream",
          "text": [
            "\n",
            "100%|██████████| 30/30 [00:02<00:00, 11.67it/s]\n"
          ]
        },
        {
          "name": "stdout",
          "output_type": "stream",
          "text": [
            "MRR: 0.01\n",
            "MR: 5447.33\n",
            "Hits@10: 0.03\n",
            "Hits@3: 0.00\n",
            "Hits@1: 0.00\n",
            "mutate c3: struct({'position': array([191.54127877, 152.18230446, 173.74839778]), 'cost': 0.05222998558127238})\n",
            "mutate c4: struct({'position': array([160.17054957, 200.        , 171.0448383 ]), 'cost': 0.007551895930348652})\n",
            "pop: [struct({'position': array([175.99748126, 165.53876316, 173.8185292 ]), 'cost': 0.056137387860861525}), struct({'position': array([191.54127877, 152.18230446, 173.74839778]), 'cost': 0.05222998558127238}), struct({'position': array([169.9889483 , 166.00383785, 173.74839778]), 'cost': 0.04993170622659381})]\n",
            "Iteration 4: Best Cost = 0.056137387860861525\n",
            "P1: struct({'position': array([175.99748126, 165.53876316, 173.8185292 ]), 'cost': 0.056137387860861525})\n",
            "P2: struct({'position': array([169.9889483 , 166.00383785, 173.74839778]), 'cost': 0.04993170622659381})\n",
            "[173.74602291 165.71258266 173.77141899]\n"
          ]
        },
        {
          "name": "stderr",
          "output_type": "stream",
          "text": [
            "Average ComplEx Loss:   5.012662: 100%|██████████| 10/10 [04:18<00:00, 25.86s/epoch]"
          ]
        },
        {
          "name": "stdout",
          "output_type": "stream",
          "text": [
            "WARNING - DeprecationWarning: use_default_protocol will be removed in future. Please use corrupt_side argument instead.\n"
          ]
        },
        {
          "name": "stderr",
          "output_type": "stream",
          "text": [
            "\n",
            "100%|██████████| 30/30 [00:02<00:00, 11.67it/s]\n"
          ]
        },
        {
          "name": "stdout",
          "output_type": "stream",
          "text": [
            "MRR: 0.06\n",
            "MR: 4704.12\n",
            "Hits@10: 0.07\n",
            "Hits@3: 0.05\n",
            "Hits@1: 0.05\n",
            "[172.24040665 165.83001834 173.79550799]\n"
          ]
        },
        {
          "name": "stderr",
          "output_type": "stream",
          "text": [
            "Average ComplEx Loss:   4.957843: 100%|██████████| 10/10 [04:26<00:00, 26.61s/epoch]\n"
          ]
        },
        {
          "name": "stdout",
          "output_type": "stream",
          "text": [
            "WARNING - DeprecationWarning: use_default_protocol will be removed in future. Please use corrupt_side argument instead.\n"
          ]
        },
        {
          "name": "stderr",
          "output_type": "stream",
          "text": [
            "100%|██████████| 30/30 [00:02<00:00, 12.12it/s]\n"
          ]
        },
        {
          "name": "stdout",
          "output_type": "stream",
          "text": [
            "MRR: 0.04\n",
            "MR: 4643.92\n",
            "Hits@10: 0.07\n",
            "Hits@3: 0.05\n",
            "Hits@1: 0.02\n",
            "crossover c1: struct({'position': array([173.74602291, 165.71258266, 173.77141899]), 'cost': 0.05620583084943569})\n",
            "crossover c2: struct({'position': array([172.24040665, 165.83001834, 173.79550799]), 'cost': 0.03672063435905271})\n",
            "[190.73652129 189.28910395 166.68402057]\n"
          ]
        },
        {
          "name": "stderr",
          "output_type": "stream",
          "text": [
            "Average ComplEx Loss:   5.117875: 100%|██████████| 10/10 [04:37<00:00, 27.77s/epoch]"
          ]
        },
        {
          "name": "stdout",
          "output_type": "stream",
          "text": [
            "WARNING - DeprecationWarning: use_default_protocol will be removed in future. Please use corrupt_side argument instead.\n"
          ]
        },
        {
          "name": "stderr",
          "output_type": "stream",
          "text": [
            "\n",
            "100%|██████████| 30/30 [00:02<00:00, 12.31it/s]\n"
          ]
        },
        {
          "name": "stdout",
          "output_type": "stream",
          "text": [
            "MRR: 0.03\n",
            "MR: 4353.62\n",
            "Hits@10: 0.07\n",
            "Hits@3: 0.03\n",
            "Hits@1: 0.02\n",
            "[172.24040665 150.98894879 173.79550799]\n"
          ]
        },
        {
          "name": "stderr",
          "output_type": "stream",
          "text": [
            "Average ComplEx Loss:   4.864740: 100%|██████████| 10/10 [04:04<00:00, 24.49s/epoch]\n"
          ]
        },
        {
          "name": "stdout",
          "output_type": "stream",
          "text": [
            "WARNING - DeprecationWarning: use_default_protocol will be removed in future. Please use corrupt_side argument instead.\n"
          ]
        },
        {
          "name": "stderr",
          "output_type": "stream",
          "text": [
            "100%|██████████| 30/30 [00:02<00:00, 12.43it/s]\n"
          ]
        },
        {
          "name": "stdout",
          "output_type": "stream",
          "text": [
            "MRR: 0.05\n",
            "MR: 4522.93\n",
            "Hits@10: 0.08\n",
            "Hits@3: 0.07\n",
            "Hits@1: 0.03\n",
            "mutate c3: struct({'position': array([190.73652129, 189.28910395, 166.68402057]), 'cost': 0.0271547915024866})\n",
            "mutate c4: struct({'position': array([172.24040665, 150.98894879, 173.79550799]), 'cost': 0.04993925171271407})\n",
            "P1: struct({'position': array([175.99748126, 165.53876316, 173.8185292 ]), 'cost': 0.056137387860861525})\n",
            "P2: struct({'position': array([191.54127877, 152.18230446, 173.74839778]), 'cost': 0.05222998558127238})\n",
            "[177.70601613 153.50107528 173.80091567]\n"
          ]
        },
        {
          "name": "stderr",
          "output_type": "stream",
          "text": [
            "Average ComplEx Loss:   4.908161: 100%|██████████| 10/10 [04:08<00:00, 24.83s/epoch]"
          ]
        },
        {
          "name": "stdout",
          "output_type": "stream",
          "text": [
            "WARNING - DeprecationWarning: use_default_protocol will be removed in future. Please use corrupt_side argument instead.\n"
          ]
        },
        {
          "name": "stderr",
          "output_type": "stream",
          "text": [
            "\n",
            "100%|██████████| 30/30 [00:02<00:00, 12.07it/s]\n"
          ]
        },
        {
          "name": "stdout",
          "output_type": "stream",
          "text": [
            "MRR: 0.03\n",
            "MR: 4405.63\n",
            "Hits@10: 0.07\n",
            "Hits@3: 0.05\n",
            "Hits@1: 0.00\n",
            "[189.8327439  164.21999234 173.76601131]\n"
          ]
        },
        {
          "name": "stderr",
          "output_type": "stream",
          "text": [
            "Average ComplEx Loss:   5.001280: 100%|██████████| 10/10 [04:33<00:00, 27.32s/epoch]"
          ]
        },
        {
          "name": "stdout",
          "output_type": "stream",
          "text": [
            "WARNING - DeprecationWarning: use_default_protocol will be removed in future. Please use corrupt_side argument instead.\n"
          ]
        },
        {
          "name": "stderr",
          "output_type": "stream",
          "text": [
            "\n",
            "100%|██████████| 30/30 [00:02<00:00, 11.25it/s]\n"
          ]
        },
        {
          "name": "stdout",
          "output_type": "stream",
          "text": [
            "MRR: 0.05\n",
            "MR: 4557.18\n",
            "Hits@10: 0.08\n",
            "Hits@3: 0.05\n",
            "Hits@1: 0.03\n",
            "crossover c1: struct({'position': array([177.70601613, 153.50107528, 173.80091567]), 'cost': 0.02568468844565569})\n",
            "crossover c2: struct({'position': array([189.8327439 , 164.21999234, 173.76601131]), 'cost': 0.04945758431819986})\n",
            "[162.84762448 144.45240474 160.38828629]\n"
          ]
        },
        {
          "name": "stderr",
          "output_type": "stream",
          "text": [
            "Average ComplEx Loss:   4.887559: 100%|██████████| 10/10 [03:29<00:00, 20.93s/epoch]"
          ]
        },
        {
          "name": "stdout",
          "output_type": "stream",
          "text": [
            "WARNING - DeprecationWarning: use_default_protocol will be removed in future. Please use corrupt_side argument instead.\n"
          ]
        },
        {
          "name": "stderr",
          "output_type": "stream",
          "text": [
            "\n",
            "100%|██████████| 30/30 [00:02<00:00, 12.97it/s]\n"
          ]
        },
        {
          "name": "stdout",
          "output_type": "stream",
          "text": [
            "MRR: 0.02\n",
            "MR: 4365.63\n",
            "Hits@10: 0.02\n",
            "Hits@3: 0.02\n",
            "Hits@1: 0.02\n",
            "[245.92174301 169.64394307 173.76601131]\n"
          ]
        },
        {
          "name": "stderr",
          "output_type": "stream",
          "text": [
            "Average ComplEx Loss:   4.963314: 100%|██████████| 10/10 [04:50<00:00, 29.04s/epoch]"
          ]
        },
        {
          "name": "stdout",
          "output_type": "stream",
          "text": [
            "WARNING - DeprecationWarning: use_default_protocol will be removed in future. Please use corrupt_side argument instead.\n"
          ]
        },
        {
          "name": "stderr",
          "output_type": "stream",
          "text": [
            "\n",
            "100%|██████████| 30/30 [00:02<00:00, 12.22it/s]\n"
          ]
        },
        {
          "name": "stdout",
          "output_type": "stream",
          "text": [
            "MRR: 0.04\n",
            "MR: 4565.82\n",
            "Hits@10: 0.08\n",
            "Hits@3: 0.07\n",
            "Hits@1: 0.02\n",
            "mutate c3: struct({'position': array([162.84762448, 144.45240474, 160.38828629]), 'cost': 0.019751967113824917})\n",
            "mutate c4: struct({'position': array([245.92174301, 169.64394307, 173.76601131]), 'cost': 0.0425780683138299})\n",
            "pop: [struct({'position': array([173.74602291, 165.71258266, 173.77141899]), 'cost': 0.05620583084943569}), struct({'position': array([175.99748126, 165.53876316, 173.8185292 ]), 'cost': 0.056137387860861525}), struct({'position': array([191.54127877, 152.18230446, 173.74839778]), 'cost': 0.05222998558127238})]\n",
            "Iteration 5: Best Cost = 0.05620583084943569\n",
            "P1: struct({'position': array([191.54127877, 152.18230446, 173.74839778]), 'cost': 0.05222998558127238})\n",
            "P2: struct({'position': array([175.99748126, 165.53876316, 173.8185292 ]), 'cost': 0.056137387860861525})\n",
            "[188.96004546 161.83247275 173.79910963]\n"
          ]
        },
        {
          "name": "stderr",
          "output_type": "stream",
          "text": [
            "Average ComplEx Loss:   4.918173: 100%|██████████| 10/10 [04:26<00:00, 26.64s/epoch]"
          ]
        },
        {
          "name": "stdout",
          "output_type": "stream",
          "text": [
            "WARNING - DeprecationWarning: use_default_protocol will be removed in future. Please use corrupt_side argument instead.\n"
          ]
        },
        {
          "name": "stderr",
          "output_type": "stream",
          "text": [
            "\n",
            "100%|██████████| 30/30 [00:02<00:00, 12.14it/s]\n"
          ]
        },
        {
          "name": "stdout",
          "output_type": "stream",
          "text": [
            "MRR: 0.05\n",
            "MR: 4351.05\n",
            "Hits@10: 0.08\n",
            "Hits@3: 0.07\n",
            "Hits@1: 0.03\n",
            "[178.57871456 155.88859487 173.76781735]\n"
          ]
        },
        {
          "name": "stderr",
          "output_type": "stream",
          "text": [
            "Average ComplEx Loss:   4.892736: 100%|██████████| 10/10 [04:15<00:00, 25.54s/epoch]"
          ]
        },
        {
          "name": "stdout",
          "output_type": "stream",
          "text": [
            "WARNING - DeprecationWarning: use_default_protocol will be removed in future. Please use corrupt_side argument instead.\n"
          ]
        },
        {
          "name": "stderr",
          "output_type": "stream",
          "text": [
            "\n",
            "100%|██████████| 30/30 [00:02<00:00, 10.87it/s]\n"
          ]
        },
        {
          "name": "stdout",
          "output_type": "stream",
          "text": [
            "MRR: 0.04\n",
            "MR: 4587.00\n",
            "Hits@10: 0.07\n",
            "Hits@3: 0.07\n",
            "Hits@1: 0.02\n",
            "crossover c1: struct({'position': array([188.96004546, 161.83247275, 173.79910963]), 'cost': 0.048420632764954265})\n",
            "crossover c2: struct({'position': array([178.57871456, 155.88859487, 173.76781735]), 'cost': 0.03847942956007999})\n",
            "[161.89416838 161.83247275 171.04634717]\n"
          ]
        },
        {
          "name": "stderr",
          "output_type": "stream",
          "text": [
            "Average ComplEx Loss:   4.945460: 100%|██████████| 10/10 [04:00<00:00, 24.10s/epoch]"
          ]
        },
        {
          "name": "stdout",
          "output_type": "stream",
          "text": [
            "WARNING - DeprecationWarning: use_default_protocol will be removed in future. Please use corrupt_side argument instead.\n"
          ]
        },
        {
          "name": "stderr",
          "output_type": "stream",
          "text": [
            "\n",
            "100%|██████████| 30/30 [00:02<00:00, 12.20it/s]\n"
          ]
        },
        {
          "name": "stdout",
          "output_type": "stream",
          "text": [
            "MRR: 0.01\n",
            "MR: 5570.33\n",
            "Hits@10: 0.05\n",
            "Hits@3: 0.02\n",
            "Hits@1: 0.00\n",
            "[199.37473942 155.88859487 177.47977637]\n"
          ]
        },
        {
          "name": "stderr",
          "output_type": "stream",
          "text": [
            "Average ComplEx Loss:   4.869975: 100%|██████████| 10/10 [04:22<00:00, 26.23s/epoch]"
          ]
        },
        {
          "name": "stdout",
          "output_type": "stream",
          "text": [
            "WARNING - DeprecationWarning: use_default_protocol will be removed in future. Please use corrupt_side argument instead.\n"
          ]
        },
        {
          "name": "stderr",
          "output_type": "stream",
          "text": [
            "\n",
            "100%|██████████| 30/30 [00:02<00:00, 10.16it/s]\n"
          ]
        },
        {
          "name": "stdout",
          "output_type": "stream",
          "text": [
            "MRR: 0.02\n",
            "MR: 3921.30\n",
            "Hits@10: 0.02\n",
            "Hits@3: 0.02\n",
            "Hits@1: 0.02\n",
            "mutate c3: struct({'position': array([161.89416838, 161.83247275, 171.04634717]), 'cost': 0.013795184206867863})\n",
            "mutate c4: struct({'position': array([199.37473942, 155.88859487, 177.47977637]), 'cost': 0.019268156953878842})\n",
            "P1: struct({'position': array([175.99748126, 165.53876316, 173.8185292 ]), 'cost': 0.056137387860861525})\n",
            "P2: struct({'position': array([191.54127877, 152.18230446, 173.74839778]), 'cost': 0.05222998558127238})\n",
            "[185.82458815 153.02050706 173.81910521]\n"
          ]
        },
        {
          "name": "stderr",
          "output_type": "stream",
          "text": [
            "Average ComplEx Loss:   4.860265: 100%|██████████| 10/10 [04:09<00:00, 24.91s/epoch]"
          ]
        },
        {
          "name": "stdout",
          "output_type": "stream",
          "text": [
            "WARNING - DeprecationWarning: use_default_protocol will be removed in future. Please use corrupt_side argument instead.\n"
          ]
        },
        {
          "name": "stderr",
          "output_type": "stream",
          "text": [
            "\n",
            "100%|██████████| 30/30 [00:02<00:00, 12.22it/s]\n"
          ]
        },
        {
          "name": "stdout",
          "output_type": "stream",
          "text": [
            "MRR: 0.03\n",
            "MR: 4512.23\n",
            "Hits@10: 0.05\n",
            "Hits@3: 0.05\n",
            "Hits@1: 0.02\n",
            "[181.71417188 164.70056056 173.74782177]\n"
          ]
        },
        {
          "name": "stderr",
          "output_type": "stream",
          "text": [
            "Average ComplEx Loss:   4.949978: 100%|██████████| 10/10 [04:22<00:00, 26.21s/epoch]\n"
          ]
        },
        {
          "name": "stdout",
          "output_type": "stream",
          "text": [
            "WARNING - DeprecationWarning: use_default_protocol will be removed in future. Please use corrupt_side argument instead.\n"
          ]
        },
        {
          "name": "stderr",
          "output_type": "stream",
          "text": [
            "100%|██████████| 30/30 [00:02<00:00, 12.08it/s]\n"
          ]
        },
        {
          "name": "stdout",
          "output_type": "stream",
          "text": [
            "MRR: 0.04\n",
            "MR: 4579.52\n",
            "Hits@10: 0.08\n",
            "Hits@3: 0.05\n",
            "Hits@1: 0.02\n",
            "crossover c1: struct({'position': array([185.82458815, 153.02050706, 173.81910521]), 'cost': 0.03350384191272823})\n",
            "crossover c2: struct({'position': array([181.71417188, 164.70056056, 173.74782177]), 'cost': 0.04237171465924809})\n",
            "[202.50163151 175.79266907 215.54804664]\n"
          ]
        },
        {
          "name": "stderr",
          "output_type": "stream",
          "text": [
            "Average ComplEx Loss:   4.987600: 100%|██████████| 10/10 [06:15<00:00, 37.52s/epoch]"
          ]
        },
        {
          "name": "stdout",
          "output_type": "stream",
          "text": [
            "WARNING - DeprecationWarning: use_default_protocol will be removed in future. Please use corrupt_side argument instead.\n"
          ]
        },
        {
          "name": "stderr",
          "output_type": "stream",
          "text": [
            "\n",
            "100%|██████████| 30/30 [00:03<00:00,  8.53it/s]\n"
          ]
        },
        {
          "name": "stdout",
          "output_type": "stream",
          "text": [
            "MRR: 0.01\n",
            "MR: 4015.62\n",
            "Hits@10: 0.03\n",
            "Hits@3: 0.00\n",
            "Hits@1: 0.00\n",
            "[181.76585342 164.43107621 136.97847039]\n"
          ]
        },
        {
          "name": "stderr",
          "output_type": "stream",
          "text": [
            "Average ComplEx Loss:   4.967901: 100%|██████████| 10/10 [03:15<00:00, 19.58s/epoch]\n"
          ]
        },
        {
          "name": "stdout",
          "output_type": "stream",
          "text": [
            "WARNING - DeprecationWarning: use_default_protocol will be removed in future. Please use corrupt_side argument instead.\n"
          ]
        },
        {
          "name": "stderr",
          "output_type": "stream",
          "text": [
            "100%|██████████| 30/30 [00:01<00:00, 15.35it/s]\n"
          ]
        },
        {
          "name": "stdout",
          "output_type": "stream",
          "text": [
            "MRR: 0.03\n",
            "MR: 3687.13\n",
            "Hits@10: 0.08\n",
            "Hits@3: 0.03\n",
            "Hits@1: 0.00\n",
            "mutate c3: struct({'position': array([202.50163151, 175.79266907, 215.54804664]), 'cost': 0.008272355310167573})\n",
            "mutate c4: struct({'position': array([181.76585342, 164.43107621, 136.97847039]), 'cost': 0.0272363961629723})\n",
            "pop: [struct({'position': array([173.74602291, 165.71258266, 173.77141899]), 'cost': 0.05620583084943569}), struct({'position': array([175.99748126, 165.53876316, 173.8185292 ]), 'cost': 0.056137387860861525}), struct({'position': array([191.54127877, 152.18230446, 173.74839778]), 'cost': 0.05222998558127238})]\n",
            "Iteration 6: Best Cost = 0.05620583084943569\n",
            "P1: struct({'position': array([175.99748126, 165.53876316, 173.8185292 ]), 'cost': 0.056137387860861525})\n",
            "P2: struct({'position': array([175.99748126, 165.53876316, 173.8185292 ]), 'cost': 0.056137387860861525})\n",
            "Dynamic Programming\n",
            "Dynamic Programming\n",
            "crossover c1: struct({'position': array([175.99748126, 165.53876316, 173.8185292 ]), 'cost': 0.056137387860861525})\n",
            "crossover c2: struct({'position': array([175.99748126, 165.53876316, 173.8185292 ]), 'cost': 0.056137387860861525})\n",
            "[161.0760066  159.3351896  153.02291552]\n"
          ]
        },
        {
          "name": "stderr",
          "output_type": "stream",
          "text": [
            "Average ComplEx Loss:   4.940784: 100%|██████████| 10/10 [03:40<00:00, 22.06s/epoch]"
          ]
        },
        {
          "name": "stdout",
          "output_type": "stream",
          "text": [
            "WARNING - DeprecationWarning: use_default_protocol will be removed in future. Please use corrupt_side argument instead.\n"
          ]
        },
        {
          "name": "stderr",
          "output_type": "stream",
          "text": [
            "\n",
            "100%|██████████| 30/30 [00:02<00:00, 13.77it/s]\n"
          ]
        },
        {
          "name": "stdout",
          "output_type": "stream",
          "text": [
            "MRR: 0.03\n",
            "MR: 4550.43\n",
            "Hits@10: 0.07\n",
            "Hits@3: 0.03\n",
            "Hits@1: 0.02\n",
            "[200.52935366 165.53876316 172.314061  ]\n"
          ]
        },
        {
          "name": "stderr",
          "output_type": "stream",
          "text": [
            "Average ComplEx Loss:   5.005487: 100%|██████████| 10/10 [04:15<00:00, 25.53s/epoch]"
          ]
        },
        {
          "name": "stdout",
          "output_type": "stream",
          "text": [
            "WARNING - DeprecationWarning: use_default_protocol will be removed in future. Please use corrupt_side argument instead.\n"
          ]
        },
        {
          "name": "stderr",
          "output_type": "stream",
          "text": [
            "\n",
            "100%|██████████| 30/30 [00:02<00:00, 12.11it/s]\n"
          ]
        },
        {
          "name": "stdout",
          "output_type": "stream",
          "text": [
            "MRR: 0.02\n",
            "MR: 4726.63\n",
            "Hits@10: 0.03\n",
            "Hits@3: 0.02\n",
            "Hits@1: 0.02\n",
            "mutate c3: struct({'position': array([161.0760066 , 159.3351896 , 153.02291552]), 'cost': 0.03090810161925989})\n",
            "mutate c4: struct({'position': array([200.52935366, 165.53876316, 172.314061  ]), 'cost': 0.020748147852654823})\n",
            "P1: struct({'position': array([191.54127877, 152.18230446, 173.74839778]), 'cost': 0.05222998558127238})\n",
            "P2: struct({'position': array([175.99748126, 165.53876316, 173.8185292 ]), 'cost': 0.056137387860861525})\n",
            "[180.23002113 154.09703559 173.76715082]\n"
          ]
        },
        {
          "name": "stderr",
          "output_type": "stream",
          "text": [
            "Average ComplEx Loss:   4.916281: 100%|██████████| 10/10 [04:10<00:00, 25.04s/epoch]"
          ]
        },
        {
          "name": "stdout",
          "output_type": "stream",
          "text": [
            "WARNING - DeprecationWarning: use_default_protocol will be removed in future. Please use corrupt_side argument instead.\n"
          ]
        },
        {
          "name": "stderr",
          "output_type": "stream",
          "text": [
            "\n",
            "100%|██████████| 30/30 [00:02<00:00, 12.54it/s]\n"
          ]
        },
        {
          "name": "stdout",
          "output_type": "stream",
          "text": [
            "MRR: 0.06\n",
            "MR: 4540.28\n",
            "Hits@10: 0.08\n",
            "Hits@3: 0.05\n",
            "Hits@1: 0.05\n",
            "[187.3087389  163.62403203 173.79977616]\n"
          ]
        },
        {
          "name": "stderr",
          "output_type": "stream",
          "text": [
            "Average ComplEx Loss:   4.957242: 100%|██████████| 10/10 [04:22<00:00, 26.22s/epoch]"
          ]
        },
        {
          "name": "stdout",
          "output_type": "stream",
          "text": [
            "WARNING - DeprecationWarning: use_default_protocol will be removed in future. Please use corrupt_side argument instead.\n"
          ]
        },
        {
          "name": "stderr",
          "output_type": "stream",
          "text": [
            "\n",
            "100%|██████████| 30/30 [00:02<00:00, 12.18it/s]\n"
          ]
        },
        {
          "name": "stdout",
          "output_type": "stream",
          "text": [
            "MRR: 0.02\n",
            "MR: 4706.10\n",
            "Hits@10: 0.07\n",
            "Hits@3: 0.03\n",
            "Hits@1: 0.00\n",
            "crossover c1: struct({'position': array([180.23002113, 154.09703559, 173.76715082]), 'cost': 0.05954754028971656})\n",
            "crossover c2: struct({'position': array([187.3087389 , 163.62403203, 173.79977616]), 'cost': 0.016829828593009334})\n",
            "[161.6104277  182.12134681 162.81340849]\n"
          ]
        },
        {
          "name": "stderr",
          "output_type": "stream",
          "text": [
            "Average ComplEx Loss:   5.069454: 100%|██████████| 10/10 [04:33<00:00, 27.38s/epoch]"
          ]
        },
        {
          "name": "stdout",
          "output_type": "stream",
          "text": [
            "WARNING - DeprecationWarning: use_default_protocol will be removed in future. Please use corrupt_side argument instead.\n"
          ]
        },
        {
          "name": "stderr",
          "output_type": "stream",
          "text": [
            "\n",
            "100%|██████████| 30/30 [00:02<00:00, 13.41it/s]\n"
          ]
        },
        {
          "name": "stdout",
          "output_type": "stream",
          "text": [
            "MRR: 0.02\n",
            "MR: 6202.23\n",
            "Hits@10: 0.05\n",
            "Hits@3: 0.02\n",
            "Hits@1: 0.02\n",
            "[180.72055185 154.25720557 172.0181327 ]\n"
          ]
        },
        {
          "name": "stderr",
          "output_type": "stream",
          "text": [
            "Average ComplEx Loss:   4.916255: 100%|██████████| 10/10 [03:58<00:00, 23.87s/epoch]"
          ]
        },
        {
          "name": "stdout",
          "output_type": "stream",
          "text": [
            "WARNING - DeprecationWarning: use_default_protocol will be removed in future. Please use corrupt_side argument instead.\n"
          ]
        },
        {
          "name": "stderr",
          "output_type": "stream",
          "text": [
            "\n",
            "100%|██████████| 30/30 [00:02<00:00, 11.05it/s]\n"
          ]
        },
        {
          "name": "stdout",
          "output_type": "stream",
          "text": [
            "MRR: 0.02\n",
            "MR: 4735.22\n",
            "Hits@10: 0.03\n",
            "Hits@3: 0.02\n",
            "Hits@1: 0.02\n",
            "mutate c3: struct({'position': array([161.6104277 , 182.12134681, 162.81340849]), 'cost': 0.023911740206173607})\n",
            "mutate c4: struct({'position': array([180.72055185, 154.25720557, 172.0181327 ]), 'cost': 0.022506343739149535})\n",
            "pop: [struct({'position': array([180.23002113, 154.09703559, 173.76715082]), 'cost': 0.05954754028971656}), struct({'position': array([173.74602291, 165.71258266, 173.77141899]), 'cost': 0.05620583084943569}), struct({'position': array([175.99748126, 165.53876316, 173.8185292 ]), 'cost': 0.056137387860861525})]\n",
            "Iteration 7: Best Cost = 0.05954754028971656\n",
            "P1: struct({'position': array([173.74602291, 165.71258266, 173.77141899]), 'cost': 0.05620583084943569})\n",
            "P2: struct({'position': array([173.74602291, 165.71258266, 173.77141899]), 'cost': 0.05620583084943569})\n",
            "Dynamic Programming\n",
            "Dynamic Programming\n",
            "crossover c1: struct({'position': array([173.74602291, 165.71258266, 173.77141899]), 'cost': 0.05620583084943569})\n",
            "crossover c2: struct({'position': array([173.74602291, 165.71258266, 173.77141899]), 'cost': 0.05620583084943569})\n",
            "[190.79456683 145.32865029 205.1137344 ]\n"
          ]
        },
        {
          "name": "stderr",
          "output_type": "stream",
          "text": [
            "Average ComplEx Loss:   4.836141: 100%|██████████| 10/10 [05:03<00:00, 30.35s/epoch]"
          ]
        },
        {
          "name": "stdout",
          "output_type": "stream",
          "text": [
            "WARNING - DeprecationWarning: use_default_protocol will be removed in future. Please use corrupt_side argument instead.\n"
          ]
        },
        {
          "name": "stderr",
          "output_type": "stream",
          "text": [
            "\n",
            "100%|██████████| 30/30 [00:02<00:00, 10.55it/s]\n"
          ]
        },
        {
          "name": "stdout",
          "output_type": "stream",
          "text": [
            "MRR: 0.03\n",
            "MR: 5360.05\n",
            "Hits@10: 0.03\n",
            "Hits@3: 0.03\n",
            "Hits@1: 0.02\n",
            "[181.39203133 165.71258266 172.23175043]\n"
          ]
        },
        {
          "name": "stderr",
          "output_type": "stream",
          "text": [
            "Average ComplEx Loss:   4.955972: 100%|██████████| 10/10 [04:25<00:00, 26.54s/epoch]"
          ]
        },
        {
          "name": "stdout",
          "output_type": "stream",
          "text": [
            "WARNING - DeprecationWarning: use_default_protocol will be removed in future. Please use corrupt_side argument instead.\n"
          ]
        },
        {
          "name": "stderr",
          "output_type": "stream",
          "text": [
            "\n",
            "100%|██████████| 30/30 [00:02<00:00, 12.13it/s]\n"
          ]
        },
        {
          "name": "stdout",
          "output_type": "stream",
          "text": [
            "MRR: 0.02\n",
            "MR: 4737.45\n",
            "Hits@10: 0.02\n",
            "Hits@3: 0.02\n",
            "Hits@1: 0.02\n",
            "mutate c3: struct({'position': array([190.79456683, 145.32865029, 205.1137344 ]), 'cost': 0.02753580636700741})\n",
            "mutate c4: struct({'position': array([181.39203133, 165.71258266, 172.23175043]), 'cost': 0.020162521273648044})\n",
            "P1: struct({'position': array([173.74602291, 165.71258266, 173.77141899]), 'cost': 0.05620583084943569})\n",
            "P2: struct({'position': array([180.23002113, 154.09703559, 173.76715082]), 'cost': 0.05954754028971656})\n",
            "[175.32618033 155.6849684  173.76825548]\n"
          ]
        },
        {
          "name": "stderr",
          "output_type": "stream",
          "text": [
            "Average ComplEx Loss:   4.893292: 100%|██████████| 10/10 [04:03<00:00, 24.34s/epoch]"
          ]
        },
        {
          "name": "stdout",
          "output_type": "stream",
          "text": [
            "WARNING - DeprecationWarning: use_default_protocol will be removed in future. Please use corrupt_side argument instead.\n"
          ]
        },
        {
          "name": "stderr",
          "output_type": "stream",
          "text": [
            "\n",
            "100%|██████████| 30/30 [00:02<00:00, 11.76it/s]\n"
          ]
        },
        {
          "name": "stdout",
          "output_type": "stream",
          "text": [
            "MRR: 0.05\n",
            "MR: 4301.90\n",
            "Hits@10: 0.08\n",
            "Hits@3: 0.05\n",
            "Hits@1: 0.03\n",
            "[178.64986371 164.12464985 173.77031433]\n"
          ]
        },
        {
          "name": "stderr",
          "output_type": "stream",
          "text": [
            "Average ComplEx Loss:   4.947732: 100%|██████████| 10/10 [04:19<00:00, 25.90s/epoch]"
          ]
        },
        {
          "name": "stdout",
          "output_type": "stream",
          "text": [
            "WARNING - DeprecationWarning: use_default_protocol will be removed in future. Please use corrupt_side argument instead.\n"
          ]
        },
        {
          "name": "stderr",
          "output_type": "stream",
          "text": [
            "\n",
            "100%|██████████| 30/30 [00:02<00:00, 11.58it/s]\n"
          ]
        },
        {
          "name": "stdout",
          "output_type": "stream",
          "text": [
            "MRR: 0.06\n",
            "MR: 4487.98\n",
            "Hits@10: 0.07\n",
            "Hits@3: 0.07\n",
            "Hits@1: 0.05\n",
            "crossover c1: struct({'position': array([175.32618033, 155.6849684 , 173.76825548]), 'cost': 0.048399022206956174})\n",
            "crossover c2: struct({'position': array([178.64986371, 164.12464985, 173.77031433]), 'cost': 0.06136344437072937})\n",
            "[199.13369647 148.43457012 172.71215986]\n"
          ]
        },
        {
          "name": "stderr",
          "output_type": "stream",
          "text": [
            "Average ComplEx Loss:   4.827632: 100%|██████████| 10/10 [04:03<00:00, 24.32s/epoch]"
          ]
        },
        {
          "name": "stdout",
          "output_type": "stream",
          "text": [
            "WARNING - DeprecationWarning: use_default_protocol will be removed in future. Please use corrupt_side argument instead.\n"
          ]
        },
        {
          "name": "stderr",
          "output_type": "stream",
          "text": [
            "\n",
            "100%|██████████| 30/30 [00:02<00:00, 12.31it/s]\n"
          ]
        },
        {
          "name": "stdout",
          "output_type": "stream",
          "text": [
            "MRR: 0.02\n",
            "MR: 4556.78\n",
            "Hits@10: 0.05\n",
            "Hits@3: 0.02\n",
            "Hits@1: 0.02\n",
            "[180.62405832 149.419723   171.16080776]\n"
          ]
        },
        {
          "name": "stderr",
          "output_type": "stream",
          "text": [
            "Average ComplEx Loss:   4.883859: 100%|██████████| 10/10 [03:53<00:00, 23.36s/epoch]"
          ]
        },
        {
          "name": "stdout",
          "output_type": "stream",
          "text": [
            "WARNING - DeprecationWarning: use_default_protocol will be removed in future. Please use corrupt_side argument instead.\n"
          ]
        },
        {
          "name": "stderr",
          "output_type": "stream",
          "text": [
            "\n",
            "100%|██████████| 30/30 [00:02<00:00, 12.41it/s]\n"
          ]
        },
        {
          "name": "stdout",
          "output_type": "stream",
          "text": [
            "MRR: 0.02\n",
            "MR: 5378.72\n",
            "Hits@10: 0.05\n",
            "Hits@3: 0.02\n",
            "Hits@1: 0.02\n",
            "mutate c3: struct({'position': array([199.13369647, 148.43457012, 172.71215986]), 'cost': 0.0230757138295301})\n",
            "mutate c4: struct({'position': array([180.62405832, 149.419723  , 171.16080776]), 'cost': 0.022454787551823077})\n",
            "pop: [struct({'position': array([178.64986371, 164.12464985, 173.77031433]), 'cost': 0.06136344437072937}), struct({'position': array([180.23002113, 154.09703559, 173.76715082]), 'cost': 0.05954754028971656}), struct({'position': array([173.74602291, 165.71258266, 173.77141899]), 'cost': 0.05620583084943569})]\n",
            "Iteration 8: Best Cost = 0.06136344437072937\n",
            "P1: struct({'position': array([178.64986371, 164.12464985, 173.77031433]), 'cost': 0.06136344437072937})\n",
            "P2: struct({'position': array([173.74602291, 165.71258266, 173.77141899]), 'cost': 0.05620583084943569})\n",
            "[175.23640146 164.33681174 173.77122489]\n"
          ]
        },
        {
          "name": "stderr",
          "output_type": "stream",
          "text": [
            "Average ComplEx Loss:   4.948378: 100%|██████████| 10/10 [04:17<00:00, 25.73s/epoch]"
          ]
        },
        {
          "name": "stdout",
          "output_type": "stream",
          "text": [
            "WARNING - DeprecationWarning: use_default_protocol will be removed in future. Please use corrupt_side argument instead.\n"
          ]
        },
        {
          "name": "stderr",
          "output_type": "stream",
          "text": [
            "\n",
            "100%|██████████| 30/30 [00:02<00:00, 12.03it/s]\n"
          ]
        },
        {
          "name": "stdout",
          "output_type": "stream",
          "text": [
            "MRR: 0.03\n",
            "MR: 4358.20\n",
            "Hits@10: 0.08\n",
            "Hits@3: 0.05\n",
            "Hits@1: 0.00\n",
            "[177.15948517 165.50042078 173.77050844]\n"
          ]
        },
        {
          "name": "stderr",
          "output_type": "stream",
          "text": [
            "Average ComplEx Loss:   4.982384: 100%|██████████| 10/10 [04:20<00:00, 26.01s/epoch]"
          ]
        },
        {
          "name": "stdout",
          "output_type": "stream",
          "text": [
            "WARNING - DeprecationWarning: use_default_protocol will be removed in future. Please use corrupt_side argument instead.\n"
          ]
        },
        {
          "name": "stderr",
          "output_type": "stream",
          "text": [
            "\n",
            "100%|██████████| 30/30 [00:02<00:00, 11.91it/s]\n"
          ]
        },
        {
          "name": "stdout",
          "output_type": "stream",
          "text": [
            "MRR: 0.04\n",
            "MR: 4705.67\n",
            "Hits@10: 0.07\n",
            "Hits@3: 0.05\n",
            "Hits@1: 0.02\n",
            "crossover c1: struct({'position': array([175.23640146, 164.33681174, 173.77122489]), 'cost': 0.028012353385414784})\n",
            "crossover c2: struct({'position': array([177.15948517, 165.50042078, 173.77050844]), 'cost': 0.03683712806236697})\n",
            "[158.8462208  129.38742429 195.48681362]\n"
          ]
        },
        {
          "name": "stderr",
          "output_type": "stream",
          "text": [
            "Average ComplEx Loss:   4.737536: 100%|██████████| 10/10 [04:11<00:00, 25.14s/epoch]"
          ]
        },
        {
          "name": "stdout",
          "output_type": "stream",
          "text": [
            "WARNING - DeprecationWarning: use_default_protocol will be removed in future. Please use corrupt_side argument instead.\n"
          ]
        },
        {
          "name": "stderr",
          "output_type": "stream",
          "text": [
            "\n",
            "100%|██████████| 30/30 [00:02<00:00, 11.26it/s]\n"
          ]
        },
        {
          "name": "stdout",
          "output_type": "stream",
          "text": [
            "MRR: 0.01\n",
            "MR: 4030.98\n",
            "Hits@10: 0.03\n",
            "Hits@3: 0.02\n",
            "Hits@1: 0.00\n",
            "[193.90538493 164.60692506 178.89853695]\n"
          ]
        },
        {
          "name": "stderr",
          "output_type": "stream",
          "text": [
            "Average ComplEx Loss:   4.985133: 100%|██████████| 10/10 [04:31<00:00, 27.10s/epoch]"
          ]
        },
        {
          "name": "stdout",
          "output_type": "stream",
          "text": [
            "WARNING - DeprecationWarning: use_default_protocol will be removed in future. Please use corrupt_side argument instead.\n"
          ]
        },
        {
          "name": "stderr",
          "output_type": "stream",
          "text": [
            "\n",
            "100%|██████████| 30/30 [00:02<00:00, 11.97it/s]\n"
          ]
        },
        {
          "name": "stdout",
          "output_type": "stream",
          "text": [
            "MRR: 0.00\n",
            "MR: 5172.72\n",
            "Hits@10: 0.00\n",
            "Hits@3: 0.00\n",
            "Hits@1: 0.00\n",
            "mutate c3: struct({'position': array([158.8462208 , 129.38742429, 195.48681362]), 'cost': 0.013484088632374389})\n",
            "mutate c4: struct({'position': array([193.90538493, 164.60692506, 178.89853695]), 'cost': 0.0031679077040606537})\n",
            "P1: struct({'position': array([178.64986371, 164.12464985, 173.77031433]), 'cost': 0.06136344437072937})\n",
            "P2: struct({'position': array([180.23002113, 154.09703559, 173.76715082]), 'cost': 0.05954754028971656})\n",
            "[179.79143464 156.05339531 173.77020202]\n"
          ]
        },
        {
          "name": "stderr",
          "output_type": "stream",
          "text": [
            "Average ComplEx Loss:   4.957117: 100%|██████████| 10/10 [04:16<00:00, 25.69s/epoch]"
          ]
        },
        {
          "name": "stdout",
          "output_type": "stream",
          "text": [
            "WARNING - DeprecationWarning: use_default_protocol will be removed in future. Please use corrupt_side argument instead.\n"
          ]
        },
        {
          "name": "stderr",
          "output_type": "stream",
          "text": [
            "\n",
            "100%|██████████| 30/30 [00:02<00:00, 12.40it/s]\n"
          ]
        },
        {
          "name": "stdout",
          "output_type": "stream",
          "text": [
            "MRR: 0.03\n",
            "MR: 4589.95\n",
            "Hits@10: 0.05\n",
            "Hits@3: 0.05\n",
            "Hits@1: 0.02\n",
            "[179.0884502  162.16829013 173.76726313]\n"
          ]
        },
        {
          "name": "stderr",
          "output_type": "stream",
          "text": [
            "Average ComplEx Loss:   4.994393: 100%|██████████| 10/10 [04:18<00:00, 25.88s/epoch]"
          ]
        },
        {
          "name": "stdout",
          "output_type": "stream",
          "text": [
            "WARNING - DeprecationWarning: use_default_protocol will be removed in future. Please use corrupt_side argument instead.\n"
          ]
        },
        {
          "name": "stderr",
          "output_type": "stream",
          "text": [
            "\n",
            "100%|██████████| 30/30 [00:02<00:00, 12.44it/s]\n"
          ]
        },
        {
          "name": "stdout",
          "output_type": "stream",
          "text": [
            "MRR: 0.02\n",
            "MR: 4577.93\n",
            "Hits@10: 0.07\n",
            "Hits@3: 0.03\n",
            "Hits@1: 0.00\n",
            "crossover c1: struct({'position': array([179.79143464, 156.05339531, 173.77020202]), 'cost': 0.03248166986225792})\n",
            "crossover c2: struct({'position': array([179.0884502 , 162.16829013, 173.76726313]), 'cost': 0.022349092870283634})\n",
            "[166.05866645 169.21638111 181.5864409 ]\n"
          ]
        },
        {
          "name": "stderr",
          "output_type": "stream",
          "text": [
            "Average ComplEx Loss:   4.993770: 100%|██████████| 10/10 [04:52<00:00, 29.25s/epoch]"
          ]
        },
        {
          "name": "stdout",
          "output_type": "stream",
          "text": [
            "WARNING - DeprecationWarning: use_default_protocol will be removed in future. Please use corrupt_side argument instead.\n"
          ]
        },
        {
          "name": "stderr",
          "output_type": "stream",
          "text": [
            "\n",
            "100%|██████████| 30/30 [00:02<00:00, 11.59it/s]\n"
          ]
        },
        {
          "name": "stdout",
          "output_type": "stream",
          "text": [
            "MRR: 0.03\n",
            "MR: 4322.20\n",
            "Hits@10: 0.10\n",
            "Hits@3: 0.05\n",
            "Hits@1: 0.00\n",
            "[179.86642204 153.5023758  162.93076227]\n"
          ]
        },
        {
          "name": "stderr",
          "output_type": "stream",
          "text": [
            "Average ComplEx Loss:   4.943073: 100%|██████████| 10/10 [03:45<00:00, 22.57s/epoch]"
          ]
        },
        {
          "name": "stdout",
          "output_type": "stream",
          "text": [
            "WARNING - DeprecationWarning: use_default_protocol will be removed in future. Please use corrupt_side argument instead.\n"
          ]
        },
        {
          "name": "stderr",
          "output_type": "stream",
          "text": [
            "\n",
            "100%|██████████| 30/30 [00:02<00:00, 13.39it/s]\n"
          ]
        },
        {
          "name": "stdout",
          "output_type": "stream",
          "text": [
            "MRR: 0.02\n",
            "MR: 6158.02\n",
            "Hits@10: 0.03\n",
            "Hits@3: 0.03\n",
            "Hits@1: 0.02\n",
            "mutate c3: struct({'position': array([166.05866645, 169.21638111, 181.5864409 ]), 'cost': 0.025773611594494227})\n",
            "mutate c4: struct({'position': array([179.86642204, 153.5023758 , 162.93076227]), 'cost': 0.023796547114202385})\n",
            "pop: [struct({'position': array([178.64986371, 164.12464985, 173.77031433]), 'cost': 0.06136344437072937}), struct({'position': array([180.23002113, 154.09703559, 173.76715082]), 'cost': 0.05954754028971656}), struct({'position': array([173.74602291, 165.71258266, 173.77141899]), 'cost': 0.05620583084943569})]\n",
            "Iteration 9: Best Cost = 0.06136344437072937\n",
            "[struct({'position': array([178.64986371, 164.12464985, 173.77031433]), 'cost': 0.06136344437072937}), struct({'position': array([180.23002113, 154.09703559, 173.76715082]), 'cost': 0.05954754028971656}), struct({'position': array([173.74602291, 165.71258266, 173.77141899]), 'cost': 0.05620583084943569})]\n",
            "struct({'position': array([178.64986371, 164.12464985, 173.77031433]), 'cost': 0.06136344437072937})\n",
            "[0.04671531 0.04671531 0.04872378 0.04923808 0.05613739 0.05620583\n",
            " 0.05620583 0.05954754 0.06136344 0.06136344]\n"
          ]
        }
      ],
      "source": [
        "# Problem Information\n",
        "# costFunction = problem.costFunction\n",
        "popc = []\n",
        "nvar = problem.nvar\n",
        "varmin = problem.varmin\n",
        "varmax = problem.varmax\n",
        "\n",
        "# Parameters\n",
        "maxit = params.maxit\n",
        "npop = params.npop\n",
        "beta = params.beta\n",
        "pc = params.pc\n",
        "nc = int(np.round(pc*npop/2)*2)\n",
        "gamma = params.gamma\n",
        "mu = params.mu\n",
        "sigma = params.sigma\n",
        "\n",
        "# Empty Individual Template\n",
        "empty_individual = structure()\n",
        "empty_individual.position = None\n",
        "empty_individual.cost = None\n",
        "\n",
        "# Best Solution Ever Found\n",
        "bestsol = empty_individual.deepcopy()\n",
        "bestsol.cost = 0\n",
        "\n",
        "pop = empty_individual.repeat(npop)\n",
        "bestSolution = empty_individual.repeat(maxit)\n",
        "\n",
        "# Initialize Population\n",
        "for i in range(npop):\n",
        "    pop[i].position = np.random.uniform(varmin, varmax, nvar) \n",
        "    print(pop[i].position)\n",
        "for i in range(npop):\n",
        "    print(pop[i].position)\n",
        "    pop[i].cost = costFunction(pop[i].position, X_train, X_valid)\n",
        "    print(pop[i].cost)\n",
        "    if pop[i].cost > bestsol.cost:\n",
        "        bestsol = pop[i].deepcopy()\n",
        "    popc.append(pop[i])\n",
        "\n",
        "# Best Cost of Iterations\n",
        "bestposition = np.empty(maxit)\n",
        "bestcost = np.empty(maxit)\n",
        "\n",
        "# Main Loop\n",
        "for it in range(maxit):\n",
        "    costs = np.array([x.cost for x in pop])\n",
        "    avg_cost = np.mean(costs)\n",
        "    if avg_cost != 0:\n",
        "        costs = costs/avg_cost\n",
        "    probs = np.exp(-beta*costs)\n",
        "\n",
        "    for _ in range(nc//2):\n",
        "\n",
        "        # Select Parents\n",
        "        #q = np.random.permutation(npop)\n",
        "        #p1 = pop[q[0]]\n",
        "        #p2 = pop[q[1]]\n",
        "\n",
        "        # Perform Roulette Wheel Selection\n",
        "        p1 = pop[roulette_wheel_selection(probs)]\n",
        "        p2 = pop[roulette_wheel_selection(probs)]\n",
        "        print('P1:', p1)\n",
        "        print('P2:',p2)\n",
        "  \n",
        "        # Perform Crossover\n",
        "        # c1, c2 = crossover(p1, p2, gamma)\n",
        "        gamma = 0.01\n",
        "        c1 = p1.deepcopy()\n",
        "        c2 = p2.deepcopy()\n",
        "        alpha = np.random.uniform(-gamma, 1+gamma, *c1.position.shape)\n",
        "        c1.position = alpha*p1.position + (1-alpha)*p2.position\n",
        "        c2.position = alpha*p2.position + (1-alpha)*p1.position\n",
        "        apply_bound(c1, varmin, varmax)\n",
        "        apply_bound(c2, varmin, varmax)\n",
        "\n",
        "        # Evaluate First Offspring\n",
        "        flag = False\n",
        "        for element in popc:\n",
        "          if (np.array_equal(element.position , c1.position)):\n",
        "            print(\"Dynamic Programming\")\n",
        "            c1.cost = element.cost\n",
        "            flag = True\n",
        "            break;\n",
        "        if (flag == False):\n",
        "          print(c1.position) \n",
        "          c1.cost = costFunction(c1.position, X_train, X_valid)\n",
        "          if c1.cost > bestsol.cost:\n",
        "            bestsol = c1.deepcopy()\n",
        "\n",
        "        # Evaluate Second Offspring\n",
        "        flag = False\n",
        "        for element in popc:\n",
        "          if (np.array_equal(element.position , c2.position)):\n",
        "            print(\"Dynamic Programming\")\n",
        "            c2.cost = element.cost\n",
        "            flag = True\n",
        "            break;\n",
        "        if (flag == False):\n",
        "          print(c2.position) \n",
        "          c2.cost = costFunction(c2.position, X_train, X_valid)\n",
        "          if c2.cost > bestsol.cost:\n",
        "            bestsol = c2.deepcopy()\n",
        "\n",
        "        print('crossover c1:',c1)\n",
        "        print('crossover c2:',c2) \n",
        "\n",
        "        # Perform Mutation\n",
        "        c3 = c1.deepcopy()\n",
        "        flag = np.random.rand(*c1.position.shape) <= mu\n",
        "        ind = np.argwhere(flag)\n",
        "        c3.position[ind] += sigma*np.random.randn(*ind.shape)\n",
        "        #c1 = mutate(c1, mu, sigma)\n",
        "        c4 = c2.deepcopy()\n",
        "        flag = np.random.rand(*c2.position.shape) <= mu\n",
        "        ind = np.argwhere(flag)\n",
        "        c4.position[ind] += sigma*np.random.randn(*ind.shape)\n",
        "        #c2 = mutate(c2, mu, sigma)\n",
        "              \n",
        "        # Apply Bounds\n",
        "        apply_bound(c3, varmin, varmax)\n",
        "        apply_bound(c4, varmin, varmax)\n",
        "\n",
        "        # Evaluate Thirty Offspring\n",
        "        flag = False\n",
        "        for element in popc:\n",
        "          if (np.array_equal(element.position , c3.position)):\n",
        "            print(\"Dynamic Programming\")\n",
        "            c3.cost = element.cost\n",
        "            flag = True\n",
        "            break;\n",
        "        if (flag == False):\n",
        "          print(c3.position) \n",
        "          c3.cost = costFunction(c3.position, X_train, X_valid)\n",
        "          if c3.cost > bestsol.cost:\n",
        "            bestsol = c3.deepcopy()\n",
        "\n",
        "        # Evaluate Fortith Offspring\n",
        "        flag = False\n",
        "        for element in popc:\n",
        "          if (np.array_equal(element.position , c4.position)):\n",
        "            print(\"Dynamic Programming\")\n",
        "            c4.cost = element.cost\n",
        "            flag = True\n",
        "            break;\n",
        "        if (flag == False):\n",
        "          print(c4.position) \n",
        "          c4.cost = costFunction(c4.position, X_train, X_valid)\n",
        "          if c4.cost > bestsol.cost:\n",
        "            bestsol = c4.deepcopy()\n",
        "\n",
        "        print('mutate c3:',c3)\n",
        "        print('mutate c4:',c4) \n",
        "        # Add Offsprings to popc\n",
        "\n",
        "        popc.append(c1)\n",
        "        popc.append(c2)\n",
        "        popc.append(c3)\n",
        "        popc.append(c4)\n",
        "        \n",
        "        # Check pop list for insert c1,c2,c3,c4\n",
        "        flag = False\n",
        "        for element in pop:\n",
        "          flag = np.array_equal(element.position, c1.position)\n",
        "          if flag == True:\n",
        "            break\n",
        "        if flag == False:\n",
        "          pop.append(c1)\n",
        "        \n",
        "        flag = False\n",
        "        for element in pop:\n",
        "          flag = np.array_equal(element.position, c2.position)\n",
        "          if flag == True:\n",
        "            break\n",
        "        if flag == False:\n",
        "          pop.append(c2)\n",
        "\n",
        "        flag = False\n",
        "        for element in pop:\n",
        "          flag = np.array_equal(element.position, c3.position)\n",
        "          if flag == True:\n",
        "            break\n",
        "        if flag == False:\n",
        "          pop.append(c3)\n",
        "\n",
        "        flag = False\n",
        "        for element in pop:\n",
        "          flag = np.array_equal(element.position, c4.position)\n",
        "          if flag == True:\n",
        "            break\n",
        "        if flag == False:\n",
        "          pop.append(c4)\n",
        "\n",
        "\n",
        "    # Merge, Sort and Select\n",
        "    # pop += popc\n",
        "    pop = sorted(pop, key=lambda x: x.cost, reverse=True)\n",
        "    pop = pop[0:npop]\n",
        "    print('pop:' , pop)\n",
        "    \n",
        "    # Store Best Cost\n",
        "    bestcost[it] = bestsol.cost\n",
        "\n",
        "    bestSolution[it].cost = bestsol.cost\n",
        "    bestSolution[it].position = bestsol.position\n",
        "                               \n",
        "    # Show Iteration Information\n",
        "    print(\"Iteration {}: Best Cost = {}\".format(it, bestcost[it]))\n",
        "\n",
        "\n",
        "# Output\n",
        "out = structure()\n",
        "out.pop = pop\n",
        "out.bestsol = bestsol\n",
        "out.bestcost = bestcost\n",
        "print(out.pop)\n",
        "print(out.bestsol)\n",
        "print(out.bestcost)"
      ]
    },
    {
      "cell_type": "code",
      "execution_count": null,
      "metadata": {
        "colab": {
          "background_save": true
        },
        "id": "iSp9VQLIjcaE",
        "outputId": "f8664c57-9862-47d7-bf20-cf9af973c273"
      },
      "outputs": [
        {
          "data": {
            "text/html": [
              "\n",
              "  <div id=\"df-6697f0ec-9c51-43ce-8aa0-e0f9e283b8c9\">\n",
              "    <div class=\"colab-df-container\">\n",
              "      <div>\n",
              "<style scoped>\n",
              "    .dataframe tbody tr th:only-of-type {\n",
              "        vertical-align: middle;\n",
              "    }\n",
              "\n",
              "    .dataframe tbody tr th {\n",
              "        vertical-align: top;\n",
              "    }\n",
              "\n",
              "    .dataframe thead th {\n",
              "        text-align: right;\n",
              "    }\n",
              "</style>\n",
              "<table border=\"1\" class=\"dataframe\">\n",
              "  <thead>\n",
              "    <tr style=\"text-align: right;\">\n",
              "      <th></th>\n",
              "      <th>position</th>\n",
              "      <th>cost</th>\n",
              "    </tr>\n",
              "  </thead>\n",
              "  <tbody>\n",
              "    <tr>\n",
              "      <th>0</th>\n",
              "      <td>[159.250657249938, 165.14154172661915, 173.704...</td>\n",
              "      <td>0.046715</td>\n",
              "    </tr>\n",
              "    <tr>\n",
              "      <th>1</th>\n",
              "      <td>[159.250657249938, 165.14154172661915, 173.704...</td>\n",
              "      <td>0.046715</td>\n",
              "    </tr>\n",
              "    <tr>\n",
              "      <th>2</th>\n",
              "      <td>[179.27401821522236, 165.68596424944988, 173.9...</td>\n",
              "      <td>0.048724</td>\n",
              "    </tr>\n",
              "    <tr>\n",
              "      <th>3</th>\n",
              "      <td>[172.17972050285422, 173.58928162665177, 173.9...</td>\n",
              "      <td>0.049238</td>\n",
              "    </tr>\n",
              "    <tr>\n",
              "      <th>4</th>\n",
              "      <td>[175.99748125993602, 165.53876315782668, 173.8...</td>\n",
              "      <td>0.056137</td>\n",
              "    </tr>\n",
              "    <tr>\n",
              "      <th>5</th>\n",
              "      <td>[173.74602291433166, 165.7125826648479, 173.77...</td>\n",
              "      <td>0.056206</td>\n",
              "    </tr>\n",
              "    <tr>\n",
              "      <th>6</th>\n",
              "      <td>[173.74602291433166, 165.7125826648479, 173.77...</td>\n",
              "      <td>0.056206</td>\n",
              "    </tr>\n",
              "    <tr>\n",
              "      <th>7</th>\n",
              "      <td>[180.23002112894343, 154.09703558929561, 173.7...</td>\n",
              "      <td>0.059548</td>\n",
              "    </tr>\n",
              "    <tr>\n",
              "      <th>8</th>\n",
              "      <td>[178.64986371195863, 164.12464985243906, 173.7...</td>\n",
              "      <td>0.061363</td>\n",
              "    </tr>\n",
              "    <tr>\n",
              "      <th>9</th>\n",
              "      <td>[178.64986371195863, 164.12464985243906, 173.7...</td>\n",
              "      <td>0.061363</td>\n",
              "    </tr>\n",
              "  </tbody>\n",
              "</table>\n",
              "</div>\n",
              "      <button class=\"colab-df-convert\" onclick=\"convertToInteractive('df-6697f0ec-9c51-43ce-8aa0-e0f9e283b8c9')\"\n",
              "              title=\"Convert this dataframe to an interactive table.\"\n",
              "              style=\"display:none;\">\n",
              "        \n",
              "  <svg xmlns=\"http://www.w3.org/2000/svg\" height=\"24px\"viewBox=\"0 0 24 24\"\n",
              "       width=\"24px\">\n",
              "    <path d=\"M0 0h24v24H0V0z\" fill=\"none\"/>\n",
              "    <path d=\"M18.56 5.44l.94 2.06.94-2.06 2.06-.94-2.06-.94-.94-2.06-.94 2.06-2.06.94zm-11 1L8.5 8.5l.94-2.06 2.06-.94-2.06-.94L8.5 2.5l-.94 2.06-2.06.94zm10 10l.94 2.06.94-2.06 2.06-.94-2.06-.94-.94-2.06-.94 2.06-2.06.94z\"/><path d=\"M17.41 7.96l-1.37-1.37c-.4-.4-.92-.59-1.43-.59-.52 0-1.04.2-1.43.59L10.3 9.45l-7.72 7.72c-.78.78-.78 2.05 0 2.83L4 21.41c.39.39.9.59 1.41.59.51 0 1.02-.2 1.41-.59l7.78-7.78 2.81-2.81c.8-.78.8-2.07 0-2.86zM5.41 20L4 18.59l7.72-7.72 1.47 1.35L5.41 20z\"/>\n",
              "  </svg>\n",
              "      </button>\n",
              "      \n",
              "  <style>\n",
              "    .colab-df-container {\n",
              "      display:flex;\n",
              "      flex-wrap:wrap;\n",
              "      gap: 12px;\n",
              "    }\n",
              "\n",
              "    .colab-df-convert {\n",
              "      background-color: #E8F0FE;\n",
              "      border: none;\n",
              "      border-radius: 50%;\n",
              "      cursor: pointer;\n",
              "      display: none;\n",
              "      fill: #1967D2;\n",
              "      height: 32px;\n",
              "      padding: 0 0 0 0;\n",
              "      width: 32px;\n",
              "    }\n",
              "\n",
              "    .colab-df-convert:hover {\n",
              "      background-color: #E2EBFA;\n",
              "      box-shadow: 0px 1px 2px rgba(60, 64, 67, 0.3), 0px 1px 3px 1px rgba(60, 64, 67, 0.15);\n",
              "      fill: #174EA6;\n",
              "    }\n",
              "\n",
              "    [theme=dark] .colab-df-convert {\n",
              "      background-color: #3B4455;\n",
              "      fill: #D2E3FC;\n",
              "    }\n",
              "\n",
              "    [theme=dark] .colab-df-convert:hover {\n",
              "      background-color: #434B5C;\n",
              "      box-shadow: 0px 1px 3px 1px rgba(0, 0, 0, 0.15);\n",
              "      filter: drop-shadow(0px 1px 2px rgba(0, 0, 0, 0.3));\n",
              "      fill: #FFFFFF;\n",
              "    }\n",
              "  </style>\n",
              "\n",
              "      <script>\n",
              "        const buttonEl =\n",
              "          document.querySelector('#df-6697f0ec-9c51-43ce-8aa0-e0f9e283b8c9 button.colab-df-convert');\n",
              "        buttonEl.style.display =\n",
              "          google.colab.kernel.accessAllowed ? 'block' : 'none';\n",
              "\n",
              "        async function convertToInteractive(key) {\n",
              "          const element = document.querySelector('#df-6697f0ec-9c51-43ce-8aa0-e0f9e283b8c9');\n",
              "          const dataTable =\n",
              "            await google.colab.kernel.invokeFunction('convertToInteractive',\n",
              "                                                     [key], {});\n",
              "          if (!dataTable) return;\n",
              "\n",
              "          const docLinkHtml = 'Like what you see? Visit the ' +\n",
              "            '<a target=\"_blank\" href=https://colab.research.google.com/notebooks/data_table.ipynb>data table notebook</a>'\n",
              "            + ' to learn more about interactive tables.';\n",
              "          element.innerHTML = '';\n",
              "          dataTable['output_type'] = 'display_data';\n",
              "          await google.colab.output.renderOutput(dataTable, element);\n",
              "          const docLink = document.createElement('div');\n",
              "          docLink.innerHTML = docLinkHtml;\n",
              "          element.appendChild(docLink);\n",
              "        }\n",
              "      </script>\n",
              "    </div>\n",
              "  </div>\n",
              "  "
            ],
            "text/plain": [
              "                                            position      cost\n",
              "0  [159.250657249938, 165.14154172661915, 173.704...  0.046715\n",
              "1  [159.250657249938, 165.14154172661915, 173.704...  0.046715\n",
              "2  [179.27401821522236, 165.68596424944988, 173.9...  0.048724\n",
              "3  [172.17972050285422, 173.58928162665177, 173.9...  0.049238\n",
              "4  [175.99748125993602, 165.53876315782668, 173.8...  0.056137\n",
              "5  [173.74602291433166, 165.7125826648479, 173.77...  0.056206\n",
              "6  [173.74602291433166, 165.7125826648479, 173.77...  0.056206\n",
              "7  [180.23002112894343, 154.09703558929561, 173.7...  0.059548\n",
              "8  [178.64986371195863, 164.12464985243906, 173.7...  0.061363\n",
              "9  [178.64986371195863, 164.12464985243906, 173.7...  0.061363"
            ]
          },
          "execution_count": null,
          "metadata": {},
          "output_type": "execute_result"
        }
      ],
      "source": [
        "df = pd.DataFrame({\"position\": [bestSolution[0].position] , \"cost\": [bestSolution[0].cost]})\n",
        "for i in range(params.maxit):\n",
        "    if(i==0):\n",
        "        continue;\n",
        "    df.loc[len(df.index)] = [bestSolution[i].position , bestSolution[i].cost] \n",
        "df.to_excel('result.xlsx')\n",
        "df"
      ]
    },
    {
      "cell_type": "code",
      "execution_count": null,
      "metadata": {
        "colab": {
          "background_save": true
        },
        "id": "CS2nekVwN5fh",
        "outputId": "36f1cb20-0a3b-4e5f-e7a0-820d072663e2"
      },
      "outputs": [
        {
          "name": "stdout",
          "output_type": "stream",
          "text": [
            "struct({'position': array([154.12295069,  57.65641769, 277.67867892]), 'cost': 0})\n",
            "struct({'position': array([ 39.17237414,  41.5234883 , 245.87143436]), 'cost': 1})\n",
            "struct({'position': array([168.14678061, 163.63311539, 205.46627005]), 'cost': 2})\n",
            "0\n",
            "1\n",
            "2\n",
            "False\n"
          ]
        }
      ],
      "source": [
        "popc = []\n",
        "npop = 3\n",
        "varmin = 30\n",
        "varmax = 300\n",
        "nvar = 3\n",
        "\n",
        "\n",
        "# Empty Individual Template\n",
        "empty_individual = structure()\n",
        "empty_individual.position = None\n",
        "empty_individual.cost = None\n",
        "\n",
        "# Best Solution Ever Found\n",
        "bestsol = empty_individual.deepcopy()\n",
        "bestsol.cost = 0\n",
        "\n",
        "pop = empty_individual.repeat(npop)\n",
        "\n",
        "# Initialize Population\n",
        "for i in range(npop):\n",
        "    pop[i].position = np.random.uniform(varmin, varmax, nvar) \n",
        "    pop[i].cost = i\n",
        "    print(pop[i])\n",
        "\n",
        "flag = False\n",
        "for element in pop:\n",
        "  print(element.cost)\n",
        "  if (np.array_equal(pop[1].position , pop[2].position)):\n",
        "    pop[1].cost = element[2].cost\n",
        "    flag = True\n",
        "    break;\n",
        "if (flag == False):\n",
        "  print(flag)\n"
      ]
    }
  ],
  "metadata": {
    "colab": {
      "collapsed_sections": [],
      "name": "CheckGAFineTune.ipynb",
      "provenance": [],
      "authorship_tag": "ABX9TyPgOXqfqpZv71cwQqLu7Yw1",
      "include_colab_link": true
    },
    "kernelspec": {
      "display_name": "Python 3",
      "name": "python3"
    },
    "language_info": {
      "name": "python"
    }
  },
  "nbformat": 4,
  "nbformat_minor": 0
}