{
  "cells": [
    {
      "cell_type": "markdown",
      "metadata": {
        "id": "view-in-github",
        "colab_type": "text"
      },
      "source": [
        "<a href=\"https://colab.research.google.com/github/mohammadRahimi1993/BigData/blob/main/CheckGAFineTune.ipynb\" target=\"_parent\"><img src=\"https://colab.research.google.com/assets/colab-badge.svg\" alt=\"Open In Colab\"/></a>"
      ]
    },
    {
      "cell_type": "code",
      "execution_count": null,
      "metadata": {
        "id": "CxUy4Y0XMT2k"
      },
      "outputs": [],
      "source": [
        "%%capture \n",
        "!pip install ampligraph; "
      ]
    },
    {
      "cell_type": "code",
      "source": [
        "%tensorflow_version 1.x\n",
        "!pip install tensorflow==1.15.2;  \n",
        "!pip install ypstruct;"
      ],
      "metadata": {
        "id": "Z4MjzrrdHx2O",
        "colab": {
          "base_uri": "https://localhost:8080/"
        },
        "outputId": "7552375d-a71e-4a69-81a2-7c0a167f43ba"
      },
      "execution_count": null,
      "outputs": [
        {
          "output_type": "stream",
          "name": "stdout",
          "text": [
            "TensorFlow 1.x selected.\n",
            "Looking in indexes: https://pypi.org/simple, https://us-python.pkg.dev/colab-wheels/public/simple/\n",
            "Requirement already satisfied: tensorflow==1.15.2 in /tensorflow-1.15.2/python3.7 (1.15.2)\n",
            "Requirement already satisfied: google-pasta>=0.1.6 in /usr/local/lib/python3.7/dist-packages (from tensorflow==1.15.2) (0.2.0)\n",
            "Collecting gast==0.2.2\n",
            "  Downloading gast-0.2.2.tar.gz (10 kB)\n",
            "Requirement already satisfied: keras-preprocessing>=1.0.5 in /usr/local/lib/python3.7/dist-packages (from tensorflow==1.15.2) (1.1.2)\n",
            "Requirement already satisfied: tensorboard<1.16.0,>=1.15.0 in /tensorflow-1.15.2/python3.7 (from tensorflow==1.15.2) (1.15.0)\n",
            "Requirement already satisfied: termcolor>=1.1.0 in /usr/local/lib/python3.7/dist-packages (from tensorflow==1.15.2) (1.1.0)\n",
            "Requirement already satisfied: grpcio>=1.8.6 in /usr/local/lib/python3.7/dist-packages (from tensorflow==1.15.2) (1.46.3)\n",
            "Requirement already satisfied: tensorflow-estimator==1.15.1 in /tensorflow-1.15.2/python3.7 (from tensorflow==1.15.2) (1.15.1)\n",
            "Requirement already satisfied: astor>=0.6.0 in /usr/local/lib/python3.7/dist-packages (from tensorflow==1.15.2) (0.8.1)\n",
            "Requirement already satisfied: wheel>=0.26 in /usr/local/lib/python3.7/dist-packages (from tensorflow==1.15.2) (0.37.1)\n",
            "Requirement already satisfied: protobuf>=3.6.1 in /usr/local/lib/python3.7/dist-packages (from tensorflow==1.15.2) (3.17.3)\n",
            "Requirement already satisfied: absl-py>=0.7.0 in /usr/local/lib/python3.7/dist-packages (from tensorflow==1.15.2) (1.1.0)\n",
            "Requirement already satisfied: six>=1.10.0 in /usr/local/lib/python3.7/dist-packages (from tensorflow==1.15.2) (1.15.0)\n",
            "Requirement already satisfied: opt-einsum>=2.3.2 in /usr/local/lib/python3.7/dist-packages (from tensorflow==1.15.2) (3.3.0)\n",
            "Requirement already satisfied: wrapt>=1.11.1 in /usr/local/lib/python3.7/dist-packages (from tensorflow==1.15.2) (1.14.1)\n",
            "Requirement already satisfied: numpy<2.0,>=1.16.0 in /usr/local/lib/python3.7/dist-packages (from tensorflow==1.15.2) (1.21.6)\n",
            "Requirement already satisfied: keras-applications>=1.0.8 in /tensorflow-1.15.2/python3.7 (from tensorflow==1.15.2) (1.0.8)\n",
            "Requirement already satisfied: h5py in /usr/local/lib/python3.7/dist-packages (from keras-applications>=1.0.8->tensorflow==1.15.2) (3.1.0)\n",
            "Requirement already satisfied: setuptools>=41.0.0 in /usr/local/lib/python3.7/dist-packages (from tensorboard<1.16.0,>=1.15.0->tensorflow==1.15.2) (57.4.0)\n",
            "Requirement already satisfied: markdown>=2.6.8 in /usr/local/lib/python3.7/dist-packages (from tensorboard<1.16.0,>=1.15.0->tensorflow==1.15.2) (3.3.7)\n",
            "Requirement already satisfied: werkzeug>=0.11.15 in /usr/local/lib/python3.7/dist-packages (from tensorboard<1.16.0,>=1.15.0->tensorflow==1.15.2) (1.0.1)\n",
            "Collecting importlib-metadata>=4.4\n",
            "  Downloading importlib_metadata-4.12.0-py3-none-any.whl (21 kB)\n",
            "Requirement already satisfied: typing-extensions>=3.6.4 in /usr/local/lib/python3.7/dist-packages (from importlib-metadata>=4.4->markdown>=2.6.8->tensorboard<1.16.0,>=1.15.0->tensorflow==1.15.2) (4.1.1)\n",
            "Requirement already satisfied: zipp>=0.5 in /usr/local/lib/python3.7/dist-packages (from importlib-metadata>=4.4->markdown>=2.6.8->tensorboard<1.16.0,>=1.15.0->tensorflow==1.15.2) (3.8.0)\n",
            "Requirement already satisfied: cached-property in /usr/local/lib/python3.7/dist-packages (from h5py->keras-applications>=1.0.8->tensorflow==1.15.2) (1.5.2)\n",
            "Building wheels for collected packages: gast\n",
            "  Building wheel for gast (setup.py) ... \u001b[?25l\u001b[?25hdone\n",
            "  Created wheel for gast: filename=gast-0.2.2-py3-none-any.whl size=7554 sha256=9738bcf794be373af3535d357e3eba9f5ac301bb902acc98645025f5b7a48790\n",
            "  Stored in directory: /root/.cache/pip/wheels/21/7f/02/420f32a803f7d0967b48dd823da3f558c5166991bfd204eef3\n",
            "Successfully built gast\n",
            "Installing collected packages: importlib-metadata, gast\n",
            "  Attempting uninstall: importlib-metadata\n",
            "    Found existing installation: importlib-metadata 4.2.0\n",
            "    Uninstalling importlib-metadata-4.2.0:\n",
            "      Successfully uninstalled importlib-metadata-4.2.0\n",
            "  Attempting uninstall: gast\n",
            "    Found existing installation: gast 0.5.3\n",
            "    Uninstalling gast-0.5.3:\n",
            "      Successfully uninstalled gast-0.5.3\n",
            "\u001b[31mERROR: pip's dependency resolver does not currently take into account all the packages that are installed. This behaviour is the source of the following dependency conflicts.\n",
            "kapre 0.3.7 requires tensorflow>=2.0.0, but you have tensorflow 1.15.2 which is incompatible.\n",
            "flake8 4.0.1 requires importlib-metadata<4.3; python_version < \"3.8\", but you have importlib-metadata 4.12.0 which is incompatible.\u001b[0m\n",
            "Successfully installed gast-0.2.2 importlib-metadata-4.12.0\n",
            "Looking in indexes: https://pypi.org/simple, https://us-python.pkg.dev/colab-wheels/public/simple/\n",
            "Collecting ypstruct\n",
            "  Downloading ypstruct-0.0.2.tar.gz (3.0 kB)\n",
            "Building wheels for collected packages: ypstruct\n",
            "  Building wheel for ypstruct (setup.py) ... \u001b[?25l\u001b[?25hdone\n",
            "  Created wheel for ypstruct: filename=ypstruct-0.0.2-py3-none-any.whl size=2971 sha256=7bc05f3ff0f883f1e98a43c802a9ea0f8b99e2030f8bd012574330ec2e6fa4c3\n",
            "  Stored in directory: /root/.cache/pip/wheels/62/c0/62/97e51a118545a181245d8111048d46ad4fbd0c0078c6804218\n",
            "Successfully built ypstruct\n",
            "Installing collected packages: ypstruct\n",
            "Successfully installed ypstruct-0.0.2\n"
          ]
        }
      ]
    },
    {
      "cell_type": "code",
      "source": [
        "import numpy as np;\n",
        "import pandas as pd;\n",
        "import ampligraph;\n",
        "import numpy as np\n",
        "import matplotlib.pyplot as plt\n",
        "from ypstruct import structure\n",
        "import numpy as np;\n",
        "import pandas as pd;\n",
        "import ampligraph;"
      ],
      "metadata": {
        "id": "3719Yu7eHrDV"
      },
      "execution_count": null,
      "outputs": []
    },
    {
      "cell_type": "code",
      "execution_count": null,
      "metadata": {
        "id": "oMJjK7PWM7S8"
      },
      "outputs": [],
      "source": [
        "def dataPreparing():\n",
        "#def costFunction():\n",
        "    from ampligraph.evaluation import train_test_split_no_unseen  \n",
        "    import requests\n",
        "    url = 'https://ampligraph.s3-eu-west-1.amazonaws.com/datasets/football_graph.csv'\n",
        "    open('football_results.csv', 'wb').write(requests.get(url).content)\n",
        "    df = pd.read_csv(\"football_results.csv\").sort_values(\"date\")\n",
        "    print(df.isna().sum())\n",
        "    df = df.dropna()\n",
        "    df[\"train\"] = df.date < \"2014-01-01\"\n",
        "    print(df.train.value_counts())\n",
        "        # Entities naming\n",
        "    df[\"match_id\"] = df.index.values.astype(str)\n",
        "    df[\"match_id\"] =  \"Match\" + df.match_id\n",
        "    df[\"city_id\"] = \"City\" + df.city.str.title().str.replace(\" \", \"\")\n",
        "    df[\"country_id\"] = \"Country\" + df.country.str.title().str.replace(\" \", \"\")\n",
        "    df[\"home_team_id\"] = \"Team\" + df.home_team.str.title().str.replace(\" \", \"\")\n",
        "    df[\"away_team_id\"] = \"Team\" + df.away_team.str.title().str.replace(\" \", \"\")\n",
        "    df[\"tournament_id\"] = \"Tournament\" + df.tournament.str.title().str.replace(\" \", \"\")\n",
        "    df[\"neutral\"] = df.neutral.astype(str)\n",
        "    \n",
        "    triples = []\n",
        "    for _, row in df[df[\"train\"]].iterrows():\n",
        "        # Home and away information\n",
        "        home_team = (row[\"home_team_id\"], \"isHomeTeamIn\", row[\"match_id\"])\n",
        "        away_team = (row[\"away_team_id\"], \"isAwayTeamIn\", row[\"match_id\"])\n",
        "    \n",
        "        # Match results\n",
        "        if row[\"home_score\"] > row[\"away_score\"]:\n",
        "            score_home = (row[\"home_team_id\"], \"winnerOf\", row[\"match_id\"])\n",
        "            score_away = (row[\"away_team_id\"], \"loserOf\", row[\"match_id\"])\n",
        "        elif row[\"home_score\"] < row[\"away_score\"]:\n",
        "            score_away = (row[\"away_team_id\"], \"winnerOf\", row[\"match_id\"])\n",
        "            score_home = (row[\"home_team_id\"], \"loserOf\", row[\"match_id\"])\n",
        "        else:\n",
        "            score_home = (row[\"home_team_id\"], \"draws\", row[\"match_id\"])\n",
        "            score_away = (row[\"away_team_id\"], \"draws\", row[\"match_id\"])\n",
        "        home_score = (row[\"match_id\"], \"homeScores\", np.clip(int(row[\"home_score\"]), 0, 5))\n",
        "        away_score = (row[\"match_id\"], \"awayScores\", np.clip(int(row[\"away_score\"]), 0, 5))\n",
        "    \n",
        "        # Match characteristics\n",
        "        tournament = (row[\"match_id\"], \"inTournament\", row[\"tournament_id\"])\n",
        "        city = (row[\"match_id\"], \"inCity\", row[\"city_id\"])\n",
        "        country = (row[\"match_id\"], \"inCountry\", row[\"country_id\"])\n",
        "        neutral = (row[\"match_id\"], \"isNeutral\", row[\"neutral\"])\n",
        "        year = (row[\"match_id\"], \"atYear\", row[\"date\"][:4])\n",
        "    \n",
        "        triples.extend((home_team, away_team, score_home, score_away, \n",
        "                        tournament, city, country, neutral, year, home_score, away_score))\n",
        "    triples_df = pd.DataFrame(triples, columns=[\"subject\", \"predicate\", \"object\"])\n",
        "    triples_df[(triples_df.subject==\"Match3129\") | (triples_df.object==\"Match3129\")]\n",
        "    \n",
        "    X_train, X_valid = train_test_split_no_unseen(np.array(triples), test_size=10000)\n",
        "    print('Train set size: ', X_train.shape)\n",
        "    print('Test set size: ', X_valid.shape)\n",
        "    return X_train, X_valid"
      ]
    },
    {
      "cell_type": "code",
      "execution_count": null,
      "metadata": {
        "colab": {
          "base_uri": "https://localhost:8080/"
        },
        "id": "A-8hlgiwqs-g",
        "outputId": "68e1efcf-391e-4915-d0cf-313eb07f72b8"
      },
      "outputs": [
        {
          "output_type": "stream",
          "name": "stdout",
          "text": [
            "date          0\n",
            "home_team     0\n",
            "away_team     0\n",
            "home_score    2\n",
            "away_score    2\n",
            "tournament    0\n",
            "city          0\n",
            "country       0\n",
            "neutral       0\n",
            "dtype: int64\n",
            "True     35714\n",
            "False     5057\n",
            "Name: train, dtype: int64\n",
            "Train set size:  (382854, 3)\n",
            "Test set size:  (10000, 3)\n"
          ]
        }
      ],
      "source": [
        "X_train, X_valid=dataPreparing()"
      ]
    },
    {
      "cell_type": "code",
      "execution_count": null,
      "metadata": {
        "id": "-TJD6Ci2sLpG"
      },
      "outputs": [],
      "source": [
        "def costFunction(X, X_train, X_valid):\n",
        "    from ampligraph.latent_features import ComplEx\n",
        "    model = ComplEx(batches_count=int(X[0]),\n",
        "                    epochs=10,\n",
        "                    k=int(X[2]),\n",
        "                    eta=int(X[1]),\n",
        "                    optimizer='adam', \n",
        "                    optimizer_params={'lr':1e-4},\n",
        "                    loss='multiclass_nll',\n",
        "                    regularizer='LP', \n",
        "                    regularizer_params={'p':3, 'lambda':1e-5}, \n",
        "                    seed=0, \n",
        "                    verbose=True)\n",
        "    import tensorflow as tf\n",
        "    tf.logging.set_verbosity(tf.logging.ERROR)\n",
        "    model.fit(X_train)\n",
        "    #model.fit(X_train[:10000,:10000])\n",
        "    filter_triples = np.concatenate((X_train, X_valid))\n",
        "    from ampligraph.evaluation import evaluate_performance\n",
        "    #ranks = evaluate_performance(X_valid[:100,:200],\n",
        "    #                             model=model, \n",
        "    #                             filter_triples=filter_triples,\n",
        "    #                             use_default_protocol=True,\n",
        "    #                             verbose=True)\n",
        "    ranks = evaluate_performance(X_valid,\n",
        "                                 model=model, \n",
        "                                 filter_triples=filter_triples,\n",
        "                                 use_default_protocol=True,\n",
        "                                 verbose=True)\n",
        "    \n",
        "    from ampligraph.evaluation import mr_score, mrr_score, hits_at_n_score\n",
        "\n",
        "    mr = mr_score(ranks)\n",
        "    mrr = mrr_score(ranks)\n",
        "\n",
        "    print(\"MRR: %.2f\" % (mrr))\n",
        "    print(\"MR: %.2f\" % (mr))\n",
        "\n",
        "    hits_10 = hits_at_n_score(ranks, n=10)\n",
        "    print(\"Hits@10: %.2f\" % (hits_10))\n",
        "    hits_3 = hits_at_n_score(ranks, n=3)\n",
        "    print(\"Hits@3: %.2f\" % (hits_3))\n",
        "    hits_1 = hits_at_n_score(ranks, n=1)\n",
        "    print(\"Hits@1: %.2f\" % (hits_1))\n",
        "    return float(mrr)\n"
      ]
    },
    {
      "cell_type": "code",
      "execution_count": null,
      "metadata": {
        "id": "J8ZX3Opu0-u2"
      },
      "outputs": [],
      "source": [
        "def crossover(p1, p2, gamma=0.1):\n",
        "    c1 = p1.deepcopy()\n",
        "    c2 = p1.deepcopy()\n",
        "    alpha = np.random.uniform(-gamma, 1+gamma, *c1.position.shape)\n",
        "    print('alpha:', alpha)\n",
        "    c1.position = alpha*p1.position + (1-alpha)*p2.position\n",
        "    print('alpha*p1.position:', alpha*p1.position)\n",
        "    print('(1-alpha)*p2.position',(1-alpha)*p2.position)\n",
        "    c2.position = alpha*p2.position + (1-alpha)*p1.position\n",
        "    print('alpha*p1.position:', alpha*p2.position)\n",
        "    print('(1-alpha)*p2.position',(1-alpha)*p1.position)\n",
        "    return c1, c2\n",
        "\n",
        "def mutate(x, mu, sigma):\n",
        "    y = x.deepcopy()\n",
        "    flag = np.random.rand(*x.position.shape) <= mu\n",
        "    ind = np.argwhere(flag)\n",
        "    y.position[ind] += sigma*np.random.randn(*ind.shape)\n",
        "    return y\n",
        "\n",
        "def apply_bound(x, varmin, varmax):\n",
        "    x.position = np.maximum(x.position, varmin)\n",
        "    x.position = np.minimum(x.position, varmax)\n",
        "\n",
        "def roulette_wheel_selection(p):\n",
        "    c = np.cumsum(p)\n",
        "    r = sum(p)*np.random.rand()\n",
        "    ind = np.argwhere(r <= c)\n",
        "    return ind[0][0]\n"
      ]
    },
    {
      "cell_type": "code",
      "execution_count": null,
      "metadata": {
        "id": "DMxKGYdDNHWm"
      },
      "outputs": [],
      "source": [
        "# Problem Definition\n",
        "problem = structure()\n",
        "problem.costFunc = costFunction\n",
        "problem.nvar = 3\n",
        "#X[0]:Batch ,X[1]:eta ,X[2]:Dimention Of Embbeding\n",
        "problem.varmin = [30,20,30]\n",
        "problem.varmax = [100,70,100]\n",
        "\n",
        "# GA Parameters\n",
        "params = structure()\n",
        "params.maxit = 15\n",
        "params.npop = 3\n",
        "params.beta = 1\n",
        "params.pc = 1\n",
        "params.gamma = 0.1\n",
        "params.mu = 0.9\n",
        "params.sigma = 20"
      ]
    },
    {
      "cell_type": "code",
      "execution_count": null,
      "metadata": {
        "colab": {
          "base_uri": "https://localhost:8080/"
        },
        "id": "tuOZUyyVGUHw",
        "outputId": "8e2c3019-b03e-4bda-b4e8-470b315e6ef6"
      },
      "outputs": [
        {
          "output_type": "stream",
          "name": "stdout",
          "text": [
            "[46.3480393  66.07771834 57.77267583]\n",
            "[70.67345668 56.2462999  53.0812863 ]\n",
            "[51.47704488 53.30424993 73.61647217]\n",
            "[46.3480393  66.07771834 57.77267583]\n"
          ]
        },
        {
          "output_type": "stream",
          "name": "stderr",
          "text": [
            "Average ComplEx Loss:   4.199490: 100%|██████████| 10/10 [00:52<00:00,  5.21s/epoch]\n"
          ]
        },
        {
          "output_type": "stream",
          "name": "stdout",
          "text": [
            "WARNING - DeprecationWarning: use_default_protocol will be removed in future. Please use corrupt_side argument instead.\n"
          ]
        },
        {
          "output_type": "stream",
          "name": "stderr",
          "text": [
            "100%|██████████| 10000/10000 [02:44<00:00, 60.62it/s]\n"
          ]
        },
        {
          "output_type": "stream",
          "name": "stdout",
          "text": [
            "MRR: 0.10\n",
            "MR: 10490.63\n",
            "Hits@10: 0.17\n",
            "Hits@3: 0.12\n",
            "Hits@1: 0.07\n",
            "0.10480533983728282\n",
            "[70.67345668 56.2462999  53.0812863 ]\n"
          ]
        },
        {
          "output_type": "stream",
          "name": "stderr",
          "text": [
            "Average ComplEx Loss:   4.028870: 100%|██████████| 10/10 [00:41<00:00,  4.19s/epoch]"
          ]
        },
        {
          "output_type": "stream",
          "name": "stdout",
          "text": [
            "WARNING - DeprecationWarning: use_default_protocol will be removed in future. Please use corrupt_side argument instead.\n"
          ]
        },
        {
          "output_type": "stream",
          "name": "stderr",
          "text": [
            "\n",
            "100%|██████████| 10000/10000 [02:40<00:00, 62.32it/s]\n"
          ]
        },
        {
          "output_type": "stream",
          "name": "stdout",
          "text": [
            "MRR: 0.13\n",
            "MR: 9408.13\n",
            "Hits@10: 0.21\n",
            "Hits@3: 0.15\n",
            "Hits@1: 0.09\n",
            "0.12931213532990843\n",
            "[51.47704488 53.30424993 73.61647217]\n"
          ]
        },
        {
          "output_type": "stream",
          "name": "stderr",
          "text": [
            "Average ComplEx Loss:   3.980380: 100%|██████████| 10/10 [00:52<00:00,  5.21s/epoch]"
          ]
        },
        {
          "output_type": "stream",
          "name": "stdout",
          "text": [
            "WARNING - DeprecationWarning: use_default_protocol will be removed in future. Please use corrupt_side argument instead.\n"
          ]
        },
        {
          "output_type": "stream",
          "name": "stderr",
          "text": [
            "\n",
            "100%|██████████| 10000/10000 [02:50<00:00, 58.49it/s]\n"
          ]
        },
        {
          "output_type": "stream",
          "name": "stdout",
          "text": [
            "MRR: 0.14\n",
            "MR: 8934.97\n",
            "Hits@10: 0.23\n",
            "Hits@3: 0.16\n",
            "Hits@1: 0.09\n",
            "0.13884218434809417\n",
            "P1: struct({'position': array([46.3480393 , 66.07771834, 57.77267583]), 'cost': 0.10480533983728282})\n",
            "P2: struct({'position': array([46.3480393 , 66.07771834, 57.77267583]), 'cost': 0.10480533983728282})\n",
            "[46.3480393  66.07771834 57.77267583]\n"
          ]
        },
        {
          "output_type": "stream",
          "name": "stderr",
          "text": [
            "Average ComplEx Loss:   4.199490: 100%|██████████| 10/10 [00:51<00:00,  5.17s/epoch]"
          ]
        },
        {
          "output_type": "stream",
          "name": "stdout",
          "text": [
            "WARNING - DeprecationWarning: use_default_protocol will be removed in future. Please use corrupt_side argument instead.\n"
          ]
        },
        {
          "output_type": "stream",
          "name": "stderr",
          "text": [
            "\n",
            "100%|██████████| 10000/10000 [02:41<00:00, 61.91it/s]\n"
          ]
        },
        {
          "output_type": "stream",
          "name": "stdout",
          "text": [
            "MRR: 0.10\n",
            "MR: 10490.63\n",
            "Hits@10: 0.17\n",
            "Hits@3: 0.12\n",
            "Hits@1: 0.07\n",
            "[46.3480393  66.07771834 57.77267583]\n"
          ]
        },
        {
          "output_type": "stream",
          "name": "stderr",
          "text": [
            "Average ComplEx Loss:   4.199490: 100%|██████████| 10/10 [00:51<00:00,  5.18s/epoch]"
          ]
        },
        {
          "output_type": "stream",
          "name": "stdout",
          "text": [
            "WARNING - DeprecationWarning: use_default_protocol will be removed in future. Please use corrupt_side argument instead.\n"
          ]
        },
        {
          "output_type": "stream",
          "name": "stderr",
          "text": [
            "\n",
            "100%|██████████| 10000/10000 [02:42<00:00, 61.67it/s]\n"
          ]
        },
        {
          "output_type": "stream",
          "name": "stdout",
          "text": [
            "MRR: 0.10\n",
            "MR: 10490.63\n",
            "Hits@10: 0.17\n",
            "Hits@3: 0.12\n",
            "Hits@1: 0.07\n",
            "crossover c1: struct({'position': array([46.3480393 , 66.07771834, 57.77267583]), 'cost': 0.1048053420401061})\n",
            "crossover c2: struct({'position': array([46.3480393 , 66.07771834, 57.77267583]), 'cost': 0.10480533982992472})\n",
            "[46.3480393  66.89232472 77.01263278]\n"
          ]
        },
        {
          "output_type": "stream",
          "name": "stderr",
          "text": [
            "Average ComplEx Loss:   4.197431: 100%|██████████| 10/10 [01:06<00:00,  6.69s/epoch]"
          ]
        },
        {
          "output_type": "stream",
          "name": "stdout",
          "text": [
            "WARNING - DeprecationWarning: use_default_protocol will be removed in future. Please use corrupt_side argument instead.\n"
          ]
        },
        {
          "output_type": "stream",
          "name": "stderr",
          "text": [
            "\n",
            "100%|██████████| 10000/10000 [02:51<00:00, 58.29it/s]\n"
          ]
        },
        {
          "output_type": "stream",
          "name": "stdout",
          "text": [
            "MRR: 0.14\n",
            "MR: 9445.26\n",
            "Hits@10: 0.22\n",
            "Hits@3: 0.16\n",
            "Hits@1: 0.10\n",
            "[33.5987617  40.46298467 30.        ]\n"
          ]
        },
        {
          "output_type": "stream",
          "name": "stderr",
          "text": [
            "Average ComplEx Loss:   3.711869: 100%|██████████| 10/10 [00:18<00:00,  1.87s/epoch]"
          ]
        },
        {
          "output_type": "stream",
          "name": "stdout",
          "text": [
            "WARNING - DeprecationWarning: use_default_protocol will be removed in future. Please use corrupt_side argument instead.\n"
          ]
        },
        {
          "output_type": "stream",
          "name": "stderr",
          "text": [
            "\n",
            "100%|██████████| 10000/10000 [02:29<00:00, 66.97it/s]\n"
          ]
        },
        {
          "output_type": "stream",
          "name": "stdout",
          "text": [
            "MRR: 0.07\n",
            "MR: 11213.39\n",
            "Hits@10: 0.12\n",
            "Hits@3: 0.08\n",
            "Hits@1: 0.04\n",
            "mutate c3: struct({'position': array([46.3480393 , 66.89232472, 77.01263278]), 'cost': 0.13925362482588702})\n",
            "mutate c4: struct({'position': array([33.5987617 , 40.46298467, 30.        ]), 'cost': 0.06910762776683371})\n",
            "P1: struct({'position': array([70.67345668, 56.2462999 , 53.0812863 ]), 'cost': 0.12931213532990843})\n",
            "P2: struct({'position': array([46.3480393 , 66.07771834, 57.77267583]), 'cost': 0.10480533983728282})\n",
            "[56.14950956 64.94327143 57.18727253]\n"
          ]
        },
        {
          "output_type": "stream",
          "name": "stderr",
          "text": [
            "Average ComplEx Loss:   4.165973: 100%|██████████| 10/10 [00:50<00:00,  5.04s/epoch]"
          ]
        },
        {
          "output_type": "stream",
          "name": "stdout",
          "text": [
            "WARNING - DeprecationWarning: use_default_protocol will be removed in future. Please use corrupt_side argument instead.\n"
          ]
        },
        {
          "output_type": "stream",
          "name": "stderr",
          "text": [
            "\n",
            "100%|██████████| 10000/10000 [02:45<00:00, 60.53it/s]\n"
          ]
        },
        {
          "output_type": "stream",
          "name": "stdout",
          "text": [
            "MRR: 0.11\n",
            "MR: 10176.77\n",
            "Hits@10: 0.19\n",
            "Hits@3: 0.13\n",
            "Hits@1: 0.08\n",
            "[60.87198642 57.38074681 53.66668959]\n"
          ]
        },
        {
          "output_type": "stream",
          "name": "stderr",
          "text": [
            "Average ComplEx Loss:   4.050877: 100%|██████████| 10/10 [00:42<00:00,  4.23s/epoch]"
          ]
        },
        {
          "output_type": "stream",
          "name": "stdout",
          "text": [
            "WARNING - DeprecationWarning: use_default_protocol will be removed in future. Please use corrupt_side argument instead.\n"
          ]
        },
        {
          "output_type": "stream",
          "name": "stderr",
          "text": [
            "\n",
            "100%|██████████| 10000/10000 [02:42<00:00, 61.55it/s]\n"
          ]
        },
        {
          "output_type": "stream",
          "name": "stdout",
          "text": [
            "MRR: 0.12\n",
            "MR: 9546.59\n",
            "Hits@10: 0.20\n",
            "Hits@3: 0.14\n",
            "Hits@1: 0.08\n",
            "crossover c1: struct({'position': array([56.14950956, 64.94327143, 57.18727253]), 'cost': 0.11376104134131619})\n",
            "crossover c2: struct({'position': array([60.87198642, 57.38074681, 53.66668959]), 'cost': 0.12398613476608839})\n",
            "[40.68728235 48.28903602 57.18727253]\n"
          ]
        },
        {
          "output_type": "stream",
          "name": "stderr",
          "text": [
            "Average ComplEx Loss:   3.887878: 100%|██████████| 10/10 [00:38<00:00,  3.81s/epoch]"
          ]
        },
        {
          "output_type": "stream",
          "name": "stdout",
          "text": [
            "WARNING - DeprecationWarning: use_default_protocol will be removed in future. Please use corrupt_side argument instead.\n"
          ]
        },
        {
          "output_type": "stream",
          "name": "stderr",
          "text": [
            "\n",
            "100%|██████████| 10000/10000 [02:43<00:00, 61.25it/s]\n"
          ]
        },
        {
          "output_type": "stream",
          "name": "stdout",
          "text": [
            "MRR: 0.10\n",
            "MR: 10760.78\n",
            "Hits@10: 0.16\n",
            "Hits@3: 0.11\n",
            "Hits@1: 0.07\n",
            "[60.87198642 68.97108044 46.7104736 ]\n"
          ]
        },
        {
          "output_type": "stream",
          "name": "stderr",
          "text": [
            "Average ComplEx Loss:   4.225782: 100%|██████████| 10/10 [00:43<00:00,  4.39s/epoch]"
          ]
        },
        {
          "output_type": "stream",
          "name": "stdout",
          "text": [
            "WARNING - DeprecationWarning: use_default_protocol will be removed in future. Please use corrupt_side argument instead.\n"
          ]
        },
        {
          "output_type": "stream",
          "name": "stderr",
          "text": [
            "\n",
            "100%|██████████| 10000/10000 [02:41<00:00, 62.09it/s]\n"
          ]
        },
        {
          "output_type": "stream",
          "name": "stdout",
          "text": [
            "MRR: 0.12\n",
            "MR: 9117.49\n",
            "Hits@10: 0.20\n",
            "Hits@3: 0.14\n",
            "Hits@1: 0.08\n",
            "mutate c3: struct({'position': array([40.68728235, 48.28903602, 57.18727253]), 'cost': 0.09805394191152138})\n",
            "mutate c4: struct({'position': array([60.87198642, 68.97108044, 46.7104736 ]), 'cost': 0.1206197456455078})\n",
            "pop: [struct({'position': array([46.3480393 , 66.89232472, 77.01263278]), 'cost': 0.13925362482588702}), struct({'position': array([51.47704488, 53.30424993, 73.61647217]), 'cost': 0.13884218434809417}), struct({'position': array([70.67345668, 56.2462999 , 53.0812863 ]), 'cost': 0.12931213532990843})]\n",
            "Iteration 0: Best Cost = 0.13925362482588702\n",
            "P1: struct({'position': array([51.47704488, 53.30424993, 73.61647217]), 'cost': 0.13884218434809417})\n",
            "P2: struct({'position': array([51.47704488, 53.30424993, 73.61647217]), 'cost': 0.13884218434809417})\n",
            "[51.47704488 53.30424993 73.61647217]\n"
          ]
        },
        {
          "output_type": "stream",
          "name": "stderr",
          "text": [
            "Average ComplEx Loss:   3.980380: 100%|██████████| 10/10 [00:51<00:00,  5.17s/epoch]"
          ]
        },
        {
          "output_type": "stream",
          "name": "stdout",
          "text": [
            "WARNING - DeprecationWarning: use_default_protocol will be removed in future. Please use corrupt_side argument instead.\n"
          ]
        },
        {
          "output_type": "stream",
          "name": "stderr",
          "text": [
            "\n",
            "100%|██████████| 10000/10000 [02:51<00:00, 58.41it/s]\n"
          ]
        },
        {
          "output_type": "stream",
          "name": "stdout",
          "text": [
            "MRR: 0.14\n",
            "MR: 8934.97\n",
            "Hits@10: 0.23\n",
            "Hits@3: 0.16\n",
            "Hits@1: 0.09\n",
            "[51.47704488 53.30424993 73.61647217]\n"
          ]
        },
        {
          "output_type": "stream",
          "name": "stderr",
          "text": [
            "Average ComplEx Loss:   3.980380: 100%|██████████| 10/10 [00:51<00:00,  5.16s/epoch]"
          ]
        },
        {
          "output_type": "stream",
          "name": "stdout",
          "text": [
            "WARNING - DeprecationWarning: use_default_protocol will be removed in future. Please use corrupt_side argument instead.\n"
          ]
        },
        {
          "output_type": "stream",
          "name": "stderr",
          "text": [
            "\n",
            "100%|██████████| 10000/10000 [02:49<00:00, 58.83it/s]\n"
          ]
        },
        {
          "output_type": "stream",
          "name": "stdout",
          "text": [
            "MRR: 0.14\n",
            "MR: 8934.97\n",
            "Hits@10: 0.23\n",
            "Hits@3: 0.16\n",
            "Hits@1: 0.09\n",
            "crossover c1: struct({'position': array([51.47704488, 53.30424993, 73.61647217]), 'cost': 0.1388421446641633})\n",
            "crossover c2: struct({'position': array([51.47704488, 53.30424993, 73.61647217]), 'cost': 0.13884214466375905})\n",
            "[71.82698769 70.         80.35115798]\n"
          ]
        },
        {
          "output_type": "stream",
          "name": "stderr",
          "text": [
            "Average ComplEx Loss:   4.240055: 100%|██████████| 10/10 [01:06<00:00,  6.68s/epoch]"
          ]
        },
        {
          "output_type": "stream",
          "name": "stdout",
          "text": [
            "WARNING - DeprecationWarning: use_default_protocol will be removed in future. Please use corrupt_side argument instead.\n"
          ]
        },
        {
          "output_type": "stream",
          "name": "stderr",
          "text": [
            "\n",
            "100%|██████████| 10000/10000 [02:50<00:00, 58.61it/s]\n"
          ]
        },
        {
          "output_type": "stream",
          "name": "stdout",
          "text": [
            "MRR: 0.16\n",
            "MR: 9290.63\n",
            "Hits@10: 0.25\n",
            "Hits@3: 0.18\n",
            "Hits@1: 0.11\n",
            "[39.92815932 49.28046065 83.57832865]\n"
          ]
        },
        {
          "output_type": "stream",
          "name": "stderr",
          "text": [
            "Average ComplEx Loss:   3.906871: 100%|██████████| 10/10 [00:53<00:00,  5.37s/epoch]"
          ]
        },
        {
          "output_type": "stream",
          "name": "stdout",
          "text": [
            "WARNING - DeprecationWarning: use_default_protocol will be removed in future. Please use corrupt_side argument instead.\n"
          ]
        },
        {
          "output_type": "stream",
          "name": "stderr",
          "text": [
            "\n",
            "100%|██████████| 10000/10000 [02:58<00:00, 55.93it/s]\n"
          ]
        },
        {
          "output_type": "stream",
          "name": "stdout",
          "text": [
            "MRR: 0.14\n",
            "MR: 8773.49\n",
            "Hits@10: 0.22\n",
            "Hits@3: 0.15\n",
            "Hits@1: 0.09\n",
            "mutate c3: struct({'position': array([71.82698769, 70.        , 80.35115798]), 'cost': 0.15680229017783076})\n",
            "mutate c4: struct({'position': array([39.92815932, 49.28046065, 83.57832865]), 'cost': 0.13695187494039715})\n",
            "P1: struct({'position': array([70.67345668, 56.2462999 , 53.0812863 ]), 'cost': 0.12931213532990843})\n",
            "P2: struct({'position': array([70.67345668, 56.2462999 , 53.0812863 ]), 'cost': 0.12931213532990843})\n",
            "Dynamic Programming\n",
            "Dynamic Programming\n",
            "crossover c1: struct({'position': array([70.67345668, 56.2462999 , 53.0812863 ]), 'cost': 0.12931213532990843})\n",
            "crossover c2: struct({'position': array([70.67345668, 56.2462999 , 53.0812863 ]), 'cost': 0.12931213532990843})\n",
            "[39.29493156 63.82526866 60.70958854]\n"
          ]
        },
        {
          "output_type": "stream",
          "name": "stderr",
          "text": [
            "Average ComplEx Loss:   4.154846: 100%|██████████| 10/10 [00:50<00:00,  5.05s/epoch]"
          ]
        },
        {
          "output_type": "stream",
          "name": "stdout",
          "text": [
            "WARNING - DeprecationWarning: use_default_protocol will be removed in future. Please use corrupt_side argument instead.\n"
          ]
        },
        {
          "output_type": "stream",
          "name": "stderr",
          "text": [
            "\n",
            "100%|██████████| 10000/10000 [02:45<00:00, 60.32it/s]\n"
          ]
        },
        {
          "output_type": "stream",
          "name": "stdout",
          "text": [
            "MRR: 0.11\n",
            "MR: 10885.03\n",
            "Hits@10: 0.18\n",
            "Hits@3: 0.12\n",
            "Hits@1: 0.07\n",
            "[82.62411083 70.         43.30405879]\n"
          ]
        },
        {
          "output_type": "stream",
          "name": "stderr",
          "text": [
            "Average ComplEx Loss:   4.244762: 100%|██████████| 10/10 [00:43<00:00,  4.34s/epoch]"
          ]
        },
        {
          "output_type": "stream",
          "name": "stdout",
          "text": [
            "WARNING - DeprecationWarning: use_default_protocol will be removed in future. Please use corrupt_side argument instead.\n"
          ]
        },
        {
          "output_type": "stream",
          "name": "stderr",
          "text": [
            "\n",
            "100%|██████████| 10000/10000 [02:37<00:00, 63.69it/s]\n"
          ]
        },
        {
          "output_type": "stream",
          "name": "stdout",
          "text": [
            "MRR: 0.12\n",
            "MR: 9948.08\n",
            "Hits@10: 0.20\n",
            "Hits@3: 0.14\n",
            "Hits@1: 0.08\n",
            "mutate c3: struct({'position': array([39.29493156, 63.82526866, 60.70958854]), 'cost': 0.10674929775630301})\n",
            "mutate c4: struct({'position': array([82.62411083, 70.        , 43.30405879]), 'cost': 0.12157022432902125})\n",
            "pop: [struct({'position': array([71.82698769, 70.        , 80.35115798]), 'cost': 0.15680229017783076}), struct({'position': array([46.3480393 , 66.89232472, 77.01263278]), 'cost': 0.13925362482588702}), struct({'position': array([51.47704488, 53.30424993, 73.61647217]), 'cost': 0.13884218434809417})]\n",
            "Iteration 1: Best Cost = 0.15680229017783076\n",
            "P1: struct({'position': array([71.82698769, 70.        , 80.35115798]), 'cost': 0.15680229017783076})\n",
            "P2: struct({'position': array([46.3480393 , 66.89232472, 77.01263278]), 'cost': 0.13925362482588702})\n",
            "[63.96758201 68.55188423 76.98138121]\n"
          ]
        },
        {
          "output_type": "stream",
          "name": "stderr",
          "text": [
            "Average ComplEx Loss:   4.218596: 100%|██████████| 10/10 [01:06<00:00,  6.68s/epoch]"
          ]
        },
        {
          "output_type": "stream",
          "name": "stdout",
          "text": [
            "WARNING - DeprecationWarning: use_default_protocol will be removed in future. Please use corrupt_side argument instead.\n"
          ]
        },
        {
          "output_type": "stream",
          "name": "stderr",
          "text": [
            "\n",
            "100%|██████████| 10000/10000 [02:51<00:00, 58.30it/s]\n"
          ]
        },
        {
          "output_type": "stream",
          "name": "stdout",
          "text": [
            "MRR: 0.15\n",
            "MR: 8785.17\n",
            "Hits@10: 0.24\n",
            "Hits@3: 0.17\n",
            "Hits@1: 0.10\n",
            "[54.20744498 68.34044049 80.38240956]\n"
          ]
        },
        {
          "output_type": "stream",
          "name": "stderr",
          "text": [
            "Average ComplEx Loss:   4.222802: 100%|██████████| 10/10 [01:04<00:00,  6.43s/epoch]"
          ]
        },
        {
          "output_type": "stream",
          "name": "stdout",
          "text": [
            "WARNING - DeprecationWarning: use_default_protocol will be removed in future. Please use corrupt_side argument instead.\n"
          ]
        },
        {
          "output_type": "stream",
          "name": "stderr",
          "text": [
            "\n",
            "100%|██████████| 10000/10000 [02:51<00:00, 58.23it/s]\n"
          ]
        },
        {
          "output_type": "stream",
          "name": "stdout",
          "text": [
            "MRR: 0.15\n",
            "MR: 9310.53\n",
            "Hits@10: 0.23\n",
            "Hits@3: 0.17\n",
            "Hits@1: 0.10\n",
            "crossover c1: struct({'position': array([63.96758201, 68.55188423, 76.98138121]), 'cost': 0.14764479241124476})\n",
            "crossover c2: struct({'position': array([54.20744498, 68.34044049, 80.38240956]), 'cost': 0.14778681999929597})\n",
            "[ 66.97180008  46.64685601 100.        ]\n"
          ]
        },
        {
          "output_type": "stream",
          "name": "stderr",
          "text": [
            "Average ComplEx Loss:   3.828361: 100%|██████████| 10/10 [00:59<00:00,  5.97s/epoch]"
          ]
        },
        {
          "output_type": "stream",
          "name": "stdout",
          "text": [
            "WARNING - DeprecationWarning: use_default_protocol will be removed in future. Please use corrupt_side argument instead.\n"
          ]
        },
        {
          "output_type": "stream",
          "name": "stderr",
          "text": [
            "\n",
            "100%|██████████| 10000/10000 [03:07<00:00, 53.25it/s]\n"
          ]
        },
        {
          "output_type": "stream",
          "name": "stdout",
          "text": [
            "MRR: 0.16\n",
            "MR: 8853.72\n",
            "Hits@10: 0.25\n",
            "Hits@3: 0.19\n",
            "Hits@1: 0.12\n",
            "[32.76846466 70.         93.76502235]\n"
          ]
        },
        {
          "output_type": "stream",
          "name": "stderr",
          "text": [
            "Average ComplEx Loss:   4.258890: 100%|██████████| 10/10 [01:25<00:00,  8.54s/epoch]"
          ]
        },
        {
          "output_type": "stream",
          "name": "stdout",
          "text": [
            "WARNING - DeprecationWarning: use_default_protocol will be removed in future. Please use corrupt_side argument instead.\n"
          ]
        },
        {
          "output_type": "stream",
          "name": "stderr",
          "text": [
            "\n",
            "100%|██████████| 10000/10000 [03:03<00:00, 54.37it/s]\n"
          ]
        },
        {
          "output_type": "stream",
          "name": "stdout",
          "text": [
            "MRR: 0.12\n",
            "MR: 9443.99\n",
            "Hits@10: 0.20\n",
            "Hits@3: 0.14\n",
            "Hits@1: 0.08\n",
            "mutate c3: struct({'position': array([ 66.97180008,  46.64685601, 100.        ]), 'cost': 0.1646664809955003})\n",
            "mutate c4: struct({'position': array([32.76846466, 70.        , 93.76502235]), 'cost': 0.12176115850181475})\n",
            "P1: struct({'position': array([51.47704488, 53.30424993, 73.61647217]), 'cost': 0.13884218434809417})\n",
            "P2: struct({'position': array([51.47704488, 53.30424993, 73.61647217]), 'cost': 0.13884218434809417})\n",
            "Dynamic Programming\n",
            "Dynamic Programming\n",
            "crossover c1: struct({'position': array([51.47704488, 53.30424993, 73.61647217]), 'cost': 0.13884218434809417})\n",
            "crossover c2: struct({'position': array([51.47704488, 53.30424993, 73.61647217]), 'cost': 0.13884218434809417})\n",
            "[30.         70.         73.42136643]\n"
          ]
        },
        {
          "output_type": "stream",
          "name": "stderr",
          "text": [
            "Average ComplEx Loss:   4.260117: 100%|██████████| 10/10 [01:07<00:00,  6.80s/epoch]"
          ]
        },
        {
          "output_type": "stream",
          "name": "stdout",
          "text": [
            "WARNING - DeprecationWarning: use_default_protocol will be removed in future. Please use corrupt_side argument instead.\n"
          ]
        },
        {
          "output_type": "stream",
          "name": "stderr",
          "text": [
            "\n",
            "100%|██████████| 10000/10000 [02:52<00:00, 58.10it/s]\n"
          ]
        },
        {
          "output_type": "stream",
          "name": "stdout",
          "text": [
            "MRR: 0.10\n",
            "MR: 9949.05\n",
            "Hits@10: 0.17\n",
            "Hits@3: 0.11\n",
            "Hits@1: 0.07\n",
            "[41.41962017 55.59732712 62.61247941]\n"
          ]
        },
        {
          "output_type": "stream",
          "name": "stderr",
          "text": [
            "Average ComplEx Loss:   4.020770: 100%|██████████| 10/10 [00:46<00:00,  4.60s/epoch]"
          ]
        },
        {
          "output_type": "stream",
          "name": "stdout",
          "text": [
            "WARNING - DeprecationWarning: use_default_protocol will be removed in future. Please use corrupt_side argument instead.\n"
          ]
        },
        {
          "output_type": "stream",
          "name": "stderr",
          "text": [
            "\n",
            "100%|██████████| 10000/10000 [02:44<00:00, 60.93it/s]\n"
          ]
        },
        {
          "output_type": "stream",
          "name": "stdout",
          "text": [
            "MRR: 0.11\n",
            "MR: 9952.56\n",
            "Hits@10: 0.19\n",
            "Hits@3: 0.13\n",
            "Hits@1: 0.07\n",
            "mutate c3: struct({'position': array([30.        , 70.        , 73.42136643]), 'cost': 0.10081666662526856})\n",
            "mutate c4: struct({'position': array([41.41962017, 55.59732712, 62.61247941]), 'cost': 0.1116961504321679})\n",
            "pop: [struct({'position': array([ 66.97180008,  46.64685601, 100.        ]), 'cost': 0.1646664809955003}), struct({'position': array([71.82698769, 70.        , 80.35115798]), 'cost': 0.15680229017783076}), struct({'position': array([54.20744498, 68.34044049, 80.38240956]), 'cost': 0.14778681999929597})]\n",
            "Iteration 2: Best Cost = 0.1646664809955003\n",
            "P1: struct({'position': array([71.82698769, 70.        , 80.35115798]), 'cost': 0.15680229017783076})\n",
            "P2: struct({'position': array([71.82698769, 70.        , 80.35115798]), 'cost': 0.15680229017783076})\n",
            "Dynamic Programming\n",
            "Dynamic Programming\n",
            "crossover c1: struct({'position': array([71.82698769, 70.        , 80.35115798]), 'cost': 0.15680229017783076})\n",
            "crossover c2: struct({'position': array([71.82698769, 70.        , 80.35115798]), 'cost': 0.15680229017783076})\n",
            "[55.61370086 70.         67.61021506]\n"
          ]
        },
        {
          "output_type": "stream",
          "name": "stderr",
          "text": [
            "Average ComplEx Loss:   4.252910: 100%|██████████| 10/10 [01:03<00:00,  6.32s/epoch]"
          ]
        },
        {
          "output_type": "stream",
          "name": "stdout",
          "text": [
            "WARNING - DeprecationWarning: use_default_protocol will be removed in future. Please use corrupt_side argument instead.\n"
          ]
        },
        {
          "output_type": "stream",
          "name": "stderr",
          "text": [
            "\n",
            "100%|██████████| 10000/10000 [02:48<00:00, 59.36it/s]\n"
          ]
        },
        {
          "output_type": "stream",
          "name": "stdout",
          "text": [
            "MRR: 0.12\n",
            "MR: 9813.35\n",
            "Hits@10: 0.20\n",
            "Hits@3: 0.14\n",
            "Hits@1: 0.08\n",
            "[49.44322873 70.         97.00267297]\n"
          ]
        },
        {
          "output_type": "stream",
          "name": "stderr",
          "text": [
            "Average ComplEx Loss:   4.252055: 100%|██████████| 10/10 [01:28<00:00,  8.85s/epoch]"
          ]
        },
        {
          "output_type": "stream",
          "name": "stdout",
          "text": [
            "WARNING - DeprecationWarning: use_default_protocol will be removed in future. Please use corrupt_side argument instead.\n"
          ]
        },
        {
          "output_type": "stream",
          "name": "stderr",
          "text": [
            "\n",
            "100%|██████████| 10000/10000 [03:07<00:00, 53.20it/s]\n"
          ]
        },
        {
          "output_type": "stream",
          "name": "stdout",
          "text": [
            "MRR: 0.15\n",
            "MR: 8678.83\n",
            "Hits@10: 0.24\n",
            "Hits@3: 0.17\n",
            "Hits@1: 0.11\n",
            "mutate c3: struct({'position': array([55.61370086, 70.        , 67.61021506]), 'cost': 0.12122527705663047})\n",
            "mutate c4: struct({'position': array([49.44322873, 70.        , 97.00267297]), 'cost': 0.15296908215976654})\n",
            "P1: struct({'position': array([ 66.97180008,  46.64685601, 100.        ]), 'cost': 0.1646664809955003})\n",
            "P2: struct({'position': array([71.82698769, 70.        , 80.35115798]), 'cost': 0.15680229017783076})\n",
            "[70.10678965 57.11406078 81.22548112]\n"
          ]
        },
        {
          "output_type": "stream",
          "name": "stderr",
          "text": [
            "Average ComplEx Loss:   4.038241: 100%|██████████| 10/10 [01:01<00:00,  6.17s/epoch]"
          ]
        },
        {
          "output_type": "stream",
          "name": "stdout",
          "text": [
            "WARNING - DeprecationWarning: use_default_protocol will be removed in future. Please use corrupt_side argument instead.\n"
          ]
        },
        {
          "output_type": "stream",
          "name": "stderr",
          "text": [
            "\n",
            "100%|██████████| 10000/10000 [02:58<00:00, 56.15it/s]\n"
          ]
        },
        {
          "output_type": "stream",
          "name": "stdout",
          "text": [
            "MRR: 0.16\n",
            "MR: 9268.93\n",
            "Hits@10: 0.25\n",
            "Hits@3: 0.19\n",
            "Hits@1: 0.11\n",
            "[68.69199813 59.53279523 99.12567686]\n"
          ]
        },
        {
          "output_type": "stream",
          "name": "stderr",
          "text": [
            "Average ComplEx Loss:   4.070752: 100%|██████████| 10/10 [01:16<00:00,  7.64s/epoch]"
          ]
        },
        {
          "output_type": "stream",
          "name": "stdout",
          "text": [
            "WARNING - DeprecationWarning: use_default_protocol will be removed in future. Please use corrupt_side argument instead.\n"
          ]
        },
        {
          "output_type": "stream",
          "name": "stderr",
          "text": [
            "\n",
            "100%|██████████| 10000/10000 [03:09<00:00, 52.86it/s]\n"
          ]
        },
        {
          "output_type": "stream",
          "name": "stdout",
          "text": [
            "MRR: 0.17\n",
            "MR: 9163.59\n",
            "Hits@10: 0.26\n",
            "Hits@3: 0.19\n",
            "Hits@1: 0.12\n",
            "crossover c1: struct({'position': array([70.10678965, 57.11406078, 81.22548112]), 'cost': 0.16094020719214822})\n",
            "crossover c2: struct({'position': array([68.69199813, 59.53279523, 99.12567686]), 'cost': 0.16561410622635375})\n",
            "[68.47522615 45.6730957  64.66791735]\n"
          ]
        },
        {
          "output_type": "stream",
          "name": "stderr",
          "text": [
            "Average ComplEx Loss:   3.812468: 100%|██████████| 10/10 [00:35<00:00,  3.53s/epoch]"
          ]
        },
        {
          "output_type": "stream",
          "name": "stdout",
          "text": [
            "WARNING - DeprecationWarning: use_default_protocol will be removed in future. Please use corrupt_side argument instead.\n"
          ]
        },
        {
          "output_type": "stream",
          "name": "stderr",
          "text": [
            "\n",
            "100%|██████████| 10000/10000 [02:41<00:00, 61.92it/s]\n"
          ]
        },
        {
          "output_type": "stream",
          "name": "stdout",
          "text": [
            "MRR: 0.14\n",
            "MR: 9230.16\n",
            "Hits@10: 0.22\n",
            "Hits@3: 0.15\n",
            "Hits@1: 0.09\n",
            "[68.69199813 67.73651737 99.12567686]\n"
          ]
        },
        {
          "output_type": "stream",
          "name": "stderr",
          "text": [
            "Average ComplEx Loss:   4.195748: 100%|██████████| 10/10 [01:26<00:00,  8.66s/epoch]"
          ]
        },
        {
          "output_type": "stream",
          "name": "stdout",
          "text": [
            "WARNING - DeprecationWarning: use_default_protocol will be removed in future. Please use corrupt_side argument instead.\n"
          ]
        },
        {
          "output_type": "stream",
          "name": "stderr",
          "text": [
            "\n",
            "100%|██████████| 10000/10000 [03:05<00:00, 53.83it/s]\n"
          ]
        },
        {
          "output_type": "stream",
          "name": "stdout",
          "text": [
            "MRR: 0.17\n",
            "MR: 9209.56\n",
            "Hits@10: 0.25\n",
            "Hits@3: 0.19\n",
            "Hits@1: 0.12\n",
            "mutate c3: struct({'position': array([68.47522615, 45.6730957 , 64.66791735]), 'cost': 0.13534943743863168})\n",
            "mutate c4: struct({'position': array([68.69199813, 67.73651737, 99.12567686]), 'cost': 0.16526036903438618})\n",
            "pop: [struct({'position': array([68.69199813, 59.53279523, 99.12567686]), 'cost': 0.16561410622635375}), struct({'position': array([68.69199813, 67.73651737, 99.12567686]), 'cost': 0.16526036903438618}), struct({'position': array([ 66.97180008,  46.64685601, 100.        ]), 'cost': 0.1646664809955003})]\n",
            "Iteration 3: Best Cost = 0.16561410622635375\n",
            "P1: struct({'position': array([ 66.97180008,  46.64685601, 100.        ]), 'cost': 0.1646664809955003})\n",
            "P2: struct({'position': array([68.69199813, 67.73651737, 99.12567686]), 'cost': 0.16526036903438618})\n",
            "[67.25328592 52.34908368 99.54354333]\n"
          ]
        },
        {
          "output_type": "stream",
          "name": "stderr",
          "text": [
            "Average ComplEx Loss:   3.947719: 100%|██████████| 10/10 [01:07<00:00,  6.76s/epoch]"
          ]
        },
        {
          "output_type": "stream",
          "name": "stdout",
          "text": [
            "WARNING - DeprecationWarning: use_default_protocol will be removed in future. Please use corrupt_side argument instead.\n"
          ]
        },
        {
          "output_type": "stream",
          "name": "stderr",
          "text": [
            "\n",
            "100%|██████████| 10000/10000 [03:07<00:00, 53.21it/s]\n"
          ]
        },
        {
          "output_type": "stream",
          "name": "stdout",
          "text": [
            "MRR: 0.17\n",
            "MR: 9148.44\n",
            "Hits@10: 0.26\n",
            "Hits@3: 0.19\n",
            "Hits@1: 0.12\n",
            "[68.41051229 62.0342897  99.58213353]\n"
          ]
        },
        {
          "output_type": "stream",
          "name": "stderr",
          "text": [
            "Average ComplEx Loss:   4.119479: 100%|██████████| 10/10 [01:20<00:00,  8.02s/epoch]"
          ]
        },
        {
          "output_type": "stream",
          "name": "stdout",
          "text": [
            "WARNING - DeprecationWarning: use_default_protocol will be removed in future. Please use corrupt_side argument instead.\n"
          ]
        },
        {
          "output_type": "stream",
          "name": "stderr",
          "text": [
            "\n",
            "100%|██████████| 10000/10000 [03:08<00:00, 52.99it/s]\n"
          ]
        },
        {
          "output_type": "stream",
          "name": "stdout",
          "text": [
            "MRR: 0.17\n",
            "MR: 9177.86\n",
            "Hits@10: 0.25\n",
            "Hits@3: 0.19\n",
            "Hits@1: 0.12\n",
            "crossover c1: struct({'position': array([67.25328592, 52.34908368, 99.54354333]), 'cost': 0.1658603235613395})\n",
            "crossover c2: struct({'position': array([68.41051229, 62.0342897 , 99.58213353]), 'cost': 0.16532248309928374})\n",
            "[ 79.09096708  39.17894099 100.        ]\n"
          ]
        },
        {
          "output_type": "stream",
          "name": "stderr",
          "text": [
            "Average ComplEx Loss:   3.654693: 100%|██████████| 10/10 [00:51<00:00,  5.18s/epoch]"
          ]
        },
        {
          "output_type": "stream",
          "name": "stdout",
          "text": [
            "WARNING - DeprecationWarning: use_default_protocol will be removed in future. Please use corrupt_side argument instead.\n"
          ]
        },
        {
          "output_type": "stream",
          "name": "stderr",
          "text": [
            "\n",
            "100%|██████████| 10000/10000 [03:07<00:00, 53.45it/s]\n"
          ]
        },
        {
          "output_type": "stream",
          "name": "stdout",
          "text": [
            "MRR: 0.17\n",
            "MR: 8872.11\n",
            "Hits@10: 0.26\n",
            "Hits@3: 0.19\n",
            "Hits@1: 0.12\n",
            "[61.71155568 70.         77.2343907 ]\n"
          ]
        },
        {
          "output_type": "stream",
          "name": "stderr",
          "text": [
            "Average ComplEx Loss:   4.247765: 100%|██████████| 10/10 [01:10<00:00,  7.04s/epoch]"
          ]
        },
        {
          "output_type": "stream",
          "name": "stdout",
          "text": [
            "WARNING - DeprecationWarning: use_default_protocol will be removed in future. Please use corrupt_side argument instead.\n"
          ]
        },
        {
          "output_type": "stream",
          "name": "stderr",
          "text": [
            "\n",
            "100%|██████████| 10000/10000 [02:52<00:00, 57.85it/s]\n"
          ]
        },
        {
          "output_type": "stream",
          "name": "stdout",
          "text": [
            "MRR: 0.15\n",
            "MR: 9249.25\n",
            "Hits@10: 0.24\n",
            "Hits@3: 0.17\n",
            "Hits@1: 0.11\n",
            "mutate c3: struct({'position': array([ 79.09096708,  39.17894099, 100.        ]), 'cost': 0.1709930900378015})\n",
            "mutate c4: struct({'position': array([61.71155568, 70.        , 77.2343907 ]), 'cost': 0.15410000855064054})\n",
            "P1: struct({'position': array([68.69199813, 59.53279523, 99.12567686]), 'cost': 0.16561410622635375})\n",
            "P2: struct({'position': array([ 66.97180008,  46.64685601, 100.        ]), 'cost': 0.1646664809955003})\n",
            "[68.40051823 47.96217769 99.83083087]\n"
          ]
        },
        {
          "output_type": "stream",
          "name": "stderr",
          "text": [
            "Average ComplEx Loss:   3.847907: 100%|██████████| 10/10 [01:01<00:00,  6.15s/epoch]"
          ]
        },
        {
          "output_type": "stream",
          "name": "stdout",
          "text": [
            "WARNING - DeprecationWarning: use_default_protocol will be removed in future. Please use corrupt_side argument instead.\n"
          ]
        },
        {
          "output_type": "stream",
          "name": "stderr",
          "text": [
            "\n",
            "100%|██████████| 10000/10000 [03:07<00:00, 53.42it/s]\n"
          ]
        },
        {
          "output_type": "stream",
          "name": "stdout",
          "text": [
            "MRR: 0.17\n",
            "MR: 9109.50\n",
            "Hits@10: 0.26\n",
            "Hits@3: 0.19\n",
            "Hits@1: 0.12\n",
            "[67.26327998 58.21747355 99.29484599]\n"
          ]
        },
        {
          "output_type": "stream",
          "name": "stderr",
          "text": [
            "Average ComplEx Loss:   4.054834: 100%|██████████| 10/10 [01:15<00:00,  7.51s/epoch]"
          ]
        },
        {
          "output_type": "stream",
          "name": "stdout",
          "text": [
            "WARNING - DeprecationWarning: use_default_protocol will be removed in future. Please use corrupt_side argument instead.\n"
          ]
        },
        {
          "output_type": "stream",
          "name": "stderr",
          "text": [
            "\n",
            "100%|██████████| 10000/10000 [03:06<00:00, 53.64it/s]\n"
          ]
        },
        {
          "output_type": "stream",
          "name": "stdout",
          "text": [
            "MRR: 0.17\n",
            "MR: 9154.61\n",
            "Hits@10: 0.25\n",
            "Hits@3: 0.19\n",
            "Hits@1: 0.12\n",
            "crossover c1: struct({'position': array([68.40051823, 47.96217769, 99.83083087]), 'cost': 0.16578020582894923})\n",
            "crossover c2: struct({'position': array([67.26327998, 58.21747355, 99.29484599]), 'cost': 0.16524445562381535})\n",
            "[89.95284869 34.1406443  99.83083087]\n"
          ]
        },
        {
          "output_type": "stream",
          "name": "stderr",
          "text": [
            "Average ComplEx Loss:   3.511742: 100%|██████████| 10/10 [00:46<00:00,  4.67s/epoch]"
          ]
        },
        {
          "output_type": "stream",
          "name": "stdout",
          "text": [
            "WARNING - DeprecationWarning: use_default_protocol will be removed in future. Please use corrupt_side argument instead.\n"
          ]
        },
        {
          "output_type": "stream",
          "name": "stderr",
          "text": [
            "\n",
            "100%|██████████| 10000/10000 [03:06<00:00, 53.51it/s]\n"
          ]
        },
        {
          "output_type": "stream",
          "name": "stdout",
          "text": [
            "MRR: 0.17\n",
            "MR: 9045.72\n",
            "Hits@10: 0.27\n",
            "Hits@3: 0.20\n",
            "Hits@1: 0.12\n",
            "[65.9924001  70.         96.45110987]\n"
          ]
        },
        {
          "output_type": "stream",
          "name": "stderr",
          "text": [
            "Average ComplEx Loss:   4.241847: 100%|██████████| 10/10 [01:16<00:00,  7.61s/epoch]"
          ]
        },
        {
          "output_type": "stream",
          "name": "stdout",
          "text": [
            "WARNING - DeprecationWarning: use_default_protocol will be removed in future. Please use corrupt_side argument instead.\n"
          ]
        },
        {
          "output_type": "stream",
          "name": "stderr",
          "text": [
            "\n",
            "100%|██████████| 10000/10000 [02:57<00:00, 56.18it/s]\n"
          ]
        },
        {
          "output_type": "stream",
          "name": "stdout",
          "text": [
            "MRR: 0.17\n",
            "MR: 8354.92\n",
            "Hits@10: 0.26\n",
            "Hits@3: 0.18\n",
            "Hits@1: 0.12\n",
            "mutate c3: struct({'position': array([89.95284869, 34.1406443 , 99.83083087]), 'cost': 0.1729138772973974})\n",
            "mutate c4: struct({'position': array([65.9924001 , 70.        , 96.45110987]), 'cost': 0.16630329523273052})\n",
            "pop: [struct({'position': array([89.95284869, 34.1406443 , 99.83083087]), 'cost': 0.1729138772973974}), struct({'position': array([ 79.09096708,  39.17894099, 100.        ]), 'cost': 0.1709930900378015}), struct({'position': array([65.9924001 , 70.        , 96.45110987]), 'cost': 0.16630329523273052})]\n",
            "Iteration 4: Best Cost = 0.1729138772973974\n",
            "P1: struct({'position': array([89.95284869, 34.1406443 , 99.83083087]), 'cost': 0.1729138772973974})\n",
            "P2: struct({'position': array([65.9924001 , 70.        , 96.45110987]), 'cost': 0.16630329523273052})\n",
            "[80.97462517 47.54291196 97.56053106]\n"
          ]
        },
        {
          "output_type": "stream",
          "name": "stderr",
          "text": [
            "Average ComplEx Loss:   3.836775: 100%|██████████| 10/10 [01:00<00:00,  6.06s/epoch]"
          ]
        },
        {
          "output_type": "stream",
          "name": "stdout",
          "text": [
            "WARNING - DeprecationWarning: use_default_protocol will be removed in future. Please use corrupt_side argument instead.\n"
          ]
        },
        {
          "output_type": "stream",
          "name": "stderr",
          "text": [
            "\n",
            "100%|██████████| 10000/10000 [03:04<00:00, 54.09it/s]\n"
          ]
        },
        {
          "output_type": "stream",
          "name": "stdout",
          "text": [
            "MRR: 0.17\n",
            "MR: 8649.30\n",
            "Hits@10: 0.26\n",
            "Hits@3: 0.20\n",
            "Hits@1: 0.12\n",
            "[74.97062363 56.59773234 98.72140967]\n"
          ]
        },
        {
          "output_type": "stream",
          "name": "stderr",
          "text": [
            "Average ComplEx Loss:   4.012001: 100%|██████████| 10/10 [01:10<00:00,  7.06s/epoch]"
          ]
        },
        {
          "output_type": "stream",
          "name": "stdout",
          "text": [
            "WARNING - DeprecationWarning: use_default_protocol will be removed in future. Please use corrupt_side argument instead.\n"
          ]
        },
        {
          "output_type": "stream",
          "name": "stderr",
          "text": [
            "\n",
            "100%|██████████| 10000/10000 [03:03<00:00, 54.56it/s]\n"
          ]
        },
        {
          "output_type": "stream",
          "name": "stdout",
          "text": [
            "MRR: 0.16\n",
            "MR: 9055.03\n",
            "Hits@10: 0.26\n",
            "Hits@3: 0.19\n",
            "Hits@1: 0.11\n",
            "crossover c1: struct({'position': array([80.97462517, 47.54291196, 97.56053106]), 'cost': 0.17043751314437042})\n",
            "crossover c2: struct({'position': array([74.97062363, 56.59773234, 98.72140967]), 'cost': 0.16266963628346534})\n",
            "[97.96512354 70.         90.47313264]\n"
          ]
        },
        {
          "output_type": "stream",
          "name": "stderr",
          "text": [
            "Average ComplEx Loss:   4.212927: 100%|██████████| 10/10 [01:22<00:00,  8.30s/epoch]"
          ]
        },
        {
          "output_type": "stream",
          "name": "stdout",
          "text": [
            "WARNING - DeprecationWarning: use_default_protocol will be removed in future. Please use corrupt_side argument instead.\n"
          ]
        },
        {
          "output_type": "stream",
          "name": "stderr",
          "text": [
            "\n",
            "100%|██████████| 10000/10000 [03:01<00:00, 55.18it/s]\n"
          ]
        },
        {
          "output_type": "stream",
          "name": "stdout",
          "text": [
            "MRR: 0.17\n",
            "MR: 8708.49\n",
            "Hits@10: 0.27\n",
            "Hits@3: 0.20\n",
            "Hits@1: 0.12\n",
            "[74.97062363 41.75666278 98.72140967]\n"
          ]
        },
        {
          "output_type": "stream",
          "name": "stderr",
          "text": [
            "Average ComplEx Loss:   3.707217: 100%|██████████| 10/10 [00:52<00:00,  5.28s/epoch]"
          ]
        },
        {
          "output_type": "stream",
          "name": "stdout",
          "text": [
            "WARNING - DeprecationWarning: use_default_protocol will be removed in future. Please use corrupt_side argument instead.\n"
          ]
        },
        {
          "output_type": "stream",
          "name": "stderr",
          "text": [
            "\n",
            "100%|██████████| 10000/10000 [03:04<00:00, 54.34it/s]\n"
          ]
        },
        {
          "output_type": "stream",
          "name": "stdout",
          "text": [
            "MRR: 0.16\n",
            "MR: 8951.33\n",
            "Hits@10: 0.26\n",
            "Hits@3: 0.19\n",
            "Hits@1: 0.11\n",
            "mutate c3: struct({'position': array([97.96512354, 70.        , 90.47313264]), 'cost': 0.17241856319095758})\n",
            "mutate c4: struct({'position': array([74.97062363, 41.75666278, 98.72140967]), 'cost': 0.16364645706392245})\n",
            "P1: struct({'position': array([89.95284869, 34.1406443 , 99.83083087]), 'cost': 0.1729138772973974})\n",
            "P2: struct({'position': array([ 79.09096708,  39.17894099, 100.        ]), 'cost': 0.1709930900378015})\n",
            "[88.75893817 38.6814769  99.87331775]\n"
          ]
        },
        {
          "output_type": "stream",
          "name": "stderr",
          "text": [
            "Average ComplEx Loss:   3.620749: 100%|██████████| 10/10 [00:51<00:00,  5.17s/epoch]"
          ]
        },
        {
          "output_type": "stream",
          "name": "stdout",
          "text": [
            "WARNING - DeprecationWarning: use_default_protocol will be removed in future. Please use corrupt_side argument instead.\n"
          ]
        },
        {
          "output_type": "stream",
          "name": "stderr",
          "text": [
            "\n",
            "100%|██████████| 10000/10000 [03:15<00:00, 51.02it/s]\n"
          ]
        },
        {
          "output_type": "stream",
          "name": "stdout",
          "text": [
            "MRR: 0.17\n",
            "MR: 9080.92\n",
            "Hits@10: 0.26\n",
            "Hits@3: 0.20\n",
            "Hits@1: 0.12\n",
            "[80.28487761 34.6381084  99.95751311]\n"
          ]
        },
        {
          "output_type": "stream",
          "name": "stderr",
          "text": [
            "Average ComplEx Loss:   3.521737: 100%|██████████| 10/10 [00:46<00:00,  4.62s/epoch]"
          ]
        },
        {
          "output_type": "stream",
          "name": "stdout",
          "text": [
            "WARNING - DeprecationWarning: use_default_protocol will be removed in future. Please use corrupt_side argument instead.\n"
          ]
        },
        {
          "output_type": "stream",
          "name": "stderr",
          "text": [
            "\n",
            "100%|██████████| 10000/10000 [03:09<00:00, 52.71it/s]\n"
          ]
        },
        {
          "output_type": "stream",
          "name": "stdout",
          "text": [
            "MRR: 0.17\n",
            "MR: 9037.86\n",
            "Hits@10: 0.26\n",
            "Hits@3: 0.19\n",
            "Hits@1: 0.12\n",
            "crossover c1: struct({'position': array([88.75893817, 38.6814769 , 99.87331775]), 'cost': 0.17289455043505678})\n",
            "crossover c2: struct({'position': array([80.28487761, 34.6381084 , 99.95751311]), 'cost': 0.1712027099233502})\n",
            "[73.90054652 29.63280636 86.46068838]\n"
          ]
        },
        {
          "output_type": "stream",
          "name": "stderr",
          "text": [
            "Average ComplEx Loss:   3.376985: 100%|██████████| 10/10 [00:35<00:00,  3.54s/epoch]"
          ]
        },
        {
          "output_type": "stream",
          "name": "stdout",
          "text": [
            "WARNING - DeprecationWarning: use_default_protocol will be removed in future. Please use corrupt_side argument instead.\n"
          ]
        },
        {
          "output_type": "stream",
          "name": "stderr",
          "text": [
            "\n",
            "100%|██████████| 10000/10000 [03:03<00:00, 54.64it/s]\n"
          ]
        },
        {
          "output_type": "stream",
          "name": "stdout",
          "text": [
            "MRR: 0.17\n",
            "MR: 8832.81\n",
            "Hits@10: 0.26\n",
            "Hits@3: 0.19\n",
            "Hits@1: 0.12\n",
            "[100.          40.06205912  99.95751311]\n"
          ]
        },
        {
          "output_type": "stream",
          "name": "stderr",
          "text": [
            "Average ComplEx Loss:   3.655055: 100%|██████████| 10/10 [00:54<00:00,  5.48s/epoch]"
          ]
        },
        {
          "output_type": "stream",
          "name": "stdout",
          "text": [
            "WARNING - DeprecationWarning: use_default_protocol will be removed in future. Please use corrupt_side argument instead.\n"
          ]
        },
        {
          "output_type": "stream",
          "name": "stderr",
          "text": [
            "\n",
            "100%|██████████| 10000/10000 [03:07<00:00, 53.29it/s]\n"
          ]
        },
        {
          "output_type": "stream",
          "name": "stdout",
          "text": [
            "MRR: 0.17\n",
            "MR: 9156.42\n",
            "Hits@10: 0.27\n",
            "Hits@3: 0.20\n",
            "Hits@1: 0.12\n",
            "mutate c3: struct({'position': array([73.90054652, 29.63280636, 86.46068838]), 'cost': 0.16964524654998395})\n",
            "mutate c4: struct({'position': array([100.        ,  40.06205912,  99.95751311]), 'cost': 0.17368344402761837})\n",
            "pop: [struct({'position': array([100.        ,  40.06205912,  99.95751311]), 'cost': 0.17368344402761837}), struct({'position': array([89.95284869, 34.1406443 , 99.83083087]), 'cost': 0.1729138772973974}), struct({'position': array([88.75893817, 38.6814769 , 99.87331775]), 'cost': 0.17289455043505678})]\n",
            "Iteration 5: Best Cost = 0.17368344402761837\n",
            "P1: struct({'position': array([88.75893817, 38.6814769 , 99.87331775]), 'cost': 0.17289455043505678})\n",
            "P2: struct({'position': array([89.95284869, 34.1406443 , 99.83083087]), 'cost': 0.1729138772973974})\n",
            "[88.95720128 35.40068221 99.8425956 ]\n"
          ]
        },
        {
          "output_type": "stream",
          "name": "stderr",
          "text": [
            "Average ComplEx Loss:   3.540940: 100%|██████████| 10/10 [00:47<00:00,  4.78s/epoch]"
          ]
        },
        {
          "output_type": "stream",
          "name": "stdout",
          "text": [
            "WARNING - DeprecationWarning: use_default_protocol will be removed in future. Please use corrupt_side argument instead.\n"
          ]
        },
        {
          "output_type": "stream",
          "name": "stderr",
          "text": [
            "\n",
            "100%|██████████| 10000/10000 [03:10<00:00, 52.53it/s]\n"
          ]
        },
        {
          "output_type": "stream",
          "name": "stdout",
          "text": [
            "MRR: 0.17\n",
            "MR: 9076.89\n",
            "Hits@10: 0.26\n",
            "Hits@3: 0.20\n",
            "Hits@1: 0.12\n",
            "[89.75458558 37.42143899 99.86155302]\n"
          ]
        },
        {
          "output_type": "stream",
          "name": "stderr",
          "text": [
            "Average ComplEx Loss:   3.593738: 100%|██████████| 10/10 [00:50<00:00,  5.03s/epoch]"
          ]
        },
        {
          "output_type": "stream",
          "name": "stdout",
          "text": [
            "WARNING - DeprecationWarning: use_default_protocol will be removed in future. Please use corrupt_side argument instead.\n"
          ]
        },
        {
          "output_type": "stream",
          "name": "stderr",
          "text": [
            "\n",
            "100%|██████████| 10000/10000 [03:09<00:00, 52.86it/s]\n"
          ]
        },
        {
          "output_type": "stream",
          "name": "stdout",
          "text": [
            "MRR: 0.17\n",
            "MR: 9084.75\n",
            "Hits@10: 0.27\n",
            "Hits@3: 0.20\n",
            "Hits@1: 0.12\n",
            "crossover c1: struct({'position': array([88.95720128, 35.40068221, 99.8425956 ]), 'cost': 0.17261617706430096})\n",
            "crossover c2: struct({'position': array([89.75458558, 37.42143899, 99.86155302]), 'cost': 0.17245115642741735})\n",
            "[61.89132419 35.40068221 97.08983314]\n"
          ]
        },
        {
          "output_type": "stream",
          "name": "stderr",
          "text": [
            "Average ComplEx Loss:   3.566066: 100%|██████████| 10/10 [00:45<00:00,  4.59s/epoch]"
          ]
        },
        {
          "output_type": "stream",
          "name": "stdout",
          "text": [
            "WARNING - DeprecationWarning: use_default_protocol will be removed in future. Please use corrupt_side argument instead.\n"
          ]
        },
        {
          "output_type": "stream",
          "name": "stderr",
          "text": [
            "\n",
            "100%|██████████| 10000/10000 [03:07<00:00, 53.46it/s]\n"
          ]
        },
        {
          "output_type": "stream",
          "name": "stdout",
          "text": [
            "MRR: 0.16\n",
            "MR: 8471.01\n",
            "Hits@10: 0.26\n",
            "Hits@3: 0.19\n",
            "Hits@1: 0.11\n",
            "[100.          37.42143899 100.        ]\n"
          ]
        },
        {
          "output_type": "stream",
          "name": "stderr",
          "text": [
            "Average ComplEx Loss:   3.577917: 100%|██████████| 10/10 [00:50<00:00,  5.04s/epoch]"
          ]
        },
        {
          "output_type": "stream",
          "name": "stdout",
          "text": [
            "WARNING - DeprecationWarning: use_default_protocol will be removed in future. Please use corrupt_side argument instead.\n"
          ]
        },
        {
          "output_type": "stream",
          "name": "stderr",
          "text": [
            "\n",
            "100%|██████████| 10000/10000 [03:08<00:00, 53.11it/s]\n"
          ]
        },
        {
          "output_type": "stream",
          "name": "stdout",
          "text": [
            "MRR: 0.17\n",
            "MR: 8971.61\n",
            "Hits@10: 0.27\n",
            "Hits@3: 0.20\n",
            "Hits@1: 0.12\n",
            "mutate c3: struct({'position': array([61.89132419, 35.40068221, 97.08983314]), 'cost': 0.16422381296780397})\n",
            "mutate c4: struct({'position': array([100.        ,  37.42143899, 100.        ]), 'cost': 0.1733210187724959})\n",
            "P1: struct({'position': array([89.95284869, 34.1406443 , 99.83083087]), 'cost': 0.1729138772973974})\n",
            "P2: struct({'position': array([89.95284869, 34.1406443 , 99.83083087]), 'cost': 0.1729138772973974})\n",
            "Dynamic Programming\n",
            "Dynamic Programming\n",
            "crossover c1: struct({'position': array([89.95284869, 34.1406443 , 99.83083087]), 'cost': 0.1729138772973974})\n",
            "crossover c2: struct({'position': array([89.95284869, 34.1406443 , 99.83083087]), 'cost': 0.1729138772973974})\n",
            "[100.          56.91280631 100.        ]\n"
          ]
        },
        {
          "output_type": "stream",
          "name": "stderr",
          "text": [
            "Average ComplEx Loss:   3.981969: 100%|██████████| 10/10 [01:13<00:00,  7.32s/epoch]"
          ]
        },
        {
          "output_type": "stream",
          "name": "stdout",
          "text": [
            "WARNING - DeprecationWarning: use_default_protocol will be removed in future. Please use corrupt_side argument instead.\n"
          ]
        },
        {
          "output_type": "stream",
          "name": "stderr",
          "text": [
            "\n",
            "100%|██████████| 10000/10000 [03:08<00:00, 52.91it/s]\n"
          ]
        },
        {
          "output_type": "stream",
          "name": "stdout",
          "text": [
            "MRR: 0.17\n",
            "MR: 9125.05\n",
            "Hits@10: 0.26\n",
            "Hits@3: 0.20\n",
            "Hits@1: 0.12\n",
            "[90.00453023 33.87115995 63.06147949]\n"
          ]
        },
        {
          "output_type": "stream",
          "name": "stderr",
          "text": [
            "Average ComplEx Loss:   3.496531: 100%|██████████| 10/10 [00:30<00:00,  3.05s/epoch]"
          ]
        },
        {
          "output_type": "stream",
          "name": "stdout",
          "text": [
            "WARNING - DeprecationWarning: use_default_protocol will be removed in future. Please use corrupt_side argument instead.\n"
          ]
        },
        {
          "output_type": "stream",
          "name": "stderr",
          "text": [
            "\n",
            "100%|██████████| 10000/10000 [02:45<00:00, 60.25it/s]\n"
          ]
        },
        {
          "output_type": "stream",
          "name": "stdout",
          "text": [
            "MRR: 0.14\n",
            "MR: 9216.37\n",
            "Hits@10: 0.24\n",
            "Hits@3: 0.17\n",
            "Hits@1: 0.10\n",
            "mutate c3: struct({'position': array([100.        ,  56.91280631, 100.        ]), 'cost': 0.17273631041013693})\n",
            "mutate c4: struct({'position': array([90.00453023, 33.87115995, 63.06147949]), 'cost': 0.14495639556116482})\n",
            "pop: [struct({'position': array([100.        ,  40.06205912,  99.95751311]), 'cost': 0.17368344402761837}), struct({'position': array([100.        ,  37.42143899, 100.        ]), 'cost': 0.1733210187724959}), struct({'position': array([89.95284869, 34.1406443 , 99.83083087]), 'cost': 0.1729138772973974})]\n",
            "Iteration 6: Best Cost = 0.17368344402761837\n",
            "P1: struct({'position': array([100.        ,  37.42143899, 100.        ]), 'cost': 0.1733210187724959})\n",
            "P2: struct({'position': array([100.        ,  37.42143899, 100.        ]), 'cost': 0.1733210187724959})\n",
            "Dynamic Programming\n",
            "Dynamic Programming\n",
            "crossover c1: struct({'position': array([100.        ,  37.42143899, 100.        ]), 'cost': 0.1733210187724959})\n",
            "crossover c2: struct({'position': array([100.        ,  37.42143899, 100.        ]), 'cost': 0.1733210187724959})\n",
            "[85.07852534 31.21786543 79.20438632]\n"
          ]
        },
        {
          "output_type": "stream",
          "name": "stderr",
          "text": [
            "Average ComplEx Loss:   3.435204: 100%|██████████| 10/10 [00:35<00:00,  3.54s/epoch]"
          ]
        },
        {
          "output_type": "stream",
          "name": "stdout",
          "text": [
            "WARNING - DeprecationWarning: use_default_protocol will be removed in future. Please use corrupt_side argument instead.\n"
          ]
        },
        {
          "output_type": "stream",
          "name": "stderr",
          "text": [
            "\n",
            "100%|██████████| 10000/10000 [02:56<00:00, 56.68it/s]\n"
          ]
        },
        {
          "output_type": "stream",
          "name": "stdout",
          "text": [
            "MRR: 0.16\n",
            "MR: 9188.54\n",
            "Hits@10: 0.25\n",
            "Hits@3: 0.18\n",
            "Hits@1: 0.11\n",
            "[100.          37.42143899  98.4955318 ]\n"
          ]
        },
        {
          "output_type": "stream",
          "name": "stderr",
          "text": [
            "Average ComplEx Loss:   3.574733: 100%|██████████| 10/10 [00:49<00:00,  4.92s/epoch]"
          ]
        },
        {
          "output_type": "stream",
          "name": "stdout",
          "text": [
            "WARNING - DeprecationWarning: use_default_protocol will be removed in future. Please use corrupt_side argument instead.\n"
          ]
        },
        {
          "output_type": "stream",
          "name": "stderr",
          "text": [
            "\n",
            "100%|██████████| 10000/10000 [03:06<00:00, 53.58it/s]\n"
          ]
        },
        {
          "output_type": "stream",
          "name": "stdout",
          "text": [
            "MRR: 0.17\n",
            "MR: 9079.38\n",
            "Hits@10: 0.26\n",
            "Hits@3: 0.19\n",
            "Hits@1: 0.12\n",
            "mutate c3: struct({'position': array([85.07852534, 31.21786543, 79.20438632]), 'cost': 0.15685847003282197})\n",
            "mutate c4: struct({'position': array([100.        ,  37.42143899,  98.4955318 ]), 'cost': 0.16864991203043517})\n",
            "P1: struct({'position': array([89.95284869, 34.1406443 , 99.83083087]), 'cost': 0.1729138772973974})\n",
            "P2: struct({'position': array([100.        ,  37.42143899, 100.        ]), 'cost': 0.1733210187724959})\n",
            "[97.26418409 34.61096655 99.87606644]\n"
          ]
        },
        {
          "output_type": "stream",
          "name": "stderr",
          "text": [
            "Average ComplEx Loss:   3.501840: 100%|██████████| 10/10 [00:47<00:00,  4.71s/epoch]"
          ]
        },
        {
          "output_type": "stream",
          "name": "stdout",
          "text": [
            "WARNING - DeprecationWarning: use_default_protocol will be removed in future. Please use corrupt_side argument instead.\n"
          ]
        },
        {
          "output_type": "stream",
          "name": "stderr",
          "text": [
            "\n",
            "100%|██████████| 10000/10000 [03:10<00:00, 52.42it/s]\n"
          ]
        },
        {
          "output_type": "stream",
          "name": "stdout",
          "text": [
            "MRR: 0.17\n",
            "MR: 9093.71\n",
            "Hits@10: 0.27\n",
            "Hits@3: 0.20\n",
            "Hits@1: 0.12\n",
            "[92.6886646  36.95111674 99.95476442]\n"
          ]
        },
        {
          "output_type": "stream",
          "name": "stderr",
          "text": [
            "Average ComplEx Loss:   3.563317: 100%|██████████| 10/10 [00:49<00:00,  4.95s/epoch]"
          ]
        },
        {
          "output_type": "stream",
          "name": "stdout",
          "text": [
            "WARNING - DeprecationWarning: use_default_protocol will be removed in future. Please use corrupt_side argument instead.\n"
          ]
        },
        {
          "output_type": "stream",
          "name": "stderr",
          "text": [
            "\n",
            "100%|██████████| 10000/10000 [03:10<00:00, 52.53it/s]\n"
          ]
        },
        {
          "output_type": "stream",
          "name": "stdout",
          "text": [
            "MRR: 0.17\n",
            "MR: 9081.94\n",
            "Hits@10: 0.27\n",
            "Hits@3: 0.20\n",
            "Hits@1: 0.12\n",
            "crossover c1: struct({'position': array([97.26418409, 34.61096655, 99.87606644]), 'cost': 0.174452772331595})\n",
            "crossover c2: struct({'position': array([92.6886646 , 36.95111674, 99.95476442]), 'cost': 0.17420175227557747})\n",
            "[78.64459066 62.63527777 88.92232411]\n"
          ]
        },
        {
          "output_type": "stream",
          "name": "stderr",
          "text": [
            "Average ComplEx Loss:   4.112948: 100%|██████████| 10/10 [01:07<00:00,  6.78s/epoch]"
          ]
        },
        {
          "output_type": "stream",
          "name": "stdout",
          "text": [
            "WARNING - DeprecationWarning: use_default_protocol will be removed in future. Please use corrupt_side argument instead.\n"
          ]
        },
        {
          "output_type": "stream",
          "name": "stderr",
          "text": [
            "\n",
            "100%|██████████| 10000/10000 [02:59<00:00, 55.71it/s]\n"
          ]
        },
        {
          "output_type": "stream",
          "name": "stdout",
          "text": [
            "MRR: 0.17\n",
            "MR: 9026.20\n",
            "Hits@10: 0.27\n",
            "Hits@3: 0.20\n",
            "Hits@1: 0.12\n",
            "[86.10047755 27.58429027 98.17312096]\n"
          ]
        },
        {
          "output_type": "stream",
          "name": "stderr",
          "text": [
            "Average ComplEx Loss:   3.289625: 100%|██████████| 10/10 [00:37<00:00,  3.75s/epoch]"
          ]
        },
        {
          "output_type": "stream",
          "name": "stdout",
          "text": [
            "WARNING - DeprecationWarning: use_default_protocol will be removed in future. Please use corrupt_side argument instead.\n"
          ]
        },
        {
          "output_type": "stream",
          "name": "stderr",
          "text": [
            "\n",
            "100%|██████████| 10000/10000 [03:07<00:00, 53.19it/s]\n"
          ]
        },
        {
          "output_type": "stream",
          "name": "stdout",
          "text": [
            "MRR: 0.17\n",
            "MR: 8865.36\n",
            "Hits@10: 0.26\n",
            "Hits@3: 0.19\n",
            "Hits@1: 0.12\n",
            "mutate c3: struct({'position': array([78.64459066, 62.63527777, 88.92232411]), 'cost': 0.17265427244347883})\n",
            "mutate c4: struct({'position': array([86.10047755, 27.58429027, 98.17312096]), 'cost': 0.16747040124339957})\n",
            "pop: [struct({'position': array([97.26418409, 34.61096655, 99.87606644]), 'cost': 0.174452772331595}), struct({'position': array([92.6886646 , 36.95111674, 99.95476442]), 'cost': 0.17420175227557747}), struct({'position': array([100.        ,  40.06205912,  99.95751311]), 'cost': 0.17368344402761837})]\n",
            "Iteration 7: Best Cost = 0.174452772331595\n",
            "P1: struct({'position': array([92.6886646 , 36.95111674, 99.95476442]), 'cost': 0.17420175227557747})\n",
            "P2: struct({'position': array([92.6886646 , 36.95111674, 99.95476442]), 'cost': 0.17420175227557747})\n",
            "Dynamic Programming\n",
            "Dynamic Programming\n",
            "crossover c1: struct({'position': array([92.6886646 , 36.95111674, 99.95476442]), 'cost': 0.17420175227557747})\n",
            "crossover c2: struct({'position': array([92.6886646 , 36.95111674, 99.95476442]), 'cost': 0.17420175227557747})\n",
            "[100.  20. 100.]\n"
          ]
        },
        {
          "output_type": "stream",
          "name": "stderr",
          "text": [
            "Average ComplEx Loss:   2.987974: 100%|██████████| 10/10 [00:30<00:00,  3.06s/epoch]"
          ]
        },
        {
          "output_type": "stream",
          "name": "stdout",
          "text": [
            "WARNING - DeprecationWarning: use_default_protocol will be removed in future. Please use corrupt_side argument instead.\n"
          ]
        },
        {
          "output_type": "stream",
          "name": "stderr",
          "text": [
            "\n",
            "100%|██████████| 10000/10000 [03:10<00:00, 52.47it/s]\n"
          ]
        },
        {
          "output_type": "stream",
          "name": "stdout",
          "text": [
            "MRR: 0.18\n",
            "MR: 8754.64\n",
            "Hits@10: 0.27\n",
            "Hits@3: 0.20\n",
            "Hits@1: 0.12\n",
            "[100.          36.95111674  98.41509586]\n"
          ]
        },
        {
          "output_type": "stream",
          "name": "stderr",
          "text": [
            "Average ComplEx Loss:   3.548177: 100%|██████████| 10/10 [00:48<00:00,  4.82s/epoch]"
          ]
        },
        {
          "output_type": "stream",
          "name": "stdout",
          "text": [
            "WARNING - DeprecationWarning: use_default_protocol will be removed in future. Please use corrupt_side argument instead.\n"
          ]
        },
        {
          "output_type": "stream",
          "name": "stderr",
          "text": [
            "\n",
            "100%|██████████| 10000/10000 [03:07<00:00, 53.31it/s]\n"
          ]
        },
        {
          "output_type": "stream",
          "name": "stdout",
          "text": [
            "MRR: 0.17\n",
            "MR: 9087.14\n",
            "Hits@10: 0.26\n",
            "Hits@3: 0.19\n",
            "Hits@1: 0.12\n",
            "mutate c3: struct({'position': array([100.,  20., 100.]), 'cost': 0.17603006275816038})\n",
            "mutate c4: struct({'position': array([100.        ,  36.95111674,  98.41509586]), 'cost': 0.16829312601977248})\n",
            "P1: struct({'position': array([92.6886646 , 36.95111674, 99.95476442]), 'cost': 0.17420175227557747})\n",
            "P2: struct({'position': array([97.26418409, 34.61096655, 99.87606644]), 'cost': 0.174452772331595})\n",
            "[93.80372368 34.93088272 99.89643454]\n"
          ]
        },
        {
          "output_type": "stream",
          "name": "stderr",
          "text": [
            "Average ComplEx Loss:   3.506838: 100%|██████████| 10/10 [00:46<00:00,  4.69s/epoch]"
          ]
        },
        {
          "output_type": "stream",
          "name": "stdout",
          "text": [
            "WARNING - DeprecationWarning: use_default_protocol will be removed in future. Please use corrupt_side argument instead.\n"
          ]
        },
        {
          "output_type": "stream",
          "name": "stderr",
          "text": [
            "\n",
            "100%|██████████| 10000/10000 [03:10<00:00, 52.56it/s]\n"
          ]
        },
        {
          "output_type": "stream",
          "name": "stdout",
          "text": [
            "MRR: 0.17\n",
            "MR: 9064.68\n",
            "Hits@10: 0.27\n",
            "Hits@3: 0.20\n",
            "Hits@1: 0.12\n",
            "[96.14912502 36.63120057 99.93439633]\n"
          ]
        },
        {
          "output_type": "stream",
          "name": "stderr",
          "text": [
            "Average ComplEx Loss:   3.557823: 100%|██████████| 10/10 [00:49<00:00,  4.95s/epoch]"
          ]
        },
        {
          "output_type": "stream",
          "name": "stdout",
          "text": [
            "WARNING - DeprecationWarning: use_default_protocol will be removed in future. Please use corrupt_side argument instead.\n"
          ]
        },
        {
          "output_type": "stream",
          "name": "stderr",
          "text": [
            "\n",
            "100%|██████████| 10000/10000 [03:08<00:00, 52.91it/s]\n"
          ]
        },
        {
          "output_type": "stream",
          "name": "stdout",
          "text": [
            "MRR: 0.17\n",
            "MR: 9103.93\n",
            "Hits@10: 0.27\n",
            "Hits@3: 0.20\n",
            "Hits@1: 0.12\n",
            "crossover c1: struct({'position': array([93.80372368, 34.93088272, 99.89643454]), 'cost': 0.17390130471988044})\n",
            "crossover c2: struct({'position': array([96.14912502, 36.63120057, 99.93439633]), 'cost': 0.17388612128413347})\n",
            "[100.          27.68048444  98.84033892]\n"
          ]
        },
        {
          "output_type": "stream",
          "name": "stderr",
          "text": [
            "Average ComplEx Loss:   3.270822: 100%|██████████| 10/10 [00:38<00:00,  3.84s/epoch]"
          ]
        },
        {
          "output_type": "stream",
          "name": "stdout",
          "text": [
            "WARNING - DeprecationWarning: use_default_protocol will be removed in future. Please use corrupt_side argument instead.\n"
          ]
        },
        {
          "output_type": "stream",
          "name": "stderr",
          "text": [
            "\n",
            "100%|██████████| 10000/10000 [03:06<00:00, 53.72it/s]\n"
          ]
        },
        {
          "output_type": "stream",
          "name": "stdout",
          "text": [
            "MRR: 0.17\n",
            "MR: 8970.46\n",
            "Hits@10: 0.26\n",
            "Hits@3: 0.19\n",
            "Hits@1: 0.12\n",
            "[98.12331963 21.92627372 97.32488976]\n"
          ]
        },
        {
          "output_type": "stream",
          "name": "stderr",
          "text": [
            "Average ComplEx Loss:   3.038233: 100%|██████████| 10/10 [00:31<00:00,  3.12s/epoch]"
          ]
        },
        {
          "output_type": "stream",
          "name": "stdout",
          "text": [
            "WARNING - DeprecationWarning: use_default_protocol will be removed in future. Please use corrupt_side argument instead.\n"
          ]
        },
        {
          "output_type": "stream",
          "name": "stderr",
          "text": [
            "\n",
            "100%|██████████| 10000/10000 [03:07<00:00, 53.21it/s]\n"
          ]
        },
        {
          "output_type": "stream",
          "name": "stdout",
          "text": [
            "MRR: 0.17\n",
            "MR: 8491.66\n",
            "Hits@10: 0.27\n",
            "Hits@3: 0.20\n",
            "Hits@1: 0.12\n",
            "mutate c3: struct({'position': array([100.        ,  27.68048444,  98.84033892]), 'cost': 0.16945077405656342})\n",
            "mutate c4: struct({'position': array([98.12331963, 21.92627372, 97.32488976]), 'cost': 0.17471766713454565})\n",
            "pop: [struct({'position': array([100.,  20., 100.]), 'cost': 0.17603006275816038}), struct({'position': array([98.12331963, 21.92627372, 97.32488976]), 'cost': 0.17471766713454565}), struct({'position': array([97.26418409, 34.61096655, 99.87606644]), 'cost': 0.174452772331595})]\n",
            "Iteration 8: Best Cost = 0.17603006275816038\n",
            "P1: struct({'position': array([100.,  20., 100.]), 'cost': 0.17603006275816038})\n",
            "P2: struct({'position': array([98.12331963, 21.92627372, 97.32488976]), 'cost': 0.17471766713454565})\n",
            "[98.69368157 20.25736723 97.79494615]\n"
          ]
        },
        {
          "output_type": "stream",
          "name": "stderr",
          "text": [
            "Average ComplEx Loss:   2.991995: 100%|██████████| 10/10 [00:29<00:00,  3.00s/epoch]"
          ]
        },
        {
          "output_type": "stream",
          "name": "stdout",
          "text": [
            "WARNING - DeprecationWarning: use_default_protocol will be removed in future. Please use corrupt_side argument instead.\n"
          ]
        },
        {
          "output_type": "stream",
          "name": "stderr",
          "text": [
            "\n",
            "100%|██████████| 10000/10000 [03:07<00:00, 53.33it/s]\n"
          ]
        },
        {
          "output_type": "stream",
          "name": "stdout",
          "text": [
            "MRR: 0.17\n",
            "MR: 8492.93\n",
            "Hits@10: 0.27\n",
            "Hits@3: 0.20\n",
            "Hits@1: 0.12\n",
            "[99.42963806 21.66890649 99.52994361]\n"
          ]
        },
        {
          "output_type": "stream",
          "name": "stderr",
          "text": [
            "Average ComplEx Loss:   3.036591: 100%|██████████| 10/10 [00:31<00:00,  3.18s/epoch]"
          ]
        },
        {
          "output_type": "stream",
          "name": "stdout",
          "text": [
            "WARNING - DeprecationWarning: use_default_protocol will be removed in future. Please use corrupt_side argument instead.\n"
          ]
        },
        {
          "output_type": "stream",
          "name": "stderr",
          "text": [
            "\n",
            "100%|██████████| 10000/10000 [03:08<00:00, 53.09it/s]\n"
          ]
        },
        {
          "output_type": "stream",
          "name": "stdout",
          "text": [
            "MRR: 0.18\n",
            "MR: 8957.48\n",
            "Hits@10: 0.27\n",
            "Hits@3: 0.20\n",
            "Hits@1: 0.13\n",
            "crossover c1: struct({'position': array([98.69368157, 20.25736723, 97.79494615]), 'cost': 0.1746481632384747})\n",
            "crossover c2: struct({'position': array([99.42963806, 21.66890649, 99.52994361]), 'cost': 0.17543799636156795})\n",
            "[ 82.30350092  20.         100.        ]\n"
          ]
        },
        {
          "output_type": "stream",
          "name": "stderr",
          "text": [
            "Average ComplEx Loss:   3.009683: 100%|██████████| 10/10 [00:29<00:00,  2.97s/epoch]"
          ]
        },
        {
          "output_type": "stream",
          "name": "stdout",
          "text": [
            "WARNING - DeprecationWarning: use_default_protocol will be removed in future. Please use corrupt_side argument instead.\n"
          ]
        },
        {
          "output_type": "stream",
          "name": "stderr",
          "text": [
            "\n",
            "100%|██████████| 10000/10000 [03:04<00:00, 54.06it/s]\n"
          ]
        },
        {
          "output_type": "stream",
          "name": "stdout",
          "text": [
            "MRR: 0.17\n",
            "MR: 8695.46\n",
            "Hits@10: 0.27\n",
            "Hits@3: 0.20\n",
            "Hits@1: 0.12\n",
            "[100.          20.77541077 100.        ]\n"
          ]
        },
        {
          "output_type": "stream",
          "name": "stderr",
          "text": [
            "Average ComplEx Loss:   2.987974: 100%|██████████| 10/10 [00:30<00:00,  3.06s/epoch]"
          ]
        },
        {
          "output_type": "stream",
          "name": "stdout",
          "text": [
            "WARNING - DeprecationWarning: use_default_protocol will be removed in future. Please use corrupt_side argument instead.\n"
          ]
        },
        {
          "output_type": "stream",
          "name": "stderr",
          "text": [
            "\n",
            "100%|██████████| 10000/10000 [03:03<00:00, 54.35it/s]\n"
          ]
        },
        {
          "output_type": "stream",
          "name": "stdout",
          "text": [
            "MRR: 0.18\n",
            "MR: 8754.64\n",
            "Hits@10: 0.27\n",
            "Hits@3: 0.20\n",
            "Hits@1: 0.12\n",
            "mutate c3: struct({'position': array([ 82.30350092,  20.        , 100.        ]), 'cost': 0.1718387642026156})\n",
            "mutate c4: struct({'position': array([100.        ,  20.77541077, 100.        ]), 'cost': 0.17603006274714067})\n",
            "P1: struct({'position': array([100.,  20., 100.]), 'cost': 0.17603006275816038})\n",
            "P2: struct({'position': array([98.12331963, 21.92627372, 97.32488976]), 'cost': 0.17471766713454565})\n",
            "[98.64420866 21.55046306 99.90502483]\n"
          ]
        },
        {
          "output_type": "stream",
          "name": "stderr",
          "text": [
            "Average ComplEx Loss:   3.038125: 100%|██████████| 10/10 [00:31<00:00,  3.16s/epoch]"
          ]
        },
        {
          "output_type": "stream",
          "name": "stdout",
          "text": [
            "WARNING - DeprecationWarning: use_default_protocol will be removed in future. Please use corrupt_side argument instead.\n"
          ]
        },
        {
          "output_type": "stream",
          "name": "stderr",
          "text": [
            "\n",
            "100%|██████████| 10000/10000 [03:04<00:00, 54.06it/s]\n"
          ]
        },
        {
          "output_type": "stream",
          "name": "stdout",
          "text": [
            "MRR: 0.17\n",
            "MR: 8984.32\n",
            "Hits@10: 0.27\n",
            "Hits@3: 0.20\n",
            "Hits@1: 0.12\n",
            "[99.47911097 20.37581066 97.41986493]\n"
          ]
        },
        {
          "output_type": "stream",
          "name": "stderr",
          "text": [
            "Average ComplEx Loss:   2.990449: 100%|██████████| 10/10 [00:30<00:00,  3.02s/epoch]"
          ]
        },
        {
          "output_type": "stream",
          "name": "stdout",
          "text": [
            "WARNING - DeprecationWarning: use_default_protocol will be removed in future. Please use corrupt_side argument instead.\n"
          ]
        },
        {
          "output_type": "stream",
          "name": "stderr",
          "text": [
            "\n",
            "100%|██████████| 10000/10000 [03:03<00:00, 54.38it/s]\n"
          ]
        },
        {
          "output_type": "stream",
          "name": "stdout",
          "text": [
            "MRR: 0.18\n",
            "MR: 8477.71\n",
            "Hits@10: 0.27\n",
            "Hits@3: 0.20\n",
            "Hits@1: 0.12\n",
            "crossover c1: struct({'position': array([98.64420866, 21.55046306, 99.90502483]), 'cost': 0.17430692447383422})\n",
            "crossover c2: struct({'position': array([99.47911097, 20.37581066, 97.41986493]), 'cost': 0.17524133629459454})\n",
            "[ 84.91144047  34.71344886 100.        ]\n"
          ]
        },
        {
          "output_type": "stream",
          "name": "stderr",
          "text": [
            "Average ComplEx Loss:   3.516532: 100%|██████████| 10/10 [00:45<00:00,  4.58s/epoch]"
          ]
        },
        {
          "output_type": "stream",
          "name": "stdout",
          "text": [
            "WARNING - DeprecationWarning: use_default_protocol will be removed in future. Please use corrupt_side argument instead.\n"
          ]
        },
        {
          "output_type": "stream",
          "name": "stderr",
          "text": [
            "\n",
            "100%|██████████| 10000/10000 [03:06<00:00, 53.60it/s]\n"
          ]
        },
        {
          "output_type": "stream",
          "name": "stdout",
          "text": [
            "MRR: 0.17\n",
            "MR: 8843.86\n",
            "Hits@10: 0.26\n",
            "Hits@3: 0.20\n",
            "Hits@1: 0.12\n",
            "[100.          20.          86.58336408]\n"
          ]
        },
        {
          "output_type": "stream",
          "name": "stderr",
          "text": [
            "Average ComplEx Loss:   2.994452: 100%|██████████| 10/10 [00:27<00:00,  2.70s/epoch]"
          ]
        },
        {
          "output_type": "stream",
          "name": "stdout",
          "text": [
            "WARNING - DeprecationWarning: use_default_protocol will be removed in future. Please use corrupt_side argument instead.\n"
          ]
        },
        {
          "output_type": "stream",
          "name": "stderr",
          "text": [
            "\n",
            "100%|██████████| 10000/10000 [02:55<00:00, 56.86it/s]\n"
          ]
        },
        {
          "output_type": "stream",
          "name": "stdout",
          "text": [
            "MRR: 0.18\n",
            "MR: 8816.20\n",
            "Hits@10: 0.27\n",
            "Hits@3: 0.20\n",
            "Hits@1: 0.13\n",
            "mutate c3: struct({'position': array([ 84.91144047,  34.71344886, 100.        ]), 'cost': 0.17188173764753473})\n",
            "mutate c4: struct({'position': array([100.        ,  20.        ,  86.58336408]), 'cost': 0.17797409749458262})\n",
            "pop: [struct({'position': array([100.        ,  20.        ,  86.58336408]), 'cost': 0.17797409749458262}), struct({'position': array([100.,  20., 100.]), 'cost': 0.17603006275816038}), struct({'position': array([100.        ,  20.77541077, 100.        ]), 'cost': 0.17603006274714067})]\n",
            "Iteration 9: Best Cost = 0.17797409749458262\n",
            "P1: struct({'position': array([100.,  20., 100.]), 'cost': 0.17603006275816038})\n",
            "P2: struct({'position': array([100.        ,  20.        ,  86.58336408]), 'cost': 0.17797409749458262})\n",
            "[100.          20.          87.03326652]\n"
          ]
        },
        {
          "output_type": "stream",
          "name": "stderr",
          "text": [
            "Average ComplEx Loss:   2.994288: 100%|██████████| 10/10 [00:27<00:00,  2.75s/epoch]"
          ]
        },
        {
          "output_type": "stream",
          "name": "stdout",
          "text": [
            "WARNING - DeprecationWarning: use_default_protocol will be removed in future. Please use corrupt_side argument instead.\n"
          ]
        },
        {
          "output_type": "stream",
          "name": "stderr",
          "text": [
            "\n",
            "100%|██████████| 10000/10000 [02:58<00:00, 56.02it/s]\n"
          ]
        },
        {
          "output_type": "stream",
          "name": "stdout",
          "text": [
            "MRR: 0.18\n",
            "MR: 8658.98\n",
            "Hits@10: 0.27\n",
            "Hits@3: 0.20\n",
            "Hits@1: 0.13\n",
            "[100.          20.          99.55009756]\n"
          ]
        },
        {
          "output_type": "stream",
          "name": "stderr",
          "text": [
            "Average ComplEx Loss:   2.989318: 100%|██████████| 10/10 [00:30<00:00,  3.05s/epoch]"
          ]
        },
        {
          "output_type": "stream",
          "name": "stdout",
          "text": [
            "WARNING - DeprecationWarning: use_default_protocol will be removed in future. Please use corrupt_side argument instead.\n"
          ]
        },
        {
          "output_type": "stream",
          "name": "stderr",
          "text": [
            "\n",
            "100%|██████████| 10000/10000 [03:05<00:00, 53.82it/s]\n"
          ]
        },
        {
          "output_type": "stream",
          "name": "stdout",
          "text": [
            "MRR: 0.17\n",
            "MR: 8940.29\n",
            "Hits@10: 0.27\n",
            "Hits@3: 0.20\n",
            "Hits@1: 0.12\n",
            "crossover c1: struct({'position': array([100.        ,  20.        ,  87.03326652]), 'cost': 0.17883087134197845})\n",
            "crossover c2: struct({'position': array([100.        ,  20.        ,  99.55009756]), 'cost': 0.17440670130946606})\n",
            "[72.23681233 20.         94.83428493]\n"
          ]
        },
        {
          "output_type": "stream",
          "name": "stderr",
          "text": [
            "Average ComplEx Loss:   3.020998: 100%|██████████| 10/10 [00:27<00:00,  2.77s/epoch]"
          ]
        },
        {
          "output_type": "stream",
          "name": "stdout",
          "text": [
            "WARNING - DeprecationWarning: use_default_protocol will be removed in future. Please use corrupt_side argument instead.\n"
          ]
        },
        {
          "output_type": "stream",
          "name": "stderr",
          "text": [
            "\n",
            "100%|██████████| 10000/10000 [03:01<00:00, 55.07it/s]\n"
          ]
        },
        {
          "output_type": "stream",
          "name": "stdout",
          "text": [
            "MRR: 0.17\n",
            "MR: 8480.65\n",
            "Hits@10: 0.27\n",
            "Hits@3: 0.19\n",
            "Hits@1: 0.12\n",
            "[100.          48.56766901  92.19409459]\n"
          ]
        },
        {
          "output_type": "stream",
          "name": "stderr",
          "text": [
            "Average ComplEx Loss:   3.836026: 100%|██████████| 10/10 [00:59<00:00,  5.91s/epoch]"
          ]
        },
        {
          "output_type": "stream",
          "name": "stdout",
          "text": [
            "WARNING - DeprecationWarning: use_default_protocol will be removed in future. Please use corrupt_side argument instead.\n"
          ]
        },
        {
          "output_type": "stream",
          "name": "stderr",
          "text": [
            "\n",
            "100%|██████████| 10000/10000 [03:00<00:00, 55.31it/s]\n"
          ]
        },
        {
          "output_type": "stream",
          "name": "stdout",
          "text": [
            "MRR: 0.17\n",
            "MR: 9144.64\n",
            "Hits@10: 0.26\n",
            "Hits@3: 0.20\n",
            "Hits@1: 0.12\n",
            "mutate c3: struct({'position': array([72.23681233, 20.        , 94.83428493]), 'cost': 0.16957869443800763})\n",
            "mutate c4: struct({'position': array([100.        ,  48.56766901,  92.19409459]), 'cost': 0.17110822962243488})\n",
            "P1: struct({'position': array([100.        ,  20.77541077, 100.        ]), 'cost': 0.17603006274714067})\n",
            "P2: struct({'position': array([100.        ,  20.        ,  86.58336408]), 'cost': 0.17797409749458262})\n",
            "[100.          20.54203552  92.60135243]\n"
          ]
        },
        {
          "output_type": "stream",
          "name": "stderr",
          "text": [
            "Average ComplEx Loss:   2.992353: 100%|██████████| 10/10 [00:28<00:00,  2.85s/epoch]"
          ]
        },
        {
          "output_type": "stream",
          "name": "stdout",
          "text": [
            "WARNING - DeprecationWarning: use_default_protocol will be removed in future. Please use corrupt_side argument instead.\n"
          ]
        },
        {
          "output_type": "stream",
          "name": "stderr",
          "text": [
            "\n",
            "100%|██████████| 10000/10000 [02:59<00:00, 55.63it/s]\n"
          ]
        },
        {
          "output_type": "stream",
          "name": "stdout",
          "text": [
            "MRR: 0.17\n",
            "MR: 8858.13\n",
            "Hits@10: 0.26\n",
            "Hits@3: 0.20\n",
            "Hits@1: 0.12\n",
            "[100.          20.23337525  93.98201164]\n"
          ]
        },
        {
          "output_type": "stream",
          "name": "stderr",
          "text": [
            "Average ComplEx Loss:   2.992566: 100%|██████████| 10/10 [00:29<00:00,  2.92s/epoch]"
          ]
        },
        {
          "output_type": "stream",
          "name": "stdout",
          "text": [
            "WARNING - DeprecationWarning: use_default_protocol will be removed in future. Please use corrupt_side argument instead.\n"
          ]
        },
        {
          "output_type": "stream",
          "name": "stderr",
          "text": [
            "\n",
            "100%|██████████| 10000/10000 [03:01<00:00, 55.23it/s]\n"
          ]
        },
        {
          "output_type": "stream",
          "name": "stdout",
          "text": [
            "MRR: 0.17\n",
            "MR: 8641.85\n",
            "Hits@10: 0.27\n",
            "Hits@3: 0.20\n",
            "Hits@1: 0.12\n",
            "crossover c1: struct({'position': array([100.        ,  20.54203552,  92.60135243]), 'cost': 0.17345423335143922})\n",
            "crossover c2: struct({'position': array([100.        ,  20.23337525,  93.98201164]), 'cost': 0.17400194231451865})\n",
            "[100.          20.          89.09894588]\n"
          ]
        },
        {
          "output_type": "stream",
          "name": "stderr",
          "text": [
            "Average ComplEx Loss:   2.994784: 100%|██████████| 10/10 [00:27<00:00,  2.79s/epoch]"
          ]
        },
        {
          "output_type": "stream",
          "name": "stdout",
          "text": [
            "WARNING - DeprecationWarning: use_default_protocol will be removed in future. Please use corrupt_side argument instead.\n"
          ]
        },
        {
          "output_type": "stream",
          "name": "stderr",
          "text": [
            "\n",
            "100%|██████████| 10000/10000 [02:58<00:00, 55.89it/s]\n"
          ]
        },
        {
          "output_type": "stream",
          "name": "stdout",
          "text": [
            "MRR: 0.18\n",
            "MR: 8771.58\n",
            "Hits@10: 0.28\n",
            "Hits@3: 0.20\n",
            "Hits@1: 0.13\n",
            "[100.          20.          72.55889554]\n"
          ]
        },
        {
          "output_type": "stream",
          "name": "stderr",
          "text": [
            "Average ComplEx Loss:   3.004849: 100%|██████████| 10/10 [00:22<00:00,  2.27s/epoch]"
          ]
        },
        {
          "output_type": "stream",
          "name": "stdout",
          "text": [
            "WARNING - DeprecationWarning: use_default_protocol will be removed in future. Please use corrupt_side argument instead.\n"
          ]
        },
        {
          "output_type": "stream",
          "name": "stderr",
          "text": [
            "\n",
            "100%|██████████| 10000/10000 [02:50<00:00, 58.61it/s]\n"
          ]
        },
        {
          "output_type": "stream",
          "name": "stdout",
          "text": [
            "MRR: 0.15\n",
            "MR: 9127.01\n",
            "Hits@10: 0.24\n",
            "Hits@3: 0.17\n",
            "Hits@1: 0.11\n",
            "mutate c3: struct({'position': array([100.        ,  20.        ,  89.09894588]), 'cost': 0.17928294641348488})\n",
            "mutate c4: struct({'position': array([100.        ,  20.        ,  72.55889554]), 'cost': 0.1530766055763642})\n",
            "pop: [struct({'position': array([100.        ,  20.        ,  89.09894588]), 'cost': 0.17928294641348488}), struct({'position': array([100.        ,  20.        ,  87.03326652]), 'cost': 0.17883087134197845}), struct({'position': array([100.        ,  20.        ,  86.58336408]), 'cost': 0.17797409749458262})]\n",
            "Iteration 10: Best Cost = 0.17928294641348488\n",
            "P1: struct({'position': array([100.        ,  20.        ,  89.09894588]), 'cost': 0.17928294641348488})\n",
            "P2: struct({'position': array([100.        ,  20.        ,  87.03326652]), 'cost': 0.17883087134197845})\n",
            "[100.          20.          87.42645226]\n"
          ]
        },
        {
          "output_type": "stream",
          "name": "stderr",
          "text": [
            "Average ComplEx Loss:   2.994288: 100%|██████████| 10/10 [00:27<00:00,  2.79s/epoch]"
          ]
        },
        {
          "output_type": "stream",
          "name": "stdout",
          "text": [
            "WARNING - DeprecationWarning: use_default_protocol will be removed in future. Please use corrupt_side argument instead.\n"
          ]
        },
        {
          "output_type": "stream",
          "name": "stderr",
          "text": [
            "\n",
            "100%|██████████| 10000/10000 [03:03<00:00, 54.64it/s]\n"
          ]
        },
        {
          "output_type": "stream",
          "name": "stdout",
          "text": [
            "MRR: 0.18\n",
            "MR: 8658.98\n",
            "Hits@10: 0.27\n",
            "Hits@3: 0.20\n",
            "Hits@1: 0.13\n",
            "[100.          20.          88.70576014]\n"
          ]
        },
        {
          "output_type": "stream",
          "name": "stderr",
          "text": [
            "Average ComplEx Loss:   2.994323: 100%|██████████| 10/10 [00:26<00:00,  2.69s/epoch]"
          ]
        },
        {
          "output_type": "stream",
          "name": "stdout",
          "text": [
            "WARNING - DeprecationWarning: use_default_protocol will be removed in future. Please use corrupt_side argument instead.\n"
          ]
        },
        {
          "output_type": "stream",
          "name": "stderr",
          "text": [
            "\n",
            "100%|██████████| 10000/10000 [02:55<00:00, 57.05it/s]\n"
          ]
        },
        {
          "output_type": "stream",
          "name": "stdout",
          "text": [
            "MRR: 0.18\n",
            "MR: 8829.95\n",
            "Hits@10: 0.28\n",
            "Hits@3: 0.20\n",
            "Hits@1: 0.12\n",
            "crossover c1: struct({'position': array([100.        ,  20.        ,  87.42645226]), 'cost': 0.17883087113631388})\n",
            "crossover c2: struct({'position': array([100.        ,  20.        ,  88.70576014]), 'cost': 0.1769983785306107})\n",
            "[100.          20.          58.19335232]\n"
          ]
        },
        {
          "output_type": "stream",
          "name": "stderr",
          "text": [
            "Average ComplEx Loss:   3.009287: 100%|██████████| 10/10 [00:19<00:00,  1.95s/epoch]"
          ]
        },
        {
          "output_type": "stream",
          "name": "stdout",
          "text": [
            "WARNING - DeprecationWarning: use_default_protocol will be removed in future. Please use corrupt_side argument instead.\n"
          ]
        },
        {
          "output_type": "stream",
          "name": "stderr",
          "text": [
            "\n",
            "100%|██████████| 10000/10000 [02:41<00:00, 62.00it/s]\n"
          ]
        },
        {
          "output_type": "stream",
          "name": "stdout",
          "text": [
            "MRR: 0.15\n",
            "MR: 9113.28\n",
            "Hits@10: 0.24\n",
            "Hits@3: 0.17\n",
            "Hits@1: 0.10\n",
            "[99.32264512 20.         97.32236703]\n"
          ]
        },
        {
          "output_type": "stream",
          "name": "stderr",
          "text": [
            "Average ComplEx Loss:   2.990449: 100%|██████████| 10/10 [00:30<00:00,  3.02s/epoch]"
          ]
        },
        {
          "output_type": "stream",
          "name": "stdout",
          "text": [
            "WARNING - DeprecationWarning: use_default_protocol will be removed in future. Please use corrupt_side argument instead.\n"
          ]
        },
        {
          "output_type": "stream",
          "name": "stderr",
          "text": [
            "\n",
            "100%|██████████| 10000/10000 [03:04<00:00, 54.34it/s]\n"
          ]
        },
        {
          "output_type": "stream",
          "name": "stdout",
          "text": [
            "MRR: 0.18\n",
            "MR: 8477.71\n",
            "Hits@10: 0.27\n",
            "Hits@3: 0.20\n",
            "Hits@1: 0.12\n",
            "mutate c3: struct({'position': array([100.        ,  20.        ,  58.19335232]), 'cost': 0.14543286971030883})\n",
            "mutate c4: struct({'position': array([99.32264512, 20.        , 97.32236703]), 'cost': 0.17524133628796626})\n",
            "P1: struct({'position': array([100.        ,  20.        ,  86.58336408]), 'cost': 0.17797409749458262})\n",
            "P2: struct({'position': array([100.        ,  20.        ,  87.03326652]), 'cost': 0.17883087134197845})\n",
            "[100.          20.          86.87519368]\n"
          ]
        },
        {
          "output_type": "stream",
          "name": "stderr",
          "text": [
            "Average ComplEx Loss:   2.994452: 100%|██████████| 10/10 [00:27<00:00,  2.72s/epoch]"
          ]
        },
        {
          "output_type": "stream",
          "name": "stdout",
          "text": [
            "WARNING - DeprecationWarning: use_default_protocol will be removed in future. Please use corrupt_side argument instead.\n"
          ]
        },
        {
          "output_type": "stream",
          "name": "stderr",
          "text": [
            "\n",
            "100%|██████████| 10000/10000 [02:56<00:00, 56.55it/s]\n"
          ]
        },
        {
          "output_type": "stream",
          "name": "stdout",
          "text": [
            "MRR: 0.18\n",
            "MR: 8816.20\n",
            "Hits@10: 0.27\n",
            "Hits@3: 0.20\n",
            "Hits@1: 0.13\n",
            "[100.          20.          86.74143691]\n"
          ]
        },
        {
          "output_type": "stream",
          "name": "stderr",
          "text": [
            "Average ComplEx Loss:   2.994452: 100%|██████████| 10/10 [00:26<00:00,  2.70s/epoch]"
          ]
        },
        {
          "output_type": "stream",
          "name": "stdout",
          "text": [
            "WARNING - DeprecationWarning: use_default_protocol will be removed in future. Please use corrupt_side argument instead.\n"
          ]
        },
        {
          "output_type": "stream",
          "name": "stderr",
          "text": [
            "\n",
            "100%|██████████| 10000/10000 [02:57<00:00, 56.41it/s]\n"
          ]
        },
        {
          "output_type": "stream",
          "name": "stdout",
          "text": [
            "MRR: 0.18\n",
            "MR: 8816.20\n",
            "Hits@10: 0.27\n",
            "Hits@3: 0.20\n",
            "Hits@1: 0.13\n",
            "crossover c1: struct({'position': array([100.        ,  20.        ,  86.87519368]), 'cost': 0.1779740974827047})\n",
            "crossover c2: struct({'position': array([100.        ,  20.        ,  86.74143691]), 'cost': 0.17797409748839102})\n",
            "[65.69227536 20.         53.85802716]\n"
          ]
        },
        {
          "output_type": "stream",
          "name": "stderr",
          "text": [
            "Average ComplEx Loss:   3.033397: 100%|██████████| 10/10 [00:16<00:00,  1.70s/epoch]"
          ]
        },
        {
          "output_type": "stream",
          "name": "stdout",
          "text": [
            "WARNING - DeprecationWarning: use_default_protocol will be removed in future. Please use corrupt_side argument instead.\n"
          ]
        },
        {
          "output_type": "stream",
          "name": "stderr",
          "text": [
            "\n",
            "100%|██████████| 10000/10000 [02:39<00:00, 62.58it/s]\n"
          ]
        },
        {
          "output_type": "stream",
          "name": "stdout",
          "text": [
            "MRR: 0.13\n",
            "MR: 9232.03\n",
            "Hits@10: 0.21\n",
            "Hits@3: 0.14\n",
            "Hits@1: 0.09\n",
            "[95.01905642 20.         60.32201036]\n"
          ]
        },
        {
          "output_type": "stream",
          "name": "stderr",
          "text": [
            "Average ComplEx Loss:   3.013067: 100%|██████████| 10/10 [00:19<00:00,  1.97s/epoch]"
          ]
        },
        {
          "output_type": "stream",
          "name": "stdout",
          "text": [
            "WARNING - DeprecationWarning: use_default_protocol will be removed in future. Please use corrupt_side argument instead.\n"
          ]
        },
        {
          "output_type": "stream",
          "name": "stderr",
          "text": [
            "\n",
            "100%|██████████| 10000/10000 [02:41<00:00, 61.77it/s]\n"
          ]
        },
        {
          "output_type": "stream",
          "name": "stdout",
          "text": [
            "MRR: 0.14\n",
            "MR: 9949.00\n",
            "Hits@10: 0.23\n",
            "Hits@3: 0.16\n",
            "Hits@1: 0.09\n",
            "mutate c3: struct({'position': array([65.69227536, 20.        , 53.85802716]), 'cost': 0.12768011717080752})\n",
            "mutate c4: struct({'position': array([95.01905642, 20.        , 60.32201036]), 'cost': 0.1403785333510305})\n",
            "pop: [struct({'position': array([100.        ,  20.        ,  89.09894588]), 'cost': 0.17928294641348488}), struct({'position': array([100.        ,  20.        ,  87.03326652]), 'cost': 0.17883087134197845}), struct({'position': array([100.        ,  20.        ,  87.42645226]), 'cost': 0.17883087113631388})]\n",
            "Iteration 11: Best Cost = 0.17928294641348488\n",
            "P1: struct({'position': array([100.        ,  20.        ,  89.09894588]), 'cost': 0.17928294641348488})\n",
            "P2: struct({'position': array([100.        ,  20.        ,  87.03326652]), 'cost': 0.17883087134197845})\n",
            "[100.          20.          88.75935341]\n"
          ]
        },
        {
          "output_type": "stream",
          "name": "stderr",
          "text": [
            "Average ComplEx Loss:   2.994323: 100%|██████████| 10/10 [00:26<00:00,  2.68s/epoch]"
          ]
        },
        {
          "output_type": "stream",
          "name": "stdout",
          "text": [
            "WARNING - DeprecationWarning: use_default_protocol will be removed in future. Please use corrupt_side argument instead.\n"
          ]
        },
        {
          "output_type": "stream",
          "name": "stderr",
          "text": [
            "\n",
            "100%|██████████| 10000/10000 [02:54<00:00, 57.24it/s]\n"
          ]
        },
        {
          "output_type": "stream",
          "name": "stdout",
          "text": [
            "MRR: 0.18\n",
            "MR: 8829.95\n",
            "Hits@10: 0.28\n",
            "Hits@3: 0.20\n",
            "Hits@1: 0.12\n",
            "[100.          20.          87.37285899]\n"
          ]
        },
        {
          "output_type": "stream",
          "name": "stderr",
          "text": [
            "Average ComplEx Loss:   2.994288: 100%|██████████| 10/10 [00:27<00:00,  2.74s/epoch]"
          ]
        },
        {
          "output_type": "stream",
          "name": "stdout",
          "text": [
            "WARNING - DeprecationWarning: use_default_protocol will be removed in future. Please use corrupt_side argument instead.\n"
          ]
        },
        {
          "output_type": "stream",
          "name": "stderr",
          "text": [
            "\n",
            "100%|██████████| 10000/10000 [02:58<00:00, 55.97it/s]\n"
          ]
        },
        {
          "output_type": "stream",
          "name": "stdout",
          "text": [
            "MRR: 0.18\n",
            "MR: 8658.98\n",
            "Hits@10: 0.27\n",
            "Hits@3: 0.20\n",
            "Hits@1: 0.13\n",
            "crossover c1: struct({'position': array([100.        ,  20.        ,  88.75935341]), 'cost': 0.17699837852890374})\n",
            "crossover c2: struct({'position': array([100.        ,  20.        ,  87.37285899]), 'cost': 0.17883087105640608})\n",
            "[93.66033122 24.45649755 60.70028728]\n"
          ]
        },
        {
          "output_type": "stream",
          "name": "stderr",
          "text": [
            "Average ComplEx Loss:   3.188847: 100%|██████████| 10/10 [00:22<00:00,  2.27s/epoch]"
          ]
        },
        {
          "output_type": "stream",
          "name": "stdout",
          "text": [
            "WARNING - DeprecationWarning: use_default_protocol will be removed in future. Please use corrupt_side argument instead.\n"
          ]
        },
        {
          "output_type": "stream",
          "name": "stderr",
          "text": [
            "\n",
            "100%|██████████| 10000/10000 [02:42<00:00, 61.56it/s]\n"
          ]
        },
        {
          "output_type": "stream",
          "name": "stdout",
          "text": [
            "MRR: 0.14\n",
            "MR: 9994.60\n",
            "Hits@10: 0.22\n",
            "Hits@3: 0.16\n",
            "Hits@1: 0.09\n",
            "[94.56617512 20.         84.86106113]\n"
          ]
        },
        {
          "output_type": "stream",
          "name": "stderr",
          "text": [
            "Average ComplEx Loss:   3.004106: 100%|██████████| 10/10 [00:25<00:00,  2.58s/epoch]"
          ]
        },
        {
          "output_type": "stream",
          "name": "stdout",
          "text": [
            "WARNING - DeprecationWarning: use_default_protocol will be removed in future. Please use corrupt_side argument instead.\n"
          ]
        },
        {
          "output_type": "stream",
          "name": "stderr",
          "text": [
            "\n",
            "100%|██████████| 10000/10000 [02:54<00:00, 57.25it/s]\n"
          ]
        },
        {
          "output_type": "stream",
          "name": "stdout",
          "text": [
            "MRR: 0.17\n",
            "MR: 8789.92\n",
            "Hits@10: 0.26\n",
            "Hits@3: 0.19\n",
            "Hits@1: 0.12\n",
            "mutate c3: struct({'position': array([93.66033122, 24.45649755, 60.70028728]), 'cost': 0.13914412696425577})\n",
            "mutate c4: struct({'position': array([94.56617512, 20.        , 84.86106113]), 'cost': 0.16557916546700002})\n",
            "P1: struct({'position': array([100.        ,  20.        ,  87.03326652]), 'cost': 0.17883087134197845})\n",
            "P2: struct({'position': array([100.        ,  20.        ,  87.42645226]), 'cost': 0.17883087113631388})\n",
            "[100.          20.          87.39066072]\n"
          ]
        },
        {
          "output_type": "stream",
          "name": "stderr",
          "text": [
            "Average ComplEx Loss:   2.994288: 100%|██████████| 10/10 [00:27<00:00,  2.75s/epoch]"
          ]
        },
        {
          "output_type": "stream",
          "name": "stdout",
          "text": [
            "WARNING - DeprecationWarning: use_default_protocol will be removed in future. Please use corrupt_side argument instead.\n"
          ]
        },
        {
          "output_type": "stream",
          "name": "stderr",
          "text": [
            "\n",
            "100%|██████████| 10000/10000 [03:00<00:00, 55.53it/s]\n"
          ]
        },
        {
          "output_type": "stream",
          "name": "stdout",
          "text": [
            "MRR: 0.18\n",
            "MR: 8658.98\n",
            "Hits@10: 0.27\n",
            "Hits@3: 0.20\n",
            "Hits@1: 0.13\n",
            "[100.          20.          87.06905805]\n"
          ]
        },
        {
          "output_type": "stream",
          "name": "stderr",
          "text": [
            "Average ComplEx Loss:   2.994288: 100%|██████████| 10/10 [00:27<00:00,  2.76s/epoch]"
          ]
        },
        {
          "output_type": "stream",
          "name": "stdout",
          "text": [
            "WARNING - DeprecationWarning: use_default_protocol will be removed in future. Please use corrupt_side argument instead.\n"
          ]
        },
        {
          "output_type": "stream",
          "name": "stderr",
          "text": [
            "\n",
            "100%|██████████| 10000/10000 [02:58<00:00, 55.99it/s]\n"
          ]
        },
        {
          "output_type": "stream",
          "name": "stdout",
          "text": [
            "MRR: 0.18\n",
            "MR: 8658.98\n",
            "Hits@10: 0.27\n",
            "Hits@3: 0.20\n",
            "Hits@1: 0.13\n",
            "crossover c1: struct({'position': array([100.        ,  20.        ,  87.39066072]), 'cost': 0.17883087135892722})\n",
            "crossover c2: struct({'position': array([100.        ,  20.        ,  87.06905805]), 'cost': 0.17883087140583523})\n",
            "[100.          20.          78.71336079]\n"
          ]
        },
        {
          "output_type": "stream",
          "name": "stderr",
          "text": [
            "Average ComplEx Loss:   2.999436: 100%|██████████| 10/10 [00:24<00:00,  2.50s/epoch]"
          ]
        },
        {
          "output_type": "stream",
          "name": "stdout",
          "text": [
            "WARNING - DeprecationWarning: use_default_protocol will be removed in future. Please use corrupt_side argument instead.\n"
          ]
        },
        {
          "output_type": "stream",
          "name": "stderr",
          "text": [
            "\n",
            "100%|██████████| 10000/10000 [02:51<00:00, 58.25it/s]\n"
          ]
        },
        {
          "output_type": "stream",
          "name": "stdout",
          "text": [
            "MRR: 0.17\n",
            "MR: 8882.42\n",
            "Hits@10: 0.26\n",
            "Hits@3: 0.19\n",
            "Hits@1: 0.12\n",
            "[89.72464314 20.         85.77495985]\n"
          ]
        },
        {
          "output_type": "stream",
          "name": "stderr",
          "text": [
            "Average ComplEx Loss:   3.007933: 100%|██████████| 10/10 [00:26<00:00,  2.62s/epoch]"
          ]
        },
        {
          "output_type": "stream",
          "name": "stdout",
          "text": [
            "WARNING - DeprecationWarning: use_default_protocol will be removed in future. Please use corrupt_side argument instead.\n"
          ]
        },
        {
          "output_type": "stream",
          "name": "stderr",
          "text": [
            "\n",
            "100%|██████████| 10000/10000 [02:58<00:00, 56.01it/s]\n"
          ]
        },
        {
          "output_type": "stream",
          "name": "stdout",
          "text": [
            "MRR: 0.17\n",
            "MR: 8709.63\n",
            "Hits@10: 0.27\n",
            "Hits@3: 0.20\n",
            "Hits@1: 0.12\n",
            "mutate c3: struct({'position': array([100.        ,  20.        ,  78.71336079]), 'cost': 0.16570951086086205})\n",
            "mutate c4: struct({'position': array([89.72464314, 20.        , 85.77495985]), 'cost': 0.17388479199466864})\n",
            "pop: [struct({'position': array([100.        ,  20.        ,  89.09894588]), 'cost': 0.17928294641348488}), struct({'position': array([100.        ,  20.        ,  87.06905805]), 'cost': 0.17883087140583523}), struct({'position': array([100.        ,  20.        ,  87.39066072]), 'cost': 0.17883087135892722})]\n",
            "Iteration 12: Best Cost = 0.17928294641348488\n",
            "P1: struct({'position': array([100.        ,  20.        ,  87.06905805]), 'cost': 0.17883087140583523})\n",
            "P2: struct({'position': array([100.        ,  20.        ,  89.09894588]), 'cost': 0.17928294641348488})\n",
            "[100.          20.          87.28620632]\n"
          ]
        },
        {
          "output_type": "stream",
          "name": "stderr",
          "text": [
            "Average ComplEx Loss:   2.994288: 100%|██████████| 10/10 [00:27<00:00,  2.78s/epoch]"
          ]
        },
        {
          "output_type": "stream",
          "name": "stdout",
          "text": [
            "WARNING - DeprecationWarning: use_default_protocol will be removed in future. Please use corrupt_side argument instead.\n"
          ]
        },
        {
          "output_type": "stream",
          "name": "stderr",
          "text": [
            "\n",
            "100%|██████████| 10000/10000 [02:59<00:00, 55.67it/s]\n"
          ]
        },
        {
          "output_type": "stream",
          "name": "stdout",
          "text": [
            "MRR: 0.18\n",
            "MR: 8658.98\n",
            "Hits@10: 0.27\n",
            "Hits@3: 0.20\n",
            "Hits@1: 0.13\n",
            "[100.          20.          88.88179761]\n"
          ]
        },
        {
          "output_type": "stream",
          "name": "stderr",
          "text": [
            "Average ComplEx Loss:   2.994323: 100%|██████████| 10/10 [00:26<00:00,  2.66s/epoch]"
          ]
        },
        {
          "output_type": "stream",
          "name": "stdout",
          "text": [
            "WARNING - DeprecationWarning: use_default_protocol will be removed in future. Please use corrupt_side argument instead.\n"
          ]
        },
        {
          "output_type": "stream",
          "name": "stderr",
          "text": [
            "\n",
            "100%|██████████| 10000/10000 [02:55<00:00, 56.94it/s]\n"
          ]
        },
        {
          "output_type": "stream",
          "name": "stdout",
          "text": [
            "MRR: 0.18\n",
            "MR: 8829.95\n",
            "Hits@10: 0.28\n",
            "Hits@3: 0.20\n",
            "Hits@1: 0.12\n",
            "crossover c1: struct({'position': array([100.        ,  20.        ,  87.28620632]), 'cost': 0.17883087135869358})\n",
            "crossover c2: struct({'position': array([100.        ,  20.        ,  88.88179761]), 'cost': 0.17699838203802848})\n",
            "[100.          25.45086156 100.        ]\n"
          ]
        },
        {
          "output_type": "stream",
          "name": "stderr",
          "text": [
            "Average ComplEx Loss:   3.200218: 100%|██████████| 10/10 [00:36<00:00,  3.66s/epoch]"
          ]
        },
        {
          "output_type": "stream",
          "name": "stdout",
          "text": [
            "WARNING - DeprecationWarning: use_default_protocol will be removed in future. Please use corrupt_side argument instead.\n"
          ]
        },
        {
          "output_type": "stream",
          "name": "stderr",
          "text": [
            "\n",
            "100%|██████████| 10000/10000 [03:06<00:00, 53.55it/s]\n"
          ]
        },
        {
          "output_type": "stream",
          "name": "stdout",
          "text": [
            "MRR: 0.17\n",
            "MR: 8830.14\n",
            "Hits@10: 0.27\n",
            "Hits@3: 0.20\n",
            "Hits@1: 0.12\n",
            "[100.          20.          83.65418194]\n"
          ]
        },
        {
          "output_type": "stream",
          "name": "stderr",
          "text": [
            "Average ComplEx Loss:   2.997627: 100%|██████████| 10/10 [00:26<00:00,  2.64s/epoch]"
          ]
        },
        {
          "output_type": "stream",
          "name": "stdout",
          "text": [
            "WARNING - DeprecationWarning: use_default_protocol will be removed in future. Please use corrupt_side argument instead.\n"
          ]
        },
        {
          "output_type": "stream",
          "name": "stderr",
          "text": [
            "\n",
            " 64%|██████▍   | 6441/10000 [01:51<01:01, 57.75it/s]"
          ]
        }
      ],
      "source": [
        "# Problem Information\n",
        "# costFunction = problem.costFunction\n",
        "popc = []\n",
        "nvar = problem.nvar\n",
        "varmin = problem.varmin\n",
        "varmax = problem.varmax\n",
        "\n",
        "# Parameters\n",
        "maxit = params.maxit\n",
        "npop = params.npop\n",
        "beta = params.beta\n",
        "pc = params.pc\n",
        "nc = int(np.round(pc*npop/2)*2)\n",
        "gamma = params.gamma\n",
        "mu = params.mu\n",
        "sigma = params.sigma\n",
        "\n",
        "# Empty Individual Template\n",
        "empty_individual = structure()\n",
        "empty_individual.position = None\n",
        "empty_individual.cost = None\n",
        "\n",
        "# Best Solution Ever Found\n",
        "bestsol = empty_individual.deepcopy()\n",
        "bestsol.cost = 0\n",
        "\n",
        "pop = empty_individual.repeat(npop)\n",
        "bestSolution = empty_individual.repeat(maxit)\n",
        "\n",
        "# Initialize Population\n",
        "for i in range(npop):\n",
        "    pop[i].position = np.random.uniform(varmin, varmax, nvar) \n",
        "    print(pop[i].position)\n",
        "for i in range(npop):\n",
        "    print(pop[i].position)\n",
        "    pop[i].cost = costFunction(pop[i].position, X_train, X_valid)\n",
        "    print(pop[i].cost)\n",
        "    if pop[i].cost > bestsol.cost:\n",
        "        bestsol = pop[i].deepcopy()\n",
        "    popc.append(pop[i])\n",
        "\n",
        "# Best Cost of Iterations\n",
        "bestposition = np.empty(maxit)\n",
        "bestcost = np.empty(maxit)\n",
        "\n",
        "# Main Loop\n",
        "for it in range(maxit):\n",
        "    costs = np.array([x.cost for x in pop])\n",
        "    avg_cost = np.mean(costs)\n",
        "    if avg_cost != 0:\n",
        "        costs = costs/avg_cost\n",
        "    probs = np.exp(-beta*costs)\n",
        "\n",
        "    for _ in range(nc//2):\n",
        "\n",
        "        # Select Parents\n",
        "        #q = np.random.permutation(npop)\n",
        "        #p1 = pop[q[0]]\n",
        "        #p2 = pop[q[1]]\n",
        "\n",
        "        # Perform Roulette Wheel Selection\n",
        "        p1 = pop[roulette_wheel_selection(probs)]\n",
        "        p2 = pop[roulette_wheel_selection(probs)]\n",
        "        print('P1:', p1)\n",
        "        print('P2:',p2)\n",
        "  \n",
        "        # Perform Crossover\n",
        "        # c1, c2 = crossover(p1, p2, gamma)\n",
        "        gamma = 0.01\n",
        "        c1 = p1.deepcopy()\n",
        "        c2 = p2.deepcopy()\n",
        "        alpha = np.random.uniform(-gamma, 1+gamma, *c1.position.shape)\n",
        "        c1.position = alpha*p1.position + (1-alpha)*p2.position\n",
        "        c2.position = alpha*p2.position + (1-alpha)*p1.position\n",
        "        apply_bound(c1, varmin, varmax)\n",
        "        apply_bound(c2, varmin, varmax)\n",
        "\n",
        "        # Evaluate First Offspring\n",
        "        flag = False\n",
        "        for element in popc:\n",
        "          if (np.array_equal(element.position , c1.position)):\n",
        "            print(\"Dynamic Programming\")\n",
        "            c1.cost = element.cost\n",
        "            flag = True\n",
        "            break;\n",
        "        if (flag == False):\n",
        "          print(c1.position) \n",
        "          c1.cost = costFunction(c1.position, X_train, X_valid)\n",
        "          if c1.cost > bestsol.cost:\n",
        "            bestsol = c1.deepcopy()\n",
        "\n",
        "        # Evaluate Second Offspring\n",
        "        flag = False\n",
        "        for element in popc:\n",
        "          if (np.array_equal(element.position , c2.position)):\n",
        "            print(\"Dynamic Programming\")\n",
        "            c2.cost = element.cost\n",
        "            flag = True\n",
        "            break;\n",
        "        if (flag == False):\n",
        "          print(c2.position) \n",
        "          c2.cost = costFunction(c2.position, X_train, X_valid)\n",
        "          if c2.cost > bestsol.cost:\n",
        "            bestsol = c2.deepcopy()\n",
        "\n",
        "        print('crossover c1:',c1)\n",
        "        print('crossover c2:',c2) \n",
        "\n",
        "        # Perform Mutation\n",
        "        c3 = c1.deepcopy()\n",
        "        flag = np.random.rand(*c1.position.shape) <= mu\n",
        "        ind = np.argwhere(flag)\n",
        "        c3.position[ind] += sigma*np.random.randn(*ind.shape)\n",
        "        #c1 = mutate(c1, mu, sigma)\n",
        "        c4 = c2.deepcopy()\n",
        "        flag = np.random.rand(*c2.position.shape) <= mu\n",
        "        ind = np.argwhere(flag)\n",
        "        c4.position[ind] += sigma*np.random.randn(*ind.shape)\n",
        "        #c2 = mutate(c2, mu, sigma)\n",
        "              \n",
        "        # Apply Bounds\n",
        "        apply_bound(c3, varmin, varmax)\n",
        "        apply_bound(c4, varmin, varmax)\n",
        "\n",
        "        # Evaluate Thirty Offspring\n",
        "        flag = False\n",
        "        for element in popc:\n",
        "          if (np.array_equal(element.position , c3.position)):\n",
        "            print(\"Dynamic Programming\")\n",
        "            c3.cost = element.cost\n",
        "            flag = True\n",
        "            break;\n",
        "        if (flag == False):\n",
        "          print(c3.position) \n",
        "          c3.cost = costFunction(c3.position, X_train, X_valid)\n",
        "          if c3.cost > bestsol.cost:\n",
        "            bestsol = c3.deepcopy()\n",
        "\n",
        "        # Evaluate Fortith Offspring\n",
        "        flag = False\n",
        "        for element in popc:\n",
        "          if (np.array_equal(element.position , c4.position)):\n",
        "            print(\"Dynamic Programming\")\n",
        "            c4.cost = element.cost\n",
        "            flag = True\n",
        "            break;\n",
        "        if (flag == False):\n",
        "          print(c4.position) \n",
        "          c4.cost = costFunction(c4.position, X_train, X_valid)\n",
        "          if c4.cost > bestsol.cost:\n",
        "            bestsol = c4.deepcopy()\n",
        "\n",
        "        print('mutate c3:',c3)\n",
        "        print('mutate c4:',c4) \n",
        "        # Add Offsprings to popc\n",
        "\n",
        "        popc.append(c1)\n",
        "        popc.append(c2)\n",
        "        popc.append(c3)\n",
        "        popc.append(c4)\n",
        "        \n",
        "        # Check pop list for insert c1,c2,c3,c4\n",
        "        flag = False\n",
        "        for element in pop:\n",
        "          flag = np.array_equal(element.position, c1.position)\n",
        "          if flag == True:\n",
        "            break\n",
        "        if flag == False:\n",
        "          pop.append(c1)\n",
        "        \n",
        "        flag = False\n",
        "        for element in pop:\n",
        "          flag = np.array_equal(element.position, c2.position)\n",
        "          if flag == True:\n",
        "            break\n",
        "        if flag == False:\n",
        "          pop.append(c2)\n",
        "\n",
        "        flag = False\n",
        "        for element in pop:\n",
        "          flag = np.array_equal(element.position, c3.position)\n",
        "          if flag == True:\n",
        "            break\n",
        "        if flag == False:\n",
        "          pop.append(c3)\n",
        "\n",
        "        flag = False\n",
        "        for element in pop:\n",
        "          flag = np.array_equal(element.position, c4.position)\n",
        "          if flag == True:\n",
        "            break\n",
        "        if flag == False:\n",
        "          pop.append(c4)\n",
        "\n",
        "\n",
        "    # Merge, Sort and Select\n",
        "    # pop += popc\n",
        "    pop = sorted(pop, key=lambda x: x.cost, reverse=True)\n",
        "    pop = pop[0:npop]\n",
        "    print('pop:' , pop)\n",
        "    \n",
        "    # Store Best Cost\n",
        "    bestcost[it] = bestsol.cost\n",
        "\n",
        "    bestSolution[it].cost = bestsol.cost\n",
        "    bestSolution[it].position = bestsol.position\n",
        "                               \n",
        "    # Show Iteration Information\n",
        "    print(\"Iteration {}: Best Cost = {}\".format(it, bestcost[it]))\n",
        "\n",
        "\n",
        "# Output\n",
        "out = structure()\n",
        "out.pop = pop\n",
        "out.bestsol = bestsol\n",
        "out.bestcost = bestcost\n",
        "print(out.pop)\n",
        "print(out.bestsol)\n",
        "print(out.bestcost)"
      ]
    },
    {
      "cell_type": "code",
      "execution_count": 2,
      "metadata": {
        "id": "iSp9VQLIjcaE"
      },
      "outputs": [],
      "source": [
        "df = pd.DataFrame({\"position\": [bestSolution[0].position] , \"cost\": [bestSolution[0].cost]})\n",
        "for i in range(params.maxit):\n",
        "    if(i==0):\n",
        "        continue;\n",
        "    df.loc[len(df.index)] = [bestSolution[i].position , bestSolution[i].cost] \n",
        "df.to_excel('result.xlsx')\n",
        "df"
      ]
    },
    {
      "cell_type": "code",
      "source": [
        ""
      ],
      "metadata": {
        "id": "ehIarHamebDy"
      },
      "execution_count": null,
      "outputs": []
    },
    {
      "cell_type": "code",
      "source": [
        ""
      ],
      "metadata": {
        "id": "QnLGcIAGebYK"
      },
      "execution_count": null,
      "outputs": []
    },
    {
      "cell_type": "code",
      "source": [
        ""
      ],
      "metadata": {
        "id": "T8RkmmEAebcI"
      },
      "execution_count": null,
      "outputs": []
    },
    {
      "cell_type": "code",
      "source": [
        ""
      ],
      "metadata": {
        "id": "IfYZA6XTebfu"
      },
      "execution_count": null,
      "outputs": []
    },
    {
      "cell_type": "code",
      "source": [
        ""
      ],
      "metadata": {
        "id": "i_StA0e1ebiz"
      },
      "execution_count": null,
      "outputs": []
    },
    {
      "cell_type": "code",
      "source": [
        ""
      ],
      "metadata": {
        "id": "KnZjSM48ebmc"
      },
      "execution_count": null,
      "outputs": []
    },
    {
      "cell_type": "code",
      "source": [
        ""
      ],
      "metadata": {
        "id": "cESaZlGMebqq"
      },
      "execution_count": null,
      "outputs": []
    },
    {
      "cell_type": "code",
      "source": [
        ""
      ],
      "metadata": {
        "id": "OxxCNv-uebu0"
      },
      "execution_count": null,
      "outputs": []
    },
    {
      "cell_type": "code",
      "source": [
        ""
      ],
      "metadata": {
        "id": "BEY0PsMpeb0y"
      },
      "execution_count": null,
      "outputs": []
    },
    {
      "cell_type": "code",
      "source": [
        ""
      ],
      "metadata": {
        "id": "42eyO5O2ecAZ"
      },
      "execution_count": null,
      "outputs": []
    }
  ],
  "metadata": {
    "colab": {
      "collapsed_sections": [],
      "name": "CheckGAFineTune.ipynb",
      "provenance": [],
      "include_colab_link": true
    },
    "kernelspec": {
      "display_name": "Python 3",
      "name": "python3"
    },
    "language_info": {
      "name": "python"
    },
    "accelerator": "GPU",
    "gpuClass": "standard"
  },
  "nbformat": 4,
  "nbformat_minor": 0
}