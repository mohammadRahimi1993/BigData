{
  "nbformat": 4,
  "nbformat_minor": 0,
  "metadata": {
    "colab": {
      "name": "pyRDF2vec.ipynb",
      "provenance": [],
      "collapsed_sections": [],
      "mount_file_id": "1xjVQMmX2xyMr4u7JEJLYz_t602iGrO6w",
      "authorship_tag": "ABX9TyPt2VlSkPOTBJAaWhzy002p",
      "include_colab_link": true
    },
    "kernelspec": {
      "name": "python3",
      "display_name": "Python 3"
    },
    "language_info": {
      "name": "python"
    },
    "accelerator": "GPU",
    "gpuClass": "standard"
  },
  "cells": [
    {
      "cell_type": "markdown",
      "metadata": {
        "id": "view-in-github",
        "colab_type": "text"
      },
      "source": [
        "<a href=\"https://colab.research.google.com/github/mohammadRahimi1993/BigData/blob/main/pyRDF2vec.ipynb\" target=\"_parent\"><img src=\"https://colab.research.google.com/assets/colab-badge.svg\" alt=\"Open In Colab\"/></a>"
      ]
    },
    {
      "cell_type": "code",
      "execution_count": 1,
      "metadata": {
        "colab": {
          "base_uri": "https://localhost:8080/",
          "height": 1000
        },
        "id": "VKaFC_cKCx6-",
        "outputId": "eb07db00-68c3-4279-86b5-18a7cf1866dd"
      },
      "outputs": [
        {
          "output_type": "stream",
          "name": "stdout",
          "text": [
            "Looking in indexes: https://pypi.org/simple, https://us-python.pkg.dev/colab-wheels/public/simple/\n",
            "Collecting pyRDF2vec\n",
            "  Downloading pyrdf2vec-0.2.3-py3-none-any.whl (57 kB)\n",
            "\u001b[K     |████████████████████████████████| 57 kB 4.5 MB/s \n",
            "\u001b[?25hCollecting python-louvain<0.16,>=0.15\n",
            "  Downloading python-louvain-0.15.tar.gz (204 kB)\n",
            "\u001b[K     |████████████████████████████████| 204 kB 60.6 MB/s \n",
            "\u001b[?25hRequirement already satisfied: networkx<3.0.0,>=2.5.1 in /usr/local/lib/python3.7/dist-packages (from pyRDF2vec) (2.6.3)\n",
            "Requirement already satisfied: cachetools<5.0.0,>=4.2.2 in /usr/local/lib/python3.7/dist-packages (from pyRDF2vec) (4.2.4)\n",
            "Requirement already satisfied: attrs<22.0.0,>=21.2.0 in /usr/local/lib/python3.7/dist-packages (from pyRDF2vec) (21.4.0)\n",
            "Collecting matplotlib<4.0.0,>=3.4.2\n",
            "  Downloading matplotlib-3.5.2-cp37-cp37m-manylinux_2_5_x86_64.manylinux1_x86_64.whl (11.2 MB)\n",
            "\u001b[K     |████████████████████████████████| 11.2 MB 44.0 MB/s \n",
            "\u001b[?25hRequirement already satisfied: tqdm<5.0.0,>=4.61.0 in /usr/local/lib/python3.7/dist-packages (from pyRDF2vec) (4.64.0)\n",
            "Requirement already satisfied: torch<2.0.0,>=1.8.1 in /usr/local/lib/python3.7/dist-packages (from pyRDF2vec) (1.12.0+cu113)\n",
            "Collecting python-Levenshtein<0.13.0,>=0.12.2\n",
            "  Downloading python-Levenshtein-0.12.2.tar.gz (50 kB)\n",
            "\u001b[K     |████████████████████████████████| 50 kB 6.6 MB/s \n",
            "\u001b[?25hCollecting tomlkit<0.8.0,>=0.7.2\n",
            "  Downloading tomlkit-0.7.2-py2.py3-none-any.whl (32 kB)\n",
            "Requirement already satisfied: numpy>=1.17 in /usr/local/lib/python3.7/dist-packages (from matplotlib<4.0.0,>=3.4.2->pyRDF2vec) (1.21.6)\n",
            "Collecting fonttools>=4.22.0\n",
            "  Downloading fonttools-4.34.4-py3-none-any.whl (944 kB)\n",
            "\u001b[K     |████████████████████████████████| 944 kB 54.6 MB/s \n",
            "\u001b[?25hRequirement already satisfied: packaging>=20.0 in /usr/local/lib/python3.7/dist-packages (from matplotlib<4.0.0,>=3.4.2->pyRDF2vec) (21.3)\n",
            "Requirement already satisfied: cycler>=0.10 in /usr/local/lib/python3.7/dist-packages (from matplotlib<4.0.0,>=3.4.2->pyRDF2vec) (0.11.0)\n",
            "Requirement already satisfied: kiwisolver>=1.0.1 in /usr/local/lib/python3.7/dist-packages (from matplotlib<4.0.0,>=3.4.2->pyRDF2vec) (1.4.4)\n",
            "Requirement already satisfied: pillow>=6.2.0 in /usr/local/lib/python3.7/dist-packages (from matplotlib<4.0.0,>=3.4.2->pyRDF2vec) (7.1.2)\n",
            "Requirement already satisfied: python-dateutil>=2.7 in /usr/local/lib/python3.7/dist-packages (from matplotlib<4.0.0,>=3.4.2->pyRDF2vec) (2.8.2)\n",
            "Requirement already satisfied: pyparsing>=2.2.1 in /usr/local/lib/python3.7/dist-packages (from matplotlib<4.0.0,>=3.4.2->pyRDF2vec) (3.0.9)\n",
            "Requirement already satisfied: typing-extensions in /usr/local/lib/python3.7/dist-packages (from kiwisolver>=1.0.1->matplotlib<4.0.0,>=3.4.2->pyRDF2vec) (4.1.1)\n",
            "Requirement already satisfied: six>=1.5 in /usr/local/lib/python3.7/dist-packages (from python-dateutil>=2.7->matplotlib<4.0.0,>=3.4.2->pyRDF2vec) (1.15.0)\n",
            "Requirement already satisfied: setuptools in /usr/local/lib/python3.7/dist-packages (from python-Levenshtein<0.13.0,>=0.12.2->pyRDF2vec) (57.4.0)\n",
            "Building wheels for collected packages: python-Levenshtein, python-louvain\n",
            "  Building wheel for python-Levenshtein (setup.py) ... \u001b[?25l\u001b[?25hdone\n",
            "  Created wheel for python-Levenshtein: filename=python_Levenshtein-0.12.2-cp37-cp37m-linux_x86_64.whl size=149877 sha256=4eea3828cac056258bafccf5e1566dd2dd9a59a1666f5c18a3229fcf11ae9e90\n",
            "  Stored in directory: /root/.cache/pip/wheels/05/5f/ca/7c4367734892581bb5ff896f15027a932c551080b2abd3e00d\n",
            "  Building wheel for python-louvain (setup.py) ... \u001b[?25l\u001b[?25hdone\n",
            "  Created wheel for python-louvain: filename=python_louvain-0.15-py3-none-any.whl size=9413 sha256=850646915a882d2937cdb196c29eace6b1604f495bcb52f3a7da85824f2f7435\n",
            "  Stored in directory: /root/.cache/pip/wheels/c7/4c/ef/427db8777620f7fa12a6404f1527a39536a812f46a4d1044d3\n",
            "Successfully built python-Levenshtein python-louvain\n",
            "Installing collected packages: fonttools, tomlkit, python-louvain, python-Levenshtein, matplotlib, pyRDF2vec\n",
            "  Attempting uninstall: python-louvain\n",
            "    Found existing installation: python-louvain 0.16\n",
            "    Uninstalling python-louvain-0.16:\n",
            "      Successfully uninstalled python-louvain-0.16\n",
            "  Attempting uninstall: matplotlib\n",
            "    Found existing installation: matplotlib 3.2.2\n",
            "    Uninstalling matplotlib-3.2.2:\n",
            "      Successfully uninstalled matplotlib-3.2.2\n",
            "\u001b[31mERROR: pip's dependency resolver does not currently take into account all the packages that are installed. This behaviour is the source of the following dependency conflicts.\n",
            "albumentations 0.1.12 requires imgaug<0.2.7,>=0.2.5, but you have imgaug 0.2.9 which is incompatible.\u001b[0m\n",
            "Successfully installed fonttools-4.34.4 matplotlib-3.5.2 pyRDF2vec-0.2.3 python-Levenshtein-0.12.2 python-louvain-0.15 tomlkit-0.7.2\n"
          ]
        },
        {
          "output_type": "display_data",
          "data": {
            "application/vnd.colab-display-data+json": {
              "pip_warning": {
                "packages": [
                  "matplotlib",
                  "mpl_toolkits"
                ]
              }
            }
          },
          "metadata": {}
        },
        {
          "output_type": "stream",
          "name": "stdout",
          "text": [
            "Looking in indexes: https://pypi.org/simple, https://us-python.pkg.dev/colab-wheels/public/simple/\n",
            "Collecting rdflib\n",
            "  Downloading rdflib-6.1.1-py3-none-any.whl (482 kB)\n",
            "\u001b[K     |████████████████████████████████| 482 kB 30.5 MB/s \n",
            "\u001b[?25hRequirement already satisfied: importlib-metadata in /usr/local/lib/python3.7/dist-packages (from rdflib) (4.12.0)\n",
            "Requirement already satisfied: setuptools in /usr/local/lib/python3.7/dist-packages (from rdflib) (57.4.0)\n",
            "Collecting isodate\n",
            "  Downloading isodate-0.6.1-py2.py3-none-any.whl (41 kB)\n",
            "\u001b[K     |████████████████████████████████| 41 kB 693 kB/s \n",
            "\u001b[?25hRequirement already satisfied: pyparsing in /usr/local/lib/python3.7/dist-packages (from rdflib) (3.0.9)\n",
            "Requirement already satisfied: typing-extensions>=3.6.4 in /usr/local/lib/python3.7/dist-packages (from importlib-metadata->rdflib) (4.1.1)\n",
            "Requirement already satisfied: zipp>=0.5 in /usr/local/lib/python3.7/dist-packages (from importlib-metadata->rdflib) (3.8.1)\n",
            "Requirement already satisfied: six in /usr/local/lib/python3.7/dist-packages (from isodate->rdflib) (1.15.0)\n",
            "Installing collected packages: isodate, rdflib\n",
            "Successfully installed isodate-0.6.1 rdflib-6.1.1\n",
            "Looking in indexes: https://pypi.org/simple, https://us-python.pkg.dev/colab-wheels/public/simple/\n",
            "Collecting aiohttp\n",
            "  Downloading aiohttp-3.8.1-cp37-cp37m-manylinux_2_5_x86_64.manylinux1_x86_64.manylinux_2_12_x86_64.manylinux2010_x86_64.whl (1.1 MB)\n",
            "\u001b[K     |████████████████████████████████| 1.1 MB 29.9 MB/s \n",
            "\u001b[?25hCollecting multidict<7.0,>=4.5\n",
            "  Downloading multidict-6.0.2-cp37-cp37m-manylinux_2_17_x86_64.manylinux2014_x86_64.whl (94 kB)\n",
            "\u001b[K     |████████████████████████████████| 94 kB 756 kB/s \n",
            "\u001b[?25hRequirement already satisfied: attrs>=17.3.0 in /usr/local/lib/python3.7/dist-packages (from aiohttp) (21.4.0)\n",
            "Requirement already satisfied: typing-extensions>=3.7.4 in /usr/local/lib/python3.7/dist-packages (from aiohttp) (4.1.1)\n",
            "Collecting yarl<2.0,>=1.0\n",
            "  Downloading yarl-1.7.2-cp37-cp37m-manylinux_2_5_x86_64.manylinux1_x86_64.manylinux_2_12_x86_64.manylinux2010_x86_64.whl (271 kB)\n",
            "\u001b[K     |████████████████████████████████| 271 kB 77.7 MB/s \n",
            "\u001b[?25hRequirement already satisfied: charset-normalizer<3.0,>=2.0 in /usr/local/lib/python3.7/dist-packages (from aiohttp) (2.1.0)\n",
            "Collecting async-timeout<5.0,>=4.0.0a3\n",
            "  Downloading async_timeout-4.0.2-py3-none-any.whl (5.8 kB)\n",
            "Collecting frozenlist>=1.1.1\n",
            "  Downloading frozenlist-1.3.0-cp37-cp37m-manylinux_2_5_x86_64.manylinux1_x86_64.manylinux_2_17_x86_64.manylinux2014_x86_64.whl (144 kB)\n",
            "\u001b[K     |████████████████████████████████| 144 kB 69.3 MB/s \n",
            "\u001b[?25hCollecting aiosignal>=1.1.2\n",
            "  Downloading aiosignal-1.2.0-py3-none-any.whl (8.2 kB)\n",
            "Collecting asynctest==0.13.0\n",
            "  Downloading asynctest-0.13.0-py3-none-any.whl (26 kB)\n",
            "Requirement already satisfied: idna>=2.0 in /usr/local/lib/python3.7/dist-packages (from yarl<2.0,>=1.0->aiohttp) (2.10)\n",
            "Installing collected packages: multidict, frozenlist, yarl, asynctest, async-timeout, aiosignal, aiohttp\n",
            "Successfully installed aiohttp-3.8.1 aiosignal-1.2.0 async-timeout-4.0.2 asynctest-0.13.0 frozenlist-1.3.0 multidict-6.0.2 yarl-1.7.2\n"
          ]
        }
      ],
      "source": [
        "!pip install pyRDF2vec\n",
        "!pip install rdflib\n",
        "!pip install aiohttp"
      ]
    },
    {
      "cell_type": "code",
      "source": [
        "import pandas as pd\n",
        "from pyrdf2vec import RDF2VecTransformer\n",
        "from pyrdf2vec.embedders import Word2Vec\n",
        "from pyrdf2vec.graphs import KG\n",
        "from pyrdf2vec.walkers import RandomWalker\n",
        "import matplotlib.pyplot as plt\n",
        "from sklearn.manifold import TSNE\n",
        "from sklearn.metrics import accuracy_score, confusion_matrix\n",
        "from sklearn.model_selection import GridSearchCV\n",
        "from sklearn.svm import SVC\n",
        "from pyrdf2vec.samplers import WideSampler\n",
        "from pyrdf2vec.walkers import HALKWalker"
      ],
      "metadata": {
        "id": "Rk2aHvTrK887"
      },
      "execution_count": 30,
      "outputs": []
    },
    {
      "cell_type": "code",
      "source": [
        "# Cloning the pyRDF2Vec repo\n",
        "!git clone https://github.com/IBCNServices/pyRDF2Vec.git"
      ],
      "metadata": {
        "id": "O9LjljZn-HtW"
      },
      "execution_count": null,
      "outputs": []
    },
    {
      "cell_type": "code",
      "source": [
        "from pyrdf2vec.samplers import (  # isort: skip\n",
        "    ObjFreqSampler,\n",
        "    ObjPredFreqSampler,\n",
        "    PageRankSampler,\n",
        "    PredFreqSampler,\n",
        "    UniformSampler,\n",
        ")\n",
        "\n",
        "# Ensure the determinism of this script by initializing a pseudo-random number.\n",
        "RANDOM_STATE = 22\n",
        "\n",
        "test_data = pd.read_csv(\"/content/pyRDF2Vec/samples/mutag/test.tsv\", sep=\"\\t\")\n",
        "train_data = pd.read_csv(\"/content/pyRDF2Vec/samples/mutag/train.tsv\", sep=\"\\t\")"
      ],
      "metadata": {
        "id": "wAI9N1zoLIY9"
      },
      "execution_count": 14,
      "outputs": []
    },
    {
      "cell_type": "code",
      "source": [
        "train_data.columns"
      ],
      "metadata": {
        "colab": {
          "base_uri": "https://localhost:8080/"
        },
        "id": "fmybpBI7NY68",
        "outputId": "39aa9588-c0e2-46fb-94c5-9db0646bf303"
      },
      "execution_count": 15,
      "outputs": [
        {
          "output_type": "execute_result",
          "data": {
            "text/plain": [
              "Index(['bond', 'id', 'label_mutagenic'], dtype='object')"
            ]
          },
          "metadata": {},
          "execution_count": 15
        }
      ]
    },
    {
      "cell_type": "code",
      "source": [
        "train_entities = [entity for entity in train_data[\"bond\"]]\n",
        "train_labels = list(train_data[\"label_mutagenic\"])\n",
        "\n",
        "test_entities = [entity for entity in test_data[\"bond\"]]\n",
        "test_labels = list(test_data[\"label_mutagenic\"])\n",
        "\n",
        "entities = train_entities + test_entities\n",
        "labels = train_labels + test_labels\n",
        "\n",
        "embeddings, literals = RDF2VecTransformer(\n",
        "    # Ensure random determinism for Word2Vec.\n",
        "    # Must be used with PYTHONHASHSEED.\n",
        "    Word2Vec(workers=1),\n",
        "    # Extract all walks with a maximum depth of 2 for each entity using two\n",
        "    # processes and use a random state to ensure that the same walks are\n",
        "    # generated for the entities without hashing as MUTAG is a short KG.\n",
        "    walkers=[\n",
        "        HALKWalker(\n",
        "            2,\n",
        "            None,\n",
        "            n_jobs=2,\n",
        "            sampler=WideSampler(),\n",
        "            random_state=RANDOM_STATE,\n",
        "            md5_bytes=None,\n",
        "        )\n",
        "    ],\n",
        "    verbose=1,\n",
        ").fit_transform(\n",
        "    KG(\n",
        "        \"/content/pyRDF2Vec/samples/mutag/mutag.owl\",\n",
        "        skip_predicates={\"http://dl-learner.org/carcinogenesis#isMutagenic\"},\n",
        "        literals=[\n",
        "            [\n",
        "                \"http://dl-learner.org/carcinogenesis#hasBond\",\n",
        "                \"http://dl-learner.org/carcinogenesis#inBond\",\n",
        "            ],\n",
        "            [\n",
        "                \"http://dl-learner.org/carcinogenesis#hasAtom\",\n",
        "                \"http://dl-learner.org/carcinogenesis#charge\",\n",
        "            ],\n",
        "        ],\n",
        "    ),\n",
        "    entities,\n",
        ")"
      ],
      "metadata": {
        "colab": {
          "base_uri": "https://localhost:8080/"
        },
        "id": "pdG88Hlg-Zv2",
        "outputId": "acef8906-caac-4765-b19d-1fcc0a57b39a"
      },
      "execution_count": 23,
      "outputs": [
        {
          "output_type": "stream",
          "name": "stderr",
          "text": [
            "100%|██████████| 320/320 [00:05<00:00, 60.50it/s]\n"
          ]
        },
        {
          "output_type": "stream",
          "name": "stdout",
          "text": [
            "Extracted 48475 walks for 320 entities (5.7738s)\n",
            "Fitted 48475 walks (5.2293s)\n"
          ]
        },
        {
          "output_type": "stream",
          "name": "stderr",
          "text": [
            "100%|██████████| 320/320 [00:00<00:00, 500.86it/s]\n"
          ]
        },
        {
          "output_type": "stream",
          "name": "stdout",
          "text": [
            "Extracted 320 literals for 320 entities (0.6462s)\n"
          ]
        }
      ]
    },
    {
      "cell_type": "code",
      "source": [
        "train_embeddings = embeddings[: len(train_entities)]\n",
        "test_embeddings = embeddings[len(train_entities) :]\n",
        "\n",
        "# Fit a Support Vector Machine on train embeddings and pick the best\n",
        "# C-parameters (regularization strength).\n",
        "clf = GridSearchCV(\n",
        "    SVC(random_state=RANDOM_STATE), {\"C\": [10**i for i in range(-3, 4)]}\n",
        ")\n",
        "clf.fit(train_embeddings, train_labels)\n",
        "\n",
        "# Evaluate the Support Vector Machine on test embeddings.\n",
        "predictions = clf.predict(test_embeddings)\n",
        "print(\n",
        "    f\"Predicted {len(test_entities)} entities with an accuracy of \"\n",
        "    + f\"{accuracy_score(test_labels, predictions) * 100 :.4f}%\"\n",
        ")\n",
        "print(\"Confusion Matrix ([[TN, FP], [FN, TP]]):\")\n",
        "print(confusion_matrix(test_labels, predictions))\n",
        "\n",
        "# Reduce the dimensions of entity embeddings to represent them in a 2D plane.\n",
        "X_tsne = TSNE(random_state=RANDOM_STATE).fit_transform(\n",
        "    train_embeddings + test_embeddings\n",
        ")\n",
        "\n",
        "# Define the color map.\n",
        "colors = [\"r\", \"g\"]\n",
        "color_map = {}\n",
        "for i, label in enumerate(set(labels)):\n",
        "    color_map[label] = colors[i]"
      ],
      "metadata": {
        "colab": {
          "base_uri": "https://localhost:8080/"
        },
        "id": "MFc1WTaY-Z0Q",
        "outputId": "d760a58a-42ee-4aca-d86d-772af67d0cc4"
      },
      "execution_count": 24,
      "outputs": [
        {
          "output_type": "stream",
          "name": "stdout",
          "text": [
            "Predicted 68 entities with an accuracy of 77.9412%\n",
            "Confusion Matrix ([[TN, FP], [FN, TP]]):\n",
            "[[42  3]\n",
            " [12 11]]\n"
          ]
        },
        {
          "output_type": "stream",
          "name": "stderr",
          "text": [
            "/usr/local/lib/python3.7/dist-packages/sklearn/manifold/_t_sne.py:783: FutureWarning: The default initialization in TSNE will change from 'random' to 'pca' in 1.2.\n",
            "  FutureWarning,\n",
            "/usr/local/lib/python3.7/dist-packages/sklearn/manifold/_t_sne.py:793: FutureWarning: The default learning rate in TSNE will change from 200.0 to 'auto' in 1.2.\n",
            "  FutureWarning,\n"
          ]
        }
      ]
    },
    {
      "cell_type": "code",
      "source": [
        "!python -m pip uninstall matplotlib\n",
        "!pip install matplotlib==3.1.3"
      ],
      "metadata": {
        "colab": {
          "base_uri": "https://localhost:8080/",
          "height": 660
        },
        "id": "7mfgY61kGV-J",
        "outputId": "df5d6b09-a93b-44a8-9aa1-61d93e757264"
      },
      "execution_count": 28,
      "outputs": [
        {
          "output_type": "stream",
          "name": "stdout",
          "text": [
            "Found existing installation: matplotlib 3.5.2\n",
            "Uninstalling matplotlib-3.5.2:\n",
            "  Would remove:\n",
            "    /usr/local/lib/python3.7/dist-packages/matplotlib-3.5.2-py3.7-nspkg.pth\n",
            "    /usr/local/lib/python3.7/dist-packages/matplotlib-3.5.2.dist-info/*\n",
            "    /usr/local/lib/python3.7/dist-packages/matplotlib/*\n",
            "    /usr/local/lib/python3.7/dist-packages/mpl_toolkits/axes_grid/*\n",
            "    /usr/local/lib/python3.7/dist-packages/mpl_toolkits/axes_grid1/*\n",
            "    /usr/local/lib/python3.7/dist-packages/mpl_toolkits/axisartist/*\n",
            "    /usr/local/lib/python3.7/dist-packages/mpl_toolkits/mplot3d/*\n",
            "    /usr/local/lib/python3.7/dist-packages/mpl_toolkits/tests/*\n",
            "    /usr/local/lib/python3.7/dist-packages/pylab.py\n",
            "Proceed (y/n)? Y\n",
            "  Successfully uninstalled matplotlib-3.5.2\n",
            "Looking in indexes: https://pypi.org/simple, https://us-python.pkg.dev/colab-wheels/public/simple/\n",
            "Collecting matplotlib==3.1.3\n",
            "  Downloading matplotlib-3.1.3-cp37-cp37m-manylinux1_x86_64.whl (13.1 MB)\n",
            "\u001b[K     |████████████████████████████████| 13.1 MB 32.2 MB/s \n",
            "\u001b[?25hRequirement already satisfied: python-dateutil>=2.1 in /usr/local/lib/python3.7/dist-packages (from matplotlib==3.1.3) (2.8.2)\n",
            "Requirement already satisfied: kiwisolver>=1.0.1 in /usr/local/lib/python3.7/dist-packages (from matplotlib==3.1.3) (1.4.4)\n",
            "Requirement already satisfied: numpy>=1.11 in /usr/local/lib/python3.7/dist-packages (from matplotlib==3.1.3) (1.21.6)\n",
            "Requirement already satisfied: pyparsing!=2.0.4,!=2.1.2,!=2.1.6,>=2.0.1 in /usr/local/lib/python3.7/dist-packages (from matplotlib==3.1.3) (3.0.9)\n",
            "Requirement already satisfied: cycler>=0.10 in /usr/local/lib/python3.7/dist-packages (from matplotlib==3.1.3) (0.11.0)\n",
            "Requirement already satisfied: typing-extensions in /usr/local/lib/python3.7/dist-packages (from kiwisolver>=1.0.1->matplotlib==3.1.3) (4.1.1)\n",
            "Requirement already satisfied: six>=1.5 in /usr/local/lib/python3.7/dist-packages (from python-dateutil>=2.1->matplotlib==3.1.3) (1.15.0)\n",
            "Installing collected packages: matplotlib\n",
            "\u001b[31mERROR: pip's dependency resolver does not currently take into account all the packages that are installed. This behaviour is the source of the following dependency conflicts.\n",
            "pyrdf2vec 0.2.3 requires matplotlib<4.0.0,>=3.4.2, but you have matplotlib 3.1.3 which is incompatible.\n",
            "albumentations 0.1.12 requires imgaug<0.2.7,>=0.2.5, but you have imgaug 0.2.9 which is incompatible.\u001b[0m\n",
            "Successfully installed matplotlib-3.1.3\n"
          ]
        },
        {
          "output_type": "display_data",
          "data": {
            "application/vnd.colab-display-data+json": {
              "pip_warning": {
                "packages": [
                  "matplotlib",
                  "mpl_toolkits"
                ]
              }
            }
          },
          "metadata": {}
        }
      ]
    },
    {
      "cell_type": "code",
      "source": [
        "# Set the graph with a certain size.\n",
        "plt.figure(figsize=(10, 4))\n",
        "\n",
        "# Plot the train embeddings.\n",
        "plt.scatter(\n",
        "    X_tsne[: len(train_entities), 0],\n",
        "    X_tsne[: len(train_entities), 1],\n",
        "    edgecolors=[color_map[i] for i in labels[: len(train_entities)]],\n",
        "    facecolors=[color_map[i] for i in labels[: len(train_entities)]],\n",
        ")\n",
        "\n",
        "# Plot the test embeddings.\n",
        "plt.scatter(\n",
        "    X_tsne[len(train_entities) :, 0],\n",
        "    X_tsne[len(train_entities) :, 1],\n",
        "    edgecolors=[color_map[i] for i in labels[len(train_entities) :]],\n",
        "    facecolors=\"none\",\n",
        ")\n",
        "\n",
        "# Annotate few points.\n",
        "plt.annotate(\n",
        "    entities[25].split(\"/\")[-1],\n",
        "    xy=(X_tsne[25, 0], X_tsne[25, 1]),\n",
        "    xycoords=\"data\",\n",
        "    xytext=(0.01, 0.0),\n",
        "    fontsize=8,\n",
        "    textcoords=\"axes fraction\",\n",
        "    arrowprops=dict(arrowstyle=\"->\", facecolor=\"black\"),\n",
        ")\n",
        "plt.annotate(\n",
        "    entities[35].split(\"/\")[-1],\n",
        "    xy=(X_tsne[35, 0], X_tsne[35, 1]),\n",
        "    xycoords=\"data\",\n",
        "    xytext=(0.4, 0.0),\n",
        "    fontsize=8,\n",
        "    textcoords=\"axes fraction\",\n",
        "    arrowprops=dict(arrowstyle=\"->\", facecolor=\"black\"),\n",
        ")\n",
        "\n",
        "# Create a legend.\n",
        "plt.scatter([], [], edgecolors=\"r\", facecolors=\"r\", label=\"train -\")\n",
        "plt.scatter([], [], edgecolors=\"g\", facecolors=\"g\", label=\"train +\")\n",
        "plt.scatter([], [], edgecolors=\"r\", facecolors=\"none\", label=\"test -\")\n",
        "plt.scatter([], [], edgecolors=\"g\", facecolors=\"none\", label=\"test +\")\n",
        "plt.legend(loc=\"upper right\", ncol=2)\n",
        "\n",
        "# Display the graph with a title, removing the axes for\n",
        "# better readability.\n",
        "plt.title(\"pyRDF2Vec\", fontsize=32)\n",
        "plt.axis(\"off\")\n",
        "plt.show()"
      ],
      "metadata": {
        "colab": {
          "base_uri": "https://localhost:8080/",
          "height": 281
        },
        "id": "qEURK7HC-Z4T",
        "outputId": "0446285b-15cd-4809-9047-900c67685b0b"
      },
      "execution_count": 29,
      "outputs": [
        {
          "output_type": "display_data",
          "data": {
            "text/plain": [
              "<Figure size 720x288 with 1 Axes>"
            ],
            "image/png": "[encoded data removed]"
          },
          "metadata": {
            "needs_background": "light"
          }
        }
      ]
    },
    {
      "cell_type": "code",
      "source": [
        ""
      ],
      "metadata": {
        "id": "wa6m72Nc-Z70"
      },
      "execution_count": null,
      "outputs": []
    }
  ]
}