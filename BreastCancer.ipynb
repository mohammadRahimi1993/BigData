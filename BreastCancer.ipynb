{
  "nbformat": 4,
  "nbformat_minor": 0,
  "metadata": {
    "colab": {
      "provenance": [],
      "mount_file_id": "1C_MjEiNoqNS7vjhURHy88Kl04X3UXPMk",
      "authorship_tag": "ABX9TyMRxoxFFw+5DW5Xqx9HhYJ9",
      "include_colab_link": true
    },
    "kernelspec": {
      "name": "python3",
      "display_name": "Python 3"
    },
    "language_info": {
      "name": "python"
    }
  },
  "cells": [
    {
      "cell_type": "markdown",
      "metadata": {
        "id": "view-in-github",
        "colab_type": "text"
      },
      "source": [
        "<a href=\"https://colab.research.google.com/github/mohammadRahimi1993/BigData/blob/main/BreastCancer.ipynb\" target=\"_parent\"><img src=\"https://colab.research.google.com/assets/colab-badge.svg\" alt=\"Open In Colab\"/></a>"
      ]
    },
    {
      "cell_type": "markdown",
      "source": [
        "# **1. DataSet Understand**"
      ],
      "metadata": {
        "id": "edPlKf41v31_"
      }
    },
    {
      "cell_type": "markdown",
      "source": [
        "# 1.1 import Libraries\n"
      ],
      "metadata": {
        "id": "uro0y9lhTB9f"
      }
    },
    {
      "cell_type": "code",
      "source": [
        "# Load Libraries:\n",
        "import pandas as pd\n",
        "import matplotlib.pyplot as plt\n",
        "import numpy as np\n",
        "import seaborn as sns\n",
        "import plotly.offline as pyo \n",
        "import plotly.graph_objs as go\n",
        "import plotly.figure_factory as ff\n",
        "from plotly.offline import init_notebook_mode,iplot\n",
        "init_notebook_mode(connected = True)\n",
        "from matplotlib.colors import ListedColormap\n",
        "from statsmodels.graphics.gofplots import qqplot\n",
        "from scipy.stats import shapiro\n",
        "from scipy.stats import stats\n",
        "from scipy.stats import norm\n",
        "from scipy.stats import probplot\n",
        "import scipy as stat\n",
        "from scipy.stats import skew\n",
        "from scipy import stats\n",
        "from sklearn.preprocessing import PowerTransformer\n",
        "#\n",
        "from sklearn.metrics import classification_report \n",
        "from sklearn.metrics import confusion_matrix \n",
        "from sklearn.metrics import accuracy_score \n",
        "#\n",
        "from sklearn.model_selection import train_test_split, GridSearchCV\n",
        "from sklearn.preprocessing import StandardScaler,RobustScaler\n",
        "from sklearn.model_selection import train_test_split \n",
        "from sklearn.model_selection import KFold \n",
        "from sklearn.model_selection import cross_val_score\n",
        "from sklearn import metrics\n",
        "#\n",
        "from sklearn.neighbors import KNeighborsClassifier, NeighborhoodComponentsAnalysis, LocalOutlierFactor\n",
        "from sklearn.decomposition import PCA\n"
      ],
      "metadata": {
        "colab": {
          "base_uri": "https://localhost:8080/",
          "height": 17
        },
        "id": "QdOwbre7Sk_M",
        "outputId": "cf25ea52-c51e-4146-9544-fda916fbdc2f"
      },
      "execution_count": 1,
      "outputs": [
        {
          "output_type": "display_data",
          "data": {
            "text/html": [
              "        <script type=\"text/javascript\">\n",
              "        window.PlotlyConfig = {MathJaxConfig: 'local'};\n",
              "        if (window.MathJax) {MathJax.Hub.Config({SVG: {font: \"STIX-Web\"}});}\n",
              "        if (typeof require !== 'undefined') {\n",
              "        require.undef(\"plotly\");\n",
              "        requirejs.config({\n",
              "            paths: {\n",
              "                'plotly': ['https://cdn.plot.ly/plotly-2.8.3.min']\n",
              "            }\n",
              "        });\n",
              "        require(['plotly'], function(Plotly) {\n",
              "            window._Plotly = Plotly;\n",
              "        });\n",
              "        }\n",
              "        </script>\n",
              "        "
            ]
          },
          "metadata": {}
        }
      ]
    },
    {
      "cell_type": "markdown",
      "source": [
        "# 1.2 import Dataset"
      ],
      "metadata": {
        "id": "m2yT9mFXw-He"
      }
    },
    {
      "cell_type": "code",
      "source": [
        "df = pd.read_csv(\"/content/drive/MyDrive/DataSet/breast-final_csv.csv\")\n",
        "df = pd.DataFrame(df)\n",
        "df.head(10)"
      ],
      "metadata": {
        "colab": {
          "base_uri": "https://localhost:8080/",
          "height": 427
        },
        "id": "wq6J8G1ZTMux",
        "outputId": "93006bc2-3311-47ac-844c-b3e7ce2b19c4"
      },
      "execution_count": 2,
      "outputs": [
        {
          "output_type": "execute_result",
          "data": {
            "text/plain": [
              "   Clump_Thickness  Cell_Size_Uniformity  Cell_Shape_Uniformity  \\\n",
              "0                5                     1                      1   \n",
              "1                5                     4                      4   \n",
              "2                3                     1                      1   \n",
              "3                6                     8                      8   \n",
              "4                4                     1                      1   \n",
              "5                8                    10                     10   \n",
              "6                1                     1                      1   \n",
              "7                2                     1                      2   \n",
              "8                2                     1                      1   \n",
              "9                4                     2                      1   \n",
              "\n",
              "   Marginal_Adhesion  Single_Epi_Cell_Size  Bare_Nuclei  Bland_Chromatin  \\\n",
              "0                  1                     2          1.0                3   \n",
              "1                  5                     7         10.0                3   \n",
              "2                  1                     2          2.0                3   \n",
              "3                  1                     3          4.0                3   \n",
              "4                  3                     2          1.0                3   \n",
              "5                  8                     7         10.0                9   \n",
              "6                  1                     2         10.0                3   \n",
              "7                  1                     2          1.0                3   \n",
              "8                  1                     2          1.0                1   \n",
              "9                  1                     2          1.0                2   \n",
              "\n",
              "   Normal_Nucleoli  Mitoses      Class  \n",
              "0                1        1     benign  \n",
              "1                2        1     benign  \n",
              "2                1        1     benign  \n",
              "3                7        1     benign  \n",
              "4                1        1     benign  \n",
              "5                7        1  malignant  \n",
              "6                1        1     benign  \n",
              "7                1        1     benign  \n",
              "8                1        5     benign  \n",
              "9                1        1     benign  "
            ],
            "text/html": [
              "\n",
              "  <div id=\"df-c1db974e-5d4c-407e-8038-9c0354ebedb0\">\n",
              "    <div class=\"colab-df-container\">\n",
              "      <div>\n",
              "<style scoped>\n",
              "    .dataframe tbody tr th:only-of-type {\n",
              "        vertical-align: middle;\n",
              "    }\n",
              "\n",
              "    .dataframe tbody tr th {\n",
              "        vertical-align: top;\n",
              "    }\n",
              "\n",
              "    .dataframe thead th {\n",
              "        text-align: right;\n",
              "    }\n",
              "</style>\n",
              "<table border=\"1\" class=\"dataframe\">\n",
              "  <thead>\n",
              "    <tr style=\"text-align: right;\">\n",
              "      <th></th>\n",
              "      <th>Clump_Thickness</th>\n",
              "      <th>Cell_Size_Uniformity</th>\n",
              "      <th>Cell_Shape_Uniformity</th>\n",
              "      <th>Marginal_Adhesion</th>\n",
              "      <th>Single_Epi_Cell_Size</th>\n",
              "      <th>Bare_Nuclei</th>\n",
              "      <th>Bland_Chromatin</th>\n",
              "      <th>Normal_Nucleoli</th>\n",
              "      <th>Mitoses</th>\n",
              "      <th>Class</th>\n",
              "    </tr>\n",
              "  </thead>\n",
              "  <tbody>\n",
              "    <tr>\n",
              "      <th>0</th>\n",
              "      <td>5</td>\n",
              "      <td>1</td>\n",
              "      <td>1</td>\n",
              "      <td>1</td>\n",
              "      <td>2</td>\n",
              "      <td>1.0</td>\n",
              "      <td>3</td>\n",
              "      <td>1</td>\n",
              "      <td>1</td>\n",
              "      <td>benign</td>\n",
              "    </tr>\n",
              "    <tr>\n",
              "      <th>1</th>\n",
              "      <td>5</td>\n",
              "      <td>4</td>\n",
              "      <td>4</td>\n",
              "      <td>5</td>\n",
              "      <td>7</td>\n",
              "      <td>10.0</td>\n",
              "      <td>3</td>\n",
              "      <td>2</td>\n",
              "      <td>1</td>\n",
              "      <td>benign</td>\n",
              "    </tr>\n",
              "    <tr>\n",
              "      <th>2</th>\n",
              "      <td>3</td>\n",
              "      <td>1</td>\n",
              "      <td>1</td>\n",
              "      <td>1</td>\n",
              "      <td>2</td>\n",
              "      <td>2.0</td>\n",
              "      <td>3</td>\n",
              "      <td>1</td>\n",
              "      <td>1</td>\n",
              "      <td>benign</td>\n",
              "    </tr>\n",
              "    <tr>\n",
              "      <th>3</th>\n",
              "      <td>6</td>\n",
              "      <td>8</td>\n",
              "      <td>8</td>\n",
              "      <td>1</td>\n",
              "      <td>3</td>\n",
              "      <td>4.0</td>\n",
              "      <td>3</td>\n",
              "      <td>7</td>\n",
              "      <td>1</td>\n",
              "      <td>benign</td>\n",
              "    </tr>\n",
              "    <tr>\n",
              "      <th>4</th>\n",
              "      <td>4</td>\n",
              "      <td>1</td>\n",
              "      <td>1</td>\n",
              "      <td>3</td>\n",
              "      <td>2</td>\n",
              "      <td>1.0</td>\n",
              "      <td>3</td>\n",
              "      <td>1</td>\n",
              "      <td>1</td>\n",
              "      <td>benign</td>\n",
              "    </tr>\n",
              "    <tr>\n",
              "      <th>5</th>\n",
              "      <td>8</td>\n",
              "      <td>10</td>\n",
              "      <td>10</td>\n",
              "      <td>8</td>\n",
              "      <td>7</td>\n",
              "      <td>10.0</td>\n",
              "      <td>9</td>\n",
              "      <td>7</td>\n",
              "      <td>1</td>\n",
              "      <td>malignant</td>\n",
              "    </tr>\n",
              "    <tr>\n",
              "      <th>6</th>\n",
              "      <td>1</td>\n",
              "      <td>1</td>\n",
              "      <td>1</td>\n",
              "      <td>1</td>\n",
              "      <td>2</td>\n",
              "      <td>10.0</td>\n",
              "      <td>3</td>\n",
              "      <td>1</td>\n",
              "      <td>1</td>\n",
              "      <td>benign</td>\n",
              "    </tr>\n",
              "    <tr>\n",
              "      <th>7</th>\n",
              "      <td>2</td>\n",
              "      <td>1</td>\n",
              "      <td>2</td>\n",
              "      <td>1</td>\n",
              "      <td>2</td>\n",
              "      <td>1.0</td>\n",
              "      <td>3</td>\n",
              "      <td>1</td>\n",
              "      <td>1</td>\n",
              "      <td>benign</td>\n",
              "    </tr>\n",
              "    <tr>\n",
              "      <th>8</th>\n",
              "      <td>2</td>\n",
              "      <td>1</td>\n",
              "      <td>1</td>\n",
              "      <td>1</td>\n",
              "      <td>2</td>\n",
              "      <td>1.0</td>\n",
              "      <td>1</td>\n",
              "      <td>1</td>\n",
              "      <td>5</td>\n",
              "      <td>benign</td>\n",
              "    </tr>\n",
              "    <tr>\n",
              "      <th>9</th>\n",
              "      <td>4</td>\n",
              "      <td>2</td>\n",
              "      <td>1</td>\n",
              "      <td>1</td>\n",
              "      <td>2</td>\n",
              "      <td>1.0</td>\n",
              "      <td>2</td>\n",
              "      <td>1</td>\n",
              "      <td>1</td>\n",
              "      <td>benign</td>\n",
              "    </tr>\n",
              "  </tbody>\n",
              "</table>\n",
              "</div>\n",
              "      <button class=\"colab-df-convert\" onclick=\"convertToInteractive('df-c1db974e-5d4c-407e-8038-9c0354ebedb0')\"\n",
              "              title=\"Convert this dataframe to an interactive table.\"\n",
              "              style=\"display:none;\">\n",
              "        \n",
              "  <svg xmlns=\"http://www.w3.org/2000/svg\" height=\"24px\"viewBox=\"0 0 24 24\"\n",
              "       width=\"24px\">\n",
              "    <path d=\"M0 0h24v24H0V0z\" fill=\"none\"/>\n",
              "    <path d=\"M18.56 5.44l.94 2.06.94-2.06 2.06-.94-2.06-.94-.94-2.06-.94 2.06-2.06.94zm-11 1L8.5 8.5l.94-2.06 2.06-.94-2.06-.94L8.5 2.5l-.94 2.06-2.06.94zm10 10l.94 2.06.94-2.06 2.06-.94-2.06-.94-.94-2.06-.94 2.06-2.06.94z\"/><path d=\"M17.41 7.96l-1.37-1.37c-.4-.4-.92-.59-1.43-.59-.52 0-1.04.2-1.43.59L10.3 9.45l-7.72 7.72c-.78.78-.78 2.05 0 2.83L4 21.41c.39.39.9.59 1.41.59.51 0 1.02-.2 1.41-.59l7.78-7.78 2.81-2.81c.8-.78.8-2.07 0-2.86zM5.41 20L4 18.59l7.72-7.72 1.47 1.35L5.41 20z\"/>\n",
              "  </svg>\n",
              "      </button>\n",
              "      \n",
              "  <style>\n",
              "    .colab-df-container {\n",
              "      display:flex;\n",
              "      flex-wrap:wrap;\n",
              "      gap: 12px;\n",
              "    }\n",
              "\n",
              "    .colab-df-convert {\n",
              "      background-color: #E8F0FE;\n",
              "      border: none;\n",
              "      border-radius: 50%;\n",
              "      cursor: pointer;\n",
              "      display: none;\n",
              "      fill: #1967D2;\n",
              "      height: 32px;\n",
              "      padding: 0 0 0 0;\n",
              "      width: 32px;\n",
              "    }\n",
              "\n",
              "    .colab-df-convert:hover {\n",
              "      background-color: #E2EBFA;\n",
              "      box-shadow: 0px 1px 2px rgba(60, 64, 67, 0.3), 0px 1px 3px 1px rgba(60, 64, 67, 0.15);\n",
              "      fill: #174EA6;\n",
              "    }\n",
              "\n",
              "    [theme=dark] .colab-df-convert {\n",
              "      background-color: #3B4455;\n",
              "      fill: #D2E3FC;\n",
              "    }\n",
              "\n",
              "    [theme=dark] .colab-df-convert:hover {\n",
              "      background-color: #434B5C;\n",
              "      box-shadow: 0px 1px 3px 1px rgba(0, 0, 0, 0.15);\n",
              "      filter: drop-shadow(0px 1px 2px rgba(0, 0, 0, 0.3));\n",
              "      fill: #FFFFFF;\n",
              "    }\n",
              "  </style>\n",
              "\n",
              "      <script>\n",
              "        const buttonEl =\n",
              "          document.querySelector('#df-c1db974e-5d4c-407e-8038-9c0354ebedb0 button.colab-df-convert');\n",
              "        buttonEl.style.display =\n",
              "          google.colab.kernel.accessAllowed ? 'block' : 'none';\n",
              "\n",
              "        async function convertToInteractive(key) {\n",
              "          const element = document.querySelector('#df-c1db974e-5d4c-407e-8038-9c0354ebedb0');\n",
              "          const dataTable =\n",
              "            await google.colab.kernel.invokeFunction('convertToInteractive',\n",
              "                                                     [key], {});\n",
              "          if (!dataTable) return;\n",
              "\n",
              "          const docLinkHtml = 'Like what you see? Visit the ' +\n",
              "            '<a target=\"_blank\" href=https://colab.research.google.com/notebooks/data_table.ipynb>data table notebook</a>'\n",
              "            + ' to learn more about interactive tables.';\n",
              "          element.innerHTML = '';\n",
              "          dataTable['output_type'] = 'display_data';\n",
              "          await google.colab.output.renderOutput(dataTable, element);\n",
              "          const docLink = document.createElement('div');\n",
              "          docLink.innerHTML = docLinkHtml;\n",
              "          element.appendChild(docLink);\n",
              "        }\n",
              "      </script>\n",
              "    </div>\n",
              "  </div>\n",
              "  "
            ]
          },
          "metadata": {},
          "execution_count": 2
        }
      ]
    },
    {
      "cell_type": "markdown",
      "source": [
        "# 1.3 Descriptive Analysis"
      ],
      "metadata": {
        "id": "bOO-wFMpx2e_"
      }
    },
    {
      "cell_type": "code",
      "source": [
        "describe = df.describe().T\n",
        "print(describe)"
      ],
      "metadata": {
        "colab": {
          "base_uri": "https://localhost:8080/"
        },
        "id": "ouAWGr9nUcJ5",
        "outputId": "ace652e3-5d8e-4533-c417-d0f7d7fd71b9"
      },
      "execution_count": 3,
      "outputs": [
        {
          "output_type": "stream",
          "name": "stdout",
          "text": [
            "                       count      mean       std  min  25%  50%  75%   max\n",
            "Clump_Thickness        699.0  4.417740  2.815741  1.0  2.0  4.0  6.0  10.0\n",
            "Cell_Size_Uniformity   699.0  3.134478  3.051459  1.0  1.0  1.0  5.0  10.0\n",
            "Cell_Shape_Uniformity  699.0  3.207439  2.971913  1.0  1.0  1.0  5.0  10.0\n",
            "Marginal_Adhesion      699.0  2.806867  2.855379  1.0  1.0  1.0  4.0  10.0\n",
            "Single_Epi_Cell_Size   699.0  3.216023  2.214300  1.0  2.0  2.0  4.0  10.0\n",
            "Bare_Nuclei            683.0  3.544656  3.643857  1.0  1.0  1.0  6.0  10.0\n",
            "Bland_Chromatin        699.0  3.437768  2.438364  1.0  2.0  3.0  5.0  10.0\n",
            "Normal_Nucleoli        699.0  2.866953  3.053634  1.0  1.0  1.0  4.0  10.0\n",
            "Mitoses                699.0  1.589413  1.715078  1.0  1.0  1.0  1.0  10.0\n"
          ]
        }
      ]
    },
    {
      "cell_type": "markdown",
      "source": [
        "# 1.4 Checking Skewness Basically"
      ],
      "metadata": {
        "id": "7K6r8OeVyL9F"
      }
    },
    {
      "cell_type": "code",
      "source": [
        "def check_skewness(dataframe):\n",
        "\n",
        "    global describe\n",
        "    \n",
        "    for i in range(describe.shape[1]):\n",
        "        mean = round(describe.iloc[1,i],3)\n",
        "        median = round(describe.iloc[5,i],3)\n",
        "    \n",
        "        if mean > median:\n",
        "            print(\"Positive Skewness\\t:\\t{}\\t\".format(describe.columns[i]))\n",
        "        elif mean == median:\n",
        "            print(\"No Skew          \\t:\\t{}\\t\".format(describe.columns[i]))\n",
        "        else:\n",
        "            print(\"Negative Skewness\\t:\\t{}\\t\".format(describe.columns[i]))\n",
        "            \n",
        "check_skewness(df)"
      ],
      "metadata": {
        "colab": {
          "base_uri": "https://localhost:8080/"
        },
        "id": "5wVE2DlzX04m",
        "outputId": "e6b73424-4fb5-4ebd-905e-9464db381c0a"
      },
      "execution_count": 4,
      "outputs": [
        {
          "output_type": "stream",
          "name": "stdout",
          "text": [
            "Positive Skewness\t:\tcount\t\n",
            "Negative Skewness\t:\tmean\t\n",
            "Negative Skewness\t:\tstd\t\n",
            "No Skew          \t:\tmin\t\n",
            "No Skew          \t:\t25%\t\n",
            "No Skew          \t:\t50%\t\n",
            "Negative Skewness\t:\t75%\t\n",
            "No Skew          \t:\tmax\t\n"
          ]
        }
      ]
    },
    {
      "cell_type": "markdown",
      "source": [
        "# 1.5 Missing Values"
      ],
      "metadata": {
        "id": "xsa7gDDoyc-9"
      }
    },
    {
      "cell_type": "code",
      "source": [
        "#df.info()\n",
        "def Missing_Values_Table(df):\n",
        "    missing_value = df.isnull().sum()\n",
        "    missing_value_percent = 100*df.isnull().sum()/len(df)\n",
        "    missing_value_table = pd.concat([missing_value,missing_value_percent],axis = 1)\n",
        "    missing_value_table__ = missing_value_table.rename(columns = {0 : 'Missing Values', 1 : '% Percent'})\n",
        "    return missing_value_table__\n",
        "\n",
        "Missing_Values_Table(df)"
      ],
      "metadata": {
        "colab": {
          "base_uri": "https://localhost:8080/",
          "height": 363
        },
        "id": "zgt6Lql0SlCy",
        "outputId": "845cb93e-92db-4949-87ed-114fe06d5bdc"
      },
      "execution_count": 5,
      "outputs": [
        {
          "output_type": "execute_result",
          "data": {
            "text/plain": [
              "                       Missing Values  % Percent\n",
              "Clump_Thickness                     0   0.000000\n",
              "Cell_Size_Uniformity                0   0.000000\n",
              "Cell_Shape_Uniformity               0   0.000000\n",
              "Marginal_Adhesion                   0   0.000000\n",
              "Single_Epi_Cell_Size                0   0.000000\n",
              "Bare_Nuclei                        16   2.288984\n",
              "Bland_Chromatin                     0   0.000000\n",
              "Normal_Nucleoli                     0   0.000000\n",
              "Mitoses                             0   0.000000\n",
              "Class                               0   0.000000"
            ],
            "text/html": [
              "\n",
              "  <div id=\"df-ceb8080a-1129-4515-adbd-97406e4f505a\">\n",
              "    <div class=\"colab-df-container\">\n",
              "      <div>\n",
              "<style scoped>\n",
              "    .dataframe tbody tr th:only-of-type {\n",
              "        vertical-align: middle;\n",
              "    }\n",
              "\n",
              "    .dataframe tbody tr th {\n",
              "        vertical-align: top;\n",
              "    }\n",
              "\n",
              "    .dataframe thead th {\n",
              "        text-align: right;\n",
              "    }\n",
              "</style>\n",
              "<table border=\"1\" class=\"dataframe\">\n",
              "  <thead>\n",
              "    <tr style=\"text-align: right;\">\n",
              "      <th></th>\n",
              "      <th>Missing Values</th>\n",
              "      <th>% Percent</th>\n",
              "    </tr>\n",
              "  </thead>\n",
              "  <tbody>\n",
              "    <tr>\n",
              "      <th>Clump_Thickness</th>\n",
              "      <td>0</td>\n",
              "      <td>0.000000</td>\n",
              "    </tr>\n",
              "    <tr>\n",
              "      <th>Cell_Size_Uniformity</th>\n",
              "      <td>0</td>\n",
              "      <td>0.000000</td>\n",
              "    </tr>\n",
              "    <tr>\n",
              "      <th>Cell_Shape_Uniformity</th>\n",
              "      <td>0</td>\n",
              "      <td>0.000000</td>\n",
              "    </tr>\n",
              "    <tr>\n",
              "      <th>Marginal_Adhesion</th>\n",
              "      <td>0</td>\n",
              "      <td>0.000000</td>\n",
              "    </tr>\n",
              "    <tr>\n",
              "      <th>Single_Epi_Cell_Size</th>\n",
              "      <td>0</td>\n",
              "      <td>0.000000</td>\n",
              "    </tr>\n",
              "    <tr>\n",
              "      <th>Bare_Nuclei</th>\n",
              "      <td>16</td>\n",
              "      <td>2.288984</td>\n",
              "    </tr>\n",
              "    <tr>\n",
              "      <th>Bland_Chromatin</th>\n",
              "      <td>0</td>\n",
              "      <td>0.000000</td>\n",
              "    </tr>\n",
              "    <tr>\n",
              "      <th>Normal_Nucleoli</th>\n",
              "      <td>0</td>\n",
              "      <td>0.000000</td>\n",
              "    </tr>\n",
              "    <tr>\n",
              "      <th>Mitoses</th>\n",
              "      <td>0</td>\n",
              "      <td>0.000000</td>\n",
              "    </tr>\n",
              "    <tr>\n",
              "      <th>Class</th>\n",
              "      <td>0</td>\n",
              "      <td>0.000000</td>\n",
              "    </tr>\n",
              "  </tbody>\n",
              "</table>\n",
              "</div>\n",
              "      <button class=\"colab-df-convert\" onclick=\"convertToInteractive('df-ceb8080a-1129-4515-adbd-97406e4f505a')\"\n",
              "              title=\"Convert this dataframe to an interactive table.\"\n",
              "              style=\"display:none;\">\n",
              "        \n",
              "  <svg xmlns=\"http://www.w3.org/2000/svg\" height=\"24px\"viewBox=\"0 0 24 24\"\n",
              "       width=\"24px\">\n",
              "    <path d=\"M0 0h24v24H0V0z\" fill=\"none\"/>\n",
              "    <path d=\"M18.56 5.44l.94 2.06.94-2.06 2.06-.94-2.06-.94-.94-2.06-.94 2.06-2.06.94zm-11 1L8.5 8.5l.94-2.06 2.06-.94-2.06-.94L8.5 2.5l-.94 2.06-2.06.94zm10 10l.94 2.06.94-2.06 2.06-.94-2.06-.94-.94-2.06-.94 2.06-2.06.94z\"/><path d=\"M17.41 7.96l-1.37-1.37c-.4-.4-.92-.59-1.43-.59-.52 0-1.04.2-1.43.59L10.3 9.45l-7.72 7.72c-.78.78-.78 2.05 0 2.83L4 21.41c.39.39.9.59 1.41.59.51 0 1.02-.2 1.41-.59l7.78-7.78 2.81-2.81c.8-.78.8-2.07 0-2.86zM5.41 20L4 18.59l7.72-7.72 1.47 1.35L5.41 20z\"/>\n",
              "  </svg>\n",
              "      </button>\n",
              "      \n",
              "  <style>\n",
              "    .colab-df-container {\n",
              "      display:flex;\n",
              "      flex-wrap:wrap;\n",
              "      gap: 12px;\n",
              "    }\n",
              "\n",
              "    .colab-df-convert {\n",
              "      background-color: #E8F0FE;\n",
              "      border: none;\n",
              "      border-radius: 50%;\n",
              "      cursor: pointer;\n",
              "      display: none;\n",
              "      fill: #1967D2;\n",
              "      height: 32px;\n",
              "      padding: 0 0 0 0;\n",
              "      width: 32px;\n",
              "    }\n",
              "\n",
              "    .colab-df-convert:hover {\n",
              "      background-color: #E2EBFA;\n",
              "      box-shadow: 0px 1px 2px rgba(60, 64, 67, 0.3), 0px 1px 3px 1px rgba(60, 64, 67, 0.15);\n",
              "      fill: #174EA6;\n",
              "    }\n",
              "\n",
              "    [theme=dark] .colab-df-convert {\n",
              "      background-color: #3B4455;\n",
              "      fill: #D2E3FC;\n",
              "    }\n",
              "\n",
              "    [theme=dark] .colab-df-convert:hover {\n",
              "      background-color: #434B5C;\n",
              "      box-shadow: 0px 1px 3px 1px rgba(0, 0, 0, 0.15);\n",
              "      filter: drop-shadow(0px 1px 2px rgba(0, 0, 0, 0.3));\n",
              "      fill: #FFFFFF;\n",
              "    }\n",
              "  </style>\n",
              "\n",
              "      <script>\n",
              "        const buttonEl =\n",
              "          document.querySelector('#df-ceb8080a-1129-4515-adbd-97406e4f505a button.colab-df-convert');\n",
              "        buttonEl.style.display =\n",
              "          google.colab.kernel.accessAllowed ? 'block' : 'none';\n",
              "\n",
              "        async function convertToInteractive(key) {\n",
              "          const element = document.querySelector('#df-ceb8080a-1129-4515-adbd-97406e4f505a');\n",
              "          const dataTable =\n",
              "            await google.colab.kernel.invokeFunction('convertToInteractive',\n",
              "                                                     [key], {});\n",
              "          if (!dataTable) return;\n",
              "\n",
              "          const docLinkHtml = 'Like what you see? Visit the ' +\n",
              "            '<a target=\"_blank\" href=https://colab.research.google.com/notebooks/data_table.ipynb>data table notebook</a>'\n",
              "            + ' to learn more about interactive tables.';\n",
              "          element.innerHTML = '';\n",
              "          dataTable['output_type'] = 'display_data';\n",
              "          await google.colab.output.renderOutput(dataTable, element);\n",
              "          const docLink = document.createElement('div');\n",
              "          docLink.innerHTML = docLinkHtml;\n",
              "          element.appendChild(docLink);\n",
              "        }\n",
              "      </script>\n",
              "    </div>\n",
              "  </div>\n",
              "  "
            ]
          },
          "metadata": {},
          "execution_count": 5
        }
      ]
    },
    {
      "cell_type": "code",
      "source": [
        "df = df.rename(columns = {\"Class\":\"Target\"})\n",
        "df[\"Target\"] = [ 1 if i.strip() == \"benign\" else 0 for i in df[\"Target\"]]\n",
        "df.head(5)"
      ],
      "metadata": {
        "colab": {
          "base_uri": "https://localhost:8080/",
          "height": 270
        },
        "id": "vHWtoveGZGWS",
        "outputId": "816db636-1f85-47e0-cc9a-ff96e26f91d5"
      },
      "execution_count": 6,
      "outputs": [
        {
          "output_type": "execute_result",
          "data": {
            "text/plain": [
              "   Clump_Thickness  Cell_Size_Uniformity  Cell_Shape_Uniformity  \\\n",
              "0                5                     1                      1   \n",
              "1                5                     4                      4   \n",
              "2                3                     1                      1   \n",
              "3                6                     8                      8   \n",
              "4                4                     1                      1   \n",
              "\n",
              "   Marginal_Adhesion  Single_Epi_Cell_Size  Bare_Nuclei  Bland_Chromatin  \\\n",
              "0                  1                     2          1.0                3   \n",
              "1                  5                     7         10.0                3   \n",
              "2                  1                     2          2.0                3   \n",
              "3                  1                     3          4.0                3   \n",
              "4                  3                     2          1.0                3   \n",
              "\n",
              "   Normal_Nucleoli  Mitoses  Target  \n",
              "0                1        1       1  \n",
              "1                2        1       1  \n",
              "2                1        1       1  \n",
              "3                7        1       1  \n",
              "4                1        1       1  "
            ],
            "text/html": [
              "\n",
              "  <div id=\"df-3df9faf9-3bae-4971-b560-f88fd1044260\">\n",
              "    <div class=\"colab-df-container\">\n",
              "      <div>\n",
              "<style scoped>\n",
              "    .dataframe tbody tr th:only-of-type {\n",
              "        vertical-align: middle;\n",
              "    }\n",
              "\n",
              "    .dataframe tbody tr th {\n",
              "        vertical-align: top;\n",
              "    }\n",
              "\n",
              "    .dataframe thead th {\n",
              "        text-align: right;\n",
              "    }\n",
              "</style>\n",
              "<table border=\"1\" class=\"dataframe\">\n",
              "  <thead>\n",
              "    <tr style=\"text-align: right;\">\n",
              "      <th></th>\n",
              "      <th>Clump_Thickness</th>\n",
              "      <th>Cell_Size_Uniformity</th>\n",
              "      <th>Cell_Shape_Uniformity</th>\n",
              "      <th>Marginal_Adhesion</th>\n",
              "      <th>Single_Epi_Cell_Size</th>\n",
              "      <th>Bare_Nuclei</th>\n",
              "      <th>Bland_Chromatin</th>\n",
              "      <th>Normal_Nucleoli</th>\n",
              "      <th>Mitoses</th>\n",
              "      <th>Target</th>\n",
              "    </tr>\n",
              "  </thead>\n",
              "  <tbody>\n",
              "    <tr>\n",
              "      <th>0</th>\n",
              "      <td>5</td>\n",
              "      <td>1</td>\n",
              "      <td>1</td>\n",
              "      <td>1</td>\n",
              "      <td>2</td>\n",
              "      <td>1.0</td>\n",
              "      <td>3</td>\n",
              "      <td>1</td>\n",
              "      <td>1</td>\n",
              "      <td>1</td>\n",
              "    </tr>\n",
              "    <tr>\n",
              "      <th>1</th>\n",
              "      <td>5</td>\n",
              "      <td>4</td>\n",
              "      <td>4</td>\n",
              "      <td>5</td>\n",
              "      <td>7</td>\n",
              "      <td>10.0</td>\n",
              "      <td>3</td>\n",
              "      <td>2</td>\n",
              "      <td>1</td>\n",
              "      <td>1</td>\n",
              "    </tr>\n",
              "    <tr>\n",
              "      <th>2</th>\n",
              "      <td>3</td>\n",
              "      <td>1</td>\n",
              "      <td>1</td>\n",
              "      <td>1</td>\n",
              "      <td>2</td>\n",
              "      <td>2.0</td>\n",
              "      <td>3</td>\n",
              "      <td>1</td>\n",
              "      <td>1</td>\n",
              "      <td>1</td>\n",
              "    </tr>\n",
              "    <tr>\n",
              "      <th>3</th>\n",
              "      <td>6</td>\n",
              "      <td>8</td>\n",
              "      <td>8</td>\n",
              "      <td>1</td>\n",
              "      <td>3</td>\n",
              "      <td>4.0</td>\n",
              "      <td>3</td>\n",
              "      <td>7</td>\n",
              "      <td>1</td>\n",
              "      <td>1</td>\n",
              "    </tr>\n",
              "    <tr>\n",
              "      <th>4</th>\n",
              "      <td>4</td>\n",
              "      <td>1</td>\n",
              "      <td>1</td>\n",
              "      <td>3</td>\n",
              "      <td>2</td>\n",
              "      <td>1.0</td>\n",
              "      <td>3</td>\n",
              "      <td>1</td>\n",
              "      <td>1</td>\n",
              "      <td>1</td>\n",
              "    </tr>\n",
              "  </tbody>\n",
              "</table>\n",
              "</div>\n",
              "      <button class=\"colab-df-convert\" onclick=\"convertToInteractive('df-3df9faf9-3bae-4971-b560-f88fd1044260')\"\n",
              "              title=\"Convert this dataframe to an interactive table.\"\n",
              "              style=\"display:none;\">\n",
              "        \n",
              "  <svg xmlns=\"http://www.w3.org/2000/svg\" height=\"24px\"viewBox=\"0 0 24 24\"\n",
              "       width=\"24px\">\n",
              "    <path d=\"M0 0h24v24H0V0z\" fill=\"none\"/>\n",
              "    <path d=\"M18.56 5.44l.94 2.06.94-2.06 2.06-.94-2.06-.94-.94-2.06-.94 2.06-2.06.94zm-11 1L8.5 8.5l.94-2.06 2.06-.94-2.06-.94L8.5 2.5l-.94 2.06-2.06.94zm10 10l.94 2.06.94-2.06 2.06-.94-2.06-.94-.94-2.06-.94 2.06-2.06.94z\"/><path d=\"M17.41 7.96l-1.37-1.37c-.4-.4-.92-.59-1.43-.59-.52 0-1.04.2-1.43.59L10.3 9.45l-7.72 7.72c-.78.78-.78 2.05 0 2.83L4 21.41c.39.39.9.59 1.41.59.51 0 1.02-.2 1.41-.59l7.78-7.78 2.81-2.81c.8-.78.8-2.07 0-2.86zM5.41 20L4 18.59l7.72-7.72 1.47 1.35L5.41 20z\"/>\n",
              "  </svg>\n",
              "      </button>\n",
              "      \n",
              "  <style>\n",
              "    .colab-df-container {\n",
              "      display:flex;\n",
              "      flex-wrap:wrap;\n",
              "      gap: 12px;\n",
              "    }\n",
              "\n",
              "    .colab-df-convert {\n",
              "      background-color: #E8F0FE;\n",
              "      border: none;\n",
              "      border-radius: 50%;\n",
              "      cursor: pointer;\n",
              "      display: none;\n",
              "      fill: #1967D2;\n",
              "      height: 32px;\n",
              "      padding: 0 0 0 0;\n",
              "      width: 32px;\n",
              "    }\n",
              "\n",
              "    .colab-df-convert:hover {\n",
              "      background-color: #E2EBFA;\n",
              "      box-shadow: 0px 1px 2px rgba(60, 64, 67, 0.3), 0px 1px 3px 1px rgba(60, 64, 67, 0.15);\n",
              "      fill: #174EA6;\n",
              "    }\n",
              "\n",
              "    [theme=dark] .colab-df-convert {\n",
              "      background-color: #3B4455;\n",
              "      fill: #D2E3FC;\n",
              "    }\n",
              "\n",
              "    [theme=dark] .colab-df-convert:hover {\n",
              "      background-color: #434B5C;\n",
              "      box-shadow: 0px 1px 3px 1px rgba(0, 0, 0, 0.15);\n",
              "      filter: drop-shadow(0px 1px 2px rgba(0, 0, 0, 0.3));\n",
              "      fill: #FFFFFF;\n",
              "    }\n",
              "  </style>\n",
              "\n",
              "      <script>\n",
              "        const buttonEl =\n",
              "          document.querySelector('#df-3df9faf9-3bae-4971-b560-f88fd1044260 button.colab-df-convert');\n",
              "        buttonEl.style.display =\n",
              "          google.colab.kernel.accessAllowed ? 'block' : 'none';\n",
              "\n",
              "        async function convertToInteractive(key) {\n",
              "          const element = document.querySelector('#df-3df9faf9-3bae-4971-b560-f88fd1044260');\n",
              "          const dataTable =\n",
              "            await google.colab.kernel.invokeFunction('convertToInteractive',\n",
              "                                                     [key], {});\n",
              "          if (!dataTable) return;\n",
              "\n",
              "          const docLinkHtml = 'Like what you see? Visit the ' +\n",
              "            '<a target=\"_blank\" href=https://colab.research.google.com/notebooks/data_table.ipynb>data table notebook</a>'\n",
              "            + ' to learn more about interactive tables.';\n",
              "          element.innerHTML = '';\n",
              "          dataTable['output_type'] = 'display_data';\n",
              "          await google.colab.output.renderOutput(dataTable, element);\n",
              "          const docLink = document.createElement('div');\n",
              "          docLink.innerHTML = docLinkHtml;\n",
              "          element.appendChild(docLink);\n",
              "        }\n",
              "      </script>\n",
              "    </div>\n",
              "  </div>\n",
              "  "
            ]
          },
          "metadata": {},
          "execution_count": 6
        }
      ]
    },
    {
      "cell_type": "markdown",
      "source": [
        "# 1.6 Correlation Matrix"
      ],
      "metadata": {
        "id": "aCh3sPCCzGWq"
      }
    },
    {
      "cell_type": "code",
      "source": [
        "# correlation:\n",
        "corr_matrix = df.corr()\n",
        "sns.clustermap(corr_matrix,annot=True,fmt=\".2f\",figsize=(20,15))\n",
        "plt.title(\"Correlation Features\")"
      ],
      "metadata": {
        "colab": {
          "base_uri": "https://localhost:8080/",
          "height": 874
        },
        "id": "I-8QtZhBbYRt",
        "outputId": "38ff1098-874f-4aa5-9d1c-037ce30bf628"
      },
      "execution_count": 7,
      "outputs": [
        {
          "output_type": "execute_result",
          "data": {
            "text/plain": [
              "Text(0.5, 1.0, 'Correlation Features')"
            ]
          },
          "metadata": {},
          "execution_count": 7
        },
        {
          "output_type": "display_data",
          "data": {
            "text/plain": [
              "<Figure size 1440x1080 with 4 Axes>"
            ],
            "image/png": "[encoded data removed]"
          },
          "metadata": {
            "needs_background": "light"
          }
        }
      ]
    },
    {
      "cell_type": "code",
      "source": [
        "thrs = 0.7\n",
        "filt = np.abs(corr_matrix[\"Target\"])>=thrs\n",
        "correlation_features = corr_matrix.columns[filt].tolist()\n",
        "sns.clustermap(df[correlation_features].corr(),annot = True, fmt = \".2f\")\n",
        "plt.title(\"Highly Correlated Features With Target\")\n",
        "plt.show()"
      ],
      "metadata": {
        "colab": {
          "base_uri": "https://localhost:8080/",
          "height": 742
        },
        "id": "Cavc3Rbsb6ui",
        "outputId": "efe0d45e-59ff-40cd-c7da-6bd44cd9302a"
      },
      "execution_count": 8,
      "outputs": [
        {
          "output_type": "display_data",
          "data": {
            "text/plain": [
              "<Figure size 720x720 with 4 Axes>"
            ],
            "image/png": "[encoded data removed]"
          },
          "metadata": {
            "needs_background": "light"
          }
        }
      ]
    },
    {
      "cell_type": "markdown",
      "source": [
        "# 1.7 Pair Plot"
      ],
      "metadata": {
        "id": "2N2sjTrlzb-w"
      }
    },
    {
      "cell_type": "code",
      "source": [
        "# pair plot\n",
        "thrs = 0.71\n",
        "filt1 = np.abs(corr_matrix[\"Target\"])<=thrs\n",
        "correlation_features = corr_matrix.columns[filt1].tolist()\n",
        "sns.pairplot(df[correlation_features], diag_kind=\"kde\")\n",
        "plt.show()"
      ],
      "metadata": {
        "colab": {
          "base_uri": "https://localhost:8080/",
          "height": 550
        },
        "id": "heudcCZWda0K",
        "outputId": "397751de-cb65-4755-83d1-5aaaaeedbf8d"
      },
      "execution_count": 9,
      "outputs": [
        {
          "output_type": "display_data",
          "data": {
            "text/plain": [
              "<Figure size 540x540 with 12 Axes>"
            ],
            "image/png": "[encoded data removed]"
          },
          "metadata": {
            "needs_background": "light"
          }
        }
      ]
    },
    {
      "cell_type": "markdown",
      "source": [
        "# 1.8 Box Plot (we can see outliers)"
      ],
      "metadata": {
        "id": "PXk2N7diz7tZ"
      }
    },
    {
      "cell_type": "code",
      "source": [
        "# We only used StandardScaler for visualization.\n",
        "\n",
        "Y_visualization = df[\"Target\"]\n",
        "X_visualization = df.drop(\"Target\",axis = 1)\n",
        "\n",
        "scaler_visualization = StandardScaler()\n",
        "X_visualization = scaler_visualization.fit_transform(X_visualization)\n",
        "\n",
        "df_visualization = pd.DataFrame(X_visualization)\n",
        "df_visualization[\"Target\"] = Y_visualization\n",
        "\n",
        "\n",
        "df_melted = pd.melt(df_visualization,id_vars=\"Target\",var_name=\"features\",value_name=\"value\")\n",
        "plt.figure(figsize=(25,15))\n",
        "sns.boxplot(x=\"features\",y=\"value\",hue=\"Target\",data=df_melted)\n",
        "plt.show()"
      ],
      "metadata": {
        "colab": {
          "base_uri": "https://localhost:8080/",
          "height": 684
        },
        "id": "jLEeJTeLd6zC",
        "outputId": "55a141b6-58cc-48dc-9300-7c8057ac0c75"
      },
      "execution_count": 10,
      "outputs": [
        {
          "output_type": "display_data",
          "data": {
            "text/plain": [
              "<Figure size 1800x1080 with 1 Axes>"
            ],
            "image/png": "[encoded data removed]"
          },
          "metadata": {
            "needs_background": "light"
          }
        }
      ]
    },
    {
      "cell_type": "markdown",
      "source": [
        "# 1.9 Count Plot"
      ],
      "metadata": {
        "id": "PtnV_nx8zwUk"
      }
    },
    {
      "cell_type": "code",
      "source": [
        "sns.countplot(df[\"Target\"])\n",
        "plt.show()"
      ],
      "metadata": {
        "colab": {
          "base_uri": "https://localhost:8080/",
          "height": 372
        },
        "id": "-1Hf17aDeGDN",
        "outputId": "0bb24083-d428-4887-9824-fbd74d94fa8f"
      },
      "execution_count": 11,
      "outputs": [
        {
          "output_type": "stream",
          "name": "stderr",
          "text": [
            "/usr/local/lib/python3.8/dist-packages/seaborn/_decorators.py:36: FutureWarning:\n",
            "\n",
            "Pass the following variable as a keyword arg: x. From version 0.12, the only valid positional argument will be `data`, and passing other arguments without an explicit keyword will result in an error or misinterpretation.\n",
            "\n"
          ]
        },
        {
          "output_type": "display_data",
          "data": {
            "text/plain": [
              "<Figure size 432x288 with 1 Axes>"
            ],
            "image/png": "[encoded data removed]"
          },
          "metadata": {
            "needs_background": "light"
          }
        }
      ]
    },
    {
      "cell_type": "markdown",
      "source": [
        "# **2- Data Preparation**"
      ],
      "metadata": {
        "id": "n2iHTlieeX0l"
      }
    },
    {
      "cell_type": "markdown",
      "source": [
        "# 2-1 Fill Missing Values With Mode"
      ],
      "metadata": {
        "id": "xiTb6HYishuv"
      }
    },
    {
      "cell_type": "code",
      "source": [
        "df['Bare_Nuclei'].fillna(df['Bare_Nuclei'].mode()[0], inplace=True)\n",
        "df.isnull().any()"
      ],
      "metadata": {
        "id": "5z1QNVyQr7yu",
        "colab": {
          "base_uri": "https://localhost:8080/"
        },
        "outputId": "eab61a0d-d1bb-46e4-ba51-9385d2d794de"
      },
      "execution_count": 12,
      "outputs": [
        {
          "output_type": "execute_result",
          "data": {
            "text/plain": [
              "Clump_Thickness          False\n",
              "Cell_Size_Uniformity     False\n",
              "Cell_Shape_Uniformity    False\n",
              "Marginal_Adhesion        False\n",
              "Single_Epi_Cell_Size     False\n",
              "Bare_Nuclei              False\n",
              "Bland_Chromatin          False\n",
              "Normal_Nucleoli          False\n",
              "Mitoses                  False\n",
              "Target                   False\n",
              "dtype: bool"
            ]
          },
          "metadata": {},
          "execution_count": 12
        }
      ]
    },
    {
      "cell_type": "markdown",
      "source": [
        "# 2-2 Outlier Detection (LOF)"
      ],
      "metadata": {
        "id": "FfJhmLF_s20P"
      }
    },
    {
      "cell_type": "code",
      "source": [
        "y = df[\"Target\"]\n",
        "X = df.drop([\"Target\"],axis=1)\n",
        "columns = X.columns.tolist()"
      ],
      "metadata": {
        "id": "G-q9Qo70eGHq"
      },
      "execution_count": 13,
      "outputs": []
    },
    {
      "cell_type": "code",
      "source": [
        "clf = LocalOutlierFactor()\n",
        "y_pred = clf.fit_predict(X)\n",
        "outlier = len(y_pred)-(y_pred.sum())\n",
        "inlier = len(y_pred)-outlier\n",
        "\n",
        "print(\"We have {} Outlier and {} Inlier Values\".format(outlier,inlier))\n",
        "sns.countplot(y_pred,palette=\"Set2\")\n",
        "plt.title(\"Outlier & Inlier Values\")\n",
        "plt.show()"
      ],
      "metadata": {
        "colab": {
          "base_uri": "https://localhost:8080/",
          "height": 392
        },
        "id": "ne1ZRuwreGLe",
        "outputId": "1a1cb397-8b2f-48be-a586-7860e3837df1"
      },
      "execution_count": 14,
      "outputs": [
        {
          "output_type": "stream",
          "name": "stderr",
          "text": [
            "/usr/local/lib/python3.8/dist-packages/seaborn/_decorators.py:36: FutureWarning:\n",
            "\n",
            "Pass the following variable as a keyword arg: x. From version 0.12, the only valid positional argument will be `data`, and passing other arguments without an explicit keyword will result in an error or misinterpretation.\n",
            "\n"
          ]
        },
        {
          "output_type": "stream",
          "name": "stdout",
          "text": [
            "We have 324 Outlier and 375 Inlier Values\n"
          ]
        },
        {
          "output_type": "display_data",
          "data": {
            "text/plain": [
              "<Figure size 432x288 with 1 Axes>"
            ],
            "image/png": "[encoded data removed]"
          },
          "metadata": {
            "needs_background": "light"
          }
        }
      ]
    },
    {
      "cell_type": "code",
      "source": [
        "X_score = clf.negative_outlier_factor_\n",
        "outlier_score = pd.DataFrame()\n",
        "outlier_score[\"score\"] = X_score"
      ],
      "metadata": {
        "id": "B70rZ8tEiI7_"
      },
      "execution_count": 15,
      "outputs": []
    },
    {
      "cell_type": "code",
      "source": [
        "np.abs(outlier_score[\"score\"]).sort_values(ascending=False).head(10)"
      ],
      "metadata": {
        "colab": {
          "base_uri": "https://localhost:8080/"
        },
        "id": "IBpnVB_eeGTO",
        "outputId": "7a1d9c7d-300c-41d9-da7f-c99178a5f8e4"
      },
      "execution_count": 16,
      "outputs": [
        {
          "output_type": "execute_result",
          "data": {
            "text/plain": [
              "689    5.031469e+10\n",
              "108    1.660241e+10\n",
              "318    1.590123e+10\n",
              "75     1.589282e+10\n",
              "13     1.575293e+10\n",
              "110    1.329239e+10\n",
              "430    1.312356e+10\n",
              "147    1.184477e+10\n",
              "72     1.170182e+10\n",
              "647    1.167846e+10\n",
              "Name: score, dtype: float64"
            ]
          },
          "metadata": {},
          "execution_count": 16
        }
      ]
    },
    {
      "cell_type": "code",
      "source": [
        "thresh = -2.5\n",
        "filt = outlier_score[\"score\"] < thresh\n",
        "outlier_index = outlier_score[filt].index.tolist()\n",
        "\n",
        "# Radius for our outliers\n",
        "Normal_Nucleoli = (X_score.max()-X_score)/(X_score.max()-X_score.min())\n",
        "outlier_score[\"Normal_Nucleoli\"] = Normal_Nucleoli"
      ],
      "metadata": {
        "id": "55Z5sJNueGWQ"
      },
      "execution_count": 17,
      "outputs": []
    },
    {
      "cell_type": "code",
      "source": [
        "plt.figure(figsize=(25,15))\n",
        "plt.scatter(X.iloc[outlier_index,0],X.iloc[outlier_index,1],color = \"blue\",s=50, label = \"Outlier\")\n",
        "plt.scatter(X.iloc[:,0],X.iloc[:,1],color = \"k\",s=3, label = \"Data Points\")\n",
        "plt.scatter(X.iloc[:,0],X.iloc[:,1],color = \"k\",s=1000*Normal_Nucleoli,edgecolors=\"r\",facecolors=\"none\", label = \"Outlier Scores\")\n",
        "plt.legend()\n",
        "plt.show()"
      ],
      "metadata": {
        "colab": {
          "base_uri": "https://localhost:8080/",
          "height": 680
        },
        "id": "ofKyP5ileGZK",
        "outputId": "2b496287-deab-4a1c-e9c3-3bfd1d52addc"
      },
      "execution_count": 18,
      "outputs": [
        {
          "output_type": "display_data",
          "data": {
            "text/plain": [
              "<Figure size 1800x1080 with 1 Axes>"
            ],
            "image/png": "[encoded data removed]"
          },
          "metadata": {
            "needs_background": "light"
          }
        }
      ]
    },
    {
      "cell_type": "markdown",
      "source": [
        "# 2.3 Skewness & Data Transformation & PowerTransformer"
      ],
      "metadata": {
        "id": "J3DAau7Au5HU"
      }
    },
    {
      "cell_type": "code",
      "source": [
        "y = df[\"Target\"]\n",
        "X = df.drop([\"Target\"],axis=1)\n",
        "columns = X.columns.tolist()\n",
        "X.head(5)"
      ],
      "metadata": {
        "colab": {
          "base_uri": "https://localhost:8080/",
          "height": 270
        },
        "id": "YMo-4Gs9eGdB",
        "outputId": "64985760-b7a9-48fe-a827-d2cd609a7098"
      },
      "execution_count": 19,
      "outputs": [
        {
          "output_type": "execute_result",
          "data": {
            "text/plain": [
              "   Clump_Thickness  Cell_Size_Uniformity  Cell_Shape_Uniformity  \\\n",
              "0                5                     1                      1   \n",
              "1                5                     4                      4   \n",
              "2                3                     1                      1   \n",
              "3                6                     8                      8   \n",
              "4                4                     1                      1   \n",
              "\n",
              "   Marginal_Adhesion  Single_Epi_Cell_Size  Bare_Nuclei  Bland_Chromatin  \\\n",
              "0                  1                     2          1.0                3   \n",
              "1                  5                     7         10.0                3   \n",
              "2                  1                     2          2.0                3   \n",
              "3                  1                     3          4.0                3   \n",
              "4                  3                     2          1.0                3   \n",
              "\n",
              "   Normal_Nucleoli  Mitoses  \n",
              "0                1        1  \n",
              "1                2        1  \n",
              "2                1        1  \n",
              "3                7        1  \n",
              "4                1        1  "
            ],
            "text/html": [
              "\n",
              "  <div id=\"df-ccfe3a13-3533-4686-afe8-414a927b3119\">\n",
              "    <div class=\"colab-df-container\">\n",
              "      <div>\n",
              "<style scoped>\n",
              "    .dataframe tbody tr th:only-of-type {\n",
              "        vertical-align: middle;\n",
              "    }\n",
              "\n",
              "    .dataframe tbody tr th {\n",
              "        vertical-align: top;\n",
              "    }\n",
              "\n",
              "    .dataframe thead th {\n",
              "        text-align: right;\n",
              "    }\n",
              "</style>\n",
              "<table border=\"1\" class=\"dataframe\">\n",
              "  <thead>\n",
              "    <tr style=\"text-align: right;\">\n",
              "      <th></th>\n",
              "      <th>Clump_Thickness</th>\n",
              "      <th>Cell_Size_Uniformity</th>\n",
              "      <th>Cell_Shape_Uniformity</th>\n",
              "      <th>Marginal_Adhesion</th>\n",
              "      <th>Single_Epi_Cell_Size</th>\n",
              "      <th>Bare_Nuclei</th>\n",
              "      <th>Bland_Chromatin</th>\n",
              "      <th>Normal_Nucleoli</th>\n",
              "      <th>Mitoses</th>\n",
              "    </tr>\n",
              "  </thead>\n",
              "  <tbody>\n",
              "    <tr>\n",
              "      <th>0</th>\n",
              "      <td>5</td>\n",
              "      <td>1</td>\n",
              "      <td>1</td>\n",
              "      <td>1</td>\n",
              "      <td>2</td>\n",
              "      <td>1.0</td>\n",
              "      <td>3</td>\n",
              "      <td>1</td>\n",
              "      <td>1</td>\n",
              "    </tr>\n",
              "    <tr>\n",
              "      <th>1</th>\n",
              "      <td>5</td>\n",
              "      <td>4</td>\n",
              "      <td>4</td>\n",
              "      <td>5</td>\n",
              "      <td>7</td>\n",
              "      <td>10.0</td>\n",
              "      <td>3</td>\n",
              "      <td>2</td>\n",
              "      <td>1</td>\n",
              "    </tr>\n",
              "    <tr>\n",
              "      <th>2</th>\n",
              "      <td>3</td>\n",
              "      <td>1</td>\n",
              "      <td>1</td>\n",
              "      <td>1</td>\n",
              "      <td>2</td>\n",
              "      <td>2.0</td>\n",
              "      <td>3</td>\n",
              "      <td>1</td>\n",
              "      <td>1</td>\n",
              "    </tr>\n",
              "    <tr>\n",
              "      <th>3</th>\n",
              "      <td>6</td>\n",
              "      <td>8</td>\n",
              "      <td>8</td>\n",
              "      <td>1</td>\n",
              "      <td>3</td>\n",
              "      <td>4.0</td>\n",
              "      <td>3</td>\n",
              "      <td>7</td>\n",
              "      <td>1</td>\n",
              "    </tr>\n",
              "    <tr>\n",
              "      <th>4</th>\n",
              "      <td>4</td>\n",
              "      <td>1</td>\n",
              "      <td>1</td>\n",
              "      <td>3</td>\n",
              "      <td>2</td>\n",
              "      <td>1.0</td>\n",
              "      <td>3</td>\n",
              "      <td>1</td>\n",
              "      <td>1</td>\n",
              "    </tr>\n",
              "  </tbody>\n",
              "</table>\n",
              "</div>\n",
              "      <button class=\"colab-df-convert\" onclick=\"convertToInteractive('df-ccfe3a13-3533-4686-afe8-414a927b3119')\"\n",
              "              title=\"Convert this dataframe to an interactive table.\"\n",
              "              style=\"display:none;\">\n",
              "        \n",
              "  <svg xmlns=\"http://www.w3.org/2000/svg\" height=\"24px\"viewBox=\"0 0 24 24\"\n",
              "       width=\"24px\">\n",
              "    <path d=\"M0 0h24v24H0V0z\" fill=\"none\"/>\n",
              "    <path d=\"M18.56 5.44l.94 2.06.94-2.06 2.06-.94-2.06-.94-.94-2.06-.94 2.06-2.06.94zm-11 1L8.5 8.5l.94-2.06 2.06-.94-2.06-.94L8.5 2.5l-.94 2.06-2.06.94zm10 10l.94 2.06.94-2.06 2.06-.94-2.06-.94-.94-2.06-.94 2.06-2.06.94z\"/><path d=\"M17.41 7.96l-1.37-1.37c-.4-.4-.92-.59-1.43-.59-.52 0-1.04.2-1.43.59L10.3 9.45l-7.72 7.72c-.78.78-.78 2.05 0 2.83L4 21.41c.39.39.9.59 1.41.59.51 0 1.02-.2 1.41-.59l7.78-7.78 2.81-2.81c.8-.78.8-2.07 0-2.86zM5.41 20L4 18.59l7.72-7.72 1.47 1.35L5.41 20z\"/>\n",
              "  </svg>\n",
              "      </button>\n",
              "      \n",
              "  <style>\n",
              "    .colab-df-container {\n",
              "      display:flex;\n",
              "      flex-wrap:wrap;\n",
              "      gap: 12px;\n",
              "    }\n",
              "\n",
              "    .colab-df-convert {\n",
              "      background-color: #E8F0FE;\n",
              "      border: none;\n",
              "      border-radius: 50%;\n",
              "      cursor: pointer;\n",
              "      display: none;\n",
              "      fill: #1967D2;\n",
              "      height: 32px;\n",
              "      padding: 0 0 0 0;\n",
              "      width: 32px;\n",
              "    }\n",
              "\n",
              "    .colab-df-convert:hover {\n",
              "      background-color: #E2EBFA;\n",
              "      box-shadow: 0px 1px 2px rgba(60, 64, 67, 0.3), 0px 1px 3px 1px rgba(60, 64, 67, 0.15);\n",
              "      fill: #174EA6;\n",
              "    }\n",
              "\n",
              "    [theme=dark] .colab-df-convert {\n",
              "      background-color: #3B4455;\n",
              "      fill: #D2E3FC;\n",
              "    }\n",
              "\n",
              "    [theme=dark] .colab-df-convert:hover {\n",
              "      background-color: #434B5C;\n",
              "      box-shadow: 0px 1px 3px 1px rgba(0, 0, 0, 0.15);\n",
              "      filter: drop-shadow(0px 1px 2px rgba(0, 0, 0, 0.3));\n",
              "      fill: #FFFFFF;\n",
              "    }\n",
              "  </style>\n",
              "\n",
              "      <script>\n",
              "        const buttonEl =\n",
              "          document.querySelector('#df-ccfe3a13-3533-4686-afe8-414a927b3119 button.colab-df-convert');\n",
              "        buttonEl.style.display =\n",
              "          google.colab.kernel.accessAllowed ? 'block' : 'none';\n",
              "\n",
              "        async function convertToInteractive(key) {\n",
              "          const element = document.querySelector('#df-ccfe3a13-3533-4686-afe8-414a927b3119');\n",
              "          const dataTable =\n",
              "            await google.colab.kernel.invokeFunction('convertToInteractive',\n",
              "                                                     [key], {});\n",
              "          if (!dataTable) return;\n",
              "\n",
              "          const docLinkHtml = 'Like what you see? Visit the ' +\n",
              "            '<a target=\"_blank\" href=https://colab.research.google.com/notebooks/data_table.ipynb>data table notebook</a>'\n",
              "            + ' to learn more about interactive tables.';\n",
              "          element.innerHTML = '';\n",
              "          dataTable['output_type'] = 'display_data';\n",
              "          await google.colab.output.renderOutput(dataTable, element);\n",
              "          const docLink = document.createElement('div');\n",
              "          docLink.innerHTML = docLinkHtml;\n",
              "          element.appendChild(docLink);\n",
              "        }\n",
              "      </script>\n",
              "    </div>\n",
              "  </div>\n",
              "  "
            ]
          },
          "metadata": {},
          "execution_count": 19
        }
      ]
    },
    {
      "cell_type": "code",
      "source": [
        "skewed = X.apply(lambda x: skew(x.dropna())).sort_values(ascending=False)\n",
        "skewness = pd.DataFrame(skewed, columns=[\"skewness\"])\n",
        "print(\"Before:\",skewness)\n",
        "\n",
        "pt = PowerTransformer(standardize=False, copy=False)\n",
        "pt.fit_transform(X[\"Mitoses\"].values.reshape(-1, 1))\n",
        "\n",
        "skewed = X.apply(lambda x: skew(x.dropna())).sort_values(ascending=False)\n",
        "skewness = pd.DataFrame(skewed, columns=[\"skewness\"])\n",
        "print(\"After:\",skewness)"
      ],
      "metadata": {
        "colab": {
          "base_uri": "https://localhost:8080/"
        },
        "id": "dHbf8d-OvEao",
        "outputId": "df78e87f-0072-4767-d9ae-36ca8da06b7e"
      },
      "execution_count": 20,
      "outputs": [
        {
          "output_type": "stream",
          "name": "stdout",
          "text": [
            "Before:                        skewness\n",
            "Mitoses                3.553012\n",
            "Single_Epi_Cell_Size   1.708495\n",
            "Marginal_Adhesion      1.521195\n",
            "Normal_Nucleoli        1.419207\n",
            "Cell_Size_Uniformity   1.230489\n",
            "Cell_Shape_Uniformity  1.159364\n",
            "Bland_Chromatin        1.097607\n",
            "Bare_Nuclei            1.023146\n",
            "Clump_Thickness        0.591586\n",
            "After:                        skewness\n",
            "Mitoses                3.553012\n",
            "Single_Epi_Cell_Size   1.708495\n",
            "Marginal_Adhesion      1.521195\n",
            "Normal_Nucleoli        1.419207\n",
            "Cell_Size_Uniformity   1.230489\n",
            "Cell_Shape_Uniformity  1.159364\n",
            "Bland_Chromatin        1.097607\n",
            "Bare_Nuclei            1.023146\n",
            "Clump_Thickness        0.591586\n"
          ]
        }
      ]
    },
    {
      "cell_type": "markdown",
      "source": [
        "# 2.4 Create Train and Test Dataset"
      ],
      "metadata": {
        "id": "gtYX4fS_xTTd"
      }
    },
    {
      "cell_type": "code",
      "source": [
        "x_train, x_test, y_train, y_test = train_test_split(X, y, test_size=0.33, random_state=42)"
      ],
      "metadata": {
        "id": "bsj_blRFxM0O"
      },
      "execution_count": 21,
      "outputs": []
    },
    {
      "cell_type": "markdown",
      "source": [
        "# 2.5 Standardization"
      ],
      "metadata": {
        "id": "GuctFxuqxe7Q"
      }
    },
    {
      "cell_type": "code",
      "source": [
        "scaler = RobustScaler()\n",
        "x_train = scaler.fit_transform(x_train)\n",
        "x_test  = scaler.transform(x_test) "
      ],
      "metadata": {
        "id": "VMug-LoQxfNk"
      },
      "execution_count": 22,
      "outputs": []
    },
    {
      "cell_type": "markdown",
      "source": [
        "# **3. Modeling and Evalution**"
      ],
      "metadata": {
        "id": "XA8QqdrX2vUg"
      }
    },
    {
      "cell_type": "markdown",
      "source": [
        "# 3.1 PCA"
      ],
      "metadata": {
        "id": "kWkocxTUzwmx"
      }
    },
    {
      "cell_type": "code",
      "source": [
        "scaler2 = RobustScaler()\n",
        "x_scaled = scaler2.fit_transform(X)"
      ],
      "metadata": {
        "id": "AsOlVlsCzvH5"
      },
      "execution_count": 23,
      "outputs": []
    },
    {
      "cell_type": "code",
      "source": [
        "pca = PCA(n_components=2,random_state=42)\n",
        "pca.fit(x_scaled)\n",
        "x_pca = pca.transform(x_scaled)\n",
        "pca_df = pd.DataFrame(x_pca,columns=[\"p1\", \"p2\"])\n",
        "pca_df[\"target\"] = y\n",
        "\n",
        "plt.figure(figsize=(15,10))\n",
        "sns.scatterplot(x=\"p1\", y=\"p2\", hue=\"target\",data=pca_df)\n",
        "plt.title(\"PCA Components\")\n",
        "plt.show()"
      ],
      "metadata": {
        "colab": {
          "base_uri": "https://localhost:8080/",
          "height": 621
        },
        "id": "2UsNhLCJz8co",
        "outputId": "55b5465a-292f-459c-8d1e-c3e28b933c98"
      },
      "execution_count": 24,
      "outputs": [
        {
          "output_type": "display_data",
          "data": {
            "text/plain": [
              "<Figure size 1080x720 with 1 Axes>"
            ],
            "image/png": "[encoded data removed]"
          },
          "metadata": {
            "needs_background": "light"
          }
        }
      ]
    },
    {
      "cell_type": "code",
      "source": [
        "x_train_pca,x_test_pca,y_train_pca,y_test_pca = train_test_split(x_pca,y,test_size=0.33,random_state=42)"
      ],
      "metadata": {
        "id": "z4mFALp50bSy"
      },
      "execution_count": 25,
      "outputs": []
    },
    {
      "cell_type": "markdown",
      "source": [
        "# 3.2 K Nearest Neighbors model"
      ],
      "metadata": {
        "id": "wdsdKq1h9QzT"
      }
    },
    {
      "cell_type": "code",
      "source": [
        "from sklearn.neighbors import KNeighborsClassifier\n",
        "KNN_model = KNeighborsClassifier(n_neighbors=1)\n",
        "KNN_model.fit(x_train,y_train)\n",
        "\n",
        "KNN_predictions_train = KNN_model.predict(x_train)\n",
        "KNN_predictions_test = KNN_model.predict(x_test)\n",
        "\n",
        "acc_test = accuracy_score(y_test, KNN_predictions_test)\n",
        "acc_train = accuracy_score(y_train, KNN_predictions_train)\n",
        "print(\"Test Score : {}, Train Score : {}\".format(acc_test, acc_train))\n",
        "\n",
        "print(\"Conf Matrix Train\\n\", confusion_matrix(y_train,KNN_predictions_train))\n",
        "print(classification_report(y_train,KNN_predictions_train))\n",
        "print('\\n')\n",
        "print(\"Conf Matrix Train\\n\", confusion_matrix(y_test,KNN_predictions_test))\n",
        "print(classification_report(y_test,KNN_predictions_test))"
      ],
      "metadata": {
        "colab": {
          "base_uri": "https://localhost:8080/"
        },
        "id": "vGNmR40I9Oq4",
        "outputId": "c6482415-d6c1-4726-fc8c-e207912ff75f"
      },
      "execution_count": 26,
      "outputs": [
        {
          "output_type": "stream",
          "name": "stdout",
          "text": [
            "Test Score : 0.9523809523809523, Train Score : 1.0\n",
            "Conf Matrix Train\n",
            " [[164   0]\n",
            " [  0 304]]\n",
            "              precision    recall  f1-score   support\n",
            "\n",
            "           0       1.00      1.00      1.00       164\n",
            "           1       1.00      1.00      1.00       304\n",
            "\n",
            "    accuracy                           1.00       468\n",
            "   macro avg       1.00      1.00      1.00       468\n",
            "weighted avg       1.00      1.00      1.00       468\n",
            "\n",
            "\n",
            "\n",
            "Conf Matrix Train\n",
            " [[ 68   9]\n",
            " [  2 152]]\n",
            "              precision    recall  f1-score   support\n",
            "\n",
            "           0       0.97      0.88      0.93        77\n",
            "           1       0.94      0.99      0.97       154\n",
            "\n",
            "    accuracy                           0.95       231\n",
            "   macro avg       0.96      0.94      0.95       231\n",
            "weighted avg       0.95      0.95      0.95       231\n",
            "\n"
          ]
        }
      ]
    },
    {
      "cell_type": "markdown",
      "source": [
        "# 3.2 K Nearest Neighbors model & PCA & Fine-tune Hyper-Parameter"
      ],
      "metadata": {
        "id": "DJAYW6VL04oq"
      }
    },
    {
      "cell_type": "code",
      "source": [
        "def KNN_Best_params(x_train,x_test,y_train,y_test):\n",
        "\n",
        "    k_range = list(range(1,31))\n",
        "    weight_potions = [\"uniform\",\"distance\"]\n",
        "    print()\n",
        "    param_grid = {'n_neighbors': k_range, 'weights': weight_potions}\n",
        "\n",
        "    knn = KNeighborsClassifier()\n",
        "    grid = GridSearchCV(knn, param_grid, cv=10, scoring=\"accuracy\")\n",
        "    grid.fit(x_train, y_train)\n",
        "\n",
        "    print(\"Optimization parameters: {} \".format(grid.best_params_))\n",
        "    print()\n",
        "\n",
        "    knn = KNeighborsClassifier(**grid.best_params_)\n",
        "    knn.fit(x_train,y_train)\n",
        "\n",
        "    y_pred_test = knn.predict(x_test)\n",
        "    y_pred_train = knn.predict(x_train)\n",
        "\n",
        "    cm_test = confusion_matrix(y_test, y_pred_test)\n",
        "    cm_train = confusion_matrix(y_train, y_pred_train)\n",
        "\n",
        "    acc_test = accuracy_score(y_test, y_pred_test)\n",
        "    acc_train = accuracy_score(y_train, y_pred_train)\n",
        "\n",
        "    print(\"Test accuracy : {}, Train accuracy : {}\".format(acc_test, acc_train))\n",
        "    print()\n",
        "\n",
        "    print('\\n')\n",
        "    print(\"Conf Matrix Train\\n\", cm_train)\n",
        "    print(classification_report(y_train,y_pred_train))\n",
        "    print('\\n')\n",
        "    print(\"Conf Matrix Test\\n\", cm_test)\n",
        "    print(classification_report(y_test,y_pred_test))\n",
        "\n",
        "    return grid\n",
        "grid_knn_pca = KNN_Best_params(x_train_pca,x_test_pca,y_train_pca,y_test_pca)"
      ],
      "metadata": {
        "id": "Ke4QfNDGz_uF",
        "colab": {
          "base_uri": "https://localhost:8080/"
        },
        "outputId": "fba2da54-0359-462c-be1c-8e7470528661"
      },
      "execution_count": 27,
      "outputs": [
        {
          "output_type": "stream",
          "name": "stdout",
          "text": [
            "\n",
            "Optimization parameters: {'n_neighbors': 9, 'weights': 'uniform'} \n",
            "\n",
            "Test accuracy : 0.9696969696969697, Train accuracy : 0.9594017094017094\n",
            "\n",
            "\n",
            "\n",
            "Conf Matrix Train\n",
            " [[158   6]\n",
            " [ 13 291]]\n",
            "              precision    recall  f1-score   support\n",
            "\n",
            "           0       0.92      0.96      0.94       164\n",
            "           1       0.98      0.96      0.97       304\n",
            "\n",
            "    accuracy                           0.96       468\n",
            "   macro avg       0.95      0.96      0.96       468\n",
            "weighted avg       0.96      0.96      0.96       468\n",
            "\n",
            "\n",
            "\n",
            "Conf Matrix Test\n",
            " [[ 75   2]\n",
            " [  5 149]]\n",
            "              precision    recall  f1-score   support\n",
            "\n",
            "           0       0.94      0.97      0.96        77\n",
            "           1       0.99      0.97      0.98       154\n",
            "\n",
            "    accuracy                           0.97       231\n",
            "   macro avg       0.96      0.97      0.97       231\n",
            "weighted avg       0.97      0.97      0.97       231\n",
            "\n"
          ]
        }
      ]
    },
    {
      "cell_type": "markdown",
      "source": [
        "# 3.3 Support Vector Classifier model"
      ],
      "metadata": {
        "id": "xG6v2kLoUfxh"
      }
    },
    {
      "cell_type": "code",
      "source": [
        "# x_train_pca,x_test_pca,y_train_pca,y_test_pca\n",
        "from sklearn.svm import SVC\n",
        "SV_model = SVC()\n",
        "SV_model.fit(x_train_pca,y_train_pca)\n",
        "predictions = SV_model.predict(x_test_pca)\n",
        "print(confusion_matrix(y_test,predictions))\n",
        "print('\\n')\n",
        "print(classification_report(y_test_pca,predictions))\n"
      ],
      "metadata": {
        "colab": {
          "base_uri": "https://localhost:8080/"
        },
        "id": "Mhu5GHNSSj1G",
        "outputId": "8bba7241-7f7e-475c-a669-a6870967fdb0"
      },
      "execution_count": 42,
      "outputs": [
        {
          "output_type": "stream",
          "name": "stdout",
          "text": [
            "[[ 76   1]\n",
            " [  4 150]]\n",
            "\n",
            "\n",
            "              precision    recall  f1-score   support\n",
            "\n",
            "           0       0.95      0.99      0.97        77\n",
            "           1       0.99      0.97      0.98       154\n",
            "\n",
            "    accuracy                           0.98       231\n",
            "   macro avg       0.97      0.98      0.98       231\n",
            "weighted avg       0.98      0.98      0.98       231\n",
            "\n"
          ]
        }
      ]
    },
    {
      "cell_type": "markdown",
      "source": [
        "# 3.3 Support Vector Classifier model & PCA & Fine-tun Hyperparameter"
      ],
      "metadata": {
        "id": "cfSoUQd610tr"
      }
    },
    {
      "cell_type": "code",
      "source": [
        "from sklearn.svm import SVC\n",
        "svc_params = {\"C\": np.arange(1,10)}\n",
        "svc = SVC(kernel = \"linear\")\n",
        "svc_cv_model = GridSearchCV(svc,svc_params, \n",
        "                            cv = 10, \n",
        "                            n_jobs = -1, \n",
        "                            verbose = 2 )\n",
        "svc_cv_model.fit(x_train_pca, y_train_pca)"
      ],
      "metadata": {
        "colab": {
          "base_uri": "https://localhost:8080/"
        },
        "id": "_sSZkgINSTuM",
        "outputId": "28d5c7a5-7774-46eb-a392-a6b6b15d6e88"
      },
      "execution_count": 48,
      "outputs": [
        {
          "output_type": "stream",
          "name": "stdout",
          "text": [
            "Fitting 10 folds for each of 9 candidates, totalling 90 fits\n"
          ]
        },
        {
          "output_type": "execute_result",
          "data": {
            "text/plain": [
              "GridSearchCV(cv=10, estimator=SVC(kernel='linear'), n_jobs=-1,\n",
              "             param_grid={'C': array([1, 2, 3, 4, 5, 6, 7, 8, 9])}, verbose=2)"
            ]
          },
          "metadata": {},
          "execution_count": 48
        }
      ]
    },
    {
      "cell_type": "code",
      "source": [
        "predictions = svc_cv_model.predict(x_test_pca)\n",
        "print(confusion_matrix(y_test_pca,predictions))\n",
        "print('\\n')\n",
        "print(classification_report(y_test_pca,predictions))"
      ],
      "metadata": {
        "colab": {
          "base_uri": "https://localhost:8080/"
        },
        "id": "0sJ-NCJx108_",
        "outputId": "c183e3ef-a1ce-4d8b-e390-5ec22b899275"
      },
      "execution_count": 49,
      "outputs": [
        {
          "output_type": "stream",
          "name": "stdout",
          "text": [
            "[[ 73   4]\n",
            " [  2 152]]\n",
            "\n",
            "\n",
            "              precision    recall  f1-score   support\n",
            "\n",
            "           0       0.97      0.95      0.96        77\n",
            "           1       0.97      0.99      0.98       154\n",
            "\n",
            "    accuracy                           0.97       231\n",
            "   macro avg       0.97      0.97      0.97       231\n",
            "weighted avg       0.97      0.97      0.97       231\n",
            "\n"
          ]
        }
      ]
    },
    {
      "cell_type": "markdown",
      "source": [
        "# 3.4 LOGISTIC REGRESSION"
      ],
      "metadata": {
        "id": "GA78ZWx4tYtf"
      }
    },
    {
      "cell_type": "code",
      "source": [
        "# logistic regression\n",
        "\n",
        "from sklearn.linear_model import LogisticRegression\n",
        "logr = LogisticRegression(random_state=42,max_iter=10000)\n",
        "logr.fit(x_train,y_train)\n",
        "\n",
        "y_pred_logr_test = logr.predict(x_test)\n",
        "\n",
        "logr_cm_test = confusion_matrix(y_test,y_pred_logr_test)\n",
        "logr_acc = metrics.accuracy_score(y_test, y_pred_logr_test)\n",
        "print(\"Test accuracy is: \", logr_acc)\n",
        "\n",
        "print('\\n')\n",
        "print(\"Conf Matrix Test\\n\", logr_cm_test)\n",
        "print(classification_report(y_test,y_pred_logr_test))"
      ],
      "metadata": {
        "colab": {
          "base_uri": "https://localhost:8080/"
        },
        "id": "pKW9yLijtiEU",
        "outputId": "ecb89158-490c-4cc1-d1d4-55de8d4dc72c"
      },
      "execution_count": 30,
      "outputs": [
        {
          "output_type": "stream",
          "name": "stdout",
          "text": [
            "Test accuracy is:  0.9653679653679653\n",
            "\n",
            "\n",
            "Conf Matrix Test\n",
            " [[ 71   6]\n",
            " [  2 152]]\n",
            "              precision    recall  f1-score   support\n",
            "\n",
            "           0       0.97      0.92      0.95        77\n",
            "           1       0.96      0.99      0.97       154\n",
            "\n",
            "    accuracy                           0.97       231\n",
            "   macro avg       0.97      0.95      0.96       231\n",
            "weighted avg       0.97      0.97      0.97       231\n",
            "\n"
          ]
        }
      ]
    },
    {
      "cell_type": "markdown",
      "source": [
        "# 3.4 LOGISTIC REGRESSION & PCA & Fine-tune hyperparameter"
      ],
      "metadata": {
        "id": "TIC7ThHwo4cp"
      }
    },
    {
      "cell_type": "code",
      "source": [
        "from sklearn.linear_model import LogisticRegression\n",
        "def Logistic_Regression_Best_params(x_train,x_test,y_train,y_test):\n",
        "\n",
        "    C = np.logspace(-4, 4, 50)\n",
        "    penalty = ['l1', 'l2']\n",
        "    max_iter = list(range(1000, 2000, 1000))\n",
        "    random_state = 42\n",
        "    print(\"*************************************************************\")\n",
        "    param_grid = {\"C\": C, \"penalty\": penalty, \"max_iter\": max_iter}\n",
        "\n",
        "    logr = LogisticRegression(random_state=random_state)\n",
        "    grid = GridSearchCV(logr, param_grid, cv=10, scoring=\"accuracy\")\n",
        "    grid.fit(x_train, y_train)\n",
        "\n",
        "    print(\"Optimizatio parameters are : {} \".format(grid.best_params_))\n",
        "    print(\"*************************************************************\")\n",
        "\n",
        "    logr = LogisticRegression(**grid.best_params_)\n",
        "    logr.fit(x_train, y_train)\n",
        "\n",
        "    y_pred_test = logr.predict(x_test)\n",
        "    y_pred_train = logr.predict(x_train)\n",
        "\n",
        "    cm_test = confusion_matrix(y_test, y_pred_test)\n",
        "    cm_train = confusion_matrix(y_train, y_pred_train)\n",
        "\n",
        "    acc_test = accuracy_score(y_test, y_pred_test)\n",
        "    acc_train = accuracy_score(y_train, y_pred_train)\n",
        "\n",
        "    print(\"Test accuracy : {}, Train accuracy : {}\".format(acc_test, acc_train))\n",
        "\n",
        "    print('\\n')\n",
        "    print(\"Conf Matrix Train\\n\", cm_train)\n",
        "    print(classification_report(y_train,y_pred_train))\n",
        "    print('\\n')\n",
        "    print(\"Conf Matrix Test\\n\", cm_test)\n",
        "    print(classification_report(y_test,y_pred_test))\n",
        "\n",
        "\n",
        "Logistic_Regression_Best_params(x_train_pca,x_test_pca,y_train_pca,y_test_pca)"
      ],
      "metadata": {
        "colab": {
          "base_uri": "https://localhost:8080/"
        },
        "id": "LkL7EItnpIwF",
        "outputId": "c91b9e4a-436b-40ce-f57d-84ea0096c1f7"
      },
      "execution_count": 31,
      "outputs": [
        {
          "output_type": "stream",
          "name": "stdout",
          "text": [
            "*************************************************************\n",
            "Optimizatio parameters are : {'C': 0.5689866029018293, 'max_iter': 1000, 'penalty': 'l2'} \n",
            "*************************************************************\n",
            "Test accuracy : 0.961038961038961, Train accuracy : 0.9636752136752137\n",
            "\n",
            "\n",
            "Conf Matrix Train\n",
            " [[156   8]\n",
            " [  9 295]]\n",
            "              precision    recall  f1-score   support\n",
            "\n",
            "           0       0.95      0.95      0.95       164\n",
            "           1       0.97      0.97      0.97       304\n",
            "\n",
            "    accuracy                           0.96       468\n",
            "   macro avg       0.96      0.96      0.96       468\n",
            "weighted avg       0.96      0.96      0.96       468\n",
            "\n",
            "\n",
            "\n",
            "Conf Matrix Test\n",
            " [[ 72   5]\n",
            " [  4 150]]\n",
            "              precision    recall  f1-score   support\n",
            "\n",
            "           0       0.95      0.94      0.94        77\n",
            "           1       0.97      0.97      0.97       154\n",
            "\n",
            "    accuracy                           0.96       231\n",
            "   macro avg       0.96      0.95      0.96       231\n",
            "weighted avg       0.96      0.96      0.96       231\n",
            "\n"
          ]
        },
        {
          "output_type": "stream",
          "name": "stderr",
          "text": [
            "/usr/local/lib/python3.8/dist-packages/sklearn/model_selection/_validation.py:372: FitFailedWarning:\n",
            "\n",
            "\n",
            "500 fits failed out of a total of 1000.\n",
            "The score on these train-test partitions for these parameters will be set to nan.\n",
            "If these failures are not expected, you can try to debug them by setting error_score='raise'.\n",
            "\n",
            "Below are more details about the failures:\n",
            "--------------------------------------------------------------------------------\n",
            "500 fits failed with the following error:\n",
            "Traceback (most recent call last):\n",
            "  File \"/usr/local/lib/python3.8/dist-packages/sklearn/model_selection/_validation.py\", line 680, in _fit_and_score\n",
            "    estimator.fit(X_train, y_train, **fit_params)\n",
            "  File \"/usr/local/lib/python3.8/dist-packages/sklearn/linear_model/_logistic.py\", line 1461, in fit\n",
            "    solver = _check_solver(self.solver, self.penalty, self.dual)\n",
            "  File \"/usr/local/lib/python3.8/dist-packages/sklearn/linear_model/_logistic.py\", line 447, in _check_solver\n",
            "    raise ValueError(\n",
            "ValueError: Solver lbfgs supports only 'l2' or 'none' penalties, got l1 penalty.\n",
            "\n",
            "\n",
            "/usr/local/lib/python3.8/dist-packages/sklearn/model_selection/_search.py:969: UserWarning:\n",
            "\n",
            "One or more of the test scores are non-finite: [       nan 0.64958372        nan 0.64958372        nan 0.64958372\n",
            "        nan 0.66036078        nan 0.69875116        nan 0.77992599\n",
            "        nan 0.83760407        nan 0.8546716         nan 0.88246994\n",
            "        nan 0.90161887        nan 0.91873265        nan 0.92516189\n",
            "        nan 0.93154487        nan 0.94218316        nan 0.94643848\n",
            "        nan 0.9486124         nan 0.95291397        nan 0.95291397\n",
            "        nan 0.95291397        nan 0.95929695        nan 0.96142461\n",
            "        nan 0.96142461        nan 0.96142461        nan 0.96355227\n",
            "        nan 0.96355227        nan 0.96355227        nan 0.96355227\n",
            "        nan 0.96355227        nan 0.96355227        nan 0.96355227\n",
            "        nan 0.96355227        nan 0.96355227        nan 0.96355227\n",
            "        nan 0.96355227        nan 0.96355227        nan 0.96355227\n",
            "        nan 0.96355227        nan 0.96355227        nan 0.96355227\n",
            "        nan 0.96355227        nan 0.96355227        nan 0.96355227\n",
            "        nan 0.96355227        nan 0.96355227        nan 0.96355227\n",
            "        nan 0.96355227        nan 0.96355227        nan 0.96355227\n",
            "        nan 0.96355227        nan 0.96355227]\n",
            "\n"
          ]
        }
      ]
    },
    {
      "cell_type": "markdown",
      "source": [
        "# 3.5 Decision Tree"
      ],
      "metadata": {
        "id": "4wFGarCXz0a6"
      }
    },
    {
      "cell_type": "code",
      "source": [
        "from sklearn.tree import DecisionTreeClassifier\n",
        "\n",
        "depth = range(1,25)\n",
        "testing_accuracy = []\n",
        "training_accuracy = []\n",
        "score = 0\n",
        "\n",
        "for i in depth:\n",
        "    tree = DecisionTreeClassifier(max_depth = i, criterion = 'entropy')\n",
        "    tree.fit(x_train, y_train)\n",
        "    \n",
        "    y_predict_train = tree.predict(x_train)\n",
        "    training_accuracy.append(accuracy_score(y_train, y_predict_train))\n",
        "    \n",
        "    y_predict_test = tree.predict(x_test)\n",
        "    acc_score = accuracy_score(y_test,y_predict_test)\n",
        "    testing_accuracy.append(acc_score)\n",
        "    \n",
        "    if score < acc_score:\n",
        "        score = acc_score\n",
        "        best_depth = i\n",
        "sns.lineplot(depth, training_accuracy)\n",
        "sns.scatterplot(depth, training_accuracy)\n",
        "sns.lineplot(depth, testing_accuracy)\n",
        "sns.scatterplot(depth, testing_accuracy)\n",
        "plt.legend(['training accuracy', 'testing accuracy'])"
      ],
      "metadata": {
        "colab": {
          "base_uri": "https://localhost:8080/",
          "height": 596
        },
        "id": "KK4F5ATWqIqK",
        "outputId": "a4db0390-f80f-4631-c33f-82fec11d3809"
      },
      "execution_count": 32,
      "outputs": [
        {
          "output_type": "stream",
          "name": "stderr",
          "text": [
            "/usr/local/lib/python3.8/dist-packages/seaborn/_decorators.py:36: FutureWarning:\n",
            "\n",
            "Pass the following variables as keyword args: x, y. From version 0.12, the only valid positional argument will be `data`, and passing other arguments without an explicit keyword will result in an error or misinterpretation.\n",
            "\n",
            "/usr/local/lib/python3.8/dist-packages/seaborn/_decorators.py:36: FutureWarning:\n",
            "\n",
            "Pass the following variables as keyword args: x, y. From version 0.12, the only valid positional argument will be `data`, and passing other arguments without an explicit keyword will result in an error or misinterpretation.\n",
            "\n",
            "/usr/local/lib/python3.8/dist-packages/seaborn/_decorators.py:36: FutureWarning:\n",
            "\n",
            "Pass the following variables as keyword args: x, y. From version 0.12, the only valid positional argument will be `data`, and passing other arguments without an explicit keyword will result in an error or misinterpretation.\n",
            "\n",
            "/usr/local/lib/python3.8/dist-packages/seaborn/_decorators.py:36: FutureWarning:\n",
            "\n",
            "Pass the following variables as keyword args: x, y. From version 0.12, the only valid positional argument will be `data`, and passing other arguments without an explicit keyword will result in an error or misinterpretation.\n",
            "\n"
          ]
        },
        {
          "output_type": "execute_result",
          "data": {
            "text/plain": [
              "<matplotlib.legend.Legend at 0x7f055ef8c640>"
            ]
          },
          "metadata": {},
          "execution_count": 32
        },
        {
          "output_type": "display_data",
          "data": {
            "text/plain": [
              "<Figure size 432x288 with 1 Axes>"
            ],
            "image/png": "[encoded data removed]"
          },
          "metadata": {
            "needs_background": "light"
          }
        }
      ]
    },
    {
      "cell_type": "code",
      "source": [
        "print('This is the best depth for Decision Tree Classifier: ', best_depth, '\\nAccuracy score is: ', score)\n",
        "tree = DecisionTreeClassifier(max_depth = best_depth, criterion = 'entropy')\n",
        "tree.fit(x_train, y_train)\n",
        "    \n",
        "y_predict_train = tree.predict(x_train)\n",
        "training_accuracy.append(accuracy_score(y_train, y_predict_train))\n",
        "    \n",
        "y_predict_test = tree.predict(x_test)\n",
        "acc_score = accuracy_score(y_test,y_predict_test)\n",
        "print(classification_report(y_test,y_predict_test))"
      ],
      "metadata": {
        "colab": {
          "base_uri": "https://localhost:8080/"
        },
        "id": "sJalXcV-2jb3",
        "outputId": "0f7675f6-50cb-4146-c988-f1a80bac9088"
      },
      "execution_count": 33,
      "outputs": [
        {
          "output_type": "stream",
          "name": "stdout",
          "text": [
            "This is the best depth for Decision Tree Classifier:  2 \n",
            "Accuracy score is:  0.961038961038961\n",
            "              precision    recall  f1-score   support\n",
            "\n",
            "           0       0.94      0.95      0.94        77\n",
            "           1       0.97      0.97      0.97       154\n",
            "\n",
            "    accuracy                           0.96       231\n",
            "   macro avg       0.95      0.96      0.96       231\n",
            "weighted avg       0.96      0.96      0.96       231\n",
            "\n"
          ]
        }
      ]
    },
    {
      "cell_type": "markdown",
      "source": [
        "# 3.5 Decision Tree & PCA & Fine-tune"
      ],
      "metadata": {
        "id": "U5yTTj9v7j3K"
      }
    },
    {
      "cell_type": "code",
      "source": [
        "from sklearn.model_selection import StratifiedKFold\n",
        "tree = DecisionTreeClassifier(max_depth = 3, random_state = 3030)\n",
        "hyperparam_space = {\n",
        "    'criterion': ['gini', 'entropy'],\n",
        "    'splitter': ['best', 'random'],\n",
        "    'max_depth': [3, 5, 7, 9, 11],\n",
        "    'min_samples_leaf': [3, 9, 13, 15, 17],\n",
        "    'class_weight': ['list', 'dict', 'balanced'],\n",
        "    'random_state': [3030]\n",
        "}\n",
        "\n",
        "grid = GridSearchCV(\n",
        "                tree,\n",
        "                param_grid = hyperparam_space,\n",
        "                cv = StratifiedKFold(n_splits = 5),\n",
        "                scoring = 'recall',\n",
        "                n_jobs = -1)\n",
        "\n",
        "grid.fit(x_train_pca, y_train_pca)"
      ],
      "metadata": {
        "colab": {
          "base_uri": "https://localhost:8080/"
        },
        "id": "XpEQ4eBK3oTC",
        "outputId": "43f5a7f6-b1ab-4367-99d6-adb1370af7a3"
      },
      "execution_count": 34,
      "outputs": [
        {
          "output_type": "stream",
          "name": "stderr",
          "text": [
            "/usr/local/lib/python3.8/dist-packages/sklearn/model_selection/_validation.py:372: FitFailedWarning:\n",
            "\n",
            "\n",
            "1000 fits failed out of a total of 1500.\n",
            "The score on these train-test partitions for these parameters will be set to nan.\n",
            "If these failures are not expected, you can try to debug them by setting error_score='raise'.\n",
            "\n",
            "Below are more details about the failures:\n",
            "--------------------------------------------------------------------------------\n",
            "500 fits failed with the following error:\n",
            "Traceback (most recent call last):\n",
            "  File \"/usr/local/lib/python3.8/dist-packages/sklearn/model_selection/_validation.py\", line 680, in _fit_and_score\n",
            "    estimator.fit(X_train, y_train, **fit_params)\n",
            "  File \"/usr/local/lib/python3.8/dist-packages/sklearn/tree/_classes.py\", line 937, in fit\n",
            "    super().fit(\n",
            "  File \"/usr/local/lib/python3.8/dist-packages/sklearn/tree/_classes.py\", line 220, in fit\n",
            "    expanded_class_weight = compute_sample_weight(\n",
            "  File \"/usr/local/lib/python3.8/dist-packages/sklearn/utils/class_weight.py\", line 117, in compute_sample_weight\n",
            "    raise ValueError(\n",
            "ValueError: The only valid preset for class_weight is \"balanced\". Given \"list\".\n",
            "\n",
            "--------------------------------------------------------------------------------\n",
            "500 fits failed with the following error:\n",
            "Traceback (most recent call last):\n",
            "  File \"/usr/local/lib/python3.8/dist-packages/sklearn/model_selection/_validation.py\", line 680, in _fit_and_score\n",
            "    estimator.fit(X_train, y_train, **fit_params)\n",
            "  File \"/usr/local/lib/python3.8/dist-packages/sklearn/tree/_classes.py\", line 937, in fit\n",
            "    super().fit(\n",
            "  File \"/usr/local/lib/python3.8/dist-packages/sklearn/tree/_classes.py\", line 220, in fit\n",
            "    expanded_class_weight = compute_sample_weight(\n",
            "  File \"/usr/local/lib/python3.8/dist-packages/sklearn/utils/class_weight.py\", line 117, in compute_sample_weight\n",
            "    raise ValueError(\n",
            "ValueError: The only valid preset for class_weight is \"balanced\". Given \"dict\".\n",
            "\n",
            "\n",
            "/usr/local/lib/python3.8/dist-packages/sklearn/model_selection/_search.py:969: UserWarning:\n",
            "\n",
            "One or more of the test scores are non-finite: [       nan        nan        nan        nan        nan        nan\n",
            "        nan        nan        nan        nan        nan        nan\n",
            "        nan        nan        nan        nan        nan        nan\n",
            "        nan        nan        nan        nan        nan        nan\n",
            "        nan        nan        nan        nan        nan        nan\n",
            "        nan        nan        nan        nan        nan        nan\n",
            "        nan        nan        nan        nan        nan        nan\n",
            "        nan        nan        nan        nan        nan        nan\n",
            "        nan        nan        nan        nan        nan        nan\n",
            "        nan        nan        nan        nan        nan        nan\n",
            "        nan        nan        nan        nan        nan        nan\n",
            "        nan        nan        nan        nan        nan        nan\n",
            "        nan        nan        nan        nan        nan        nan\n",
            "        nan        nan        nan        nan        nan        nan\n",
            "        nan        nan        nan        nan        nan        nan\n",
            "        nan        nan        nan        nan        nan        nan\n",
            "        nan        nan        nan        nan        nan        nan\n",
            "        nan        nan        nan        nan        nan        nan\n",
            "        nan        nan        nan        nan        nan        nan\n",
            "        nan        nan        nan        nan        nan        nan\n",
            "        nan        nan        nan        nan        nan        nan\n",
            "        nan        nan        nan        nan        nan        nan\n",
            "        nan        nan        nan        nan        nan        nan\n",
            "        nan        nan        nan        nan        nan        nan\n",
            "        nan        nan        nan        nan        nan        nan\n",
            "        nan        nan        nan        nan        nan        nan\n",
            "        nan        nan        nan        nan        nan        nan\n",
            "        nan        nan        nan        nan        nan        nan\n",
            "        nan        nan        nan        nan        nan        nan\n",
            "        nan        nan        nan        nan        nan        nan\n",
            "        nan        nan        nan        nan        nan        nan\n",
            "        nan        nan        nan        nan        nan        nan\n",
            "        nan        nan        nan        nan        nan        nan\n",
            "        nan        nan 0.93743169 0.94754098 0.93076503 0.98360656\n",
            " 0.93076503 0.99344262 0.93076503 0.79672131 0.93076503 0.4\n",
            " 0.93743169 0.95060109 0.93076503 0.96393443 0.93076503 0.99344262\n",
            " 0.93076503 0.79672131 0.93076503 0.4        0.93743169 0.93737705\n",
            " 0.93076503 0.95409836 0.93076503 0.99344262 0.93076503 0.79672131\n",
            " 0.93076503 0.4        0.93743169 0.93737705 0.93076503 0.95737705\n",
            " 0.93076503 0.99344262 0.93076503 0.79672131 0.93076503 0.4\n",
            " 0.93743169 0.94071038 0.93076503 0.95737705 0.93076503 0.99344262\n",
            " 0.93076503 0.79672131 0.93076503 0.4        0.94076503 0.94754098\n",
            " 0.94076503 0.98360656 0.93076503 0.99344262 0.93076503 0.79672131\n",
            " 0.93076503 0.4        0.94076503 0.95060109 0.94076503 0.96393443\n",
            " 0.93076503 0.99344262 0.93076503 0.79672131 0.93076503 0.4\n",
            " 0.94076503 0.94071038 0.94076503 0.95409836 0.93076503 0.99344262\n",
            " 0.93076503 0.79672131 0.93076503 0.4        0.94404372 0.94726776\n",
            " 0.94076503 0.95737705 0.93076503 0.99344262 0.93076503 0.79672131\n",
            " 0.93076503 0.4        0.94404372 0.94726776 0.94076503 0.95737705\n",
            " 0.93076503 0.99344262 0.93076503 0.79672131 0.93076503 0.4       ]\n",
            "\n"
          ]
        },
        {
          "output_type": "execute_result",
          "data": {
            "text/plain": [
              "GridSearchCV(cv=StratifiedKFold(n_splits=5, random_state=None, shuffle=False),\n",
              "             estimator=DecisionTreeClassifier(max_depth=3, random_state=3030),\n",
              "             n_jobs=-1,\n",
              "             param_grid={'class_weight': ['list', 'dict', 'balanced'],\n",
              "                         'criterion': ['gini', 'entropy'],\n",
              "                         'max_depth': [3, 5, 7, 9, 11],\n",
              "                         'min_samples_leaf': [3, 9, 13, 15, 17],\n",
              "                         'random_state': [3030],\n",
              "                         'splitter': ['best', 'random']},\n",
              "             scoring='recall')"
            ]
          },
          "metadata": {},
          "execution_count": 34
        }
      ]
    },
    {
      "cell_type": "code",
      "source": [
        "print('best score', grid.best_score_)\n",
        "print('best param', grid.best_params_)"
      ],
      "metadata": {
        "colab": {
          "base_uri": "https://localhost:8080/"
        },
        "id": "S7nmJ11v5psH",
        "outputId": "a992f457-8200-45e9-ef33-99ec353e3e15"
      },
      "execution_count": 35,
      "outputs": [
        {
          "output_type": "stream",
          "name": "stdout",
          "text": [
            "best score 0.9934426229508198\n",
            "best param {'class_weight': 'balanced', 'criterion': 'gini', 'max_depth': 3, 'min_samples_leaf': 13, 'random_state': 3030, 'splitter': 'random'}\n"
          ]
        }
      ]
    },
    {
      "cell_type": "markdown",
      "source": [
        "# 3.6 Bagging Model"
      ],
      "metadata": {
        "id": "XCjHqIkDVFzi"
      }
    },
    {
      "cell_type": "code",
      "source": [
        "from sklearn.ensemble import BaggingClassifier\n",
        "bag = BaggingClassifier(base_estimator=tree,\n",
        "                       n_estimators=100,\n",
        "                       random_state=0)\n",
        "bag = bag.fit(x_train, y_train)\n",
        "\n",
        "y_train_pred = bag.predict(x_train)\n",
        "y_test_pred = bag.predict(x_test)\n",
        "\n",
        "bag_train = accuracy_score(y_train, y_train_pred)\n",
        "bag_test = accuracy_score(y_test, y_test_pred)\n",
        "print(f\"Bagging train/test accuracies: {bag_train: .3f}/{bag_test: .3f}\")"
      ],
      "metadata": {
        "colab": {
          "base_uri": "https://localhost:8080/"
        },
        "id": "na3TFXxeVMBH",
        "outputId": "b68554d9-881a-4e82-c6ed-20808127fec5"
      },
      "execution_count": 53,
      "outputs": [
        {
          "output_type": "stream",
          "name": "stdout",
          "text": [
            "Bagging train/test accuracies:  0.981/ 0.957\n"
          ]
        }
      ]
    },
    {
      "cell_type": "markdown",
      "source": [
        "# 3.6 Bagging Model & PCA"
      ],
      "metadata": {
        "id": "BGH_N1r2VmIp"
      }
    },
    {
      "cell_type": "code",
      "source": [
        "bag = BaggingClassifier(base_estimator=tree,\n",
        "                       n_estimators=100,\n",
        "                       random_state=0)\n",
        "bag = bag.fit(x_train_pca, y_train_pca)\n",
        "\n",
        "y_train_pred = bag.predict(x_train_pca)\n",
        "y_test_pred = bag.predict(x_test_pca)\n",
        "\n",
        "bag_train = accuracy_score(y_train_pca , y_train_pred)\n",
        "bag_test = accuracy_score(y_test_pca, y_test_pred)\n",
        "print(f\"Bagging train/test accuracies: {bag_train: .3f}/{bag_test: .3f}\")"
      ],
      "metadata": {
        "colab": {
          "base_uri": "https://localhost:8080/"
        },
        "id": "XaYsDkHMVxZu",
        "outputId": "a6dba777-1fcd-446f-f3f2-154b50a0c103"
      },
      "execution_count": 54,
      "outputs": [
        {
          "output_type": "stream",
          "name": "stdout",
          "text": [
            "Bagging train/test accuracies:  0.970/ 0.970\n"
          ]
        }
      ]
    }
  ]
}