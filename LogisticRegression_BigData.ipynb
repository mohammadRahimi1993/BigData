{
  "nbformat": 4,
  "nbformat_minor": 0,
  "metadata": {
    "colab": {
      "name": "LogisticRegression_BigData.ipynb",
      "provenance": [],
      "collapsed_sections": [],
      "mount_file_id": "1d1tj0bCYPYxhkuZ8FtTF6dM5IHuoSxG9",
      "authorship_tag": "ABX9TyMYoDR5nG0I0kLgyAAX7lE0",
      "include_colab_link": true
    },
    "kernelspec": {
      "name": "python3",
      "display_name": "Python 3"
    },
    "language_info": {
      "name": "python"
    }
  },
  "cells": [
    {
      "cell_type": "markdown",
      "metadata": {
        "id": "view-in-github",
        "colab_type": "text"
      },
      "source": [
        "<a href=\"https://colab.research.google.com/github/mohammadRahimi1993/BigData/blob/main/LogisticRegression_BigData.ipynb\" target=\"_parent\"><img src=\"https://colab.research.google.com/assets/colab-badge.svg\" alt=\"Open In Colab\"/></a>"
      ]
    },
    {
      "cell_type": "markdown",
      "source": [
        "# **1.Connecting Drive to Colab**"
      ],
      "metadata": {
        "id": "NAlA9NZDzr_N"
      }
    },
    {
      "cell_type": "code",
      "source": [
        "from google.colab import drive\n",
        "drive.mount('/content/drive')"
      ],
      "metadata": {
        "colab": {
          "base_uri": "https://localhost:8080/"
        },
        "id": "xkoYTu45zzfI",
        "outputId": "6a478f76-51c9-4328-ad2a-5c54400f5204"
      },
      "execution_count": 1,
      "outputs": [
        {
          "output_type": "stream",
          "name": "stdout",
          "text": [
            "Drive already mounted at /content/drive; to attempt to forcibly remount, call drive.mount(\"/content/drive\", force_remount=True).\n"
          ]
        }
      ]
    },
    {
      "cell_type": "markdown",
      "source": [
        "# **2.Install package**"
      ],
      "metadata": {
        "id": "AchmdX9B0YKP"
      }
    },
    {
      "cell_type": "code",
      "source": [
        "!apt-get install openjdk-8-jdk-headless -qq > /dev/null\n",
        "!wget -q https://dlcdn.apache.org/spark/spark-3.2.1/spark-3.2.1-bin-hadoop3.2.tgz\n",
        "!tar xf spark-3.2.1-bin-hadoop3.2.tgz\n",
        "!pip install -q findspark\n",
        "!pip install handyspark"
      ],
      "metadata": {
        "colab": {
          "base_uri": "https://localhost:8080/"
        },
        "id": "ShKQuxy6zo1y",
        "outputId": "eba7e9a6-cdb3-4e1f-afa7-2065df6dfa3a"
      },
      "execution_count": 2,
      "outputs": [
        {
          "output_type": "stream",
          "name": "stdout",
          "text": [
            "Looking in indexes: https://pypi.org/simple, https://us-python.pkg.dev/colab-wheels/public/simple/\n",
            "Requirement already satisfied: handyspark in /usr/local/lib/python3.7/dist-packages (0.2.2a1)\n",
            "Requirement already satisfied: numpy in /usr/local/lib/python3.7/dist-packages (from handyspark) (1.21.6)\n",
            "Requirement already satisfied: matplotlib in /usr/local/lib/python3.7/dist-packages (from handyspark) (3.2.2)\n",
            "Requirement already satisfied: scikit-learn in /usr/local/lib/python3.7/dist-packages (from handyspark) (1.0.2)\n",
            "Requirement already satisfied: pyspark in /usr/local/lib/python3.7/dist-packages (from handyspark) (3.2.1)\n",
            "Requirement already satisfied: findspark in /usr/local/lib/python3.7/dist-packages (from handyspark) (2.0.1)\n",
            "Requirement already satisfied: pandas in /usr/local/lib/python3.7/dist-packages (from handyspark) (1.3.5)\n",
            "Requirement already satisfied: scipy in /usr/local/lib/python3.7/dist-packages (from handyspark) (1.4.1)\n",
            "Requirement already satisfied: seaborn in /usr/local/lib/python3.7/dist-packages (from handyspark) (0.11.2)\n",
            "Requirement already satisfied: pyarrow in /usr/local/lib/python3.7/dist-packages (from handyspark) (6.0.1)\n",
            "Requirement already satisfied: python-dateutil>=2.1 in /usr/local/lib/python3.7/dist-packages (from matplotlib->handyspark) (2.8.2)\n",
            "Requirement already satisfied: cycler>=0.10 in /usr/local/lib/python3.7/dist-packages (from matplotlib->handyspark) (0.11.0)\n",
            "Requirement already satisfied: kiwisolver>=1.0.1 in /usr/local/lib/python3.7/dist-packages (from matplotlib->handyspark) (1.4.2)\n",
            "Requirement already satisfied: pyparsing!=2.0.4,!=2.1.2,!=2.1.6,>=2.0.1 in /usr/local/lib/python3.7/dist-packages (from matplotlib->handyspark) (3.0.9)\n",
            "Requirement already satisfied: typing-extensions in /usr/local/lib/python3.7/dist-packages (from kiwisolver>=1.0.1->matplotlib->handyspark) (4.2.0)\n",
            "Requirement already satisfied: six>=1.5 in /usr/local/lib/python3.7/dist-packages (from python-dateutil>=2.1->matplotlib->handyspark) (1.15.0)\n",
            "Requirement already satisfied: pytz>=2017.3 in /usr/local/lib/python3.7/dist-packages (from pandas->handyspark) (2022.1)\n",
            "Requirement already satisfied: py4j==0.10.9.3 in /usr/local/lib/python3.7/dist-packages (from pyspark->handyspark) (0.10.9.3)\n",
            "Requirement already satisfied: threadpoolctl>=2.0.0 in /usr/local/lib/python3.7/dist-packages (from scikit-learn->handyspark) (3.1.0)\n",
            "Requirement already satisfied: joblib>=0.11 in /usr/local/lib/python3.7/dist-packages (from scikit-learn->handyspark) (1.1.0)\n"
          ]
        }
      ]
    },
    {
      "cell_type": "markdown",
      "source": [
        "# **3.Setting up PySpark in Colab**"
      ],
      "metadata": {
        "id": "CHGVlJ4p0qFZ"
      }
    },
    {
      "cell_type": "code",
      "source": [
        "import os\n",
        "os.environ[\"JAVA_HOME\"] = \"/usr/lib/jvm/java-8-openjdk-amd64\"\n",
        "os.environ[\"SPARK_HOME\"] = \"/content/spark-3.2.1-bin-hadoop3.2\""
      ],
      "metadata": {
        "id": "w24UMKJsB4hL"
      },
      "execution_count": 3,
      "outputs": []
    },
    {
      "cell_type": "code",
      "source": [
        "import findspark\n",
        "findspark.init()\n",
        "from pyspark.sql import SparkSession\n",
        "spark = SparkSession.builder.master('local[*]').getOrCreate()"
      ],
      "metadata": {
        "id": "BBnliyGtB4kh"
      },
      "execution_count": 4,
      "outputs": []
    },
    {
      "cell_type": "code",
      "source": [
        "import pyspark\n",
        "from pyspark.ml.feature import StringIndexer\n",
        "from pyspark.sql import SparkSession\n",
        "from pyspark.ml.feature import VectorAssembler\n",
        "from pyspark.ml.evaluation import MulticlassClassificationEvaluator\n",
        "from pyspark.ml.classification import LogisticRegression\n",
        "from pyspark.ml.tuning import CrossValidator, ParamGridBuilder\n",
        "from pyspark.ml.evaluation import BinaryClassificationEvaluator, MulticlassClassificationEvaluator\n",
        "from pyspark.ml import Pipeline\n",
        "from pyspark.ml.linalg import Vectors\n",
        "from pyspark.ml.feature import *\n",
        "from pyspark.sql import Row\n",
        "from pyspark.sql.functions import *\n",
        "from pyspark.sql.types import *"
      ],
      "metadata": {
        "id": "s_r96_sMB4ou"
      },
      "execution_count": 5,
      "outputs": []
    },
    {
      "cell_type": "markdown",
      "source": [
        "# **4.Load data**"
      ],
      "metadata": {
        "id": "ZNCbufDbt6R0"
      }
    },
    {
      "cell_type": "code",
      "source": [
        "data=spark.read.csv('/content/drive/MyDrive/DataSet/DataSartipi.csv',inferSchema=True, header=True)\n",
        "data.show(10, truncate=False)"
      ],
      "metadata": {
        "colab": {
          "base_uri": "https://localhost:8080/"
        },
        "id": "GQygrnRjB4s5",
        "outputId": "e7e088c7-fa5b-4174-bccd-703d4c247b35"
      },
      "execution_count": 6,
      "outputs": [
        {
          "output_type": "stream",
          "name": "stdout",
          "text": [
            "+----------+------+-------------+-------+----------+------+------------+----------------+---------------+-------------------+-------------------+-------------------+-------------------+-------------------+-------------------+--------------+----------------+-------------------------+--------------+------------+-----+\n",
            "|customerID|gender|SeniorCitizen|Partner|Dependents|tenure|PhoneService|MultipleLines   |InternetService|OnlineSecurity     |OnlineBackup       |DeviceProtection   |TechSupport        |StreamingTV        |StreamingMovies    |Contract      |PaperlessBilling|PaymentMethod            |MonthlyCharges|TotalCharges|Label|\n",
            "+----------+------+-------------+-------+----------+------+------------+----------------+---------------+-------------------+-------------------+-------------------+-------------------+-------------------+-------------------+--------------+----------------+-------------------------+--------------+------------+-----+\n",
            "|5331-RGMTT|Male  |1.0          |Yes    |No        |54.0  |Yes         |Yes             |Fiber optic    |No                 |No                 |Yes                |No                 |Yes                |Yes                |Month-to-month|Yes             |Credit card (automatic)  |99.05         |5295.7      |No   |\n",
            "|5161-XEUVX|Male  |0.0          |Yes    |No        |37.0  |Yes         |Yes             |Fiber optic    |No                 |No                 |Yes                |Yes                |Yes                |No                 |Two year      |No              |Mailed check             |94.3          |3460.95     |No   |\n",
            "|0336-PIKEI|Male  |1.0          |Yes    |No        |72.0  |Yes         |No              |DSL            |Yes                |Yes                |Yes                |Yes                |Yes                |No                 |Two year      |No              |Bank transfer (automatic)|74.4          |5360.75     |No   |\n",
            "|3345-PBBFH|Male  |0.0          |Yes    |No        |8.0   |Yes         |No              |DSL            |No                 |Yes                |No                 |No                 |No                 |No                 |Month-to-month|Yes             |Bank transfer (automatic)|49.55         |393.45      |No   |\n",
            "|5067-XJQFU|Male  |1.0          |Yes    |Yes       |66.0  |Yes         |Yes             |Fiber optic    |No                 |Yes                |Yes                |Yes                |Yes                |Yes                |One year      |Yes             |Electronic check         |108.45        |7076.35     |No   |\n",
            "|4056-QHXHZ|Female|0.0          |Yes    |Yes       |72.0  |Yes         |Yes             |Fiber optic    |Yes                |No                 |Yes                |Yes                |Yes                |Yes                |Two year      |No              |Mailed check             |107.45        |7576.7      |No   |\n",
            "|8028-PNXHQ|Male  |0.0          |Yes    |Yes       |62.0  |Yes         |Yes             |No             |No internet service|No internet service|No internet service|No internet service|No internet service|No internet service|Two year      |Yes             |Bank transfer (automatic)|24.25         |1424.6      |No   |\n",
            "|8181-YHCMF|Female|0.0          |Yes    |Yes       |68.0  |No          |No phone service|DSL            |No                 |Yes                |Yes                |Yes                |Yes                |Yes                |Two year      |No              |Credit card (automatic)  |60.3          |4109.0      |No   |\n",
            "|6734-PSBAW|Male  |0.0          |Yes    |No        |72.0  |Yes         |Yes             |No             |No internet service|No internet service|No internet service|No internet service|No internet service|No internet service|Two year      |Yes             |Bank transfer (automatic)|23.55         |1723.95     |No   |\n",
            "|3655-SNQYZ|Female|0.0          |Yes    |Yes       |69.0  |Yes         |Yes             |Fiber optic    |Yes                |Yes                |Yes                |Yes                |Yes                |Yes                |Two year      |No              |Credit card (automatic)  |113.25        |7895.15     |No   |\n",
            "+----------+------+-------------+-------+----------+------+------------+----------------+---------------+-------------------+-------------------+-------------------+-------------------+-------------------+-------------------+--------------+----------------+-------------------------+--------------+------------+-----+\n",
            "only showing top 10 rows\n",
            "\n"
          ]
        }
      ]
    },
    {
      "cell_type": "markdown",
      "source": [
        "# **5.Preprocessing**"
      ],
      "metadata": {
        "id": "UF1H-FKc8cy8"
      }
    },
    {
      "cell_type": "markdown",
      "source": [
        "# **5.1 Delete of duplicate code**"
      ],
      "metadata": {
        "id": "M5vPj4GW745z"
      }
    },
    {
      "cell_type": "code",
      "source": [
        "print('Size of data is:', data.count())\n",
        "data_Pro_1=data.dropDuplicates()\n",
        "print('Size of unique data is:' , data_Pro_1.count())"
      ],
      "metadata": {
        "colab": {
          "base_uri": "https://localhost:8080/"
        },
        "id": "1PGFv3rJmL6C",
        "outputId": "ea3fcf98-4551-4f8d-9997-ab85c3a98cc5"
      },
      "execution_count": 7,
      "outputs": [
        {
          "output_type": "stream",
          "name": "stdout",
          "text": [
            "Size of data is: 229990\n",
            "Size of unique data is: 7838\n"
          ]
        }
      ]
    },
    {
      "cell_type": "markdown",
      "source": [
        "# **5.2 Correlation between attribute**"
      ],
      "metadata": {
        "id": "dTl5gCWMzAvK"
      }
    },
    {
      "cell_type": "code",
      "source": [
        "data_Pro_11=data_Pro_1.dropDuplicates()\n",
        "data_Pro_11=data_Pro_11.withColumn(\"Contract\", when(col(\"Contract\")== 'Two year', 2).when(col(\"Contract\")== 'Two year', 1).otherwise(0))\n",
        "data_Pro_11=data_Pro_11.withColumn(\"PaymentMethod\", when(col(\"PaymentMethod\")== 'Credit card (automatic)', 2).when(col(\"PaymentMethod\")== 'Mailed check', 1)\n",
        "                                   .when(col(\"PaymentMethod\")== 'Bank transfer (automatic)', 3).otherwise(0))\n",
        "data_Pro_11=data_Pro_11.withColumn(\"StreamingMovies\", when(col(\"StreamingMovies\")== 'Yes', 1).otherwise(0))\n",
        "data_Pro_11=data_Pro_11.withColumn(\"InternetService\", when(col(\"InternetService\")== 'Fiber optic', 1).when(col(\"InternetService\")== 'DSL', 2).otherwise(0))\n",
        "data_Pro_11=data_Pro_11.withColumn(\"OnlineBackup\", when(col(\"OnlineBackup\")== 'Yes', 1).when(col(\"OnlineBackup\")== 'No', 2).otherwise(0))\n",
        "data_Pro_11=data_Pro_11.withColumn(\"PaperlessBilling\", when(col(\"PaperlessBilling\")== 'Yes', 1).otherwise(0))\n",
        "data_Pro_11=data_Pro_11.withColumn(\"Label\", when(col(\"Label\")== 'Yes', 1).otherwise(0))\n",
        "data_Pro_11=data_Pro_11.withColumn(\"gender\", when(col(\"gender\")== 'Male', 1).otherwise(0))\n",
        "data_Pro_11=data_Pro_11.withColumn(\"Dependents\", when(col(\"Dependents\")=='Yes', 1).otherwise(0))\n",
        "data_Pro_11=data_Pro_11.withColumn(\"PhoneService\", when(col(\"PhoneService\")== 'Male', 1).otherwise(0))\n",
        "data_Pro_11=data_Pro_11.withColumn(\"MultipleLines\", when(col(\"MultipleLines\")=='Yes', 1).otherwise(0))\n",
        "data_Pro_11=data_Pro_11.withColumn(\"OnlineSecurity\", when(col(\"OnlineSecurity\")=='Yes', 1).otherwise(0))\n",
        "data_Pro_11=data_Pro_11.withColumn(\"DeviceProtection\", when(col(\"DeviceProtection\")=='Yes', 1).otherwise(0))\n",
        "data_Pro_11=data_Pro_11.withColumn(\"TechSupport\", when(col(\"TechSupport\")=='Yes', 1).otherwise(0))\n",
        "data_Pro_11=data_Pro_11.withColumn(\"StreamingTV\", when(col(\"MultipleLines\")=='Yes', 1).otherwise(0))\n",
        "data_Pro_11=data_Pro_11.withColumn(\"Partner\", when(col(\"Partner\")=='Yes', 2).when(col(\"Partner\")=='No', 1).otherwise(0))\n",
        "#data_Pro_11.show()\n",
        "print(\"Label and gender:\",data_Pro_11.stat.corr('gender','Label'))\n",
        "print(\"Contract and Label:\",data_Pro_11.stat.corr('Contract','Label'))\n",
        "print(\"PaymentMethod and Label:\",data_Pro_11.stat.corr('PaymentMethod','Label'))\n",
        "print(\"StreamingMovies and Label:\",data_Pro_11.stat.corr('StreamingMovies','Label'))\n",
        "print(\"InternetService and Label:\",data_Pro_11.stat.corr('InternetService','Label'))\n",
        "print(\"Label and PaperlessBilling:\",data_Pro_11.stat.corr('PaperlessBilling','Label'))\n",
        "print(\"Label and PhoneService:\",data_Pro_11.stat.corr('PhoneService','Label'))\n",
        "print(\"Label and Dependents:\",data_Pro_11.stat.corr('Dependents','Label'))\n",
        "print(\"Label and MultipleLines:\",data_Pro_11.stat.corr('MultipleLines','Label'))\n",
        "print(\"Label and OnlineSecurity:\",data_Pro_11.stat.corr('OnlineSecurity','Label'))\n",
        "print(\"Label and DeviceProtection:\",data_Pro_11.stat.corr('DeviceProtection','Label'))\n",
        "print(\"Label and TechSupport:\",data_Pro_11.stat.corr('TechSupport','Label'))\n",
        "print(\"Label and StreamingTV:\",data_Pro_11.stat.corr('StreamingTV','Label'))\n",
        "print(\"Label and MonthlyCharges:\",data_Pro_11.stat.corr('MonthlyCharges','Label'))\n",
        "print(\"Label and TotalCharges:\",data_Pro_11.stat.corr('TotalCharges','Label'))\n",
        "print(\"Label and tenure:\",data_Pro_11.stat.corr('tenure','Label'))\n",
        "print(\"Label and Partner:\",data_Pro_11.stat.corr('Partner','Label'))\n",
        "print(\"Label and SeniorCitizen:\",data_Pro_11.stat.corr('SeniorCitizen','Label'))"
      ],
      "metadata": {
        "colab": {
          "base_uri": "https://localhost:8080/"
        },
        "id": "K5H6jmgROoiU",
        "outputId": "2d96e2b9-68b7-490a-b9d6-1124753aad12"
      },
      "execution_count": 8,
      "outputs": [
        {
          "output_type": "stream",
          "name": "stdout",
          "text": [
            "Label and gender: 0.0009034104352871345\n",
            "Contract and Label: -0.3031547304252856\n",
            "PaymentMethod and Label: -0.23282410952807628\n",
            "StreamingMovies and Label: 0.06775983818467908\n",
            "InternetService and Label: 0.07083133356257558\n",
            "Label and PaperlessBilling: 0.19017987006554868\n",
            "Label and PhoneService: nan\n",
            "Label and Dependents: -0.148964305888052\n",
            "Label and MultipleLines: 0.06468899682802132\n",
            "Label and OnlineSecurity: -0.14946060161973626\n",
            "Label and DeviceProtection: -0.0340079867805602\n",
            "Label and TechSupport: -0.15160056177015196\n",
            "Label and StreamingTV: nan\n",
            "Label and MonthlyCharges: 0.015147528817291386\n",
            "Label and TotalCharges: -0.1811201876208274\n",
            "Label and tenure: -0.22245865564659043\n",
            "Label and Partner: -0.09638797477831562\n",
            "Label and SeniorCitizen: 0.09764547724003525\n"
          ]
        }
      ]
    },
    {
      "cell_type": "markdown",
      "source": [
        "# **5.3 Delete Columns of PhoneService and StreamingTV**"
      ],
      "metadata": {
        "id": "evXnSXoI1W36"
      }
    },
    {
      "cell_type": "code",
      "source": [
        "data_Pro_1=data_Pro_1.drop('PhoneService','StreamingTV')\n",
        "# PaperlessBilling , Dependents \n",
        "print(\"Size of data is:\" , data_Pro_1.count())\n",
        "print(\"the data is:\")\n",
        "data_Pro_1.show(5)"
      ],
      "metadata": {
        "colab": {
          "base_uri": "https://localhost:8080/"
        },
        "id": "4MVVLfd51Rml",
        "outputId": "5229f5b9-f12f-4c34-c377-c7ffffea32e1"
      },
      "execution_count": 9,
      "outputs": [
        {
          "output_type": "stream",
          "name": "stdout",
          "text": [
            "Size of data is: 7838\n",
            "the data is:\n",
            "+----------+------+-------------+-------+----------+------+-------------+---------------+-------------------+-------------------+-------------------+-------------------+-------------------+--------------+----------------+--------------------+--------------+------------+-----+\n",
            "|customerID|gender|SeniorCitizen|Partner|Dependents|tenure|MultipleLines|InternetService|     OnlineSecurity|       OnlineBackup|   DeviceProtection|        TechSupport|    StreamingMovies|      Contract|PaperlessBilling|       PaymentMethod|MonthlyCharges|TotalCharges|Label|\n",
            "+----------+------+-------------+-------+----------+------+-------------+---------------+-------------------+-------------------+-------------------+-------------------+-------------------+--------------+----------------+--------------------+--------------+------------+-----+\n",
            "|3655-SNQYZ|Female|          0.0|    Yes|       Yes|  69.0|          Yes|    Fiber optic|                Yes|                Yes|                Yes|                Yes|                Yes|      Two year|              No|Credit card (auto...|        113.25|     7895.15|   No|\n",
            "|7114-AEOZE|Female|          0.0|     No|        No|  60.0|           No|             No|No internet service|No internet service|No internet service|No internet service|No internet service|      Two year|              No|Bank transfer (au...|         19.85|      1128.1|   No|\n",
            "|8621-MNIHH|Female|          1.0|    Yes|        No|  34.0|          Yes|    Fiber optic|                 No|                Yes|                Yes|                 No|                Yes|Month-to-month|             Yes|    Electronic check|         94.25|     3217.55|  Yes|\n",
            "|4580-TMHJU|Female|          0.0|    Yes|       Yes|  43.0|           No|            DSL|                 No|                 No|                 No|                 No|                 No|Month-to-month|              No|    Electronic check|         56.15|      2499.3|  Yes|\n",
            "|5553-AOINX|Female|          1.0|    Yes|       Yes|  66.0|          Yes|    Fiber optic|                 No|                Yes|                Yes|                 No|                Yes|      One year|             Yes|    Electronic check|         104.9|     6891.45|   No|\n",
            "+----------+------+-------------+-------+----------+------+-------------+---------------+-------------------+-------------------+-------------------+-------------------+-------------------+--------------+----------------+--------------------+--------------+------------+-----+\n",
            "only showing top 5 rows\n",
            "\n"
          ]
        }
      ]
    },
    {
      "cell_type": "markdown",
      "source": [
        "# **5.4 Delete null fields of customerID and Lable**"
      ],
      "metadata": {
        "id": "hKLn5yW7thMs"
      }
    },
    {
      "cell_type": "code",
      "source": [
        "#Delete null fields in customerID and Lable\n",
        "data_Pro_2 = data_Pro_1.filter(data_Pro_1.customerID.isNotNull())\n",
        "data_Pro_2 = data_Pro_2.filter(data_Pro_2.Label.isNotNull())\n",
        "print(\"the data is delete with null customerID.\")\n",
        "print(\"Size of data is: \", data_Pro_2.count())\n",
        "data_Pro_2.show(5)"
      ],
      "metadata": {
        "colab": {
          "base_uri": "https://localhost:8080/"
        },
        "id": "CMP7RirJj6M5",
        "outputId": "12153131-6711-41e8-b361-6d540de6acd7"
      },
      "execution_count": 10,
      "outputs": [
        {
          "output_type": "stream",
          "name": "stdout",
          "text": [
            "the data is delete with null customerID.\n",
            "Size of data is:  7437\n",
            "+----------+------+-------------+-------+----------+------+-------------+---------------+-------------------+-------------------+-------------------+-------------------+-------------------+--------------+----------------+--------------------+--------------+------------+-----+\n",
            "|customerID|gender|SeniorCitizen|Partner|Dependents|tenure|MultipleLines|InternetService|     OnlineSecurity|       OnlineBackup|   DeviceProtection|        TechSupport|    StreamingMovies|      Contract|PaperlessBilling|       PaymentMethod|MonthlyCharges|TotalCharges|Label|\n",
            "+----------+------+-------------+-------+----------+------+-------------+---------------+-------------------+-------------------+-------------------+-------------------+-------------------+--------------+----------------+--------------------+--------------+------------+-----+\n",
            "|3655-SNQYZ|Female|          0.0|    Yes|       Yes|  69.0|          Yes|    Fiber optic|                Yes|                Yes|                Yes|                Yes|                Yes|      Two year|              No|Credit card (auto...|        113.25|     7895.15|   No|\n",
            "|7114-AEOZE|Female|          0.0|     No|        No|  60.0|           No|             No|No internet service|No internet service|No internet service|No internet service|No internet service|      Two year|              No|Bank transfer (au...|         19.85|      1128.1|   No|\n",
            "|8621-MNIHH|Female|          1.0|    Yes|        No|  34.0|          Yes|    Fiber optic|                 No|                Yes|                Yes|                 No|                Yes|Month-to-month|             Yes|    Electronic check|         94.25|     3217.55|  Yes|\n",
            "|4580-TMHJU|Female|          0.0|    Yes|       Yes|  43.0|           No|            DSL|                 No|                 No|                 No|                 No|                 No|Month-to-month|              No|    Electronic check|         56.15|      2499.3|  Yes|\n",
            "|5553-AOINX|Female|          1.0|    Yes|       Yes|  66.0|          Yes|    Fiber optic|                 No|                Yes|                Yes|                 No|                Yes|      One year|             Yes|    Electronic check|         104.9|     6891.45|   No|\n",
            "+----------+------+-------------+-------+----------+------+-------------+---------------+-------------------+-------------------+-------------------+-------------------+-------------------+--------------+----------------+--------------------+--------------+------------+-----+\n",
            "only showing top 5 rows\n",
            "\n"
          ]
        }
      ]
    },
    {
      "cell_type": "markdown",
      "source": [
        "# Check null value"
      ],
      "metadata": {
        "id": "teZ6qjsnuHY9"
      }
    },
    {
      "cell_type": "code",
      "source": [
        "# Creating a dataframe to check null value counts\n",
        "from pyspark.sql.functions import col,isnan, when, count\n",
        "null_df = data_Pro_2.select([count(when(col(c).contains('None') | \\\n",
        "                            col(c).contains('NULL') | \\\n",
        "                            (col(c) == '') | \\\n",
        "                            col(c).isNull() | \\\n",
        "                            isnan(c), c \n",
        "                           )).alias(c)\n",
        "                    for c in data_Pro_2.columns])\n",
        "\n",
        "# Displaying the null value counts dataframe\n",
        "null_df.show()"
      ],
      "metadata": {
        "colab": {
          "base_uri": "https://localhost:8080/"
        },
        "id": "oS2cSYg4IdJJ",
        "outputId": "b0e8d206-c22a-4679-dfaf-d794fc463cde"
      },
      "execution_count": 11,
      "outputs": [
        {
          "output_type": "stream",
          "name": "stdout",
          "text": [
            "+----------+------+-------------+-------+----------+------+-------------+---------------+--------------+------------+----------------+-----------+---------------+--------+----------------+-------------+--------------+------------+-----+\n",
            "|customerID|gender|SeniorCitizen|Partner|Dependents|tenure|MultipleLines|InternetService|OnlineSecurity|OnlineBackup|DeviceProtection|TechSupport|StreamingMovies|Contract|PaperlessBilling|PaymentMethod|MonthlyCharges|TotalCharges|Label|\n",
            "+----------+------+-------------+-------+----------+------+-------------+---------------+--------------+------------+----------------+-----------+---------------+--------+----------------+-------------+--------------+------------+-----+\n",
            "|         0|   123|          130|    106|       123|   109|          132|            119|           115|         128|             129|        138|            114|     110|             130|          133|           131|         122|    0|\n",
            "+----------+------+-------------+-------+----------+------+-------------+---------------+--------------+------------+----------------+-----------+---------------+--------+----------------+-------------+--------------+------------+-----+\n",
            "\n"
          ]
        }
      ]
    },
    {
      "cell_type": "markdown",
      "source": [
        "# **5.5 Replace missing values with means**"
      ],
      "metadata": {
        "id": "9qbOiWhwuVzE"
      }
    },
    {
      "cell_type": "code",
      "source": [
        "#Fill missing values of TotalCharges, MonthlyCharges and tenure to mean\n",
        "print(\"*********************************************\")\n",
        "TotalCharges_mean = data_Pro_2.select([\"TotalCharges\"]).toPandas().mean()[0]\n",
        "print(\"Avrage of TotalCharges columns is:\",TotalCharges_mean)\n",
        "data_Pro_2 = data_Pro_2.na.fill( TotalCharges_mean,subset='TotalCharges')\n",
        "print(\"*********************************************\")\n",
        "MonthlyCharges_mean = data_Pro_2.select([\"MonthlyCharges\"]).toPandas().mean()[0]\n",
        "print(\"Avrage of MonthlyCharges_mean columns is:\",MonthlyCharges_mean)\n",
        "data_Pro_2 = data_Pro_2.na.fill( MonthlyCharges_mean,subset='MonthlyCharges')\n",
        "print(\"*********************************************\")\n",
        "tenure_mean = data_Pro_2.select([\"tenure\"]).toPandas().mean()[0]\n",
        "print(\"Avrage of tenureCharges_mean columns is:\",tenure_mean)\n",
        "data_Pro_2 = data_Pro_2.na.fill(tenure_mean,subset='tenure')\n",
        "print(\"the data next fill avg:\\n\")\n",
        "data_Pro_2.show(5)"
      ],
      "metadata": {
        "colab": {
          "base_uri": "https://localhost:8080/"
        },
        "id": "knNyKZg2DEeg",
        "outputId": "c7d8bbcf-3bb4-4049-c804-91eaca3ea84c"
      },
      "execution_count": 12,
      "outputs": [
        {
          "output_type": "stream",
          "name": "stdout",
          "text": [
            "*********************************************\n",
            "Avrage of TotalCharges columns is: 2286.55866028708\n",
            "*********************************************\n",
            "Avrage of MonthlyCharges_mean columns is: 90.42673145359987\n",
            "*********************************************\n",
            "Avrage of tenureCharges_mean columns is: 31.87295305676856\n",
            "the data next fill avg:\n",
            "\n",
            "+----------+------+-------------+-------+----------+------+-------------+---------------+-------------------+-------------------+-------------------+-------------------+-------------------+--------------+----------------+--------------------+--------------+------------+-----+\n",
            "|customerID|gender|SeniorCitizen|Partner|Dependents|tenure|MultipleLines|InternetService|     OnlineSecurity|       OnlineBackup|   DeviceProtection|        TechSupport|    StreamingMovies|      Contract|PaperlessBilling|       PaymentMethod|MonthlyCharges|TotalCharges|Label|\n",
            "+----------+------+-------------+-------+----------+------+-------------+---------------+-------------------+-------------------+-------------------+-------------------+-------------------+--------------+----------------+--------------------+--------------+------------+-----+\n",
            "|3655-SNQYZ|Female|          0.0|    Yes|       Yes|  69.0|          Yes|    Fiber optic|                Yes|                Yes|                Yes|                Yes|                Yes|      Two year|              No|Credit card (auto...|        113.25|     7895.15|   No|\n",
            "|7114-AEOZE|Female|          0.0|     No|        No|  60.0|           No|             No|No internet service|No internet service|No internet service|No internet service|No internet service|      Two year|              No|Bank transfer (au...|         19.85|      1128.1|   No|\n",
            "|8621-MNIHH|Female|          1.0|    Yes|        No|  34.0|          Yes|    Fiber optic|                 No|                Yes|                Yes|                 No|                Yes|Month-to-month|             Yes|    Electronic check|         94.25|     3217.55|  Yes|\n",
            "|4580-TMHJU|Female|          0.0|    Yes|       Yes|  43.0|           No|            DSL|                 No|                 No|                 No|                 No|                 No|Month-to-month|              No|    Electronic check|         56.15|      2499.3|  Yes|\n",
            "|5553-AOINX|Female|          1.0|    Yes|       Yes|  66.0|          Yes|    Fiber optic|                 No|                Yes|                Yes|                 No|                Yes|      One year|             Yes|    Electronic check|         104.9|     6891.45|   No|\n",
            "+----------+------+-------------+-------+----------+------+-------------+---------------+-------------------+-------------------+-------------------+-------------------+-------------------+--------------+----------------+--------------------+--------------+------------+-----+\n",
            "only showing top 5 rows\n",
            "\n"
          ]
        }
      ]
    },
    {
      "cell_type": "markdown",
      "source": [
        "# **5.6 Replace missing values with means**"
      ],
      "metadata": {
        "id": "TMHJPAP9z6iP"
      }
    },
    {
      "cell_type": "code",
      "source": [
        "cnts = data_Pro_2.groupBy(\"SeniorCitizen\").count()\n",
        "mode = cnts.join(cnts.agg(max(\"count\").alias(\"max_\")), col(\"count\") == col(\"max_\")).limit(1).select(\"SeniorCitizen\")\n",
        "modeSeniorCitizen=mode.first()[0]\n",
        "print(\"modeSeniorCitizen mode is:\" , modeSeniorCitizen)\n",
        "data_Pro_2=data_Pro_2.na.fill(value=modeSeniorCitizen,subset=[\"SeniorCitizen\"])"
      ],
      "metadata": {
        "colab": {
          "base_uri": "https://localhost:8080/"
        },
        "id": "u9I6x4GA_U5c",
        "outputId": "968b53d0-582d-4078-a9b6-eddf6e3a1235"
      },
      "execution_count": 13,
      "outputs": [
        {
          "output_type": "stream",
          "name": "stdout",
          "text": [
            "modeSeniorCitizen mode is: 0.0\n"
          ]
        }
      ]
    },
    {
      "cell_type": "code",
      "source": [
        "cnts = data_Pro_2.groupBy(\"gender\").count()\n",
        "mode = cnts.join(cnts.agg(max(\"count\").alias(\"max_\")), col(\"count\") == col(\"max_\")).limit(1).select(\"gender\")\n",
        "modegender=mode.first()[0]\n",
        "data_Pro_2=data_Pro_2.na.fill(\"modegender\",[\"gender\"])\n",
        "#**************************************************\n",
        "cnts = data_Pro_2.groupBy(\"Partner\").count()\n",
        "mode = cnts.join(cnts.agg(max(\"count\").alias(\"max_\")), col(\"count\") == col(\"max_\")).limit(1).select(\"Partner\")\n",
        "modePartner=mode.first()[0]\n",
        "data_Pro_2=data_Pro_2.na.fill(\"modePartner\",[\"Partner\"])\n",
        "print(modePartner)\n",
        "#**************************************************\n",
        "cnts = data_Pro_2.groupBy(\"Dependents\").count()\n",
        "mode = cnts.join(cnts.agg(max(\"count\").alias(\"max_\")), col(\"count\") == col(\"max_\")).limit(1).select(\"Dependents\")\n",
        "modeDependents=mode.first()[0]\n",
        "data_Pro_2=data_Pro_2.na.fill(\"modeDependents\",[\"Dependents\"])\n",
        "#**************************************************\n",
        "cnts = data_Pro_2.groupBy(\"MultipleLines\").count()\n",
        "mode = cnts.join(cnts.agg(max(\"count\").alias(\"max_\")), col(\"count\") == col(\"max_\")).limit(1).select(\"MultipleLines\")\n",
        "modeMultipleLines=mode.first()[0]\n",
        "data_Pro_2=data_Pro_2.na.fill(\"modeMultipleLines\",[\"MultipleLines\"])\n",
        "#**************************************************\n",
        "cnts = data_Pro_2.groupBy(\"InternetService\").count()\n",
        "mode = cnts.join(cnts.agg(max(\"count\").alias(\"max_\")), col(\"count\") == col(\"max_\")).limit(1).select(\"InternetService\")\n",
        "modeInternetService=mode.first()[0]\n",
        "data_Pro_2=data_Pro_2.na.fill(\"modeInternetService\",[\"InternetService\"])\n",
        "#**************************************************\n",
        "cnts = data_Pro_2.groupBy(\"OnlineSecurity\").count()\n",
        "mode = cnts.join(cnts.agg(max(\"count\").alias(\"max_\")), col(\"count\") == col(\"max_\")).limit(1).select(\"OnlineSecurity\")\n",
        "modeOnlineSecurity=mode.first()[0]\n",
        "data_Pro_2=data_Pro_2.na.fill(\"modeOnlineSecurity\",[\"OnlineSecurity\"])\n",
        "#**************************************************\n",
        "cnts = data_Pro_2.groupBy(\"OnlineBackup\").count()\n",
        "mode = cnts.join(cnts.agg(max(\"count\").alias(\"max_\")), col(\"count\") == col(\"max_\")).limit(1).select(\"OnlineBackup\")\n",
        "modeOnlineBackup=mode.first()[0]\n",
        "data_Pro_2=data_Pro_2.na.fill(\"modeOnlineBackup\",[\"OnlineBackup\"])\n",
        "#**************************************************\n",
        "cnts = data_Pro_2.groupBy(\"DeviceProtection\").count()\n",
        "mode = cnts.join(cnts.agg(max(\"count\").alias(\"max_\")), col(\"count\") == col(\"max_\")).limit(1).select(\"DeviceProtection\")\n",
        "modeDeviceProtection=mode.first()[0]\n",
        "data_Pro_2=data_Pro_2.na.fill(\"modeDeviceProtection\",[\"DeviceProtection\"])\n",
        "#**************************************************\n",
        "cnts = data_Pro_2.groupBy(\"TechSupport\").count()\n",
        "mode = cnts.join(cnts.agg(max(\"count\").alias(\"max_\")), col(\"count\") == col(\"max_\")).limit(1).select(\"TechSupport\")\n",
        "modeTechSupport=mode.first()[0]\n",
        "data_Pro_2=data_Pro_2.na.fill(\"modeTechSupport\",[\"TechSupport\"])\n",
        "#**************************************************\n",
        "cnts = data_Pro_2.groupBy(\"StreamingMovies\").count()\n",
        "mode = cnts.join(cnts.agg(max(\"count\").alias(\"max_\")), col(\"count\") == col(\"max_\")).limit(1).select(\"StreamingMovies\")\n",
        "modeStreamingMovies=mode.first()[0]\n",
        "data_Pro_2=data_Pro_2.na.fill(\"modeStreamingMovies\",[\"StreamingMovies\"])\n",
        "#**************************************************\n",
        "cnts = data_Pro_2.groupBy(\"Contract\").count()\n",
        "mode = cnts.join(cnts.agg(max(\"count\").alias(\"max_\")), col(\"count\") == col(\"max_\")).limit(1).select(\"Contract\")\n",
        "modeContract=mode.first()[0]\n",
        "data_Pro_2=data_Pro_2.na.fill(\"modeContract\",[\"Contract\"])\n",
        "#**************************************************\n",
        "cnts = data_Pro_2.groupBy(\"PaperlessBilling\").count()\n",
        "mode = cnts.join(cnts.agg(max(\"count\").alias(\"max_\")), col(\"count\") == col(\"max_\")).limit(1).select(\"PaperlessBilling\")\n",
        "modePaperlessBilling=mode.first()[0]\n",
        "data_Pro_2=data_Pro_2.na.fill(\"modePaperlessBilling\",[\"PaperlessBilling\"])\n",
        "#**************************************************\n",
        "cnts = data_Pro_2.groupBy(\"PaymentMethod\").count()\n",
        "mode = cnts.join(cnts.agg(max(\"count\").alias(\"max_\")), col(\"count\") == col(\"max_\")).limit(1).select(\"PaymentMethod\")\n",
        "modePaymentMethod=mode.first()[0]\n",
        "data_Pro_2=data_Pro_2.na.fill(\"modePaymentMethod\",[\"PaymentMethod\"])"
      ],
      "metadata": {
        "colab": {
          "base_uri": "https://localhost:8080/"
        },
        "id": "JEPyPGyr9A-a",
        "outputId": "b611cf86-c150-433d-f11c-499a518beea7"
      },
      "execution_count": 14,
      "outputs": [
        {
          "output_type": "stream",
          "name": "stdout",
          "text": [
            "No\n"
          ]
        }
      ]
    },
    {
      "cell_type": "markdown",
      "source": [
        "# Check null value"
      ],
      "metadata": {
        "id": "TUu1xBetumx0"
      }
    },
    {
      "cell_type": "code",
      "source": [
        "# Creating a dataframe to check null value counts\n",
        "from pyspark.sql.functions import col,isnan, when, count\n",
        "null_df = data_Pro_2.select([count(when(col(c).contains('None') | \\\n",
        "                            col(c).contains('NULL') | \\\n",
        "                            (col(c) == '') | \\\n",
        "                            col(c).isNull() | \\\n",
        "                            isnan(c), c \n",
        "                           )).alias(c)\n",
        "                    for c in data_Pro_2.columns])\n",
        "\n",
        "# Displaying the null value counts dataframe\n",
        "null_df.show()"
      ],
      "metadata": {
        "colab": {
          "base_uri": "https://localhost:8080/"
        },
        "id": "Xc38EXxTH701",
        "outputId": "1189e5f9-2dd5-44ec-ca94-71380258c258"
      },
      "execution_count": 15,
      "outputs": [
        {
          "output_type": "stream",
          "name": "stdout",
          "text": [
            "+----------+------+-------------+-------+----------+------+-------------+---------------+--------------+------------+----------------+-----------+---------------+--------+----------------+-------------+--------------+------------+-----+\n",
            "|customerID|gender|SeniorCitizen|Partner|Dependents|tenure|MultipleLines|InternetService|OnlineSecurity|OnlineBackup|DeviceProtection|TechSupport|StreamingMovies|Contract|PaperlessBilling|PaymentMethod|MonthlyCharges|TotalCharges|Label|\n",
            "+----------+------+-------------+-------+----------+------+-------------+---------------+--------------+------------+----------------+-----------+---------------+--------+----------------+-------------+--------------+------------+-----+\n",
            "|         0|     0|            0|      0|         0|     0|            0|              0|             0|           0|               0|          0|              0|       0|               0|            0|             0|           0|    0|\n",
            "+----------+------+-------------+-------+----------+------+-------------+---------------+--------------+------------+----------------+-----------+---------------+--------+----------------+-------------+--------------+------------+-----+\n",
            "\n"
          ]
        }
      ]
    },
    {
      "cell_type": "markdown",
      "source": [
        "# **6.Data Expolaration Analysis**"
      ],
      "metadata": {
        "id": "Qeh-BmljAS4E"
      }
    },
    {
      "cell_type": "markdown",
      "source": [
        "# **6.1 schema information**"
      ],
      "metadata": {
        "id": "c98PNVjuAjYP"
      }
    },
    {
      "cell_type": "code",
      "source": [
        "data.printSchema()"
      ],
      "metadata": {
        "colab": {
          "base_uri": "https://localhost:8080/"
        },
        "id": "JFey8hFZ0K9y",
        "outputId": "ca21f9dc-0e25-41c3-8031-ebba5d338b2d"
      },
      "execution_count": 16,
      "outputs": [
        {
          "output_type": "stream",
          "name": "stdout",
          "text": [
            "root\n",
            " |-- customerID: string (nullable = true)\n",
            " |-- gender: string (nullable = true)\n",
            " |-- SeniorCitizen: double (nullable = true)\n",
            " |-- Partner: string (nullable = true)\n",
            " |-- Dependents: string (nullable = true)\n",
            " |-- tenure: double (nullable = true)\n",
            " |-- PhoneService: string (nullable = true)\n",
            " |-- MultipleLines: string (nullable = true)\n",
            " |-- InternetService: string (nullable = true)\n",
            " |-- OnlineSecurity: string (nullable = true)\n",
            " |-- OnlineBackup: string (nullable = true)\n",
            " |-- DeviceProtection: string (nullable = true)\n",
            " |-- TechSupport: string (nullable = true)\n",
            " |-- StreamingTV: string (nullable = true)\n",
            " |-- StreamingMovies: string (nullable = true)\n",
            " |-- Contract: string (nullable = true)\n",
            " |-- PaperlessBilling: string (nullable = true)\n",
            " |-- PaymentMethod: string (nullable = true)\n",
            " |-- MonthlyCharges: double (nullable = true)\n",
            " |-- TotalCharges: double (nullable = true)\n",
            " |-- Label: string (nullable = true)\n",
            "\n"
          ]
        }
      ]
    },
    {
      "cell_type": "markdown",
      "source": [
        "# **6.2 handyspark dataframe**"
      ],
      "metadata": {
        "id": "rD45hXjZAscV"
      }
    },
    {
      "cell_type": "code",
      "source": [
        "# PaperlessBilling and Dependents\n",
        "from handyspark import *\n",
        "data_Pro_22=data.dropDuplicates()\n",
        "indexer= StringIndexer(inputCol=\"Label\", outputCol=\"Label_index\").fit(data_Pro_22)\n",
        "data_Pro_22 = indexer.transform(data_Pro_22)\n",
        "indexer= StringIndexer(inputCol=\"Contract\", outputCol=\"Contract_index\").fit(data_Pro_2)\n",
        "data_Pro_22 = indexer.transform(data_Pro_22)\n",
        "hdf = data_Pro_22.toHandy()\n",
        "print('Size of data is: ',hdf.count())\n",
        "hdf.show(3)"
      ],
      "metadata": {
        "colab": {
          "base_uri": "https://localhost:8080/"
        },
        "id": "Lv_4tH2LArdZ",
        "outputId": "92017976-4c3c-4c23-cb12-a10dc6c3f77b"
      },
      "execution_count": 17,
      "outputs": [
        {
          "output_type": "stream",
          "name": "stdout",
          "text": [
            "Size of data is:  7838\n",
            "+----------+------+-------------+-------+----------+------+------------+-------------+---------------+-------------------+-------------------+-------------------+-------------------+-------------------+-------------------+--------------+----------------+--------------------+--------------+------------+-----+-----------+--------------+\n",
            "|customerID|gender|SeniorCitizen|Partner|Dependents|tenure|PhoneService|MultipleLines|InternetService|     OnlineSecurity|       OnlineBackup|   DeviceProtection|        TechSupport|        StreamingTV|    StreamingMovies|      Contract|PaperlessBilling|       PaymentMethod|MonthlyCharges|TotalCharges|Label|Label_index|Contract_index|\n",
            "+----------+------+-------------+-------+----------+------+------------+-------------+---------------+-------------------+-------------------+-------------------+-------------------+-------------------+-------------------+--------------+----------------+--------------------+--------------+------------+-----+-----------+--------------+\n",
            "|3655-SNQYZ|Female|          0.0|    Yes|       Yes|  69.0|         Yes|          Yes|    Fiber optic|                Yes|                Yes|                Yes|                Yes|                Yes|                Yes|      Two year|              No|Credit card (auto...|        113.25|     7895.15|   No|        0.0|           1.0|\n",
            "|7114-AEOZE|Female|          0.0|     No|        No|  60.0|         Yes|           No|             No|No internet service|No internet service|No internet service|No internet service|No internet service|No internet service|      Two year|              No|Bank transfer (au...|         19.85|      1128.1|   No|        0.0|           1.0|\n",
            "|8621-MNIHH|Female|          1.0|    Yes|        No|  34.0|         Yes|          Yes|    Fiber optic|                 No|                Yes|                Yes|                 No|                 No|                Yes|Month-to-month|             Yes|    Electronic check|         94.25|     3217.55|  Yes|        1.0|           0.0|\n",
            "+----------+------+-------------+-------+----------+------+------------+-------------+---------------+-------------------+-------------------+-------------------+-------------------+-------------------+-------------------+--------------+----------------+--------------------+--------------+------------+-----+-----------+--------------+\n",
            "only showing top 3 rows\n",
            "\n"
          ]
        }
      ]
    },
    {
      "cell_type": "code",
      "source": [
        "from matplotlib import pyplot as plt\n",
        "fig, axs = plt.subplots(1, 2, figsize=(8, 4))\n",
        "#hdf.cols[['TotalCharges', 'Label_index']].scatterplot(ax=axs[2])\n",
        "hdf.cols['PhoneService'].hist(ax=axs[0])\n",
        "hdf.cols['StreamingTV'].hist(ax=axs[1])"
      ],
      "metadata": {
        "colab": {
          "base_uri": "https://localhost:8080/",
          "height": 312
        },
        "id": "WaMWWap8qj89",
        "outputId": "d2200dfb-e2cb-49d6-c525-d580c0f84e48"
      },
      "execution_count": 18,
      "outputs": [
        {
          "output_type": "execute_result",
          "data": {
            "text/plain": [
              "<matplotlib.axes._subplots.AxesSubplot at 0x7f34959d5950>"
            ]
          },
          "metadata": {},
          "execution_count": 18
        },
        {
          "output_type": "display_data",
          "data": {
            "text/plain": [
              "<Figure size 576x288 with 2 Axes>"
            ],
            "image/png": "[encoded data removed]"
          },
          "metadata": {
            "needs_background": "light"
          }
        }
      ]
    },
    {
      "cell_type": "code",
      "source": [
        "#hdf.cols['PhoneService'].value_counts(dropna=False)\n",
        "#hdf.cols['Contract'].boxplot(ax=axs[2])\n",
        "from matplotlib import pyplot as plt\n",
        "fig, axs = plt.subplots(1, 4, figsize=(25, 4))\n",
        "#hdf.cols[['TotalCharges', 'Label_index']].scatterplot(ax=axs[2])\n",
        "hdf.cols['InternetService'].hist(ax=axs[0])\n",
        "hdf.cols['PhoneService'].hist(ax=axs[1])\n",
        "hdf.cols['Contract'].hist(ax=axs[2])\n",
        "hdf.cols['Label'].hist(ax=axs[3])"
      ],
      "metadata": {
        "colab": {
          "base_uri": "https://localhost:8080/",
          "height": 332
        },
        "id": "N8Ls88ppD2ob",
        "outputId": "6d2e6b31-cae4-4afc-9efc-1ad0775a2a3c"
      },
      "execution_count": 19,
      "outputs": [
        {
          "output_type": "execute_result",
          "data": {
            "text/plain": [
              "<matplotlib.axes._subplots.AxesSubplot at 0x7f349535a9d0>"
            ]
          },
          "metadata": {},
          "execution_count": 19
        },
        {
          "output_type": "display_data",
          "data": {
            "text/plain": [
              "<Figure size 1800x288 with 4 Axes>"
            ],
            "image/png": "[encoded data removed]"
          },
          "metadata": {
            "needs_background": "light"
          }
        }
      ]
    },
    {
      "cell_type": "code",
      "source": [
        "fig, axs = plt.subplots(1, 4, figsize=(25, 4))\n",
        "#hdf.cols[['TotalCharges', 'Label_index']].scatterplot(ax=axs[2])\n",
        "hdf.cols['gender'].hist(ax=axs[0])\n",
        "hdf.cols['MultipleLines'].hist(ax=axs[1])\n",
        "hdf.cols['Partner'].hist(ax=axs[2])\n",
        "hdf.cols['OnlineSecurity'].hist(ax=axs[3])"
      ],
      "metadata": {
        "colab": {
          "base_uri": "https://localhost:8080/",
          "height": 274
        },
        "id": "i8a896S4nb2o",
        "outputId": "a0289e22-ae49-4e19-9b3c-d6f4a720c181"
      },
      "execution_count": 20,
      "outputs": [
        {
          "output_type": "execute_result",
          "data": {
            "text/plain": [
              "<matplotlib.axes._subplots.AxesSubplot at 0x7f349517f0d0>"
            ]
          },
          "metadata": {},
          "execution_count": 20
        },
        {
          "output_type": "display_data",
          "data": {
            "text/plain": [
              "<Figure size 1800x288 with 4 Axes>"
            ],
            "image/png": "[encoded data removed]"
          },
          "metadata": {
            "needs_background": "light"
          }
        }
      ]
    },
    {
      "cell_type": "code",
      "source": [
        "fig, axs = plt.subplots(1, 4, figsize=(25, 4))\n",
        "#hdf.cols[['TotalCharges', 'Label_index']].scatterplot(ax=axs[2])\n",
        "hdf.cols['OnlineBackup'].hist(ax=axs[0])\n",
        "hdf.cols['DeviceProtection'].hist(ax=axs[1])\n",
        "hdf.cols['StreamingTV'].hist(ax=axs[2])\n",
        "hdf.cols['StreamingMovies'].hist(ax=axs[3])"
      ],
      "metadata": {
        "colab": {
          "base_uri": "https://localhost:8080/",
          "height": 274
        },
        "id": "Hai_L-Gdokeo",
        "outputId": "eabc0457-7f7e-4b10-8ba8-f92b1babb6cd"
      },
      "execution_count": 21,
      "outputs": [
        {
          "output_type": "execute_result",
          "data": {
            "text/plain": [
              "<matplotlib.axes._subplots.AxesSubplot at 0x7f3494fcf350>"
            ]
          },
          "metadata": {},
          "execution_count": 21
        },
        {
          "output_type": "display_data",
          "data": {
            "text/plain": [
              "<Figure size 1800x288 with 4 Axes>"
            ],
            "image/png": "[encoded data removed]"
          },
          "metadata": {
            "needs_background": "light"
          }
        }
      ]
    },
    {
      "cell_type": "code",
      "source": [
        "fig, axs = plt.subplots(1, 4, figsize=(25, 4))\n",
        "#hdf.cols[['TotalCharges', 'Label_index']].scatterplot(ax=axs[2])\n",
        "#hdf.cols['SeniorCitizen'].hist(ax=axs[0])\n",
        "hdf.cols['Dependents'].hist(ax=axs[1])\n",
        "hdf.cols['TechSupport'].hist(ax=axs[2])\n",
        "hdf.cols['PaperlessBilling'].hist(ax=axs[3])"
      ],
      "metadata": {
        "colab": {
          "base_uri": "https://localhost:8080/",
          "height": 276
        },
        "id": "U0uN7P69RuQV",
        "outputId": "921fef0d-0a19-49ba-c0f5-70f74d36322a"
      },
      "execution_count": 22,
      "outputs": [
        {
          "output_type": "execute_result",
          "data": {
            "text/plain": [
              "<matplotlib.axes._subplots.AxesSubplot at 0x7f3494e16210>"
            ]
          },
          "metadata": {},
          "execution_count": 22
        },
        {
          "output_type": "display_data",
          "data": {
            "text/plain": [
              "<Figure size 1800x288 with 4 Axes>"
            ],
            "image/png": "[encoded data removed]"
          },
          "metadata": {
            "needs_background": "light"
          }
        }
      ]
    },
    {
      "cell_type": "code",
      "source": [
        "fig, axs = plt.subplots(1, 2, figsize=(25, 4))\n",
        "hdf.cols['Contract'].hist(ax=axs[0])\n",
        "hdf.cols['PaymentMethod'].hist(ax=axs[1])"
      ],
      "metadata": {
        "colab": {
          "base_uri": "https://localhost:8080/",
          "height": 274
        },
        "id": "hNM1u5p2o81b",
        "outputId": "23d57e7b-da61-4d8b-cfad-5e83b7e7336a"
      },
      "execution_count": 23,
      "outputs": [
        {
          "output_type": "execute_result",
          "data": {
            "text/plain": [
              "<matplotlib.axes._subplots.AxesSubplot at 0x7f3494d96250>"
            ]
          },
          "metadata": {},
          "execution_count": 23
        },
        {
          "output_type": "display_data",
          "data": {
            "text/plain": [
              "<Figure size 1800x288 with 2 Axes>"
            ],
            "image/png": "[encoded data removed]"
          },
          "metadata": {
            "needs_background": "light"
          }
        }
      ]
    },
    {
      "cell_type": "code",
      "source": [
        "# hdf.stratify(['Label', Bucket('TotalCharges', 2)]).cols['PhoneService'].hist(figsize=(8, 6))\n",
        "hdf.stratify(['Label']).cols['InternetService'].hist(figsize=(8, 4))\n",
        "hdf.stratify(['Label']).cols['Contract'].hist(figsize=(8, 4))\n",
        "hdf.stratify(['Label']).cols['PhoneService'].hist(figsize=(5, 4))\n",
        "hdf.stratify(['Label']).cols['StreamingMovies'].hist(figsize=(6, 4))\n",
        "hdf.stratify(['Label']).cols['OnlineBackup'].hist(figsize=(8, 6))\n",
        "hdf.stratify(['Label']).cols['PaymentMethod'].hist(figsize=(20, 4))\n",
        "hdf.stratify(['Label']).cols['TotalCharges'].hist(figsize=(8, 6))\n",
        "hdf.stratify(['Label']).cols['PaperlessBilling'].hist(figsize=(8, 6))\n",
        "hdf.stratify(['Label']).cols['Dependents'].hist(figsize=(6, 4))\n",
        "#hdf.stratify(['Label']).cols['gender'].hist(figsize=(8, 6))"
      ],
      "metadata": {
        "colab": {
          "base_uri": "https://localhost:8080/",
          "height": 1000
        },
        "id": "drWSpIovYt5Z",
        "outputId": "deaf7df3-e495-43e2-d1da-f2804ab59fa2"
      },
      "execution_count": 24,
      "outputs": [
        {
          "output_type": "execute_result",
          "data": {
            "text/plain": [
              "(<Figure size 432x288 with 2 Axes>,\n",
              " [<matplotlib.axes._subplots.AxesSubplot at 0x7f349212e0d0>,\n",
              "  <matplotlib.axes._subplots.AxesSubplot at 0x7f3491ccd250>])"
            ]
          },
          "metadata": {},
          "execution_count": 24
        },
        {
          "output_type": "display_data",
          "data": {
            "text/plain": [
              "<Figure size 576x288 with 2 Axes>"
            ],
            "image/png": "[encoded data removed]"
          },
          "metadata": {
            "needs_background": "light"
          }
        },
        {
          "output_type": "display_data",
          "data": {
            "text/plain": [
              "<Figure size 576x288 with 2 Axes>"
            ],
            "image/png": "[encoded data removed]"
          },
          "metadata": {
            "needs_background": "light"
          }
        },
        {
          "output_type": "display_data",
          "data": {
            "text/plain": [
              "<Figure size 360x288 with 2 Axes>"
            ],
            "image/png": "[encoded data removed]"
          },
          "metadata": {
            "needs_background": "light"
          }
        },
        {
          "output_type": "display_data",
          "data": {
            "text/plain": [
              "<Figure size 432x288 with 2 Axes>"
            ],
            "image/png": "[encoded data removed]"
          },
          "metadata": {
            "needs_background": "light"
          }
        },
        {
          "output_type": "display_data",
          "data": {
            "text/plain": [
              "<Figure size 576x432 with 2 Axes>"
            ],
            "image/png": "[encoded data removed]"
          },
          "metadata": {
            "needs_background": "light"
          }
        },
        {
          "output_type": "display_data",
          "data": {
            "text/plain": [
              "<Figure size 1440x288 with 2 Axes>"
            ],
            "image/png": "[encoded data removed]"
          },
          "metadata": {
            "needs_background": "light"
          }
        },
        {
          "output_type": "display_data",
          "data": {
            "text/plain": [
              "<Figure size 576x432 with 2 Axes>"
            ],
            "image/png": "[encoded data removed]"
          },
          "metadata": {
            "needs_background": "light"
          }
        },
        {
          "output_type": "display_data",
          "data": {
            "text/plain": [
              "<Figure size 576x432 with 2 Axes>"
            ],
            "image/png": "[encoded data removed]"
          },
          "metadata": {
            "needs_background": "light"
          }
        },
        {
          "output_type": "display_data",
          "data": {
            "text/plain": [
              "<Figure size 432x288 with 2 Axes>"
            ],
            "image/png": "[encoded data removed]"
          },
          "metadata": {
            "needs_background": "light"
          }
        }
      ]
    },
    {
      "cell_type": "markdown",
      "source": [
        "# **7.Implementing logistic regression**"
      ],
      "metadata": {
        "id": "W9UlOFRwwpG0"
      }
    },
    {
      "cell_type": "code",
      "source": [
        "hasher = FeatureHasher(inputCols=[\"gender\",\"SeniorCitizen\", \"Partner\", \"Dependents\" ,\"tenure\", \"MultipleLines\", \"InternetService\",\"OnlineSecurity\", \"OnlineBackup\", \"DeviceProtection\", \"TechSupport\", \"StreamingMovies\", \"Contract\",\"PaperlessBilling\",\"PaymentMethod\", \"MonthlyCharges\", \"TotalCharges\"],\n",
        "                       outputCol=\"features\")\n",
        "hasher_org = FeatureHasher(inputCols=[\"gender\", \"SeniorCitizen\", \"Partner\", \"Dependents\",\"tenure\", \"PhoneService\", \"MultipleLines\", \"InternetService\",\"OnlineSecurity\", \"OnlineBackup\", \"DeviceProtection\", \"TechSupport\", \"StreamingTV\", \"StreamingMovies\", \"Contract\",\"PaperlessBilling\",\"PaymentMethod\", \"MonthlyCharges\", \"TotalCharges\"],\n",
        "                       outputCol=\"features\")\n",
        "featurized = hasher.transform(data_Pro_2)\n",
        "data_DelDup=data.dropDuplicates()\n",
        "featurized_org = hasher_org.transform(data_DelDup)\n",
        "featurized.show(5, truncate=False)\n",
        "featurized_org.show(5, truncate=False)"
      ],
      "metadata": {
        "colab": {
          "base_uri": "https://localhost:8080/"
        },
        "id": "vEK-yIIMw5vu",
        "outputId": "baf498c8-3a00-4c4d-96f9-de797288ac91"
      },
      "execution_count": 25,
      "outputs": [
        {
          "output_type": "stream",
          "name": "stdout",
          "text": [
            "+----------+------+-------------+-------+----------+------+-------------+---------------+-------------------+-------------------+-------------------+-------------------+-------------------+--------------+----------------+-------------------------+--------------+------------+-----+----------------------------------------------------------------------------------------------------------------------------------------------------------------------------------------------------------+\n",
            "|customerID|gender|SeniorCitizen|Partner|Dependents|tenure|MultipleLines|InternetService|OnlineSecurity     |OnlineBackup       |DeviceProtection   |TechSupport        |StreamingMovies    |Contract      |PaperlessBilling|PaymentMethod            |MonthlyCharges|TotalCharges|Label|features                                                                                                                                                                                                  |\n",
            "+----------+------+-------------+-------+----------+------+-------------+---------------+-------------------+-------------------+-------------------+-------------------+-------------------+--------------+----------------+-------------------------+--------------+------------+-----+----------------------------------------------------------------------------------------------------------------------------------------------------------------------------------------------------------+\n",
            "|3655-SNQYZ|Female|0.0          |Yes    |Yes       |69.0  |Yes          |Fiber optic    |Yes                |Yes                |Yes                |Yes                |Yes                |Two year      |No              |Credit card (automatic)  |113.25        |7895.15     |No   |(262144,[20762,40671,62450,72938,74746,109041,112867,143274,152436,180881,196278,203276,222701,241506,246667,253914,256762],[113.25,1.0,1.0,1.0,1.0,1.0,1.0,69.0,1.0,1.0,1.0,1.0,0.0,1.0,7895.15,1.0,1.0])|\n",
            "|7114-AEOZE|Female|0.0          |No     |No        |60.0  |No           |No             |No internet service|No internet service|No internet service|No internet service|No internet service|Two year      |No              |Bank transfer (automatic)|19.85         |1128.1      |No   |(262144,[20545,20762,53807,57644,72938,97174,97284,100321,139721,143274,148734,152436,153197,213513,222701,246667,253914],[1.0,19.85,1.0,1.0,1.0,1.0,1.0,1.0,1.0,60.0,1.0,1.0,1.0,1.0,0.0,1128.1,1.0])    |\n",
            "|8621-MNIHH|Female|1.0          |Yes    |No        |34.0  |Yes          |Fiber optic    |No                 |Yes                |Yes                |No                 |Yes                |Month-to-month|Yes             |Electronic check         |94.25         |3217.55     |Yes  |(262144,[20762,34708,40671,74746,100321,109041,119757,143274,163470,190991,196278,203276,218283,222701,241506,246667,253914],[94.25,1.0,1.0,1.0,1.0,1.0,1.0,34.0,1.0,1.0,1.0,1.0,1.0,1.0,1.0,3217.55,1.0])|\n",
            "|4580-TMHJU|Female|0.0          |Yes    |Yes       |43.0  |No           |DSL            |No                 |No                 |No                 |No                 |No                 |Month-to-month|No              |Electronic check         |56.15         |2499.3      |Yes  |(262144,[7831,20545,20762,74746,112867,119757,143274,144208,152436,163470,190858,190991,218283,222701,246667,253914,257928],[1.0,1.0,56.15,1.0,1.0,1.0,43.0,1.0,1.0,1.0,1.0,1.0,1.0,0.0,2499.3,1.0,1.0])  |\n",
            "|5553-AOINX|Female|1.0          |Yes    |Yes       |66.0  |Yes          |Fiber optic    |No                 |Yes                |Yes                |No                 |Yes                |One year      |Yes             |Electronic check         |104.9         |6891.45     |No   |(262144,[20762,34708,40671,74746,109041,112867,119757,143274,163470,190991,196278,203276,222701,240448,241506,246667,253914],[104.9,1.0,1.0,1.0,1.0,1.0,1.0,66.0,1.0,1.0,1.0,1.0,1.0,1.0,1.0,6891.45,1.0])|\n",
            "+----------+------+-------------+-------+----------+------+-------------+---------------+-------------------+-------------------+-------------------+-------------------+-------------------+--------------+----------------+-------------------------+--------------+------------+-----+----------------------------------------------------------------------------------------------------------------------------------------------------------------------------------------------------------+\n",
            "only showing top 5 rows\n",
            "\n",
            "+----------+------+-------------+-------+----------+------+------------+-------------+---------------+-------------------+-------------------+-------------------+-------------------+-------------------+-------------------+--------------+----------------+-------------------------+--------------+------------+-----+--------------------------------------------------------------------------------------------------------------------------------------------------------------------------------------------------------------------------------+\n",
            "|customerID|gender|SeniorCitizen|Partner|Dependents|tenure|PhoneService|MultipleLines|InternetService|OnlineSecurity     |OnlineBackup       |DeviceProtection   |TechSupport        |StreamingTV        |StreamingMovies    |Contract      |PaperlessBilling|PaymentMethod            |MonthlyCharges|TotalCharges|Label|features                                                                                                                                                                                                                        |\n",
            "+----------+------+-------------+-------+----------+------+------------+-------------+---------------+-------------------+-------------------+-------------------+-------------------+-------------------+-------------------+--------------+----------------+-------------------------+--------------+------------+-----+--------------------------------------------------------------------------------------------------------------------------------------------------------------------------------------------------------------------------------+\n",
            "|3655-SNQYZ|Female|0.0          |Yes    |Yes       |69.0  |Yes         |Yes          |Fiber optic    |Yes                |Yes                |Yes                |Yes                |Yes                |Yes                |Two year      |No              |Credit card (automatic)  |113.25        |7895.15     |No   |(262144,[20762,40671,62450,72938,74746,109041,112867,139220,143274,144894,152436,180881,196278,203276,222701,241506,246667,253914,256762],[113.25,1.0,1.0,1.0,1.0,1.0,1.0,1.0,69.0,1.0,1.0,1.0,1.0,1.0,0.0,1.0,7895.15,1.0,1.0])|\n",
            "|7114-AEOZE|Female|0.0          |No     |No        |60.0  |Yes         |No           |No             |No internet service|No internet service|No internet service|No internet service|No internet service|No internet service|Two year      |No              |Bank transfer (automatic)|19.85         |1128.1      |No   |(262144,[20545,20762,53807,57644,59103,72938,97174,97284,100321,139721,143274,144894,148734,152436,153197,213513,222701,246667,253914],[1.0,19.85,1.0,1.0,1.0,1.0,1.0,1.0,1.0,1.0,60.0,1.0,1.0,1.0,1.0,1.0,0.0,1128.1,1.0])     |\n",
            "|8621-MNIHH|Female|1.0          |Yes    |No        |34.0  |Yes         |Yes          |Fiber optic    |No                 |Yes                |Yes                |No                 |No                 |Yes                |Month-to-month|Yes             |Electronic check         |94.25         |3217.55     |Yes  |(262144,[20762,34708,40671,74746,77335,100321,109041,119757,143274,144894,163470,190991,196278,203276,218283,222701,241506,246667,253914],[94.25,1.0,1.0,1.0,1.0,1.0,1.0,1.0,34.0,1.0,1.0,1.0,1.0,1.0,1.0,1.0,1.0,3217.55,1.0]) |\n",
            "|4580-TMHJU|Female|0.0          |Yes    |Yes       |43.0  |Yes         |No           |DSL            |No                 |No                 |No                 |No                 |Yes                |No                 |Month-to-month|No              |Electronic check         |56.15         |2499.3      |Yes  |(262144,[7831,20545,20762,74746,112867,119757,139220,143274,144208,144894,152436,163470,190858,190991,218283,222701,246667,253914,257928],[1.0,1.0,56.15,1.0,1.0,1.0,1.0,43.0,1.0,1.0,1.0,1.0,1.0,1.0,1.0,0.0,2499.3,1.0,1.0])  |\n",
            "|5553-AOINX|Female|1.0          |Yes    |Yes       |66.0  |Yes         |Yes          |Fiber optic    |No                 |Yes                |Yes                |No                 |Yes                |Yes                |One year      |Yes             |Electronic check         |104.9         |6891.45     |No   |(262144,[20762,34708,40671,74746,109041,112867,119757,139220,143274,144894,163470,190991,196278,203276,222701,240448,241506,246667,253914],[104.9,1.0,1.0,1.0,1.0,1.0,1.0,1.0,66.0,1.0,1.0,1.0,1.0,1.0,1.0,1.0,1.0,6891.45,1.0])|\n",
            "+----------+------+-------------+-------+----------+------+------------+-------------+---------------+-------------------+-------------------+-------------------+-------------------+-------------------+-------------------+--------------+----------------+-------------------------+--------------+------------+-----+--------------------------------------------------------------------------------------------------------------------------------------------------------------------------------------------------------------------------------+\n",
            "only showing top 5 rows\n",
            "\n"
          ]
        }
      ]
    },
    {
      "cell_type": "markdown",
      "source": [
        "# **7.1.Featurizing**"
      ],
      "metadata": {
        "id": "cz3DTqcZwb9J"
      }
    },
    {
      "cell_type": "code",
      "source": [
        "featurized=featurized[\"Label\",\"features\",\"customerID\"]\n",
        "featurized_org=featurized_org[\"Label\",\"features\",\"customerID\"]\n",
        "featurized.show(5, truncate=False)\n",
        "featurized_org.show(5, truncate=False)"
      ],
      "metadata": {
        "colab": {
          "base_uri": "https://localhost:8080/"
        },
        "id": "tVJJmU67w6Om",
        "outputId": "49f6867b-5fe2-48e7-ad2b-d05649a9aa97"
      },
      "execution_count": 26,
      "outputs": [
        {
          "output_type": "stream",
          "name": "stdout",
          "text": [
            "+-----+----------------------------------------------------------------------------------------------------------------------------------------------------------------------------------------------------------+----------+\n",
            "|Label|features                                                                                                                                                                                                  |customerID|\n",
            "+-----+----------------------------------------------------------------------------------------------------------------------------------------------------------------------------------------------------------+----------+\n",
            "|No   |(262144,[20762,40671,62450,72938,74746,109041,112867,143274,152436,180881,196278,203276,222701,241506,246667,253914,256762],[113.25,1.0,1.0,1.0,1.0,1.0,1.0,69.0,1.0,1.0,1.0,1.0,0.0,1.0,7895.15,1.0,1.0])|3655-SNQYZ|\n",
            "|No   |(262144,[20545,20762,53807,57644,72938,97174,97284,100321,139721,143274,148734,152436,153197,213513,222701,246667,253914],[1.0,19.85,1.0,1.0,1.0,1.0,1.0,1.0,1.0,60.0,1.0,1.0,1.0,1.0,0.0,1128.1,1.0])    |7114-AEOZE|\n",
            "|Yes  |(262144,[20762,34708,40671,74746,100321,109041,119757,143274,163470,190991,196278,203276,218283,222701,241506,246667,253914],[94.25,1.0,1.0,1.0,1.0,1.0,1.0,34.0,1.0,1.0,1.0,1.0,1.0,1.0,1.0,3217.55,1.0])|8621-MNIHH|\n",
            "|Yes  |(262144,[7831,20545,20762,74746,112867,119757,143274,144208,152436,163470,190858,190991,218283,222701,246667,253914,257928],[1.0,1.0,56.15,1.0,1.0,1.0,43.0,1.0,1.0,1.0,1.0,1.0,1.0,0.0,2499.3,1.0,1.0])  |4580-TMHJU|\n",
            "|No   |(262144,[20762,34708,40671,74746,109041,112867,119757,143274,163470,190991,196278,203276,222701,240448,241506,246667,253914],[104.9,1.0,1.0,1.0,1.0,1.0,1.0,66.0,1.0,1.0,1.0,1.0,1.0,1.0,1.0,6891.45,1.0])|5553-AOINX|\n",
            "+-----+----------------------------------------------------------------------------------------------------------------------------------------------------------------------------------------------------------+----------+\n",
            "only showing top 5 rows\n",
            "\n",
            "+-----+--------------------------------------------------------------------------------------------------------------------------------------------------------------------------------------------------------------------------------+----------+\n",
            "|Label|features                                                                                                                                                                                                                        |customerID|\n",
            "+-----+--------------------------------------------------------------------------------------------------------------------------------------------------------------------------------------------------------------------------------+----------+\n",
            "|No   |(262144,[20762,40671,62450,72938,74746,109041,112867,139220,143274,144894,152436,180881,196278,203276,222701,241506,246667,253914,256762],[113.25,1.0,1.0,1.0,1.0,1.0,1.0,1.0,69.0,1.0,1.0,1.0,1.0,1.0,0.0,1.0,7895.15,1.0,1.0])|3655-SNQYZ|\n",
            "|No   |(262144,[20545,20762,53807,57644,59103,72938,97174,97284,100321,139721,143274,144894,148734,152436,153197,213513,222701,246667,253914],[1.0,19.85,1.0,1.0,1.0,1.0,1.0,1.0,1.0,1.0,60.0,1.0,1.0,1.0,1.0,1.0,0.0,1128.1,1.0])     |7114-AEOZE|\n",
            "|Yes  |(262144,[20762,34708,40671,74746,77335,100321,109041,119757,143274,144894,163470,190991,196278,203276,218283,222701,241506,246667,253914],[94.25,1.0,1.0,1.0,1.0,1.0,1.0,1.0,34.0,1.0,1.0,1.0,1.0,1.0,1.0,1.0,1.0,3217.55,1.0]) |8621-MNIHH|\n",
            "|Yes  |(262144,[7831,20545,20762,74746,112867,119757,139220,143274,144208,144894,152436,163470,190858,190991,218283,222701,246667,253914,257928],[1.0,1.0,56.15,1.0,1.0,1.0,1.0,43.0,1.0,1.0,1.0,1.0,1.0,1.0,1.0,0.0,2499.3,1.0,1.0])  |4580-TMHJU|\n",
            "|No   |(262144,[20762,34708,40671,74746,109041,112867,119757,139220,143274,144894,163470,190991,196278,203276,222701,240448,241506,246667,253914],[104.9,1.0,1.0,1.0,1.0,1.0,1.0,1.0,66.0,1.0,1.0,1.0,1.0,1.0,1.0,1.0,1.0,6891.45,1.0])|5553-AOINX|\n",
            "+-----+--------------------------------------------------------------------------------------------------------------------------------------------------------------------------------------------------------------------------------+----------+\n",
            "only showing top 5 rows\n",
            "\n"
          ]
        }
      ]
    },
    {
      "cell_type": "code",
      "source": [
        "def f(x): \n",
        "    if(x == 'Yes'):\n",
        "       return 1\n",
        "\n",
        "    else:\n",
        "       return 0\n",
        "\n",
        "featurized=featurized.withColumn(\"label\", when(col(\"Label\")=='Yes', 1).otherwise(0))\n",
        "featurized=featurized.withColumnRenamed(\"Label\",\"label\")\n",
        "featurized_org=featurized_org.withColumn(\"label\", when(col(\"Label\")=='Yes', 1).otherwise(0))\n",
        "featurized_org=featurized_org.withColumnRenamed(\"Label\",\"label\")\n",
        "featurized.show(5)\n",
        "featurized_org.show(5)"
      ],
      "metadata": {
        "colab": {
          "base_uri": "https://localhost:8080/"
        },
        "id": "mN4887Dnw6Ye",
        "outputId": "d37b8813-fad8-400d-e5f5-ff02e15af217"
      },
      "execution_count": 27,
      "outputs": [
        {
          "output_type": "stream",
          "name": "stdout",
          "text": [
            "+-----+--------------------+----------+\n",
            "|label|            features|customerID|\n",
            "+-----+--------------------+----------+\n",
            "|    0|(262144,[20762,40...|3655-SNQYZ|\n",
            "|    0|(262144,[20545,20...|7114-AEOZE|\n",
            "|    1|(262144,[20762,34...|8621-MNIHH|\n",
            "|    1|(262144,[7831,205...|4580-TMHJU|\n",
            "|    0|(262144,[20762,34...|5553-AOINX|\n",
            "+-----+--------------------+----------+\n",
            "only showing top 5 rows\n",
            "\n",
            "+-----+--------------------+----------+\n",
            "|label|            features|customerID|\n",
            "+-----+--------------------+----------+\n",
            "|    0|(262144,[20762,40...|3655-SNQYZ|\n",
            "|    0|(262144,[20545,20...|7114-AEOZE|\n",
            "|    1|(262144,[20762,34...|8621-MNIHH|\n",
            "|    1|(262144,[7831,205...|4580-TMHJU|\n",
            "|    0|(262144,[20762,34...|5553-AOINX|\n",
            "+-----+--------------------+----------+\n",
            "only showing top 5 rows\n",
            "\n"
          ]
        }
      ]
    },
    {
      "cell_type": "markdown",
      "source": [
        "# **7.2.Spliting data into training and test sets**"
      ],
      "metadata": {
        "id": "iDUOY7OvZcLC"
      }
    },
    {
      "cell_type": "code",
      "source": [
        "train, test = featurized.randomSplit(weights=[0.8,0.2], seed=200)\n",
        "train_org, test_org = featurized_org.randomSplit(weights=[0.8,0.2], seed=200)"
      ],
      "metadata": {
        "id": "U3K5E84PyPd4"
      },
      "execution_count": 28,
      "outputs": []
    },
    {
      "cell_type": "markdown",
      "source": [
        "# **7.3. Creating an instance of logistic regression**"
      ],
      "metadata": {
        "id": "VUT2wPCSZnNL"
      }
    },
    {
      "cell_type": "code",
      "source": [
        "lr=LogisticRegression(maxIter=1000,regParam=0.0000001) # as an estimator\n",
        "lr.explainParams()"
      ],
      "metadata": {
        "colab": {
          "base_uri": "https://localhost:8080/",
          "height": 140
        },
        "id": "7YuYXcf2w6b3",
        "outputId": "c22aa360-d7a2-4bb1-e2c6-069294125865"
      },
      "execution_count": 29,
      "outputs": [
        {
          "output_type": "execute_result",
          "data": {
            "text/plain": [
              "\"aggregationDepth: suggested depth for treeAggregate (>= 2). (default: 2)\\nelasticNetParam: the ElasticNet mixing parameter, in range [0, 1]. For alpha = 0, the penalty is an L2 penalty. For alpha = 1, it is an L1 penalty. (default: 0.0)\\nfamily: The name of family which is a description of the label distribution to be used in the model. Supported options: auto, binomial, multinomial (default: auto)\\nfeaturesCol: features column name. (default: features)\\nfitIntercept: whether to fit an intercept term. (default: True)\\nlabelCol: label column name. (default: label)\\nlowerBoundsOnCoefficients: The lower bounds on coefficients if fitting under bound constrained optimization. The bound matrix must be compatible with the shape (1, number of features) for binomial regression, or (number of classes, number of features) for multinomial regression. (undefined)\\nlowerBoundsOnIntercepts: The lower bounds on intercepts if fitting under bound constrained optimization. The bounds vector size must beequal with 1 for binomial regression, or the number oflasses for multinomial regression. (undefined)\\nmaxBlockSizeInMB: maximum memory in MB for stacking input data into blocks. Data is stacked within partitions. If more than remaining data size in a partition then it is adjusted to the data size. Default 0.0 represents choosing optimal value, depends on specific algorithm. Must be >= 0. (default: 0.0)\\nmaxIter: max number of iterations (>= 0). (default: 100, current: 1000)\\npredictionCol: prediction column name. (default: prediction)\\nprobabilityCol: Column name for predicted class conditional probabilities. Note: Not all models output well-calibrated probability estimates! These probabilities should be treated as confidences, not precise probabilities. (default: probability)\\nrawPredictionCol: raw prediction (a.k.a. confidence) column name. (default: rawPrediction)\\nregParam: regularization parameter (>= 0). (default: 0.0, current: 1e-07)\\nstandardization: whether to standardize the training features before fitting the model. (default: True)\\nthreshold: Threshold in binary classification prediction, in range [0, 1]. If threshold and thresholds are both set, they must match.e.g. if threshold is p, then thresholds must be equal to [1-p, p]. (default: 0.5)\\nthresholds: Thresholds in multi-class classification to adjust the probability of predicting each class. Array must have length equal to the number of classes, with values > 0, excepting that at most one value may be 0. The class with largest value p/t is predicted, where p is the original probability of that class and t is the class's threshold. (undefined)\\ntol: the convergence tolerance for iterative algorithms (>= 0). (default: 1e-06)\\nupperBoundsOnCoefficients: The upper bounds on coefficients if fitting under bound constrained optimization. The bound matrix must be compatible with the shape (1, number of features) for binomial regression, or (number of classes, number of features) for multinomial regression. (undefined)\\nupperBoundsOnIntercepts: The upper bounds on intercepts if fitting under bound constrained optimization. The bound vector size must be equal with 1 for binomial regression, or the number of classes for multinomial regression. (undefined)\\nweightCol: weight column name. If this is not set or empty, we treat all instance weights as 1.0. (undefined)\""
            ],
            "application/vnd.google.colaboratory.intrinsic+json": {
              "type": "string"
            }
          },
          "metadata": {},
          "execution_count": 29
        }
      ]
    },
    {
      "cell_type": "markdown",
      "source": [
        "# **7.4. Learning the model**"
      ],
      "metadata": {
        "id": "fQCijn_raF0s"
      }
    },
    {
      "cell_type": "code",
      "source": [
        "model1=lr.fit(train)\n",
        "model_org=lr.fit(train_org)"
      ],
      "metadata": {
        "id": "k1xV6XG9w6fR"
      },
      "execution_count": 30,
      "outputs": []
    },
    {
      "cell_type": "code",
      "source": [
        "model1.coefficients\n",
        "model_org.coefficients"
      ],
      "metadata": {
        "colab": {
          "base_uri": "https://localhost:8080/"
        },
        "id": "614hdJeow6iN",
        "outputId": "fa6b8323-5374-4f0e-af99-cf0af2e05e38"
      },
      "execution_count": 31,
      "outputs": [
        {
          "output_type": "execute_result",
          "data": {
            "text/plain": [
              "SparseVector(262144, {4236: 0.0278, 7831: 0.6325, 20545: 0.7789, 20762: 0.0001, 34708: 0.4062, 35396: 0.2204, 40671: 0.9599, 53807: -0.2757, 57644: 0.2607, 59103: -0.1155, 62450: 0.2917, 72938: -0.8713, 74746: 0.0223, 77335: -0.3842, 97174: -0.3588, 97284: -0.0837, 100321: -0.0757, 109041: -0.545, 112867: -0.2779, 119757: 0.6537, 124394: 1.3732, 139220: -0.1445, 139721: 0.4224, 143274: -0.0018, 144208: -0.0741, 144894: 0.2901, 148734: 0.0747, 152436: 0.0674, 153197: 0.281, 163470: -0.0357, 180881: -0.533, 190858: -0.3283, 190991: 0.9391, 196278: 0.2492, 203276: 1.0361, 205898: -0.2285, 213513: 0.115, 218283: 0.971, 222701: 0.1222, 240448: 0.0933, 241506: 0.9152, 246667: -0.0003, 253914: 0.2782, 256762: 0.5875, 257928: 0.1671})"
            ]
          },
          "metadata": {},
          "execution_count": 31
        }
      ]
    },
    {
      "cell_type": "markdown",
      "source": [
        "# **7.4 Test**"
      ],
      "metadata": {
        "id": "XyhJznQZaOVQ"
      }
    },
    {
      "cell_type": "code",
      "source": [
        "predictions=model1.transform(test)\n",
        "predictions_org=model_org.transform(test)\n",
        "predictions.show(5)\n",
        "predictions_org.show(5)"
      ],
      "metadata": {
        "colab": {
          "base_uri": "https://localhost:8080/"
        },
        "id": "U75glWWiw6lX",
        "outputId": "befd4251-284d-4a70-d9be-eb34e11b0ade"
      },
      "execution_count": 32,
      "outputs": [
        {
          "output_type": "stream",
          "name": "stdout",
          "text": [
            "+-----+--------------------+--------------+--------------------+--------------------+----------+\n",
            "|label|            features|    customerID|       rawPrediction|         probability|prediction|\n",
            "+-----+--------------------+--------------+--------------------+--------------------+----------+\n",
            "|    0|(262144,[2765,423...|2639-UGMAZcsas|[2.56335668243997...|[0.92846571983105...|       0.0|\n",
            "|    0|(262144,[2765,559...|6734-PSBAWcsas|[3.25399361768749...|[0.96281635281887...|       0.0|\n",
            "|    0|(262144,[2765,559...|4622-YNKIJcsas|[3.83013644480368...|[0.97875451472322...|       0.0|\n",
            "|    0|(262144,[2765,559...|7219-TLZHOcsas|[0.67962276948989...|[0.66365449826324...|       0.0|\n",
            "|    0|(262144,[2765,559...|6734-PSBAWcsas|[3.49159163428566...|[0.97044757661938...|       0.0|\n",
            "+-----+--------------------+--------------+--------------------+--------------------+----------+\n",
            "only showing top 5 rows\n",
            "\n",
            "+-----+--------------------+--------------+--------------------+--------------------+----------+\n",
            "|label|            features|    customerID|       rawPrediction|         probability|prediction|\n",
            "+-----+--------------------+--------------+--------------------+--------------------+----------+\n",
            "|    0|(262144,[2765,423...|2639-UGMAZcsas|[3.03950412402650...|[0.95432722044888...|       0.0|\n",
            "|    0|(262144,[2765,559...|6734-PSBAWcsas|[5.32732085509203...|[0.99516641167628...|       0.0|\n",
            "|    0|(262144,[2765,559...|4622-YNKIJcsas|[3.95280338107847...|[0.98116092617283...|       0.0|\n",
            "|    0|(262144,[2765,559...|7219-TLZHOcsas|[2.33588192193348...|[0.91180548592229...|       0.0|\n",
            "|    0|(262144,[2765,559...|6734-PSBAWcsas|[4.50008374874823...|[0.98901396736527...|       0.0|\n",
            "+-----+--------------------+--------------+--------------------+--------------------+----------+\n",
            "only showing top 5 rows\n",
            "\n"
          ]
        }
      ]
    },
    {
      "cell_type": "markdown",
      "source": [
        "# **7.5 Comparing labels with predictions**"
      ],
      "metadata": {
        "id": "lQ0c15UpatMV"
      }
    },
    {
      "cell_type": "code",
      "source": [
        "predictions.groupBy('label', 'prediction').count().show()\n",
        "predictions_org.groupBy('label', 'prediction').count().show()\n",
        "\n",
        "\n",
        "# Calculate the elements of the confusion matrix\n",
        "TN = predictions.filter('prediction = 0 AND label = prediction').count()\n",
        "TP = predictions.filter('prediction = 1 AND label = prediction').count()\n",
        "FN = predictions.filter('prediction = 0 AND label = 1').count()\n",
        "FP = predictions.filter('prediction = 1 AND label = 0').count()\n",
        "# Accuracy measures the proportion of correct predictions\n",
        "accuracy = (TN + TP) / (TN + TP + FN + FP)\n",
        "print(\"Accuracy of preprocess data is:\",accuracy)\n",
        "\n",
        "# Calculate the elements of the confusion matrix\n",
        "TN_org = predictions_org.filter('prediction = 0 AND label = prediction').count()\n",
        "TP_org = predictions_org.filter('prediction = 1 AND label = prediction').count()\n",
        "FN_org = predictions_org.filter('prediction = 0 AND label = 1').count()\n",
        "FP_org = predictions_org.filter('prediction = 1 AND label = 0').count()\n",
        "\n",
        "# Accuracy measures the proportion of correct predictions\n",
        "accuracy_org = (TN_org + TP_org) / (TN_org + TP_org + FN_org + FP_org)\n",
        "print(\"Accuracy of orginal  data is:\",accuracy_org)"
      ],
      "metadata": {
        "colab": {
          "base_uri": "https://localhost:8080/"
        },
        "id": "-ktlFi0gw6on",
        "outputId": "1a385b2a-2794-42cc-f711-74bf115f590c"
      },
      "execution_count": 33,
      "outputs": [
        {
          "output_type": "stream",
          "name": "stdout",
          "text": [
            "+-----+----------+-----+\n",
            "|label|prediction|count|\n",
            "+-----+----------+-----+\n",
            "|    1|       0.0|  194|\n",
            "|    0|       0.0|  999|\n",
            "|    1|       1.0|  222|\n",
            "|    0|       1.0|   95|\n",
            "+-----+----------+-----+\n",
            "\n",
            "+-----+----------+-----+\n",
            "|label|prediction|count|\n",
            "+-----+----------+-----+\n",
            "|    1|       0.0|  206|\n",
            "|    0|       0.0| 1003|\n",
            "|    1|       1.0|  210|\n",
            "|    0|       1.0|   91|\n",
            "+-----+----------+-----+\n",
            "\n",
            "Accuracy of preprocess data is: 0.8086092715231789\n",
            "Accuracy of orginal  data is: 0.8033112582781456\n"
          ]
        }
      ]
    }
  ]
}